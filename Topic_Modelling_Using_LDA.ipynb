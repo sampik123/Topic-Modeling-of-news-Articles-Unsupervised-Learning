{
 "cells": [
  {
   "cell_type": "markdown",
   "id": "0490f0e0",
   "metadata": {},
   "source": [
    "# .............................Topic Modeling of News  Articles...................."
   ]
  },
  {
   "cell_type": "markdown",
   "id": "a2d68789",
   "metadata": {},
   "source": [
    "###  Data Scraping and Collection from NewsData.io API and Storing it in a csv file."
   ]
  },
  {
   "cell_type": "code",
   "execution_count": 1,
   "id": "d9e882c7",
   "metadata": {},
   "outputs": [
    {
     "data": {
      "text/plain": [
       "\"\\nimport pandas as pd\\nimport numpy as np\\nfrom newsdataapi import NewsDataApiClient\\napi = NewsDataApiClient(apikey = 'pub_30759a29c8046944f2496c4e0dd315d12bcb8')\\n# Initialize variables for pagination\\npage = None\\n\\n# Create a list to store data\\ndata_list = []\\n\\nwhile True:\\n    # Make the API request to get news articles\\n    response = api.news_api(category = 'business,environment,technology,world,science', language='en', \\n                            country = 'cn,gb,in,us,it',\\n                            page=page, scroll=True, max_result=900, full_content = True)\\n\\n    if 'results' in response:\\n        articles = response['results']\\n\\n        for article in articles:\\n            title = article.get('title', '')\\n            content = article.get('content', '')\\n\\n            data_list.append({'Title': title, 'Content': content})\\n\\n        # Check if there is a next page\\n        if 'https://newsdata.io/api/1/news?apikey=pub_30759a29c8046944f2496c4e0dd315d12bcb8&q=YOUR_QUERY' in response:\\n            page = response['https://newsdata.io/api/1/news?apikey=pub_30759a29c8046944f2496c4e0dd315d12bcb8&q=YOUR_QUERY']\\n        else:\\n            break  # No more pages, exit the loop\\n    else:\\n        print('No results found.')\\n\\n# Create a DataFrame\\nnews_data = pd.DataFrame(data_list)\\n\\n# Save data to a CSV file\\nnews_data.to_csv('news_articles23.csv', index=False)\\n\\nprint('Data saved to news_articles.csv')\\n\\n\""
      ]
     },
     "execution_count": 1,
     "metadata": {},
     "output_type": "execute_result"
    }
   ],
   "source": [
    "\n",
    "'''\n",
    "import pandas as pd\n",
    "import numpy as np\n",
    "from newsdataapi import NewsDataApiClient\n",
    "api = NewsDataApiClient(apikey = 'pub_30759a29c8046944f2496c4e0dd315d12bcb8')\n",
    "# Initialize variables for pagination\n",
    "page = None\n",
    "\n",
    "# Create a list to store data\n",
    "data_list = []\n",
    "\n",
    "while True:\n",
    "    # Make the API request to get news articles\n",
    "    response = api.news_api(category = 'business,environment,technology,world,science', language='en', \n",
    "                            country = 'cn,gb,in,us,it',\n",
    "                            page=page, scroll=True, max_result=900, full_content = True)\n",
    "\n",
    "    if 'results' in response:\n",
    "        articles = response['results']\n",
    "\n",
    "        for article in articles:\n",
    "            title = article.get('title', '')\n",
    "            content = article.get('content', '')\n",
    "\n",
    "            data_list.append({'Title': title, 'Content': content})\n",
    "\n",
    "        # Check if there is a next page\n",
    "        if 'https://newsdata.io/api/1/news?apikey=pub_30759a29c8046944f2496c4e0dd315d12bcb8&q=YOUR_QUERY' in response:\n",
    "            page = response['https://newsdata.io/api/1/news?apikey=pub_30759a29c8046944f2496c4e0dd315d12bcb8&q=YOUR_QUERY']\n",
    "        else:\n",
    "            break  # No more pages, exit the loop\n",
    "    else:\n",
    "        print('No results found.')\n",
    "\n",
    "# Create a DataFrame\n",
    "news_data = pd.DataFrame(data_list)\n",
    "\n",
    "# Save data to a CSV file\n",
    "news_data.to_csv('news_articles23.csv', index=False)\n",
    "\n",
    "print('Data saved to news_articles.csv')\n",
    "\n",
    "'''\n"
   ]
  },
  {
   "cell_type": "code",
   "execution_count": 2,
   "id": "01b94bf8",
   "metadata": {},
   "outputs": [],
   "source": [
    "import pandas as pd\n",
    "import numpy as np"
   ]
  },
  {
   "cell_type": "code",
   "execution_count": 3,
   "id": "ff82e14b",
   "metadata": {},
   "outputs": [],
   "source": [
    "import seaborn as sns\n",
    "import matplotlib.pyplot as plt"
   ]
  },
  {
   "cell_type": "code",
   "execution_count": 4,
   "id": "e14c8999",
   "metadata": {},
   "outputs": [
    {
     "name": "stderr",
     "output_type": "stream",
     "text": [
      "C:\\Users\\user\\AppData\\Local\\Temp/ipykernel_20928/3745669703.py:1: DtypeWarning: Columns (2,3,4,5,6,7,8,9,10,11,12,13,14,15,16,17,18,19,20,21,22,23,24,25,26,27,28,29,30,31,32,33,34,35,36,37,38,39,40,41,42,43,44,45,46,47,48,49,50,51,52,53,54,55,56,57,58,59,60,61,62,63,64,65,66,67,68,69,70,71,72,73,74,75,76,77,78,79,80,81,82,83,84,85,86,87,88,89,90,91,92,93,94,95,96,97,98,99,100,101,102,103,104,105,106,107,108,109,110,111,112,113,114,115,116,117,118,119,120,121,122,123,124,125,126,127,128,129,130,131,132,133,134,135,136,137,138,139,140,141,142,143,144,145,146,147,148,149,150,151,152,153,154,155,156,157,158,159,160,161,162,163,164,165,166,167,168,169,170,171,172,173,174,175,176,177,178,179,180,181,182,183,184,185,186,187,188,189,190,191,192,193,194,195,196,197,198,199,200,201,202,203,204,205,206,207,208,209,210,211,212,213,214,215,216,217,218,219,220,221,222,223,224,225,226,227,228,229,230,231,232,233,234,235,236,237,238,239,240,241,242,243,244,245,246,247,248,249,250,251,252,253,254,255,256,257,258,259,260,261,262,263,264,265,266,267,268,269,270,271,272,273,274,275,276,277,278,279,280,281,282,283,284,285,286,287,288,289,290,291,292,293,294,295,296,297,298,299,300,301,302,303,304,305,306,307,308,309,310,311,312,313,314,315,316,317,318,319,320,321,322,323,324,325,326,327,328,329,330,331,332,333,334,335,336,337,338,339,340,341,342,343,344,345,346,347,348,349,350,351,352,353,354,355,356,357,358,359,360,361,362,363,364,365,366,367,368,369,370,371,372,373,374,375,376,377,378,379,380,381,382,383,384,385,386,387,388,389,390,391,392,393,394,395,396,397,398,399,400,401,402,403,404,405,406,407,408,409,410,411,412,413,414,415,416,417,418,419,420,421,422,423,424,425,426,427,428,429,430,431,432,433,434,435,436,437,438,439,440,441,442,443,444,445,446,447,448,449,450,451,452,453,454,455,456,457,458,459,460,461,462,463,464,465,466,467,468,469,470,471,472,473,474,475,476,477,478,479,480,481,482,483,484,485,486,487,488,489,490,491,492,493,494,495,496,497,498,499,500,501,502,503,504,505,506,507,508,509,510,511,512,513,514,515,516,517,518,519,520,521,522,523,524,525,526,527,528,529,530,531,532,533,534,535,536,537,538,539,540,541,542,543,544,545,546,547,548,549,550,551,552,553,554,555,556,557,558,559,560,561,562,563,564,565,566,567,568,569,570,571,572,573,574,575,576,577,578,579,580,581,582,583,584,585,586,587,588,589,590,591,592,593,594,595,596,597,598,599,600,601,602,603,604,605,606,607,608,609,610,611,612,613,614,615,616,617,618,619,620,621,622,623,624,625,626,627,628,629,630,631,632,633,634,635,636,637,638,639,640,641,642,643,644,645,646,647,648,649,650,651,652,653,654,655,656,657,658,659,660,661,662,663,664,665,666,667,668,669,670,671,672,673,674,675,676,677,678,679,680,681,682,683,684,685,686,687,688,689,690,691,692,693,694,695,696,697,698,699,700,701,702,703,704,705,706,707,708,709,710,711,712,713,714,715,716,717,718,719,720,721,722,723,724,725,726,727,728,729,730,731,732,733,734,735,736,737,738,739,740,741,742,743,744,745,746,747,748,749,750,751,752,753,754,755,756,757,758,759,760,761,762,763,764,765,766,767,768,769,770,771,772,773,774,775,776,777,778,779,780,781,782,783,784,785,786,787,788,789,790,791,792,793,794,795,796,797,798,799,800,801,802,803,804,805,806,807,808,809,810,811,812,813,814,815,816,817,818,819,820,821,822,823,824,825,826,827,828,829,830,831,832,833,834,835,836,837,838,839,840,841,842,843,844,845,846,847,848,849,850,851,852,853,854,855,856,857,858,859,860,861,862,863,864,865,866,867,868,869,870,871,872,873,874,875,876,877,878,879,880,881,882,883,884,885,886,887,888,889,890,891,892,893,894,895,896,897,898,899,900,901,902,903,904,905,906,907,908,909,910,911,912,913,914,915,916,917,918,919,920,921,922,923,924,925,926,927,928,929,930,931,932,933,934,935,936,937,938,939,940,941,942,943,944,945,946,947,948,949,950,951,952,953,954,955,956,957,958,959,960,961,962,963,964,965,966,967,968,969,970,971,972,973,974,975,976,977,978,979,980,981,982,983,984,985,986,987,988,989,990,991,992,993,994,995,996,997,998,999,1000,1001,1002,1003,1004,1005,1006,1007,1008,1009,1010,1011,1012,1013,1014,1015,1016,1017,1018,1019,1020,1021,1022,1023,1024,1025,1026,1027,1028,1029,1030,1031,1032,1033,1034,1035,1036,1037,1038,1039,1040,1041,1042,1043,1044,1045,1046,1047,1048,1049,1050,1051,1052,1053,1054,1055,1056,1057,1058,1059,1060,1061,1062,1063,1064,1065,1066,1067,1068,1069,1070,1071,1072,1073,1074,1075,1076,1077,1078,1079,1080,1081,1082,1083,1084,1085,1086,1087,1088,1089,1090,1091,1092,1093,1094,1095,1096,1097,1098,1099,1100,1101,1102,1103,1104,1105,1106,1107,1108,1109,1110,1111,1112,1113,1114,1115,1116,1117,1118,1119,1120,1121,1122,1123,1124,1125,1126,1127,1128,1129,1130,1131,1132,1133,1134,1135,1136,1137,1138,1139,1140,1141,1142,1143,1144,1145,1146,1147,1148,1149,1150,1151,1152,1153,1154,1155,1156,1157,1158,1159,1160,1161,1162,1163,1164,1165,1166,1167,1168,1169,1170,1171,1172,1173,1174,1175,1176,1177,1178,1179,1180,1181,1182,1183,1184,1185,1186,1187,1188,1189,1190,1191,1192,1193,1194,1195,1196,1197,1198,1199,1200,1201,1202,1203,1204,1205,1206,1207,1208,1209,1210,1211,1212,1213,1214,1215,1216,1217,1218,1219,1220,1221,1222,1223,1224,1225,1226,1227,1228,1229,1230,1231,1232,1233,1234,1235,1236,1237,1238,1239,1240,1241,1242,1243,1244,1245,1246,1247,1248,1249,1250,1251,1252,1253,1254,1255,1256,1257,1258,1259,1260,1261,1262,1263,1264,1265,1266,1267,1268,1269,1270,1271,1272,1273,1274,1275,1276,1277,1278,1279,1280,1281,1282,1283,1284,1285,1286,1287,1288,1289,1290,1291,1292,1293,1294,1295,1296,1297,1298,1299,1300,1301,1302,1303,1304,1305,1306,1307,1308,1309,1310,1311,1312,1313,1314,1315,1316,1317,1318,1319,1320,1321,1322,1323,1324,1325,1326,1327,1328,1329,1330,1331,1332,1333,1334,1335,1336,1337,1338,1339,1340,1341,1342,1343,1344,1345,1346,1347,1348,1349,1350,1351,1352,1353,1354,1355,1356,1357,1358,1359,1360,1361,1362,1363,1364,1365,1366,1367,1368,1369,1370,1371,1372,1373,1374,1375,1376,1377,1378,1379,1380,1381,1382,1383,1384,1385,1386,1387,1388,1389,1390,1391,1392,1393,1394,1395,1396,1397,1398,1399,1400,1401,1402,1403,1404,1405,1406,1407,1408,1409,1410,1411,1412,1413,1414,1415,1416,1417,1418,1419,1420,1421,1422,1423,1424,1425,1426,1427,1428,1429,1430,1431,1432,1433,1434,1435,1436,1437,1438,1439,1440,1441,1442,1443,1444,1445,1446,1447,1448,1449,1450,1451,1452,1453,1454,1455,1456,1457,1458,1459,1460,1461,1462,1463,1464,1465,1466,1467,1468,1469,1470,1471,1472,1473,1474,1475,1476,1477,1478,1479,1480,1481,1482,1483,1484,1485,1486,1487,1488,1489,1490,1491,1492,1493,1494,1495,1496,1497,1498,1499,1500,1501,1502,1503,1504,1505,1506,1507,1508,1509,1510,1511,1512,1513,1514,1515,1516,1517,1518,1519,1520,1521,1522,1523,1524,1525,1526,1527,1528,1529,1530,1531,1532,1533,1534,1535,1536,1537,1538,1539,1540,1541,1542,1543,1544,1545,1546,1547,1548,1549,1550,1551,1552,1553,1554,1555,1556,1557,1558,1559,1560,1561,1562,1563,1564,1565,1566,1567,1568,1569,1570,1571,1572,1573,1574,1575,1576,1577,1578,1579,1580,1581,1582,1583,1584,1585,1586,1587,1588,1589,1590,1591,1592,1593,1594,1595,1596,1597,1598,1599,1600,1601,1602,1603,1604,1605,1606,1607,1608,1609,1610,1611,1612,1613,1614,1615,1616,1617,1618,1619,1620,1621,1622,1623,1624,1625,1626,1627,1628,1629,1630,1631,1632,1633,1634,1635,1636,1637,1638,1639,1640,1641,1642,1643,1644,1645,1646,1647,1648,1649,1650,1651,1652,1653,1654,1655,1656,1657,1658,1659,1660,1661,1662,1663,1664,1665,1666,1667,1668,1669,1670,1671,1672,1673,1674,1675,1676,1677,1678,1679,1680,1681,1682,1683,1684,1685,1686,1687,1688,1689,1690,1691,1692,1693,1694,1695,1696,1697,1698,1699,1700,1701,1702,1703,1704,1705,1706,1707,1708,1709,1710,1711,1712,1713,1714,1715,1716,1717,1718,1719,1720,1721,1722,1723,1724,1725,1726,1727,1728,1729,1730,1731,1732,1733,1734,1735,1736,1737,1738,1739,1740,1741,1742,1743,1744,1745,1746,1747,1748,1749,1750,1751,1752,1753,1754,1755,1756,1757,1758,1759,1760,1761,1762,1763,1764,1765,1766,1767,1768,1769,1770,1771,1772,1773,1774,1775,1776,1777,1778,1779,1780,1781,1782,1783,1784,1785,1786,1787,1788,1789,1790,1791,1792,1793,1794,1795,1796,1797,1798,1799,1800,1801,1802,1803,1804,1805,1806,1807,1808,1809,1810,1811,1812,1813,1814,1815,1816,1817,1818,1819,1820,1821,1822,1823,1824,1825,1826,1827,1828,1829,1830,1831,1832,1833,1834,1835,1836,1837,1838,1839,1840,1841,1842,1843,1844,1845,1846,1847,1848,1849,1850,1851,1852,1853,1854,1855,1856,1857,1858,1859,1860,1861,1862,1863,1864,1865,1866,1867,1868,1869,1870,1871,1872,1873,1874,1875,1876,1877,1878,1879,1880,1881,1882,1883,1884,1885,1886,1887,1888,1889,1890,1891,1892,1893,1894,1895,1896,1897,1898,1899,1900,1901,1902,1903,1904,1905,1906,1907,1908,1909,1910,1911,1912,1913,1914,1915,1916,1917,1918,1919,1920,1921,1922,1923,1924,1925,1926,1927,1928,1929,1930,1931,1932,1933,1934,1935,1936,1937,1938,1939,1940,1941,1942,1943,1944,1945,1946,1947,1948,1949,1950,1951,1952,1953,1954,1955,1956,1957,1958,1959,1960,1961,1962,1963,1964,1965,1966,1967,1968,1969,1970,1971,1972,1973,1974,1975,1976,1977,1978,1979,1980,1981,1982,1983,1984,1985,1986,1987,1988,1989,1990,1991,1992,1993,1994,1995,1996,1997,1998,1999,2000,2001,2002,2003,2004,2005,2006,2007,2008,2009,2010,2011,2012,2013,2014,2015,2016,2017,2018,2019,2020,2021,2022,2023,2024,2025,2026,2027,2028,2029,2030,2031,2032,2033,2034,2035,2036,2037,2038,2039,2040,2041,2042,2043,2044,2045,2046,2047,2048,2049,2050,2051,2052,2053,2054,2055,2056,2057,2058,2059,2060,2061,2062,2063,2064,2065,2066,2067,2068,2069,2070,2071,2072,2073,2074,2075,2076,2077,2078,2079,2080,2081,2082,2083,2084,2085,2086,2087,2088,2089,2090,2091,2092,2093,2094,2095,2096,2097,2098,2099,2100,2101,2102,2103,2104,2105,2106,2107,2108,2109,2110,2111,2112,2113,2114,2115,2116,2117,2118,2119,2120,2121,2122,2123,2124,2125,2126,2127,2128,2129,2130,2131,2132,2133,2134,2135,2136,2137,2138,2139,2140,2141,2142,2143,2144,2145,2146,2147,2148,2149,2150,2151,2152,2153,2154,2155,2156,2157,2158,2159,2160,2161,2162,2163,2164,2165,2166,2167,2168,2169,2170,2171,2172,2173,2174,2175,2176,2177,2178,2179,2180,2181,2182,2183,2184,2185,2186,2187,2188,2189,2190,2191,2192,2193,2194,2195,2196,2197,2198,2199,2200,2201,2202,2203,2204,2205,2206,2207,2208,2209,2210,2211,2212,2213,2214,2215,2216,2217,2218,2219,2220,2221,2222,2223,2224,2225,2226,2227,2228,2229,2230,2231,2232,2233,2234,2235,2236,2237,2238,2239,2240,2241,2242,2243,2244,2245,2246,2247,2248,2249,2250,2251,2252,2253,2254,2255,2256,2257,2258,2259,2260,2261,2262,2263,2264,2265,2266,2267,2268,2269,2270,2271,2272,2273,2274,2275,2276,2277,2278,2279,2280,2281,2282,2283,2284,2285,2286,2287,2288,2289,2290,2291,2292,2293,2294,2295,2296,2297,2298,2299,2300,2301,2302,2303,2304,2305,2306,2307,2308,2309,2310,2311,2312,2313,2314,2315,2316,2317,2318,2319,2320,2321,2322,2323,2324,2325,2326,2327,2328,2329,2330,2331,2332,2333,2334,2335,2336,2337,2338,2339,2340,2341,2342,2343,2344,2345,2346,2347,2348,2349,2350,2351,2352,2353,2354,2355,2356,2357,2358,2359,2360,2361,2362,2363,2364,2365,2366,2367,2368,2369,2370,2371,2372,2373,2374,2375,2376,2377,2378,2379,2380,2381,2382,2383,2384,2385,2386,2387,2388,2389,2390,2391,2392,2393,2394,2395,2396,2397,2398,2399,2400,2401,2402,2403,2404,2405,2406,2407,2408,2409,2410,2411,2412,2413,2414,2415,2416,2417,2418,2419,2420,2421,2422,2423,2424,2425,2426,2427,2428,2429,2430,2431,2432,2433,2434,2435,2436,2437,2438,2439,2440,2441,2442,2443,2444,2445,2446,2447,2448,2449,2450,2451,2452,2453,2454,2455,2456,2457,2458,2459,2460,2461,2462,2463,2464,2465,2466,2467,2468,2469,2470,2471,2472,2473,2474,2475,2476,2477,2478,2479,2480,2481,2482,2483,2484,2485,2486,2487,2488,2489,2490,2491,2492,2493,2494,2495,2496,2497,2498,2499,2500,2501,2502,2503,2504,2505,2506,2507,2508,2509,2510,2511,2512,2513,2514,2515,2516,2517,2518,2519,2520,2521,2522,2523,2524,2525,2526,2527,2528,2529,2530,2531,2532,2533,2534,2535,2536,2537,2538,2539,2540,2541,2542,2543,2544,2545,2546,2547,2548,2549,2550,2551,2552,2553,2554,2555,2556,2557,2558,2559,2560,2561,2562,2563,2564,2565,2566,2567,2568,2569,2570,2571,2572,2573,2574,2575,2576,2577,2578,2579,2580,2581,2582,2583,2584,2585,2586,2587,2588,2589,2590,2591,2592,2593,2594,2595,2596,2597,2598,2599,2600,2601,2602,2603,2604,2605,2606,2607,2608,2609,2610,2611,2612,2613,2614,2615,2616,2617,2618,2619,2620,2621,2622,2623,2624,2625,2626,2627,2628,2629,2630,2631,2632,2633,2634,2635,2636,2637,2638,2639,2640,2641,2642,2643,2644,2645,2646,2647,2648,2649,2650,2651,2652,2653,2654,2655,2656,2657,2658,2659,2660,2661,2662,2663,2664,2665,2666,2667,2668,2669,2670,2671,2672,2673,2674,2675,2676,2677,2678,2679,2680,2681,2682,2683,2684,2685,2686,2687,2688,2689,2690,2691,2692,2693,2694,2695,2696,2697,2698,2699,2700,2701,2702,2703,2704,2705,2706,2707,2708,2709,2710,2711,2712,2713,2714,2715,2716,2717,2718,2719,2720,2721,2722,2723,2724,2725,2726,2727,2728,2729,2730,2731,2732,2733,2734,2735,2736,2737,2738,2739,2740,2741,2742,2743,2744,2745,2746,2747,2748,2749,2750,2751,2752,2753,2754,2755,2756,2757,2758,2759,2760,2761,2762,2763,2764,2765,2766,2767,2768,2769,2770,2771,2772,2773,2774,2775,2776,2777,2778,2779,2780,2781,2782,2783,2784,2785,2786,2787,2788,2789,2790,2791,2792,2793,2794,2795,2796,2797,2798,2799,2800,2801,2802,2803,2804,2805,2806,2807,2808,2809,2810,2811,2812,2813,2814,2815,2816,2817,2818,2819,2820,2821,2822,2823,2824,2825,2826,2827,2828,2829,2830,2831,2832,2833,2834,2835,2836,2837,2838,2839,2840,2841,2842,2843,2844,2845,2846,2847,2848,2849,2850,2851,2852,2853,2854,2855,2856,2857,2858,2859,2860,2861,2862,2863,2864,2865,2866,2867,2868,2869,2870,2871,2872,2873,2874,2875,2876,2877,2878,2879,2880,2881,2882,2883,2884,2885,2886,2887,2888,2889,2890,2891,2892,2893,2894,2895,2896,2897,2898,2899,2900,2901,2902,2903,2904,2905,2906,2907,2908,2909,2910,2911,2912,2913,2914,2915,2916,2917,2918,2919,2920,2921,2922,2923,2924,2925,2926,2927,2928,2929,2930,2931,2932,2933,2934,2935,2936,2937,2938,2939,2940,2941,2942,2943,2944,2945,2946,2947,2948,2949,2950,2951,2952,2953,2954,2955,2956,2957,2958,2959,2960,2961,2962,2963,2964,2965,2966,2967,2968,2969,2970,2971,2972,2973,2974,2975,2976,2977,2978,2979,2980,2981,2982,2983,2984,2985,2986,2987,2988,2989,2990,2991,2992,2993,2994,2995,2996,2997,2998,2999,3000,3001,3002,3003,3004,3005,3006,3007,3008,3009,3010,3011,3012,3013,3014,3015,3016,3017,3018,3019,3020,3021,3022,3023,3024,3025,3026,3027,3028,3029,3030,3031,3032,3033,3034,3035,3036,3037,3038,3039,3040,3041,3042,3043,3044,3045,3046,3047,3048,3049,3050,3051,3052,3053,3054,3055,3056,3057,3058,3059,3060,3061,3062,3063,3064,3065,3066,3067,3068,3069,3070,3071,3072,3073,3074,3075,3076,3077,3078,3079,3080,3081,3082,3083,3084,3085,3086,3087,3088,3089,3090,3091,3092,3093,3094,3095,3096,3097,3098,3099,3100,3101,3102,3103,3104,3105,3106,3107,3108,3109,3110,3111,3112,3113,3114,3115,3116,3117,3118,3119,3120,3121,3122,3123,3124,3125,3126,3127,3128,3129,3130,3131,3132,3133,3134,3135,3136,3137,3138,3139,3140,3141,3142,3143,3144,3145,3146,3147,3148,3149,3150,3151,3152,3153,3154,3155,3156,3157,3158,3159,3160,3161,3162,3163,3164,3165,3166,3167,3168,3169,3170,3171,3172,3173,3174,3175,3176,3177,3178,3179,3180,3181,3182,3183,3184,3185,3186,3187,3188,3189,3190,3191,3192,3193,3194,3195,3196,3197,3198,3199,3200,3201,3202,3203,3204,3205,3206,3207,3208,3209,3210,3211,3212,3213,3214,3215,3217,3218,3220,3221,3222,3223,3224,3225,3226,3227,3228,3229,3230,3231,3233,3234,3235,3236,3237,3238,3239,3240,3242,3243,3244,3245,3246,3247,3248,3249,3250,3251,3252,3253,3254,3255,3256,3259,3260,3261,3262,3263,3265,3266,3267,3268,3269,3270,3271,3272,3273,3274,3278,3279,3280,3281,3283,3284,3285,3286,3287,3289,3290,3292,3293,3294,3295,3296,3298,3299,3302,3303,3305,3306,3308,3309,3310,3311,3314,3315,3316,3327,3328,3333,3334,3335,3336,3338,3339,3340,3341,3347,3353,3354,3355,3357,3358,3359,3360,3365,3366,3371,3372,3377,3378,3379,3380,3381,3382,3383,3384,3389,3390,3391,3392,3396,3397,3402,3403,3404,3405,3406,3407,3408,3409,3410,3411,3412,3413,3414,3415,3416,3417,3418,3419,3420,3421,3422,3423,3424,3425,3426,3427,3428,3429,3430,3431,3432,3433,3434,3435,3436,3437,3438,3439,3440,3441,3442,3443,3444,3445,3446,3447,3448,3449,3450,3451,3452,3453,3454,3455,3456,3457,3458,3459,3460,3461,3462,3463,3464,3465,3466,3467,3468,3469,3470,3471,3472,3473,3474,3475,3476,3477,3478,3479,3480,3481,3482,3483,3484,3485,3486,3487,3488,3489,3490,3491,3492,3493,3494,3495,3496,3497,3498,3499,3500,3501,3502,3503,3504,3505,3506,3507,3508,3509,3510,3511,3512,3513,3514,3515,3516,3517,3518,3519,3520,3521,3522,3523,3524,3525,3526,3527,3528,3529,3530,3531,3532,3533,3534,3535,3536,3537,3538,3539,3540,3541,3542,3543,3544,3545,3546,3547,3548,3549,3550,3551,3552,3553,3554,3555,3556,3557,3558,3559,3560,3561,3562,3563,3564,3565,3566,3567,3568,3569,3570,3571,3572,3573,3574,3575,3576) have mixed types. Specify dtype option on import or set low_memory=False.\n",
      "  df = pd.read_csv('final_data_topic_modelling.csv', encoding= 'latin1')\n"
     ]
    }
   ],
   "source": [
    "df = pd.read_csv('final_data_topic_modelling.csv', encoding= 'latin1')"
   ]
  },
  {
   "cell_type": "code",
   "execution_count": 5,
   "id": "4011953f",
   "metadata": {},
   "outputs": [
    {
     "data": {
      "text/html": [
       "<div>\n",
       "<style scoped>\n",
       "    .dataframe tbody tr th:only-of-type {\n",
       "        vertical-align: middle;\n",
       "    }\n",
       "\n",
       "    .dataframe tbody tr th {\n",
       "        vertical-align: top;\n",
       "    }\n",
       "\n",
       "    .dataframe thead th {\n",
       "        text-align: right;\n",
       "    }\n",
       "</style>\n",
       "<table border=\"1\" class=\"dataframe\">\n",
       "  <thead>\n",
       "    <tr style=\"text-align: right;\">\n",
       "      <th></th>\n",
       "      <th>Title</th>\n",
       "      <th>Content</th>\n",
       "      <th>Unnamed: 2</th>\n",
       "      <th>Unnamed: 3</th>\n",
       "      <th>Unnamed: 4</th>\n",
       "      <th>Unnamed: 5</th>\n",
       "      <th>Unnamed: 6</th>\n",
       "      <th>Unnamed: 7</th>\n",
       "      <th>Unnamed: 8</th>\n",
       "      <th>Unnamed: 9</th>\n",
       "      <th>...</th>\n",
       "      <th>Unnamed: 3567</th>\n",
       "      <th>Unnamed: 3568</th>\n",
       "      <th>Unnamed: 3569</th>\n",
       "      <th>Unnamed: 3570</th>\n",
       "      <th>Unnamed: 3571</th>\n",
       "      <th>Unnamed: 3572</th>\n",
       "      <th>Unnamed: 3573</th>\n",
       "      <th>Unnamed: 3574</th>\n",
       "      <th>Unnamed: 3575</th>\n",
       "      <th>Unnamed: 3576</th>\n",
       "    </tr>\n",
       "  </thead>\n",
       "  <tbody>\n",
       "    <tr>\n",
       "      <th>0</th>\n",
       "      <td>Erin McNaught goes Instagram official with her...</td>\n",
       "      <td>Erin McNaught goes Instagram official with her...</td>\n",
       "      <td>NaN</td>\n",
       "      <td>NaN</td>\n",
       "      <td>NaN</td>\n",
       "      <td>NaN</td>\n",
       "      <td>NaN</td>\n",
       "      <td>NaN</td>\n",
       "      <td>NaN</td>\n",
       "      <td>NaN</td>\n",
       "      <td>...</td>\n",
       "      <td>NaN</td>\n",
       "      <td>NaN</td>\n",
       "      <td>NaN</td>\n",
       "      <td>NaN</td>\n",
       "      <td>NaN</td>\n",
       "      <td>NaN</td>\n",
       "      <td>NaN</td>\n",
       "      <td>NaN</td>\n",
       "      <td>NaN</td>\n",
       "      <td>NaN</td>\n",
       "    </tr>\n",
       "    <tr>\n",
       "      <th>1</th>\n",
       "      <td>Married At First Sight UK's Brad is 'kicked of...</td>\n",
       "      <td>Married At First Sight UK's Brad is 'kicked of...</td>\n",
       "      <td>NaN</td>\n",
       "      <td>NaN</td>\n",
       "      <td>NaN</td>\n",
       "      <td>NaN</td>\n",
       "      <td>NaN</td>\n",
       "      <td>NaN</td>\n",
       "      <td>NaN</td>\n",
       "      <td>NaN</td>\n",
       "      <td>...</td>\n",
       "      <td>NaN</td>\n",
       "      <td>NaN</td>\n",
       "      <td>NaN</td>\n",
       "      <td>NaN</td>\n",
       "      <td>NaN</td>\n",
       "      <td>NaN</td>\n",
       "      <td>NaN</td>\n",
       "      <td>NaN</td>\n",
       "      <td>NaN</td>\n",
       "      <td>NaN</td>\n",
       "    </tr>\n",
       "    <tr>\n",
       "      <th>2</th>\n",
       "      <td>Early symptoms of 'silent killer' heart condit...</td>\n",
       "      <td>Sweating, heartbeat irregularities and unusual...</td>\n",
       "      <td>NaN</td>\n",
       "      <td>NaN</td>\n",
       "      <td>NaN</td>\n",
       "      <td>NaN</td>\n",
       "      <td>NaN</td>\n",
       "      <td>NaN</td>\n",
       "      <td>NaN</td>\n",
       "      <td>NaN</td>\n",
       "      <td>...</td>\n",
       "      <td>NaN</td>\n",
       "      <td>NaN</td>\n",
       "      <td>NaN</td>\n",
       "      <td>NaN</td>\n",
       "      <td>NaN</td>\n",
       "      <td>NaN</td>\n",
       "      <td>NaN</td>\n",
       "      <td>NaN</td>\n",
       "      <td>NaN</td>\n",
       "      <td>NaN</td>\n",
       "    </tr>\n",
       "    <tr>\n",
       "      <th>3</th>\n",
       "      <td>Breast Augmentation: 5 Key Things to Keep in M...</td>\n",
       "      <td>Planning to get a breast augmentation done? He...</td>\n",
       "      <td>NaN</td>\n",
       "      <td>NaN</td>\n",
       "      <td>NaN</td>\n",
       "      <td>NaN</td>\n",
       "      <td>NaN</td>\n",
       "      <td>NaN</td>\n",
       "      <td>NaN</td>\n",
       "      <td>NaN</td>\n",
       "      <td>...</td>\n",
       "      <td>NaN</td>\n",
       "      <td>NaN</td>\n",
       "      <td>NaN</td>\n",
       "      <td>NaN</td>\n",
       "      <td>NaN</td>\n",
       "      <td>NaN</td>\n",
       "      <td>NaN</td>\n",
       "      <td>NaN</td>\n",
       "      <td>NaN</td>\n",
       "      <td>NaN</td>\n",
       "    </tr>\n",
       "    <tr>\n",
       "      <th>4</th>\n",
       "      <td>Parkdean Resorts hails strong resilience in th...</td>\n",
       "      <td>The boss of North East holiday company Parkdea...</td>\n",
       "      <td>NaN</td>\n",
       "      <td>NaN</td>\n",
       "      <td>NaN</td>\n",
       "      <td>NaN</td>\n",
       "      <td>NaN</td>\n",
       "      <td>NaN</td>\n",
       "      <td>NaN</td>\n",
       "      <td>NaN</td>\n",
       "      <td>...</td>\n",
       "      <td>NaN</td>\n",
       "      <td>NaN</td>\n",
       "      <td>NaN</td>\n",
       "      <td>NaN</td>\n",
       "      <td>NaN</td>\n",
       "      <td>NaN</td>\n",
       "      <td>NaN</td>\n",
       "      <td>NaN</td>\n",
       "      <td>NaN</td>\n",
       "      <td>NaN</td>\n",
       "    </tr>\n",
       "  </tbody>\n",
       "</table>\n",
       "<p>5 rows × 3577 columns</p>\n",
       "</div>"
      ],
      "text/plain": [
       "                                               Title  \\\n",
       "0  Erin McNaught goes Instagram official with her...   \n",
       "1  Married At First Sight UK's Brad is 'kicked of...   \n",
       "2  Early symptoms of 'silent killer' heart condit...   \n",
       "3  Breast Augmentation: 5 Key Things to Keep in M...   \n",
       "4  Parkdean Resorts hails strong resilience in th...   \n",
       "\n",
       "                                             Content Unnamed: 2 Unnamed: 3  \\\n",
       "0  Erin McNaught goes Instagram official with her...        NaN        NaN   \n",
       "1  Married At First Sight UK's Brad is 'kicked of...        NaN        NaN   \n",
       "2  Sweating, heartbeat irregularities and unusual...        NaN        NaN   \n",
       "3  Planning to get a breast augmentation done? He...        NaN        NaN   \n",
       "4  The boss of North East holiday company Parkdea...        NaN        NaN   \n",
       "\n",
       "  Unnamed: 4 Unnamed: 5 Unnamed: 6 Unnamed: 7 Unnamed: 8 Unnamed: 9  ...  \\\n",
       "0        NaN        NaN        NaN        NaN        NaN        NaN  ...   \n",
       "1        NaN        NaN        NaN        NaN        NaN        NaN  ...   \n",
       "2        NaN        NaN        NaN        NaN        NaN        NaN  ...   \n",
       "3        NaN        NaN        NaN        NaN        NaN        NaN  ...   \n",
       "4        NaN        NaN        NaN        NaN        NaN        NaN  ...   \n",
       "\n",
       "  Unnamed: 3567 Unnamed: 3568 Unnamed: 3569 Unnamed: 3570 Unnamed: 3571  \\\n",
       "0           NaN           NaN           NaN           NaN           NaN   \n",
       "1           NaN           NaN           NaN           NaN           NaN   \n",
       "2           NaN           NaN           NaN           NaN           NaN   \n",
       "3           NaN           NaN           NaN           NaN           NaN   \n",
       "4           NaN           NaN           NaN           NaN           NaN   \n",
       "\n",
       "  Unnamed: 3572 Unnamed: 3573 Unnamed: 3574 Unnamed: 3575 Unnamed: 3576  \n",
       "0           NaN           NaN           NaN           NaN           NaN  \n",
       "1           NaN           NaN           NaN           NaN           NaN  \n",
       "2           NaN           NaN           NaN           NaN           NaN  \n",
       "3           NaN           NaN           NaN           NaN           NaN  \n",
       "4           NaN           NaN           NaN           NaN           NaN  \n",
       "\n",
       "[5 rows x 3577 columns]"
      ]
     },
     "execution_count": 5,
     "metadata": {},
     "output_type": "execute_result"
    }
   ],
   "source": [
    "df.head(5)"
   ]
  },
  {
   "cell_type": "code",
   "execution_count": 6,
   "id": "83db8660",
   "metadata": {},
   "outputs": [
    {
     "data": {
      "text/plain": [
       "3888"
      ]
     },
     "execution_count": 6,
     "metadata": {},
     "output_type": "execute_result"
    }
   ],
   "source": [
    "len(df.loc[0, 'Content'])"
   ]
  },
  {
   "cell_type": "code",
   "execution_count": 7,
   "id": "b2fac425",
   "metadata": {},
   "outputs": [
    {
     "data": {
      "text/plain": [
       "(10747, 3577)"
      ]
     },
     "execution_count": 7,
     "metadata": {},
     "output_type": "execute_result"
    }
   ],
   "source": [
    "df.shape"
   ]
  },
  {
   "cell_type": "code",
   "execution_count": 8,
   "id": "a5b18e54",
   "metadata": {},
   "outputs": [
    {
     "data": {
      "text/html": [
       "<div>\n",
       "<style scoped>\n",
       "    .dataframe tbody tr th:only-of-type {\n",
       "        vertical-align: middle;\n",
       "    }\n",
       "\n",
       "    .dataframe tbody tr th {\n",
       "        vertical-align: top;\n",
       "    }\n",
       "\n",
       "    .dataframe thead th {\n",
       "        text-align: right;\n",
       "    }\n",
       "</style>\n",
       "<table border=\"1\" class=\"dataframe\">\n",
       "  <thead>\n",
       "    <tr style=\"text-align: right;\">\n",
       "      <th></th>\n",
       "      <th>Title</th>\n",
       "      <th>Content</th>\n",
       "    </tr>\n",
       "  </thead>\n",
       "  <tbody>\n",
       "    <tr>\n",
       "      <th>0</th>\n",
       "      <td>Erin McNaught goes Instagram official with her...</td>\n",
       "      <td>Erin McNaught goes Instagram official with her...</td>\n",
       "    </tr>\n",
       "    <tr>\n",
       "      <th>1</th>\n",
       "      <td>Married At First Sight UK's Brad is 'kicked of...</td>\n",
       "      <td>Married At First Sight UK's Brad is 'kicked of...</td>\n",
       "    </tr>\n",
       "    <tr>\n",
       "      <th>2</th>\n",
       "      <td>Early symptoms of 'silent killer' heart condit...</td>\n",
       "      <td>Sweating, heartbeat irregularities and unusual...</td>\n",
       "    </tr>\n",
       "    <tr>\n",
       "      <th>3</th>\n",
       "      <td>Breast Augmentation: 5 Key Things to Keep in M...</td>\n",
       "      <td>Planning to get a breast augmentation done? He...</td>\n",
       "    </tr>\n",
       "    <tr>\n",
       "      <th>4</th>\n",
       "      <td>Parkdean Resorts hails strong resilience in th...</td>\n",
       "      <td>The boss of North East holiday company Parkdea...</td>\n",
       "    </tr>\n",
       "    <tr>\n",
       "      <th>...</th>\n",
       "      <td>...</td>\n",
       "      <td>...</td>\n",
       "    </tr>\n",
       "    <tr>\n",
       "      <th>10742</th>\n",
       "      <td>Celebrity chef Michael Chiarello's death at 61...</td>\n",
       "      <td>Celebrity chef Michael Chiarello's death at 61...</td>\n",
       "    </tr>\n",
       "    <tr>\n",
       "      <th>10743</th>\n",
       "      <td>Dancing with the Starsâ Mary Lou Retton âf...</td>\n",
       "      <td>Mary Lou Retton is âfighting for her lifeâ...</td>\n",
       "    </tr>\n",
       "    <tr>\n",
       "      <th>10744</th>\n",
       "      <td>'India's G20 presidency marked a historic mile...</td>\n",
       "      <td>United Nations General Assembly (UNGA) Preside...</td>\n",
       "    </tr>\n",
       "    <tr>\n",
       "      <th>10745</th>\n",
       "      <td>Craig Phillips: âBig Brother has always been...</td>\n",
       "      <td>Big Brother is back after what feels like a li...</td>\n",
       "    </tr>\n",
       "    <tr>\n",
       "      <th>10746</th>\n",
       "      <td>Too much freedom? â PHOTOs of scantily dress...</td>\n",
       "      <td>â An X user has shared photos of high school...</td>\n",
       "    </tr>\n",
       "  </tbody>\n",
       "</table>\n",
       "<p>10747 rows × 2 columns</p>\n",
       "</div>"
      ],
      "text/plain": [
       "                                                   Title  \\\n",
       "0      Erin McNaught goes Instagram official with her...   \n",
       "1      Married At First Sight UK's Brad is 'kicked of...   \n",
       "2      Early symptoms of 'silent killer' heart condit...   \n",
       "3      Breast Augmentation: 5 Key Things to Keep in M...   \n",
       "4      Parkdean Resorts hails strong resilience in th...   \n",
       "...                                                  ...   \n",
       "10742  Celebrity chef Michael Chiarello's death at 61...   \n",
       "10743  Dancing with the Starsâ Mary Lou Retton âf...   \n",
       "10744  'India's G20 presidency marked a historic mile...   \n",
       "10745  Craig Phillips: âBig Brother has always been...   \n",
       "10746  Too much freedom? â PHOTOs of scantily dress...   \n",
       "\n",
       "                                                 Content  \n",
       "0      Erin McNaught goes Instagram official with her...  \n",
       "1      Married At First Sight UK's Brad is 'kicked of...  \n",
       "2      Sweating, heartbeat irregularities and unusual...  \n",
       "3      Planning to get a breast augmentation done? He...  \n",
       "4      The boss of North East holiday company Parkdea...  \n",
       "...                                                  ...  \n",
       "10742  Celebrity chef Michael Chiarello's death at 61...  \n",
       "10743  Mary Lou Retton is âfighting for her lifeâ...  \n",
       "10744  United Nations General Assembly (UNGA) Preside...  \n",
       "10745  Big Brother is back after what feels like a li...  \n",
       "10746  â An X user has shared photos of high school...  \n",
       "\n",
       "[10747 rows x 2 columns]"
      ]
     },
     "execution_count": 8,
     "metadata": {},
     "output_type": "execute_result"
    }
   ],
   "source": [
    "df = df[['Title','Content']]\n",
    "df"
   ]
  },
  {
   "cell_type": "code",
   "execution_count": 9,
   "id": "7829056c",
   "metadata": {},
   "outputs": [
    {
     "data": {
      "text/plain": [
       "\"Erin McNaught goes Instagram official with her new music producer boyfriend Stace Cadet following split from rapper Example By Ali Daher For Daily Mail Australia Published: 01:30 EDT, 8 October 2023 | Updated: 04:03 EDT, 8 October 2023 e-mail 14 shares View comments Erin McNaught was recently spotted looking loved up with her new music producer boyfriend Stasi 'Stace Cadet' Kotaras. And on Sunday, the model took the next step in their relationship by going Instagram official. Sharing a gallery of loved-up photos with her 183K followers, Erin was ready to show off her beau. 'Our recent adventures QT/Magnetic Island' she captioned the post. In one photo, the couple are seen smiling while standing in the snow after going on ski trip to Queenstown New Zealand . Model Erin McNaught, 41, (left) went Instagram official with her new music producer boyfriend Stasi 'Stace Cadet' Kotaras (right) on Sunday - following her shock split from rapper Example Sharing a gallery of loved-up photos with her 183K followers, Erin was ready to show off her beau Another photo shows Erin squished between two rocks, wearing a crop top and a denim skirt while on holiday in Magnetic Island. The pair haven't made any formal announcement of their relationship, but last month shared a number of flirty exchanges on Instagram. 'Last little chunk of life. It's been good to me,' McNaught captioned a slew of photos, with a love heart emoji. 'Our recent adventures QT/Magnetic Island' she captioned the post 'Yes it has,' Stace Cadet replied, with a wink and two heart emojis. The mother-of-two left a fire and heart emoji on his post about doing a 'little mix' for the 'legends at Triple J'. Erin and her ex-husband, rapper Example, real name Elliot Gleave, announced their split in October last year. Another photo shows Erin squished between two rocks, wearing a crop top and a denim skirt while on holiday in Magnetic Island The A-list couple were married from 2013 to 2022. The performer is now seeing art advisor Daisy Cox, who has relocated to Australia to be with him. Example wrote that their romance came to a 'natural end' after 11 years together and said that he and Erin will still be happily co-parenting their sons Evander, aged seven, and Ennio, aged five. In a joint Instagram statement, the couple explained: 'At the start of the UK summer we decided to separate. We have had an amazing 11 years together, but just a few too many adventures. Erin and her ex-husband, rapper Example, real name Elliot Gleave, (left) announced their split in October last year. The pair were married from 2013 to 2022 'Obviously we spent a lot of time behind the scenes trying to figure things out, but we came to the realisation that perhaps our time as a couple had just come to a natural end. 'So we have decided to go our separate ways whilst there is still an abundance of love and respect for one another. 'We have been co-parenting happily and effectively now for almost half a year and our boys are surrounded with love.' Continuing his statement, he penned: 'Due to Elliot's busy summer schedule over 14 weeks in Europe, Erin and the boys flew to London for 4 weeks so Elliot wouldn't have to go months without seeing Evander and Ennio. 'We had an amazing family holiday, and look forward to more in the future. We have had incredible support from our closest friends and family, who are proud of how are handling this separation. 'We have turned off commenting to protect ourselves, our children and closest friends and family. Please do not feel the need to text or DM us whoever you are.' Example and Erin are continuing to co-parent their sons Evander, aged seven, and Ennio, aged five. Pictured in 2021 Share or comment on this article: Erin McNaught goes Instagram official with her new music producer boyfriend Stace Cadet following split from rapper Example e-mail 14 shares Add comment\""
      ]
     },
     "execution_count": 9,
     "metadata": {},
     "output_type": "execute_result"
    }
   ],
   "source": [
    "df['Content'][0]"
   ]
  },
  {
   "cell_type": "code",
   "execution_count": 10,
   "id": "55e8f737",
   "metadata": {},
   "outputs": [
    {
     "data": {
      "text/plain": [
       "(10747, 2)"
      ]
     },
     "execution_count": 10,
     "metadata": {},
     "output_type": "execute_result"
    }
   ],
   "source": [
    "df.shape"
   ]
  },
  {
   "cell_type": "code",
   "execution_count": 11,
   "id": "6823aaf0",
   "metadata": {},
   "outputs": [
    {
     "name": "stdout",
     "output_type": "stream",
     "text": [
      "<class 'pandas.core.frame.DataFrame'>\n",
      "RangeIndex: 10747 entries, 0 to 10746\n",
      "Data columns (total 2 columns):\n",
      " #   Column   Non-Null Count  Dtype \n",
      "---  ------   --------------  ----- \n",
      " 0   Title    10737 non-null  object\n",
      " 1   Content  9604 non-null   object\n",
      "dtypes: object(2)\n",
      "memory usage: 168.0+ KB\n"
     ]
    }
   ],
   "source": [
    "df.info()"
   ]
  },
  {
   "cell_type": "code",
   "execution_count": 12,
   "id": "fa0f36a7",
   "metadata": {},
   "outputs": [
    {
     "data": {
      "text/plain": [
       "Title        10\n",
       "Content    1143\n",
       "dtype: int64"
      ]
     },
     "execution_count": 12,
     "metadata": {},
     "output_type": "execute_result"
    }
   ],
   "source": [
    "df.isnull().sum()\n",
    "#---The 'Title' column has 10 missing values.\n",
    "#---The 'Content' column has 1143 missing values."
   ]
  },
  {
   "cell_type": "code",
   "execution_count": 13,
   "id": "56d77da9",
   "metadata": {},
   "outputs": [
    {
     "data": {
      "text/plain": [
       "715"
      ]
     },
     "execution_count": 13,
     "metadata": {},
     "output_type": "execute_result"
    }
   ],
   "source": [
    "df.duplicated().sum()"
   ]
  },
  {
   "cell_type": "code",
   "execution_count": 14,
   "id": "edbcc822",
   "metadata": {},
   "outputs": [],
   "source": [
    "df = df[['Content']]"
   ]
  },
  {
   "cell_type": "code",
   "execution_count": 15,
   "id": "8c021e03",
   "metadata": {},
   "outputs": [
    {
     "data": {
      "text/html": [
       "<div>\n",
       "<style scoped>\n",
       "    .dataframe tbody tr th:only-of-type {\n",
       "        vertical-align: middle;\n",
       "    }\n",
       "\n",
       "    .dataframe tbody tr th {\n",
       "        vertical-align: top;\n",
       "    }\n",
       "\n",
       "    .dataframe thead th {\n",
       "        text-align: right;\n",
       "    }\n",
       "</style>\n",
       "<table border=\"1\" class=\"dataframe\">\n",
       "  <thead>\n",
       "    <tr style=\"text-align: right;\">\n",
       "      <th></th>\n",
       "      <th>Content</th>\n",
       "    </tr>\n",
       "  </thead>\n",
       "  <tbody>\n",
       "    <tr>\n",
       "      <th>0</th>\n",
       "      <td>Erin McNaught goes Instagram official with her...</td>\n",
       "    </tr>\n",
       "    <tr>\n",
       "      <th>1</th>\n",
       "      <td>Married At First Sight UK's Brad is 'kicked of...</td>\n",
       "    </tr>\n",
       "    <tr>\n",
       "      <th>2</th>\n",
       "      <td>Sweating, heartbeat irregularities and unusual...</td>\n",
       "    </tr>\n",
       "    <tr>\n",
       "      <th>3</th>\n",
       "      <td>Planning to get a breast augmentation done? He...</td>\n",
       "    </tr>\n",
       "    <tr>\n",
       "      <th>4</th>\n",
       "      <td>The boss of North East holiday company Parkdea...</td>\n",
       "    </tr>\n",
       "    <tr>\n",
       "      <th>...</th>\n",
       "      <td>...</td>\n",
       "    </tr>\n",
       "    <tr>\n",
       "      <th>10742</th>\n",
       "      <td>Celebrity chef Michael Chiarello's death at 61...</td>\n",
       "    </tr>\n",
       "    <tr>\n",
       "      <th>10743</th>\n",
       "      <td>Mary Lou Retton is âfighting for her lifeâ...</td>\n",
       "    </tr>\n",
       "    <tr>\n",
       "      <th>10744</th>\n",
       "      <td>United Nations General Assembly (UNGA) Preside...</td>\n",
       "    </tr>\n",
       "    <tr>\n",
       "      <th>10745</th>\n",
       "      <td>Big Brother is back after what feels like a li...</td>\n",
       "    </tr>\n",
       "    <tr>\n",
       "      <th>10746</th>\n",
       "      <td>â An X user has shared photos of high school...</td>\n",
       "    </tr>\n",
       "  </tbody>\n",
       "</table>\n",
       "<p>10747 rows × 1 columns</p>\n",
       "</div>"
      ],
      "text/plain": [
       "                                                 Content\n",
       "0      Erin McNaught goes Instagram official with her...\n",
       "1      Married At First Sight UK's Brad is 'kicked of...\n",
       "2      Sweating, heartbeat irregularities and unusual...\n",
       "3      Planning to get a breast augmentation done? He...\n",
       "4      The boss of North East holiday company Parkdea...\n",
       "...                                                  ...\n",
       "10742  Celebrity chef Michael Chiarello's death at 61...\n",
       "10743  Mary Lou Retton is âfighting for her lifeâ...\n",
       "10744  United Nations General Assembly (UNGA) Preside...\n",
       "10745  Big Brother is back after what feels like a li...\n",
       "10746  â An X user has shared photos of high school...\n",
       "\n",
       "[10747 rows x 1 columns]"
      ]
     },
     "execution_count": 15,
     "metadata": {},
     "output_type": "execute_result"
    }
   ],
   "source": [
    "df"
   ]
  },
  {
   "cell_type": "code",
   "execution_count": 16,
   "id": "48e3999c",
   "metadata": {},
   "outputs": [],
   "source": [
    "#drop missing rows\n",
    "df = df.dropna(subset = ['Content'])"
   ]
  },
  {
   "cell_type": "code",
   "execution_count": 17,
   "id": "3d845f9c",
   "metadata": {},
   "outputs": [
    {
     "data": {
      "text/plain": [
       "Content    0\n",
       "dtype: int64"
      ]
     },
     "execution_count": 17,
     "metadata": {},
     "output_type": "execute_result"
    }
   ],
   "source": [
    "df.isnull().sum()"
   ]
  },
  {
   "cell_type": "code",
   "execution_count": 18,
   "id": "824da348",
   "metadata": {},
   "outputs": [],
   "source": [
    "#drop duplicates rows\n",
    "df = df.drop_duplicates(subset = ['Content'])"
   ]
  },
  {
   "cell_type": "code",
   "execution_count": 19,
   "id": "60541f0d",
   "metadata": {},
   "outputs": [
    {
     "data": {
      "text/plain": [
       "0"
      ]
     },
     "execution_count": 19,
     "metadata": {},
     "output_type": "execute_result"
    }
   ],
   "source": [
    "df.duplicated().sum()"
   ]
  },
  {
   "cell_type": "code",
   "execution_count": 20,
   "id": "b94ef99e",
   "metadata": {},
   "outputs": [
    {
     "data": {
      "text/plain": [
       "'Sweating, heartbeat irregularities and unusual swelling can all be subtle signs of a heart condition (Image: Getty Images) Get the latest top news stories sent straight to your inbox with our daily newsletter More Newsletters Subscribe Invalid email Something went wrong, please try again later. More Newsletters We use your sign-up to provide content in ways youâ\\x80\\x99ve consented to and improve our understanding of you. This may include adverts from us and third parties based on our knowledge of you. More info Thank you for subscribing! We have more newsletters Show me See Our Privacy Notice See Our Privacy Notice Ã\\x97 Group 28 Get the latest top news stories sent straight to your inbox with our daily newsletter Invalid email Something went wrong, please try again later. Sign Up No thanks, close We use your sign-up to provide content in ways youâ\\x80\\x99ve consented to and improve our understanding of you. This may include adverts from us and third parties based on our knowledge of you. More info Ã\\x97 Group 28 Thank you for subscribing! We have more newsletters Show Me No thanks, close See our Privacy Notice Your heart is one of your body\\'s most important organs, and so keeping it in good health should be a priority for everyone. But when there\\'s something wrong with your heart, it can sometimes be hard to tell, as a lot of heart conditions don\\'t present any noticeable symptoms. This means that some problems can take years to diagnose, but according to experts, you should always get checked if you\\'re concerned about your heart health in any way - and this is why knowing the early signs is vital. Read More Related Articles Health experts share what foods are bad for your skin and how they cause acne Read More Related Articles Signs of hearing loss as experts share jobs most likely to cause permanent damage â\\x80\\x9cHidden heart conditions often go undiagnosed for too long, until something goes wrong or itâ\\x80\\x99s too late,â\\x80\\x9d said Sindy Jodar, senior cardiac nurse at the British Heart Foundation (BHF). \"Thatâ\\x80\\x99s why it is important to never ignore the signs of heart disease and get yourself checked , just to be sure .â\\x80\\x9d While some warning signs are easy to spot â\\x80\\x93 such as severe chest pain and collapse â\\x80\\x93 there are also many little indicators that something could be wrong with your heart or circulatory system. These wonâ\\x80\\x99t necessarily mean you have a heart problem, but itâ\\x80\\x99s always best to have them investigated. From tiredness and nausea to fainting, here are some of the less obvious symptoms everyone needs to know about. Feeling unusually tired Dr M Adil U Khan, a GP at Pall Mall Medical, says you should not â\\x80\\x9cignore or downplay unusual levels of tirednessâ\\x80\\x9d. While itâ\\x80\\x99s normal to feel exhausted if youâ\\x80\\x99ve been very busy or lacking sleep, he adds: â\\x80\\x9cFeeling unusually tired, especially if itâ\\x80\\x99s not related to exertion, should be investigated.â\\x80\\x9d It could be due to something like anaemia, a virus, or even linked to mental health. It could also be related to your heart, so it is important to have it investigated. Subtle discomfort â\\x80\\x9cLook out for subtle discomfort in different areas of your body, including discomfort or pain in the jaw, neck, back, or stomach, which can be associated with a heart problem,â\\x80\\x9d says Khan. If symptoms are out of the norm for you and arenâ\\x80\\x99t going away, itâ\\x80\\x99s always best to get them checked. Unusual swelling If you\\'ve noticed any unusual swelling, it may be worth getting it checked out by a doctor (Image: Getty Images) Perhaps you have noticed your ankles look particularly puffy, or maybe itâ\\x80\\x99s your general tummy area thatâ\\x80\\x99s constantly swollen for no apparent reason. â\\x80\\x9cUnexplained swelling, known as oedema, in the legs, ankles or abdomen, may also be signs of heart failure,â\\x80\\x9d explains Khan. Vomiting and a choking sensation Sudden vomiting or a choking sensation in your throat is something to be wary of too. â\\x80\\x9cWhile not every bout of nausea means there could be something serious happening, feeling sick combined with other aches and pains, such as severe chest pain, should ring an alarm bell,â\\x80\\x9d says Jodar. It could be a stomach bug, but if you are having sudden spells of vomiting and nausea more regularly and youâ\\x80\\x99re not sure why, donâ\\x80\\x99t delay in get things checked out. Top Trending Stories Today Eating one fruit found to improve eyes Drivers must tell DVLA of 10 conditions Amazon fans praise Â£5 dryer balls DVLA\\'s Â£7.50 driving licence warning Fainting If you experience sudden fainting, this is a big indicator of something being not quite right. â\\x80\\x9cIf fainting or any other symptom becomes a problem, consult a healthcare provider and schedule an appointment with a doctor or cardiologist,â\\x80\\x9d says Khan. â\\x80\\x9cDiscuss your symptoms, medical history and risk factors with them. â\\x80\\x9cYour healthcare provider will assess your vital signs and perform a physical examination. Depending on your symptoms and risk factors, you may undergo diagnostic tests like ECGs, echocardiograms, stress tests, blood tests, or more specialised cardiac assessments,â\\x80\\x9d he adds. Shortness of breath Struggling to catch your breath isn\\'t a trivial matter. â\\x80\\x9cAnyone experiencing shortness of breath during everyday activities or at rest should see their doctor,â\\x80\\x9d says Khan. This is especially the case if itâ\\x80\\x99s accompanied by chest pain â\\x80\\x93 even if it doesnâ\\x80\\x99t seem especially severe. Khan adds: â\\x80\\x9cMild chest discomfort should always be investigated, but some people mistake this for indigestion or muscular pain.â\\x80\\x9d Top Health Stories Today Eating one fruit found to improve eyes The winter vitamin the NHS recommends The most recent Covid symptoms Alzheimer\\'s linked to health problem Unusual sweating â\\x80\\x9cFeeling hot, clammy and quite sweaty when you havenâ\\x80\\x99t been doing strenuous exercise shouldnâ\\x80\\x99t be ignored,â\\x80\\x9d adds Jodar. â\\x80\\x9cIf this is combined with chest pains, itâ\\x80\\x99s important you get yourself looked at.â\\x80\\x9d Heart rate irregularities If your pulse sometimes feels jumpy or too fast, it may be worth getting it checked with your doctor. Khan says: â\\x80\\x9cSmartwatches and fitness trackers can provide valuable data about your heart rate and may detect irregularities to some extent. They can help track general trends in heart rate, especially during physical activity or rest. â\\x80\\x9cHowever, they are not a substitute for medical-grade monitoring and evaluationâ\\x80¦ Any concerning symptoms should be evaluated by a healthcare professional for a comprehensive assessment and diagnosis,â\\x80\\x9d Khan adds. Don\\'t miss the latest news from around Scotland and beyond - Sign up to our daily newsletter here . Story Saved You can find this story in My Bookmarks. Or by navigating to the user icon in the top right. Follow Daily Record Facebook Twitter More On Heart disease Heart attack Lifestyle'"
      ]
     },
     "execution_count": 20,
     "metadata": {},
     "output_type": "execute_result"
    }
   ],
   "source": [
    "df['Content'][2]"
   ]
  },
  {
   "cell_type": "markdown",
   "id": "5c8c1b29",
   "metadata": {},
   "source": [
    "### Expand Contractions "
   ]
  },
  {
   "cell_type": "markdown",
   "id": "bb9716d6",
   "metadata": {},
   "source": [
    "Contractions are words or combinations of words that are shortened by dropping letters and replacing them by an apostrophe.\n",
    "we need to expand this contraction in the Content data for better analysis. \n",
    "\n",
    "For this I'm using contractions library of python."
   ]
  },
  {
   "cell_type": "code",
   "execution_count": 21,
   "id": "a2ea984f",
   "metadata": {},
   "outputs": [],
   "source": [
    "#!pip install contractions"
   ]
  },
  {
   "cell_type": "code",
   "execution_count": 22,
   "id": "6d8d5135",
   "metadata": {},
   "outputs": [],
   "source": [
    "import contractions"
   ]
  },
  {
   "cell_type": "code",
   "execution_count": 23,
   "id": "4f548905",
   "metadata": {},
   "outputs": [],
   "source": [
    "# Function to expand contractions in text\n",
    "def expand_contractions(text):\n",
    "    expanded_words = [] \n",
    "    for word in text.split():\n",
    "        expanded_words.append(contractions.fix(word))\n",
    "    expanded_text = ' '.join(expanded_words)\n",
    "    return expanded_text"
   ]
  },
  {
   "cell_type": "code",
   "execution_count": 24,
   "id": "4f2f0e67",
   "metadata": {},
   "outputs": [],
   "source": [
    "# Apply the function to the 'Content' column\n",
    "df['Content'] = df['Content'].apply(expand_contractions)"
   ]
  },
  {
   "cell_type": "code",
   "execution_count": 25,
   "id": "64895a0f",
   "metadata": {},
   "outputs": [
    {
     "data": {
      "text/plain": [
       "'Sweating, heartbeat irregularities and unusual swelling can all be subtle signs of a heart condition (Image: Getty Images) Get the latest top news stories sent straight to your inbox with our daily newsletter More Newsletters Subscribe Invalid email Something went wrong, please try again later. More Newsletters We use your sign-up to provide content in ways youâ\\x80\\x99ve consented to and improve our understanding of you. This may include adverts from us and third parties based on our knowledge of you. More info Thank you for subscribing! We have more newsletters Show me See Our Privacy Notice See Our Privacy Notice Ã\\x97 Group 28 Get the latest top news stories sent straight to your inbox with our daily newsletter Invalid email Something went wrong, please try again later. Sign Up No thanks, close We use your sign-up to provide content in ways youâ\\x80\\x99ve consented to and improve our understanding of you. This may include adverts from us and third parties based on our knowledge of you. More info Ã\\x97 Group 28 Thank you for subscribing! We have more newsletters Show Me No thanks, close See our Privacy Notice Your heart is one of your body\\'s most important organs, and so keeping it in good health should be a priority for everyone. But when there is something wrong with your heart, it can sometimes be hard to tell, as a lot of heart conditions do not present any noticeable symptoms. This means that some problems can take years to diagnose, but according to experts, you should always get checked if you are concerned about your heart health in any way - and this is why knowing the early signs is vital. Read More Related Articles Health experts share what foods are bad for your skin and how they because acne Read More Related Articles Signs of hearing loss as experts share jobs most likely to because permanent damage â\\x80\\x9cHidden heart conditions often go undiagnosed for too long, until something goes wrong or itâ\\x80\\x99s too late,â\\x80\\x9d said Sindy Jodar, senior cardiac nurse at the British Heart Foundation (BHF). \"Thatâ\\x80\\x99s why it is important to never ignore the signs of heart disease and get yourself checked , just to be sure .â\\x80\\x9d While some warning signs are easy to spot â\\x80\\x93 such as severe chest pain and collapse â\\x80\\x93 there are also many little indicators that something could be wrong with your heart or circulatory system. These wonâ\\x80\\x99t necessarily mean you have a heart problem, but itâ\\x80\\x99s always best to have them investigated. From tiredness and nausea to fainting, here are some of the less obvious symptoms everyone needs to know about. Feeling unusually tired Dr M Adil YOU Khan, a GP at Pall Mall Medical, says you should not â\\x80\\x9cignore or downplay unusual levels of tirednessâ\\x80\\x9d. While itâ\\x80\\x99s normal to feel exhausted if youâ\\x80\\x99ve been very busy or lacking sleep, he adds: â\\x80\\x9cFeeling unusually tired, especially if itâ\\x80\\x99s not related to exertion, should be investigated.â\\x80\\x9d It could be due to something like anaemia, a virus, or even linked to mental health. It could also be related to your heart, so it is important to have it investigated. Subtle discomfort â\\x80\\x9cLook out for subtle discomfort in different areas of your body, including discomfort or pain in the jaw, neck, back, or stomach, which can be associated with a heart problem,â\\x80\\x9d says Khan. If symptoms are out of the norm for you and arenâ\\x80\\x99t going away, itâ\\x80\\x99s always best to get them checked. Unusual swelling If you have noticed any unusual swelling, it may be worth getting it checked out by a doctor (Image: Getty Images) Perhaps you have noticed your ankles look particularly puffy, or maybe itâ\\x80\\x99s your general tummy area thatâ\\x80\\x99s constantly swollen for no apparent reason. â\\x80\\x9cUnexplained swelling, known as oedema, in the legs, ankles or abdomen, may also be signs of heart failure,â\\x80\\x9d explains Khan. Vomiting and a choking sensation Sudden vomiting or a choking sensation in your throat is something to be wary of too. â\\x80\\x9cWhile not every bout of nausea means there could be something serious happening, feeling sick combined with other aches and pains, such as severe chest pain, should ring an alarm bell,â\\x80\\x9d says Jodar. It could be a stomach bug, but if you are having sudden spells of vomiting and nausea more regularly and youâ\\x80\\x99re not sure why, donâ\\x80\\x99t delay in get things checked out. Top Trending Stories Today Eating one fruit found to improve eyes Drivers must tell DVLA of 10 conditions Amazon fans praise Â£5 dryer balls DVLA\\'s Â£7.50 driving licence warning Fainting If you experience sudden fainting, this is a big indicator of something being not quite right. â\\x80\\x9cIf fainting or any other symptom becomes a problem, consult a healthcare provider and schedule an appointment with a doctor or cardiologist,â\\x80\\x9d says Khan. â\\x80\\x9cDiscuss your symptoms, medical history and risk factors with them. â\\x80\\x9cYour healthcare provider will assess your vital signs and perform a physical examination. Depending on your symptoms and risk factors, you may undergo diagnostic tests like ECGs, echocardiograms, stress tests, blood tests, or more specialised cardiac assessments,â\\x80\\x9d he adds. Shortness of breath Struggling to catch your breath is not a trivial matter. â\\x80\\x9cAnyone experiencing shortness of breath during everyday activities or at rest should see their doctor,â\\x80\\x9d says Khan. This is especially the case if itâ\\x80\\x99s accompanied by chest pain â\\x80\\x93 even if it doesnâ\\x80\\x99t seem especially severe. Khan adds: â\\x80\\x9cMild chest discomfort should always be investigated, but some people mistake this for indigestion or muscular pain.â\\x80\\x9d Top Health Stories Today Eating one fruit found to improve eyes The winter vitamin the NHS recommends The most recent Covid symptoms Alzheimer\\'s linked to health problem Unusual sweating â\\x80\\x9cFeeling hot, clammy and quite sweaty when you havenâ\\x80\\x99t been doing strenuous exercise shouldnâ\\x80\\x99t be ignored,â\\x80\\x9d adds Jodar. â\\x80\\x9cIf this is combined with chest pains, itâ\\x80\\x99s important you get yourself looked at.â\\x80\\x9d Heart rate irregularities If your pulse sometimes feels jumpy or too fast, it may be worth getting it checked with your doctor. Khan says: â\\x80\\x9cSmartwatches and fitness trackers can provide valuable data about your heart rate and may detect irregularities to some extent. They can help track general trends in heart rate, especially during physical activity or rest. â\\x80\\x9cHowever, they are not a substitute for medical-grade monitoring and evaluationâ\\x80¦ Any concerning symptoms should be evaluated by a healthcare professional for a comprehensive assessment and diagnosis,â\\x80\\x9d Khan adds. Do not miss the latest news from around Scotland and beyond - Sign up to our daily newsletter here . Story Saved You can find this story in My Bookmarks. Or by navigating to the user icon in the top right. Follow Daily Record Facebook Twitter More On Heart disease Heart attack Lifestyle'"
      ]
     },
     "execution_count": 25,
     "metadata": {},
     "output_type": "execute_result"
    }
   ],
   "source": [
    "df['Content'][2]"
   ]
  },
  {
   "cell_type": "markdown",
   "id": "ec173c7d",
   "metadata": {},
   "source": [
    "###  Lower Case"
   ]
  },
  {
   "cell_type": "markdown",
   "id": "2752d47b",
   "metadata": {},
   "source": [
    "If the text is in the same case, it is easy for a machine to interpret the words because the lower case and upper case are treated differently by the machine. for example, words like Ball and ball are treated differently by machine. So, we need to make the text in the same case and the most preferred case is a lower case to avoid such problems."
   ]
  },
  {
   "cell_type": "code",
   "execution_count": 26,
   "id": "8bea121f",
   "metadata": {},
   "outputs": [],
   "source": [
    "df['Content'] = df['Content'].str.lower()"
   ]
  },
  {
   "cell_type": "code",
   "execution_count": 27,
   "id": "db9d3755",
   "metadata": {},
   "outputs": [
    {
     "data": {
      "text/plain": [
       "'sweating, heartbeat irregularities and unusual swelling can all be subtle signs of a heart condition (image: getty images) get the latest top news stories sent straight to your inbox with our daily newsletter more newsletters subscribe invalid email something went wrong, please try again later. more newsletters we use your sign-up to provide content in ways youâ\\x80\\x99ve consented to and improve our understanding of you. this may include adverts from us and third parties based on our knowledge of you. more info thank you for subscribing! we have more newsletters show me see our privacy notice see our privacy notice ã\\x97 group 28 get the latest top news stories sent straight to your inbox with our daily newsletter invalid email something went wrong, please try again later. sign up no thanks, close we use your sign-up to provide content in ways youâ\\x80\\x99ve consented to and improve our understanding of you. this may include adverts from us and third parties based on our knowledge of you. more info ã\\x97 group 28 thank you for subscribing! we have more newsletters show me no thanks, close see our privacy notice your heart is one of your body\\'s most important organs, and so keeping it in good health should be a priority for everyone. but when there is something wrong with your heart, it can sometimes be hard to tell, as a lot of heart conditions do not present any noticeable symptoms. this means that some problems can take years to diagnose, but according to experts, you should always get checked if you are concerned about your heart health in any way - and this is why knowing the early signs is vital. read more related articles health experts share what foods are bad for your skin and how they because acne read more related articles signs of hearing loss as experts share jobs most likely to because permanent damage â\\x80\\x9chidden heart conditions often go undiagnosed for too long, until something goes wrong or itâ\\x80\\x99s too late,â\\x80\\x9d said sindy jodar, senior cardiac nurse at the british heart foundation (bhf). \"thatâ\\x80\\x99s why it is important to never ignore the signs of heart disease and get yourself checked , just to be sure .â\\x80\\x9d while some warning signs are easy to spot â\\x80\\x93 such as severe chest pain and collapse â\\x80\\x93 there are also many little indicators that something could be wrong with your heart or circulatory system. these wonâ\\x80\\x99t necessarily mean you have a heart problem, but itâ\\x80\\x99s always best to have them investigated. from tiredness and nausea to fainting, here are some of the less obvious symptoms everyone needs to know about. feeling unusually tired dr m adil you khan, a gp at pall mall medical, says you should not â\\x80\\x9cignore or downplay unusual levels of tirednessâ\\x80\\x9d. while itâ\\x80\\x99s normal to feel exhausted if youâ\\x80\\x99ve been very busy or lacking sleep, he adds: â\\x80\\x9cfeeling unusually tired, especially if itâ\\x80\\x99s not related to exertion, should be investigated.â\\x80\\x9d it could be due to something like anaemia, a virus, or even linked to mental health. it could also be related to your heart, so it is important to have it investigated. subtle discomfort â\\x80\\x9clook out for subtle discomfort in different areas of your body, including discomfort or pain in the jaw, neck, back, or stomach, which can be associated with a heart problem,â\\x80\\x9d says khan. if symptoms are out of the norm for you and arenâ\\x80\\x99t going away, itâ\\x80\\x99s always best to get them checked. unusual swelling if you have noticed any unusual swelling, it may be worth getting it checked out by a doctor (image: getty images) perhaps you have noticed your ankles look particularly puffy, or maybe itâ\\x80\\x99s your general tummy area thatâ\\x80\\x99s constantly swollen for no apparent reason. â\\x80\\x9cunexplained swelling, known as oedema, in the legs, ankles or abdomen, may also be signs of heart failure,â\\x80\\x9d explains khan. vomiting and a choking sensation sudden vomiting or a choking sensation in your throat is something to be wary of too. â\\x80\\x9cwhile not every bout of nausea means there could be something serious happening, feeling sick combined with other aches and pains, such as severe chest pain, should ring an alarm bell,â\\x80\\x9d says jodar. it could be a stomach bug, but if you are having sudden spells of vomiting and nausea more regularly and youâ\\x80\\x99re not sure why, donâ\\x80\\x99t delay in get things checked out. top trending stories today eating one fruit found to improve eyes drivers must tell dvla of 10 conditions amazon fans praise â£5 dryer balls dvla\\'s â£7.50 driving licence warning fainting if you experience sudden fainting, this is a big indicator of something being not quite right. â\\x80\\x9cif fainting or any other symptom becomes a problem, consult a healthcare provider and schedule an appointment with a doctor or cardiologist,â\\x80\\x9d says khan. â\\x80\\x9cdiscuss your symptoms, medical history and risk factors with them. â\\x80\\x9cyour healthcare provider will assess your vital signs and perform a physical examination. depending on your symptoms and risk factors, you may undergo diagnostic tests like ecgs, echocardiograms, stress tests, blood tests, or more specialised cardiac assessments,â\\x80\\x9d he adds. shortness of breath struggling to catch your breath is not a trivial matter. â\\x80\\x9canyone experiencing shortness of breath during everyday activities or at rest should see their doctor,â\\x80\\x9d says khan. this is especially the case if itâ\\x80\\x99s accompanied by chest pain â\\x80\\x93 even if it doesnâ\\x80\\x99t seem especially severe. khan adds: â\\x80\\x9cmild chest discomfort should always be investigated, but some people mistake this for indigestion or muscular pain.â\\x80\\x9d top health stories today eating one fruit found to improve eyes the winter vitamin the nhs recommends the most recent covid symptoms alzheimer\\'s linked to health problem unusual sweating â\\x80\\x9cfeeling hot, clammy and quite sweaty when you havenâ\\x80\\x99t been doing strenuous exercise shouldnâ\\x80\\x99t be ignored,â\\x80\\x9d adds jodar. â\\x80\\x9cif this is combined with chest pains, itâ\\x80\\x99s important you get yourself looked at.â\\x80\\x9d heart rate irregularities if your pulse sometimes feels jumpy or too fast, it may be worth getting it checked with your doctor. khan says: â\\x80\\x9csmartwatches and fitness trackers can provide valuable data about your heart rate and may detect irregularities to some extent. they can help track general trends in heart rate, especially during physical activity or rest. â\\x80\\x9chowever, they are not a substitute for medical-grade monitoring and evaluationâ\\x80¦ any concerning symptoms should be evaluated by a healthcare professional for a comprehensive assessment and diagnosis,â\\x80\\x9d khan adds. do not miss the latest news from around scotland and beyond - sign up to our daily newsletter here . story saved you can find this story in my bookmarks. or by navigating to the user icon in the top right. follow daily record facebook twitter more on heart disease heart attack lifestyle'"
      ]
     },
     "execution_count": 27,
     "metadata": {},
     "output_type": "execute_result"
    }
   ],
   "source": [
    "df['Content'][2]"
   ]
  },
  {
   "cell_type": "markdown",
   "id": "b2c16e39",
   "metadata": {},
   "source": [
    "### Remove Punctuations and Special Characters"
   ]
  },
  {
   "cell_type": "markdown",
   "id": "315d8d79",
   "metadata": {},
   "source": [
    "One of the other text processing techniques is removing punctuations. we are using regular expressions module to clean the text. "
   ]
  },
  {
   "cell_type": "code",
   "execution_count": 28,
   "id": "cb77e8b6",
   "metadata": {},
   "outputs": [],
   "source": [
    "import re\n",
    "\n",
    "def remove_punctuation(text):\n",
    "    # Convert to string if not already\n",
    "    if not isinstance(text, str):\n",
    "        text = str(text)\n",
    "    \n",
    "    # Use regular expressions to remove punctuation and special characters\n",
    "    cleaned_text = re.sub(r'[^\\w\\s]', '', text)\n",
    "    \n",
    "    return cleaned_text\n"
   ]
  },
  {
   "cell_type": "code",
   "execution_count": 29,
   "id": "c21e9b14",
   "metadata": {},
   "outputs": [],
   "source": [
    "df['Content'] = df['Content'].apply(remove_punctuation)"
   ]
  },
  {
   "cell_type": "code",
   "execution_count": 30,
   "id": "10813c66",
   "metadata": {},
   "outputs": [
    {
     "data": {
      "text/plain": [
       "'erin mcnaught goes instagram official with her new music producer boyfriend stace cadet following split from rapper example by ali daher for daily mail australia published 0130 edt 8 october 2023  updated 0403 edt 8 october 2023 email 14 shares view comments erin mcnaught was recently spotted looking loved up with her new music producer boyfriend stasi stace cadet kotaras and on sunday the model took the next step in their relationship by going instagram official sharing a gallery of lovedup photos with her 183k followers erin was ready to show off her beau our recent adventures qtmagnetic island she captioned the post in one photo the couple are seen smiling while standing in the snow after going on ski trip to queenstown new zealand  model erin mcnaught 41 left went instagram official with her new music producer boyfriend stasi stace cadet kotaras right on sunday  following her shock split from rapper example sharing a gallery of lovedup photos with her 183k followers erin was ready to show off her beau another photo shows erin squished between two rocks wearing a crop top and a denim skirt while on holiday in magnetic island the pair have not made any formal announcement of their relationship but last month shared a number of flirty exchanges on instagram last little chunk of life it is been good to me mcnaught captioned a slew of photos with a love heart emoji our recent adventures qtmagnetic island she captioned the post yes it has stace cadet replied with a wink and two heart emojis the motheroftwo left a fire and heart emoji on his post about doing a little mix for the legends at triple j erin and her exhusband rapper example real name elliot gleave announced their split in october last year another photo shows erin squished between two rocks wearing a crop top and a denim skirt while on holiday in magnetic island the alist couple were married from 2013 to 2022 the performer is now seeing art advisor daisy cox who has relocated to australia to be with him example wrote that their romance came to a natural end after 11 years together and said that he and erin will still be happily coparenting their sons evander aged seven and ennio aged five in a joint instagram statement the couple explained at the start of the uk summer we decided to separate we have had an amazing 11 years together but just a few too many adventures erin and her exhusband rapper example real name elliot gleave left announced their split in october last year the pair were married from 2013 to 2022 obviously we spent a lot of time behind the scenes trying to figure things out but we came to the realisation that perhaps our time as a couple had just come to a natural end so we have decided to go our separate ways whilst there is still an abundance of love and respect for one another we have been coparenting happily and effectively now for almost half a year and our boys are surrounded with love continuing his statement he penned due to elliots busy summer schedule over 14 weeks in europe erin and the boys flew to london for 4 weeks so elliot would not have to go months without seeing evander and ennio we had an amazing family holiday and look forward to more in the future we have had incredible support from our closest friends and family who are proud of how are handling this separation we have turned off commenting to protect ourselves our children and closest friends and family please do not feel the need to text or dm us whoever you are example and erin are continuing to coparent their sons evander aged seven and ennio aged five pictured in 2021 share or comment on this article erin mcnaught goes instagram official with her new music producer boyfriend stace cadet following split from rapper example email 14 shares add comment'"
      ]
     },
     "execution_count": 30,
     "metadata": {},
     "output_type": "execute_result"
    }
   ],
   "source": [
    "df['Content'][0]"
   ]
  },
  {
   "cell_type": "markdown",
   "id": "afad233f",
   "metadata": {},
   "source": [
    "### Remove words and digits containing digits"
   ]
  },
  {
   "cell_type": "markdown",
   "id": "7ce63578",
   "metadata": {},
   "source": [
    "Sometimes it happens that words and digits combine are written in the text which creates a problem for machines to understand. hence, We need to remove the words and digits which are combined like game57 or game5ts7. This type of word is difficult to process so better to remove them or replace them with an empty string."
   ]
  },
  {
   "cell_type": "code",
   "execution_count": 31,
   "id": "6c7090f7",
   "metadata": {},
   "outputs": [],
   "source": [
    "import nltk"
   ]
  },
  {
   "cell_type": "code",
   "execution_count": 32,
   "id": "be9b8a19",
   "metadata": {},
   "outputs": [],
   "source": [
    "from nltk.tokenize import word_tokenize"
   ]
  },
  {
   "cell_type": "code",
   "execution_count": 33,
   "id": "cfe63e62",
   "metadata": {},
   "outputs": [],
   "source": [
    "# Function to remove digits from content\n",
    "def remove_digits(text):\n",
    "    words = word_tokenize(text)\n",
    "    filtered_words = [word for word in words if not any(char.isdigit() for char in word)]\n",
    "    cleaned_text = ' '.join(filtered_words)\n",
    "    return cleaned_text"
   ]
  },
  {
   "cell_type": "code",
   "execution_count": 34,
   "id": "14eb7930",
   "metadata": {},
   "outputs": [],
   "source": [
    "# Apply the remove_digits function to the 'Content' column\n",
    "df['Content'] = df['Content'].apply(remove_digits)"
   ]
  },
  {
   "cell_type": "code",
   "execution_count": 35,
   "id": "bf4bc3dc",
   "metadata": {},
   "outputs": [
    {
     "data": {
      "text/plain": [
       "'erin mcnaught goes instagram official with her new music producer boyfriend stace cadet following split from rapper example by ali daher for daily mail australia published edt october updated edt october email shares view comments erin mcnaught was recently spotted looking loved up with her new music producer boyfriend stasi stace cadet kotaras and on sunday the model took the next step in their relationship by going instagram official sharing a gallery of lovedup photos with her followers erin was ready to show off her beau our recent adventures qtmagnetic island she captioned the post in one photo the couple are seen smiling while standing in the snow after going on ski trip to queenstown new zealand model erin mcnaught left went instagram official with her new music producer boyfriend stasi stace cadet kotaras right on sunday following her shock split from rapper example sharing a gallery of lovedup photos with her followers erin was ready to show off her beau another photo shows erin squished between two rocks wearing a crop top and a denim skirt while on holiday in magnetic island the pair have not made any formal announcement of their relationship but last month shared a number of flirty exchanges on instagram last little chunk of life it is been good to me mcnaught captioned a slew of photos with a love heart emoji our recent adventures qtmagnetic island she captioned the post yes it has stace cadet replied with a wink and two heart emojis the motheroftwo left a fire and heart emoji on his post about doing a little mix for the legends at triple j erin and her exhusband rapper example real name elliot gleave announced their split in october last year another photo shows erin squished between two rocks wearing a crop top and a denim skirt while on holiday in magnetic island the alist couple were married from to the performer is now seeing art advisor daisy cox who has relocated to australia to be with him example wrote that their romance came to a natural end after years together and said that he and erin will still be happily coparenting their sons evander aged seven and ennio aged five in a joint instagram statement the couple explained at the start of the uk summer we decided to separate we have had an amazing years together but just a few too many adventures erin and her exhusband rapper example real name elliot gleave left announced their split in october last year the pair were married from to obviously we spent a lot of time behind the scenes trying to figure things out but we came to the realisation that perhaps our time as a couple had just come to a natural end so we have decided to go our separate ways whilst there is still an abundance of love and respect for one another we have been coparenting happily and effectively now for almost half a year and our boys are surrounded with love continuing his statement he penned due to elliots busy summer schedule over weeks in europe erin and the boys flew to london for weeks so elliot would not have to go months without seeing evander and ennio we had an amazing family holiday and look forward to more in the future we have had incredible support from our closest friends and family who are proud of how are handling this separation we have turned off commenting to protect ourselves our children and closest friends and family please do not feel the need to text or dm us whoever you are example and erin are continuing to coparent their sons evander aged seven and ennio aged five pictured in share or comment on this article erin mcnaught goes instagram official with her new music producer boyfriend stace cadet following split from rapper example email shares add comment'"
      ]
     },
     "execution_count": 35,
     "metadata": {},
     "output_type": "execute_result"
    }
   ],
   "source": [
    "df['Content'][0]"
   ]
  },
  {
   "cell_type": "markdown",
   "id": "4d30e520",
   "metadata": {},
   "source": [
    "### Remove Stopwords"
   ]
  },
  {
   "cell_type": "markdown",
   "id": "1590b2ec",
   "metadata": {},
   "source": [
    "Stopwords are the most commonly occurring words in a text which do not provide any valuable information. stopwords like they, there, this, where, etc are some of the stopwords. NLTK library is a common library that is used to remove stopwords and include approximately 180 stopwords which it removes. "
   ]
  },
  {
   "cell_type": "code",
   "execution_count": 36,
   "id": "5ecbf29f",
   "metadata": {},
   "outputs": [
    {
     "name": "stderr",
     "output_type": "stream",
     "text": [
      "[nltk_data] Downloading package stopwords to\n",
      "[nltk_data]     C:\\Users\\user\\AppData\\Roaming\\nltk_data...\n",
      "[nltk_data]   Package stopwords is already up-to-date!\n",
      "[nltk_data] Downloading package punkt to\n",
      "[nltk_data]     C:\\Users\\user\\AppData\\Roaming\\nltk_data...\n",
      "[nltk_data]   Package punkt is already up-to-date!\n"
     ]
    },
    {
     "data": {
      "text/plain": [
       "True"
      ]
     },
     "execution_count": 36,
     "metadata": {},
     "output_type": "execute_result"
    }
   ],
   "source": [
    "nltk.download('stopwords')\n",
    "nltk.download('punkt')"
   ]
  },
  {
   "cell_type": "code",
   "execution_count": 37,
   "id": "56177b78",
   "metadata": {},
   "outputs": [
    {
     "data": {
      "text/plain": [
       "['i',\n",
       " 'me',\n",
       " 'my',\n",
       " 'myself',\n",
       " 'we',\n",
       " 'our',\n",
       " 'ours',\n",
       " 'ourselves',\n",
       " 'you',\n",
       " \"you're\",\n",
       " \"you've\",\n",
       " \"you'll\",\n",
       " \"you'd\",\n",
       " 'your',\n",
       " 'yours',\n",
       " 'yourself',\n",
       " 'yourselves',\n",
       " 'he',\n",
       " 'him',\n",
       " 'his',\n",
       " 'himself',\n",
       " 'she',\n",
       " \"she's\",\n",
       " 'her',\n",
       " 'hers',\n",
       " 'herself',\n",
       " 'it',\n",
       " \"it's\",\n",
       " 'its',\n",
       " 'itself',\n",
       " 'they',\n",
       " 'them',\n",
       " 'their',\n",
       " 'theirs',\n",
       " 'themselves',\n",
       " 'what',\n",
       " 'which',\n",
       " 'who',\n",
       " 'whom',\n",
       " 'this',\n",
       " 'that',\n",
       " \"that'll\",\n",
       " 'these',\n",
       " 'those',\n",
       " 'am',\n",
       " 'is',\n",
       " 'are',\n",
       " 'was',\n",
       " 'were',\n",
       " 'be',\n",
       " 'been',\n",
       " 'being',\n",
       " 'have',\n",
       " 'has',\n",
       " 'had',\n",
       " 'having',\n",
       " 'do',\n",
       " 'does',\n",
       " 'did',\n",
       " 'doing',\n",
       " 'a',\n",
       " 'an',\n",
       " 'the',\n",
       " 'and',\n",
       " 'but',\n",
       " 'if',\n",
       " 'or',\n",
       " 'because',\n",
       " 'as',\n",
       " 'until',\n",
       " 'while',\n",
       " 'of',\n",
       " 'at',\n",
       " 'by',\n",
       " 'for',\n",
       " 'with',\n",
       " 'about',\n",
       " 'against',\n",
       " 'between',\n",
       " 'into',\n",
       " 'through',\n",
       " 'during',\n",
       " 'before',\n",
       " 'after',\n",
       " 'above',\n",
       " 'below',\n",
       " 'to',\n",
       " 'from',\n",
       " 'up',\n",
       " 'down',\n",
       " 'in',\n",
       " 'out',\n",
       " 'on',\n",
       " 'off',\n",
       " 'over',\n",
       " 'under',\n",
       " 'again',\n",
       " 'further',\n",
       " 'then',\n",
       " 'once',\n",
       " 'here',\n",
       " 'there',\n",
       " 'when',\n",
       " 'where',\n",
       " 'why',\n",
       " 'how',\n",
       " 'all',\n",
       " 'any',\n",
       " 'both',\n",
       " 'each',\n",
       " 'few',\n",
       " 'more',\n",
       " 'most',\n",
       " 'other',\n",
       " 'some',\n",
       " 'such',\n",
       " 'no',\n",
       " 'nor',\n",
       " 'not',\n",
       " 'only',\n",
       " 'own',\n",
       " 'same',\n",
       " 'so',\n",
       " 'than',\n",
       " 'too',\n",
       " 'very',\n",
       " 's',\n",
       " 't',\n",
       " 'can',\n",
       " 'will',\n",
       " 'just',\n",
       " 'don',\n",
       " \"don't\",\n",
       " 'should',\n",
       " \"should've\",\n",
       " 'now',\n",
       " 'd',\n",
       " 'll',\n",
       " 'm',\n",
       " 'o',\n",
       " 're',\n",
       " 've',\n",
       " 'y',\n",
       " 'ain',\n",
       " 'aren',\n",
       " \"aren't\",\n",
       " 'couldn',\n",
       " \"couldn't\",\n",
       " 'didn',\n",
       " \"didn't\",\n",
       " 'doesn',\n",
       " \"doesn't\",\n",
       " 'hadn',\n",
       " \"hadn't\",\n",
       " 'hasn',\n",
       " \"hasn't\",\n",
       " 'haven',\n",
       " \"haven't\",\n",
       " 'isn',\n",
       " \"isn't\",\n",
       " 'ma',\n",
       " 'mightn',\n",
       " \"mightn't\",\n",
       " 'mustn',\n",
       " \"mustn't\",\n",
       " 'needn',\n",
       " \"needn't\",\n",
       " 'shan',\n",
       " \"shan't\",\n",
       " 'shouldn',\n",
       " \"shouldn't\",\n",
       " 'wasn',\n",
       " \"wasn't\",\n",
       " 'weren',\n",
       " \"weren't\",\n",
       " 'won',\n",
       " \"won't\",\n",
       " 'wouldn',\n",
       " \"wouldn't\"]"
      ]
     },
     "execution_count": 37,
     "metadata": {},
     "output_type": "execute_result"
    }
   ],
   "source": [
    "from nltk.corpus import stopwords\n",
    "stopwords.words('english')"
   ]
  },
  {
   "cell_type": "code",
   "execution_count": 38,
   "id": "d0456f2c",
   "metadata": {},
   "outputs": [],
   "source": [
    "# Function to remove stopwords without changing case\n",
    "def remove_stopwords(text):\n",
    "    stop_words = set(stopwords.words('english'))\n",
    "    words = word_tokenize(text)\n",
    "    filtered_words = [word for word in words if word not in stop_words]\n",
    "    cleaned_text = ' '.join(filtered_words)\n",
    "    return cleaned_text"
   ]
  },
  {
   "cell_type": "code",
   "execution_count": 39,
   "id": "7f5e594d",
   "metadata": {},
   "outputs": [],
   "source": [
    "# Apply the function to the 'Content' column\n",
    "df['Content'] = df['Content'].apply(remove_stopwords)"
   ]
  },
  {
   "cell_type": "code",
   "execution_count": 40,
   "id": "c1ed6f52",
   "metadata": {},
   "outputs": [
    {
     "data": {
      "text/plain": [
       "'erin mcnaught goes instagram official new music producer boyfriend stace cadet following split rapper example ali daher daily mail australia published edt october updated edt october email shares view comments erin mcnaught recently spotted looking loved new music producer boyfriend stasi stace cadet kotaras sunday model took next step relationship going instagram official sharing gallery lovedup photos followers erin ready show beau recent adventures qtmagnetic island captioned post one photo couple seen smiling standing snow going ski trip queenstown new zealand model erin mcnaught left went instagram official new music producer boyfriend stasi stace cadet kotaras right sunday following shock split rapper example sharing gallery lovedup photos followers erin ready show beau another photo shows erin squished two rocks wearing crop top denim skirt holiday magnetic island pair made formal announcement relationship last month shared number flirty exchanges instagram last little chunk life good mcnaught captioned slew photos love heart emoji recent adventures qtmagnetic island captioned post yes stace cadet replied wink two heart emojis motheroftwo left fire heart emoji post little mix legends triple j erin exhusband rapper example real name elliot gleave announced split october last year another photo shows erin squished two rocks wearing crop top denim skirt holiday magnetic island alist couple married performer seeing art advisor daisy cox relocated australia example wrote romance came natural end years together said erin still happily coparenting sons evander aged seven ennio aged five joint instagram statement couple explained start uk summer decided separate amazing years together many adventures erin exhusband rapper example real name elliot gleave left announced split october last year pair married obviously spent lot time behind scenes trying figure things came realisation perhaps time couple come natural end decided go separate ways whilst still abundance love respect one another coparenting happily effectively almost half year boys surrounded love continuing statement penned due elliots busy summer schedule weeks europe erin boys flew london weeks elliot would go months without seeing evander ennio amazing family holiday look forward future incredible support closest friends family proud handling separation turned commenting protect children closest friends family please feel need text dm us whoever example erin continuing coparent sons evander aged seven ennio aged five pictured share comment article erin mcnaught goes instagram official new music producer boyfriend stace cadet following split rapper example email shares add comment'"
      ]
     },
     "execution_count": 40,
     "metadata": {},
     "output_type": "execute_result"
    }
   ],
   "source": [
    "df['Content'][0]"
   ]
  },
  {
   "cell_type": "markdown",
   "id": "276dae0b",
   "metadata": {},
   "source": [
    "### Lemmatization"
   ]
  },
  {
   "cell_type": "markdown",
   "id": "344a0fe8",
   "metadata": {},
   "source": [
    "Lemmatization is similar to stemming, used to stem the words into root word but differs in working. Actually, Lemmatization is a systematic way to reduce the words into their lemma by matching them with a language dictionary."
   ]
  },
  {
   "cell_type": "code",
   "execution_count": 41,
   "id": "41daea2e",
   "metadata": {},
   "outputs": [],
   "source": [
    "from nltk.stem import WordNetLemmatizer"
   ]
  },
  {
   "cell_type": "code",
   "execution_count": 42,
   "id": "2e330789",
   "metadata": {},
   "outputs": [
    {
     "name": "stderr",
     "output_type": "stream",
     "text": [
      "[nltk_data] Downloading package wordnet to\n",
      "[nltk_data]     C:\\Users\\user\\AppData\\Roaming\\nltk_data...\n",
      "[nltk_data]   Package wordnet is already up-to-date!\n"
     ]
    },
    {
     "data": {
      "text/plain": [
       "True"
      ]
     },
     "execution_count": 42,
     "metadata": {},
     "output_type": "execute_result"
    }
   ],
   "source": [
    "nltk.download('wordnet')"
   ]
  },
  {
   "cell_type": "code",
   "execution_count": 43,
   "id": "6ebb65dd",
   "metadata": {},
   "outputs": [],
   "source": [
    "# Create a WordNet lemmatizer\n",
    "lemmatizer = WordNetLemmatizer()"
   ]
  },
  {
   "cell_type": "code",
   "execution_count": 44,
   "id": "78e09238",
   "metadata": {},
   "outputs": [],
   "source": [
    "# Define a function to lemmatize text\n",
    "def lemmatize_text(text):\n",
    "    tokens = word_tokenize(text)\n",
    "    lemmatized_tokens = [lemmatizer.lemmatize(token) for token in tokens]\n",
    "    return ' '.join(lemmatized_tokens)"
   ]
  },
  {
   "cell_type": "code",
   "execution_count": 45,
   "id": "85f0c5ad",
   "metadata": {},
   "outputs": [],
   "source": [
    "# Apply lemmatization to the 'Content'\n",
    "df['Content'] = df['Content'].apply(lemmatize_text)"
   ]
  },
  {
   "cell_type": "code",
   "execution_count": 46,
   "id": "f2b59e77",
   "metadata": {},
   "outputs": [
    {
     "data": {
      "text/plain": [
       "'erin mcnaught go instagram official new music producer boyfriend stace cadet following split rapper example ali daher daily mail australia published edt october updated edt october email share view comment erin mcnaught recently spotted looking loved new music producer boyfriend stasi stace cadet kotaras sunday model took next step relationship going instagram official sharing gallery lovedup photo follower erin ready show beau recent adventure qtmagnetic island captioned post one photo couple seen smiling standing snow going ski trip queenstown new zealand model erin mcnaught left went instagram official new music producer boyfriend stasi stace cadet kotaras right sunday following shock split rapper example sharing gallery lovedup photo follower erin ready show beau another photo show erin squished two rock wearing crop top denim skirt holiday magnetic island pair made formal announcement relationship last month shared number flirty exchange instagram last little chunk life good mcnaught captioned slew photo love heart emoji recent adventure qtmagnetic island captioned post yes stace cadet replied wink two heart emojis motheroftwo left fire heart emoji post little mix legend triple j erin exhusband rapper example real name elliot gleave announced split october last year another photo show erin squished two rock wearing crop top denim skirt holiday magnetic island alist couple married performer seeing art advisor daisy cox relocated australia example wrote romance came natural end year together said erin still happily coparenting son evander aged seven ennio aged five joint instagram statement couple explained start uk summer decided separate amazing year together many adventure erin exhusband rapper example real name elliot gleave left announced split october last year pair married obviously spent lot time behind scene trying figure thing came realisation perhaps time couple come natural end decided go separate way whilst still abundance love respect one another coparenting happily effectively almost half year boy surrounded love continuing statement penned due elliots busy summer schedule week europe erin boy flew london week elliot would go month without seeing evander ennio amazing family holiday look forward future incredible support closest friend family proud handling separation turned commenting protect child closest friend family please feel need text dm u whoever example erin continuing coparent son evander aged seven ennio aged five pictured share comment article erin mcnaught go instagram official new music producer boyfriend stace cadet following split rapper example email share add comment'"
      ]
     },
     "execution_count": 46,
     "metadata": {},
     "output_type": "execute_result"
    }
   ],
   "source": [
    "df['Content'][0]"
   ]
  },
  {
   "cell_type": "markdown",
   "id": "530a2ff1",
   "metadata": {},
   "source": [
    "### Remove Extra Spaces"
   ]
  },
  {
   "cell_type": "markdown",
   "id": "622d9158",
   "metadata": {},
   "source": [
    "Most of the time text data contain extra spaces or while performing the above preprocessing techniques more than one space is left between the text so we need to control this problem. regular expression library performs well to solve this problem."
   ]
  },
  {
   "cell_type": "code",
   "execution_count": 47,
   "id": "8562c8d7",
   "metadata": {},
   "outputs": [],
   "source": [
    "def remove_extra_spaces(text):\n",
    "    return re.sub(r'\\s+', ' ', text.strip())"
   ]
  },
  {
   "cell_type": "code",
   "execution_count": 48,
   "id": "aff60caf",
   "metadata": {},
   "outputs": [],
   "source": [
    "df['Content'] = df['Content'].apply(remove_extra_spaces)"
   ]
  },
  {
   "cell_type": "code",
   "execution_count": 49,
   "id": "058d77ae",
   "metadata": {},
   "outputs": [
    {
     "data": {
      "text/plain": [
       "'erin mcnaught go instagram official new music producer boyfriend stace cadet following split rapper example ali daher daily mail australia published edt october updated edt october email share view comment erin mcnaught recently spotted looking loved new music producer boyfriend stasi stace cadet kotaras sunday model took next step relationship going instagram official sharing gallery lovedup photo follower erin ready show beau recent adventure qtmagnetic island captioned post one photo couple seen smiling standing snow going ski trip queenstown new zealand model erin mcnaught left went instagram official new music producer boyfriend stasi stace cadet kotaras right sunday following shock split rapper example sharing gallery lovedup photo follower erin ready show beau another photo show erin squished two rock wearing crop top denim skirt holiday magnetic island pair made formal announcement relationship last month shared number flirty exchange instagram last little chunk life good mcnaught captioned slew photo love heart emoji recent adventure qtmagnetic island captioned post yes stace cadet replied wink two heart emojis motheroftwo left fire heart emoji post little mix legend triple j erin exhusband rapper example real name elliot gleave announced split october last year another photo show erin squished two rock wearing crop top denim skirt holiday magnetic island alist couple married performer seeing art advisor daisy cox relocated australia example wrote romance came natural end year together said erin still happily coparenting son evander aged seven ennio aged five joint instagram statement couple explained start uk summer decided separate amazing year together many adventure erin exhusband rapper example real name elliot gleave left announced split october last year pair married obviously spent lot time behind scene trying figure thing came realisation perhaps time couple come natural end decided go separate way whilst still abundance love respect one another coparenting happily effectively almost half year boy surrounded love continuing statement penned due elliots busy summer schedule week europe erin boy flew london week elliot would go month without seeing evander ennio amazing family holiday look forward future incredible support closest friend family proud handling separation turned commenting protect child closest friend family please feel need text dm u whoever example erin continuing coparent son evander aged seven ennio aged five pictured share comment article erin mcnaught go instagram official new music producer boyfriend stace cadet following split rapper example email share add comment'"
      ]
     },
     "execution_count": 49,
     "metadata": {},
     "output_type": "execute_result"
    }
   ],
   "source": [
    "df['Content'][0]"
   ]
  },
  {
   "cell_type": "code",
   "execution_count": 50,
   "id": "3a5a04fd",
   "metadata": {},
   "outputs": [],
   "source": [
    "# Function to tokenize and count words\n",
    "def count_words(text):\n",
    "    words = nltk.word_tokenize(text)\n",
    "    return len(words)"
   ]
  },
  {
   "cell_type": "code",
   "execution_count": 51,
   "id": "47ea6fe2",
   "metadata": {},
   "outputs": [],
   "source": [
    "# Apply the function to the 'Content' column\n",
    "df['WordCount'] = df['Content'].apply(count_words)"
   ]
  },
  {
   "cell_type": "code",
   "execution_count": 52,
   "id": "df0bd997",
   "metadata": {},
   "outputs": [
    {
     "data": {
      "text/html": [
       "<div>\n",
       "<style scoped>\n",
       "    .dataframe tbody tr th:only-of-type {\n",
       "        vertical-align: middle;\n",
       "    }\n",
       "\n",
       "    .dataframe tbody tr th {\n",
       "        vertical-align: top;\n",
       "    }\n",
       "\n",
       "    .dataframe thead th {\n",
       "        text-align: right;\n",
       "    }\n",
       "</style>\n",
       "<table border=\"1\" class=\"dataframe\">\n",
       "  <thead>\n",
       "    <tr style=\"text-align: right;\">\n",
       "      <th></th>\n",
       "      <th>Content</th>\n",
       "      <th>WordCount</th>\n",
       "    </tr>\n",
       "  </thead>\n",
       "  <tbody>\n",
       "    <tr>\n",
       "      <th>0</th>\n",
       "      <td>erin mcnaught go instagram official new music ...</td>\n",
       "      <td>388</td>\n",
       "    </tr>\n",
       "    <tr>\n",
       "      <th>1</th>\n",
       "      <td>married first sight uk brad kicked show exhibi...</td>\n",
       "      <td>1309</td>\n",
       "    </tr>\n",
       "    <tr>\n",
       "      <th>2</th>\n",
       "      <td>sweating heartbeat irregularity unusual swelli...</td>\n",
       "      <td>663</td>\n",
       "    </tr>\n",
       "    <tr>\n",
       "      <th>3</th>\n",
       "      <td>planning get breast augmentation done need kno...</td>\n",
       "      <td>272</td>\n",
       "    </tr>\n",
       "    <tr>\n",
       "      <th>4</th>\n",
       "      <td>bos north east holiday company parkdean resort...</td>\n",
       "      <td>379</td>\n",
       "    </tr>\n",
       "    <tr>\n",
       "      <th>5</th>\n",
       "      <td>view video please enable javascript consider u...</td>\n",
       "      <td>359</td>\n",
       "    </tr>\n",
       "    <tr>\n",
       "      <th>6</th>\n",
       "      <td>rakul preet singhs diet secret toned body must...</td>\n",
       "      <td>40</td>\n",
       "    </tr>\n",
       "    <tr>\n",
       "      <th>7</th>\n",
       "      <td>video loading video unavailable click play tap...</td>\n",
       "      <td>567</td>\n",
       "    </tr>\n",
       "    <tr>\n",
       "      <th>8</th>\n",
       "      <td>e year concept marriage becomes subject debate...</td>\n",
       "      <td>477</td>\n",
       "    </tr>\n",
       "    <tr>\n",
       "      <th>9</th>\n",
       "      <td>rhea chakraborty reacted samantha ruth prabhu ...</td>\n",
       "      <td>317</td>\n",
       "    </tr>\n",
       "  </tbody>\n",
       "</table>\n",
       "</div>"
      ],
      "text/plain": [
       "                                             Content  WordCount\n",
       "0  erin mcnaught go instagram official new music ...        388\n",
       "1  married first sight uk brad kicked show exhibi...       1309\n",
       "2  sweating heartbeat irregularity unusual swelli...        663\n",
       "3  planning get breast augmentation done need kno...        272\n",
       "4  bos north east holiday company parkdean resort...        379\n",
       "5  view video please enable javascript consider u...        359\n",
       "6  rakul preet singhs diet secret toned body must...         40\n",
       "7  video loading video unavailable click play tap...        567\n",
       "8  e year concept marriage becomes subject debate...        477\n",
       "9  rhea chakraborty reacted samantha ruth prabhu ...        317"
      ]
     },
     "execution_count": 52,
     "metadata": {},
     "output_type": "execute_result"
    }
   ],
   "source": [
    "df.head(10)"
   ]
  },
  {
   "cell_type": "code",
   "execution_count": 53,
   "id": "6416df0d",
   "metadata": {},
   "outputs": [
    {
     "data": {
      "text/plain": [
       "'rakul preet singhs diet secret toned body must try rakul preet singh known interesting choice film like runway doctor g chhatriwali actress winning heart beauty fantastic physique swears yoga flexibility mental wellbeing diet watch video know complete meal plan like'"
      ]
     },
     "execution_count": 53,
     "metadata": {},
     "output_type": "execute_result"
    }
   ],
   "source": [
    "df['Content'][6]"
   ]
  },
  {
   "cell_type": "code",
   "execution_count": 54,
   "id": "f8a1abe6",
   "metadata": {},
   "outputs": [
    {
     "data": {
      "text/html": [
       "<div>\n",
       "<style scoped>\n",
       "    .dataframe tbody tr th:only-of-type {\n",
       "        vertical-align: middle;\n",
       "    }\n",
       "\n",
       "    .dataframe tbody tr th {\n",
       "        vertical-align: top;\n",
       "    }\n",
       "\n",
       "    .dataframe thead th {\n",
       "        text-align: right;\n",
       "    }\n",
       "</style>\n",
       "<table border=\"1\" class=\"dataframe\">\n",
       "  <thead>\n",
       "    <tr style=\"text-align: right;\">\n",
       "      <th></th>\n",
       "      <th>WordCount</th>\n",
       "    </tr>\n",
       "  </thead>\n",
       "  <tbody>\n",
       "    <tr>\n",
       "      <th>count</th>\n",
       "      <td>8899.000000</td>\n",
       "    </tr>\n",
       "    <tr>\n",
       "      <th>mean</th>\n",
       "      <td>339.050455</td>\n",
       "    </tr>\n",
       "    <tr>\n",
       "      <th>std</th>\n",
       "      <td>274.221629</td>\n",
       "    </tr>\n",
       "    <tr>\n",
       "      <th>min</th>\n",
       "      <td>0.000000</td>\n",
       "    </tr>\n",
       "    <tr>\n",
       "      <th>25%</th>\n",
       "      <td>180.000000</td>\n",
       "    </tr>\n",
       "    <tr>\n",
       "      <th>50%</th>\n",
       "      <td>276.000000</td>\n",
       "    </tr>\n",
       "    <tr>\n",
       "      <th>75%</th>\n",
       "      <td>424.000000</td>\n",
       "    </tr>\n",
       "    <tr>\n",
       "      <th>max</th>\n",
       "      <td>3524.000000</td>\n",
       "    </tr>\n",
       "  </tbody>\n",
       "</table>\n",
       "</div>"
      ],
      "text/plain": [
       "         WordCount\n",
       "count  8899.000000\n",
       "mean    339.050455\n",
       "std     274.221629\n",
       "min       0.000000\n",
       "25%     180.000000\n",
       "50%     276.000000\n",
       "75%     424.000000\n",
       "max    3524.000000"
      ]
     },
     "execution_count": 54,
     "metadata": {},
     "output_type": "execute_result"
    }
   ],
   "source": [
    "df.describe()"
   ]
  },
  {
   "cell_type": "code",
   "execution_count": 55,
   "id": "4479598f",
   "metadata": {},
   "outputs": [
    {
     "name": "stdout",
     "output_type": "stream",
     "text": [
      "<class 'pandas.core.frame.DataFrame'>\n",
      "Int64Index: 8899 entries, 0 to 10665\n",
      "Data columns (total 2 columns):\n",
      " #   Column     Non-Null Count  Dtype \n",
      "---  ------     --------------  ----- \n",
      " 0   Content    8899 non-null   object\n",
      " 1   WordCount  8899 non-null   int64 \n",
      "dtypes: int64(1), object(1)\n",
      "memory usage: 466.6+ KB\n"
     ]
    }
   ],
   "source": [
    "df.info()"
   ]
  },
  {
   "cell_type": "code",
   "execution_count": 56,
   "id": "eb8ea06b",
   "metadata": {},
   "outputs": [
    {
     "data": {
      "image/png": "[encoded data removed]",
      "text/plain": [
       "<Figure size 864x432 with 1 Axes>"
      ]
     },
     "metadata": {
      "needs_background": "light"
     },
     "output_type": "display_data"
    }
   ],
   "source": [
    "plt.figure(figsize=(12, 6))\n",
    "sns.histplot(df['WordCount'], color=\"b\", kde=True)\n",
    "plt.show()"
   ]
  },
  {
   "cell_type": "code",
   "execution_count": 57,
   "id": "0b4f5d44",
   "metadata": {},
   "outputs": [],
   "source": [
    "import re\n",
    "import numpy as np\n",
    "import pandas as  pd\n",
    "from pprint import pprint\n",
    "import gensim\n",
    "import gensim.corpora as corpora\n",
    "from gensim.utils import simple_preprocess\n",
    "from gensim.models import CoherenceModel\n",
    "import pyLDAvis\n",
    "import pyLDAvis.gensim\n",
    "import matplotlib.pyplot as plt\n",
    "%matplotlib inline"
   ]
  },
  {
   "cell_type": "code",
   "execution_count": 58,
   "id": "0698c1b0",
   "metadata": {},
   "outputs": [],
   "source": [
    "# Function to tokenize\n",
    "def text_tokenize(text):\n",
    "    words = nltk.word_tokenize(text)\n",
    "    return words"
   ]
  },
  {
   "cell_type": "code",
   "execution_count": 59,
   "id": "e27b7b97",
   "metadata": {},
   "outputs": [
    {
     "data": {
      "text/html": [
       "<div>\n",
       "<style scoped>\n",
       "    .dataframe tbody tr th:only-of-type {\n",
       "        vertical-align: middle;\n",
       "    }\n",
       "\n",
       "    .dataframe tbody tr th {\n",
       "        vertical-align: top;\n",
       "    }\n",
       "\n",
       "    .dataframe thead th {\n",
       "        text-align: right;\n",
       "    }\n",
       "</style>\n",
       "<table border=\"1\" class=\"dataframe\">\n",
       "  <thead>\n",
       "    <tr style=\"text-align: right;\">\n",
       "      <th></th>\n",
       "      <th>Content</th>\n",
       "      <th>WordCount</th>\n",
       "    </tr>\n",
       "  </thead>\n",
       "  <tbody>\n",
       "    <tr>\n",
       "      <th>0</th>\n",
       "      <td>erin mcnaught go instagram official new music ...</td>\n",
       "      <td>388</td>\n",
       "    </tr>\n",
       "    <tr>\n",
       "      <th>1</th>\n",
       "      <td>married first sight uk brad kicked show exhibi...</td>\n",
       "      <td>1309</td>\n",
       "    </tr>\n",
       "    <tr>\n",
       "      <th>2</th>\n",
       "      <td>sweating heartbeat irregularity unusual swelli...</td>\n",
       "      <td>663</td>\n",
       "    </tr>\n",
       "    <tr>\n",
       "      <th>3</th>\n",
       "      <td>planning get breast augmentation done need kno...</td>\n",
       "      <td>272</td>\n",
       "    </tr>\n",
       "    <tr>\n",
       "      <th>4</th>\n",
       "      <td>bos north east holiday company parkdean resort...</td>\n",
       "      <td>379</td>\n",
       "    </tr>\n",
       "    <tr>\n",
       "      <th>...</th>\n",
       "      <td>...</td>\n",
       "      <td>...</td>\n",
       "    </tr>\n",
       "    <tr>\n",
       "      <th>10657</th>\n",
       "      <td>rothes moved top half highland league comforta...</td>\n",
       "      <td>88</td>\n",
       "    </tr>\n",
       "    <tr>\n",
       "      <th>10661</th>\n",
       "      <td>man constantly mistaken took job body double f...</td>\n",
       "      <td>279</td>\n",
       "    </tr>\n",
       "    <tr>\n",
       "      <th>10662</th>\n",
       "      <td>south west showing sign recovery using externa...</td>\n",
       "      <td>293</td>\n",
       "    </tr>\n",
       "    <tr>\n",
       "      <th>10663</th>\n",
       "      <td>frankie dettori performed retirement youturn c...</td>\n",
       "      <td>235</td>\n",
       "    </tr>\n",
       "    <tr>\n",
       "      <th>10665</th>\n",
       "      <td>nyse euronextlisted euronav said agreed lift o...</td>\n",
       "      <td>91</td>\n",
       "    </tr>\n",
       "  </tbody>\n",
       "</table>\n",
       "<p>8899 rows × 2 columns</p>\n",
       "</div>"
      ],
      "text/plain": [
       "                                                 Content  WordCount\n",
       "0      erin mcnaught go instagram official new music ...        388\n",
       "1      married first sight uk brad kicked show exhibi...       1309\n",
       "2      sweating heartbeat irregularity unusual swelli...        663\n",
       "3      planning get breast augmentation done need kno...        272\n",
       "4      bos north east holiday company parkdean resort...        379\n",
       "...                                                  ...        ...\n",
       "10657  rothes moved top half highland league comforta...         88\n",
       "10661  man constantly mistaken took job body double f...        279\n",
       "10662  south west showing sign recovery using externa...        293\n",
       "10663  frankie dettori performed retirement youturn c...        235\n",
       "10665  nyse euronextlisted euronav said agreed lift o...         91\n",
       "\n",
       "[8899 rows x 2 columns]"
      ]
     },
     "execution_count": 59,
     "metadata": {},
     "output_type": "execute_result"
    }
   ],
   "source": [
    "df"
   ]
  },
  {
   "cell_type": "code",
   "execution_count": 60,
   "id": "478e949f",
   "metadata": {},
   "outputs": [],
   "source": [
    "df[\"text_tokenized\"] = df[\"Content\"].apply(word_tokenize)"
   ]
  },
  {
   "cell_type": "code",
   "execution_count": 61,
   "id": "992dfd9e",
   "metadata": {},
   "outputs": [
    {
     "data": {
      "text/html": [
       "<div>\n",
       "<style scoped>\n",
       "    .dataframe tbody tr th:only-of-type {\n",
       "        vertical-align: middle;\n",
       "    }\n",
       "\n",
       "    .dataframe tbody tr th {\n",
       "        vertical-align: top;\n",
       "    }\n",
       "\n",
       "    .dataframe thead th {\n",
       "        text-align: right;\n",
       "    }\n",
       "</style>\n",
       "<table border=\"1\" class=\"dataframe\">\n",
       "  <thead>\n",
       "    <tr style=\"text-align: right;\">\n",
       "      <th></th>\n",
       "      <th>Content</th>\n",
       "      <th>WordCount</th>\n",
       "      <th>text_tokenized</th>\n",
       "    </tr>\n",
       "  </thead>\n",
       "  <tbody>\n",
       "    <tr>\n",
       "      <th>0</th>\n",
       "      <td>erin mcnaught go instagram official new music ...</td>\n",
       "      <td>388</td>\n",
       "      <td>[erin, mcnaught, go, instagram, official, new,...</td>\n",
       "    </tr>\n",
       "    <tr>\n",
       "      <th>1</th>\n",
       "      <td>married first sight uk brad kicked show exhibi...</td>\n",
       "      <td>1309</td>\n",
       "      <td>[married, first, sight, uk, brad, kicked, show...</td>\n",
       "    </tr>\n",
       "    <tr>\n",
       "      <th>2</th>\n",
       "      <td>sweating heartbeat irregularity unusual swelli...</td>\n",
       "      <td>663</td>\n",
       "      <td>[sweating, heartbeat, irregularity, unusual, s...</td>\n",
       "    </tr>\n",
       "    <tr>\n",
       "      <th>3</th>\n",
       "      <td>planning get breast augmentation done need kno...</td>\n",
       "      <td>272</td>\n",
       "      <td>[planning, get, breast, augmentation, done, ne...</td>\n",
       "    </tr>\n",
       "    <tr>\n",
       "      <th>4</th>\n",
       "      <td>bos north east holiday company parkdean resort...</td>\n",
       "      <td>379</td>\n",
       "      <td>[bos, north, east, holiday, company, parkdean,...</td>\n",
       "    </tr>\n",
       "    <tr>\n",
       "      <th>...</th>\n",
       "      <td>...</td>\n",
       "      <td>...</td>\n",
       "      <td>...</td>\n",
       "    </tr>\n",
       "    <tr>\n",
       "      <th>10657</th>\n",
       "      <td>rothes moved top half highland league comforta...</td>\n",
       "      <td>88</td>\n",
       "      <td>[rothes, moved, top, half, highland, league, c...</td>\n",
       "    </tr>\n",
       "    <tr>\n",
       "      <th>10661</th>\n",
       "      <td>man constantly mistaken took job body double f...</td>\n",
       "      <td>279</td>\n",
       "      <td>[man, constantly, mistaken, took, job, body, d...</td>\n",
       "    </tr>\n",
       "    <tr>\n",
       "      <th>10662</th>\n",
       "      <td>south west showing sign recovery using externa...</td>\n",
       "      <td>293</td>\n",
       "      <td>[south, west, showing, sign, recovery, using, ...</td>\n",
       "    </tr>\n",
       "    <tr>\n",
       "      <th>10663</th>\n",
       "      <td>frankie dettori performed retirement youturn c...</td>\n",
       "      <td>235</td>\n",
       "      <td>[frankie, dettori, performed, retirement, yout...</td>\n",
       "    </tr>\n",
       "    <tr>\n",
       "      <th>10665</th>\n",
       "      <td>nyse euronextlisted euronav said agreed lift o...</td>\n",
       "      <td>91</td>\n",
       "      <td>[nyse, euronextlisted, euronav, said, agreed, ...</td>\n",
       "    </tr>\n",
       "  </tbody>\n",
       "</table>\n",
       "<p>8899 rows × 3 columns</p>\n",
       "</div>"
      ],
      "text/plain": [
       "                                                 Content  WordCount  \\\n",
       "0      erin mcnaught go instagram official new music ...        388   \n",
       "1      married first sight uk brad kicked show exhibi...       1309   \n",
       "2      sweating heartbeat irregularity unusual swelli...        663   \n",
       "3      planning get breast augmentation done need kno...        272   \n",
       "4      bos north east holiday company parkdean resort...        379   \n",
       "...                                                  ...        ...   \n",
       "10657  rothes moved top half highland league comforta...         88   \n",
       "10661  man constantly mistaken took job body double f...        279   \n",
       "10662  south west showing sign recovery using externa...        293   \n",
       "10663  frankie dettori performed retirement youturn c...        235   \n",
       "10665  nyse euronextlisted euronav said agreed lift o...         91   \n",
       "\n",
       "                                          text_tokenized  \n",
       "0      [erin, mcnaught, go, instagram, official, new,...  \n",
       "1      [married, first, sight, uk, brad, kicked, show...  \n",
       "2      [sweating, heartbeat, irregularity, unusual, s...  \n",
       "3      [planning, get, breast, augmentation, done, ne...  \n",
       "4      [bos, north, east, holiday, company, parkdean,...  \n",
       "...                                                  ...  \n",
       "10657  [rothes, moved, top, half, highland, league, c...  \n",
       "10661  [man, constantly, mistaken, took, job, body, d...  \n",
       "10662  [south, west, showing, sign, recovery, using, ...  \n",
       "10663  [frankie, dettori, performed, retirement, yout...  \n",
       "10665  [nyse, euronextlisted, euronav, said, agreed, ...  \n",
       "\n",
       "[8899 rows x 3 columns]"
      ]
     },
     "execution_count": 61,
     "metadata": {},
     "output_type": "execute_result"
    }
   ],
   "source": [
    "df"
   ]
  },
  {
   "cell_type": "markdown",
   "id": "18cfb60c",
   "metadata": {},
   "source": [
    "Topic modeling involves counting words and grouping similar word patterns to describe topics within the data. If the model knows the word frequency, and which words often appear in the same document, it will discover patterns that can group different words together.\n",
    "\n",
    "We start with converting a collection of words to a bag of words, which is a list of tuples (word_id, word_frequency). gensim.corpora.Dictionary is a great tool for this:\n",
    "\n",
    "\n",
    "Gensim doc2bow\n",
    "\n",
    "doc2bow(document)\n",
    "\n",
    "Convert document (a list of words) into the bag-of-words format = list of (token_id, token_count) 2-tuples. Each word is assumed to be a tokenized and normalized string (either unicode or utf8-encoded). No further preprocessing is done on the words in document; we need to  apply tokenization, stemming etc. before calling this method."
   ]
  },
  {
   "cell_type": "code",
   "execution_count": 62,
   "id": "c96603c3",
   "metadata": {},
   "outputs": [],
   "source": [
    "# Create a Gensim dictionary from the tokenized content\n",
    "id2word= corpora.Dictionary(df['text_tokenized'])\n",
    "\n",
    "# Create a Gensim corpus by transforming the tokenized content using the dictionary\n",
    "corpus = [id2word.doc2bow(text) for text in df['text_tokenized']]\n"
   ]
  },
  {
   "cell_type": "code",
   "execution_count": null,
   "id": "0e90b5b6",
   "metadata": {},
   "outputs": [],
   "source": []
  },
  {
   "cell_type": "code",
   "execution_count": null,
   "id": "05a1095c",
   "metadata": {},
   "outputs": [],
   "source": []
  },
  {
   "cell_type": "code",
   "execution_count": 63,
   "id": "eb96410a",
   "metadata": {},
   "outputs": [
    {
     "name": "stdout",
     "output_type": "stream",
     "text": [
      "[[(0, 1), (1, 1), (2, 3), (3, 1), (4, 4), (5, 1), (6, 1), (7, 1), (8, 2), (9, 2), (10, 1), (11, 3), (12, 1), (13, 1), (14, 2), (15, 2), (16, 1), (17, 2), (18, 4), (19, 1), (20, 5), (21, 2), (22, 3), (23, 1), (24, 1), (25, 2), (26, 1), (27, 3), (28, 1), (29, 2), (30, 1), (31, 2), (32, 4), (33, 1), (34, 2), (35, 1), (36, 1), (37, 1), (38, 2), (39, 2), (40, 1), (41, 1), (42, 2), (43, 1), (44, 3), (45, 1), (46, 2), (47, 2), (48, 1), (49, 2), (50, 3), (51, 13), (52, 1), (53, 3), (54, 7), (55, 1), (56, 2), (57, 1), (58, 3), (59, 1), (60, 1), (61, 1), (62, 2), (63, 1), (64, 1), (65, 2), (66, 3), (67, 1), (68, 1), (69, 2), (70, 1), (71, 2), (72, 2), (73, 4), (74, 2), (75, 1), (76, 1), (77, 1), (78, 2), (79, 3), (80, 3), (81, 1), (82, 6), (83, 4), (84, 1), (85, 1), (86, 2), (87, 4), (88, 3), (89, 1), (90, 1), (91, 2), (92, 1), (93, 1), (94, 1), (95, 1), (96, 3), (97, 1), (98, 2), (99, 1), (100, 2), (101, 1), (102, 1), (103, 2), (104, 5), (105, 1), (106, 2), (107, 2), (108, 1), (109, 4), (110, 2), (111, 2), (112, 1), (113, 5), (114, 1), (115, 1), (116, 1), (117, 4), (118, 4), (119, 2), (120, 2), (121, 1), (122, 1), (123, 1), (124, 6), (125, 1), (126, 1), (127, 3), (128, 4), (129, 1), (130, 1), (131, 1), (132, 2), (133, 1), (134, 5), (135, 2), (136, 2), (137, 1), (138, 2), (139, 1), (140, 2), (141, 1), (142, 1), (143, 1), (144, 1), (145, 2), (146, 1), (147, 1), (148, 1), (149, 1), (150, 2), (151, 1), (152, 2), (153, 1), (154, 2), (155, 3), (156, 1), (157, 2), (158, 1), (159, 4), (160, 1), (161, 2), (162, 1), (163, 1), (164, 1), (165, 2), (166, 1), (167, 5), (168, 1), (169, 2), (170, 5), (171, 1), (172, 1), (173, 2), (174, 2), (175, 1), (176, 2), (177, 2), (178, 2), (179, 1), (180, 1), (181, 1), (182, 1), (183, 2), (184, 2), (185, 1), (186, 2), (187, 1), (188, 1), (189, 1), (190, 1), (191, 3), (192, 1), (193, 1), (194, 1), (195, 1), (196, 1), (197, 2), (198, 2), (199, 1), (200, 1), (201, 1), (202, 1), (203, 1), (204, 1), (205, 1), (206, 5), (207, 1), (208, 1)]]\n"
     ]
    }
   ],
   "source": [
    "print(corpus[:1])"
   ]
  },
  {
   "cell_type": "markdown",
   "id": "6b87cee9",
   "metadata": {},
   "source": [
    "What do these tuples mean? Let’s convert them into human readable format to understand:"
   ]
  },
  {
   "cell_type": "code",
   "execution_count": 64,
   "id": "670bdeca",
   "metadata": {},
   "outputs": [
    {
     "data": {
      "text/plain": [
       "[[('abundance', 1),\n",
       "  ('add', 1),\n",
       "  ('adventure', 3),\n",
       "  ('advisor', 1),\n",
       "  ('aged', 4),\n",
       "  ('ali', 1),\n",
       "  ('alist', 1),\n",
       "  ('almost', 1),\n",
       "  ('amazing', 2),\n",
       "  ('announced', 2),\n",
       "  ('announcement', 1),\n",
       "  ('another', 3),\n",
       "  ('art', 1),\n",
       "  ('article', 1),\n",
       "  ('australia', 2),\n",
       "  ('beau', 2),\n",
       "  ('behind', 1),\n",
       "  ('boy', 2),\n",
       "  ('boyfriend', 4),\n",
       "  ('busy', 1),\n",
       "  ('cadet', 5),\n",
       "  ('came', 2),\n",
       "  ('captioned', 3),\n",
       "  ('child', 1),\n",
       "  ('chunk', 1),\n",
       "  ('closest', 2),\n",
       "  ('come', 1),\n",
       "  ('comment', 3),\n",
       "  ('commenting', 1),\n",
       "  ('continuing', 2),\n",
       "  ('coparent', 1),\n",
       "  ('coparenting', 2),\n",
       "  ('couple', 4),\n",
       "  ('cox', 1),\n",
       "  ('crop', 2),\n",
       "  ('daher', 1),\n",
       "  ('daily', 1),\n",
       "  ('daisy', 1),\n",
       "  ('decided', 2),\n",
       "  ('denim', 2),\n",
       "  ('dm', 1),\n",
       "  ('due', 1),\n",
       "  ('edt', 2),\n",
       "  ('effectively', 1),\n",
       "  ('elliot', 3),\n",
       "  ('elliots', 1),\n",
       "  ('email', 2),\n",
       "  ('emoji', 2),\n",
       "  ('emojis', 1),\n",
       "  ('end', 2),\n",
       "  ('ennio', 3),\n",
       "  ('erin', 13),\n",
       "  ('europe', 1),\n",
       "  ('evander', 3),\n",
       "  ('example', 7),\n",
       "  ('exchange', 1),\n",
       "  ('exhusband', 2),\n",
       "  ('explained', 1),\n",
       "  ('family', 3),\n",
       "  ('feel', 1),\n",
       "  ('figure', 1),\n",
       "  ('fire', 1),\n",
       "  ('five', 2),\n",
       "  ('flew', 1),\n",
       "  ('flirty', 1),\n",
       "  ('follower', 2),\n",
       "  ('following', 3),\n",
       "  ('formal', 1),\n",
       "  ('forward', 1),\n",
       "  ('friend', 2),\n",
       "  ('future', 1),\n",
       "  ('gallery', 2),\n",
       "  ('gleave', 2),\n",
       "  ('go', 4),\n",
       "  ('going', 2),\n",
       "  ('good', 1),\n",
       "  ('half', 1),\n",
       "  ('handling', 1),\n",
       "  ('happily', 2),\n",
       "  ('heart', 3),\n",
       "  ('holiday', 3),\n",
       "  ('incredible', 1),\n",
       "  ('instagram', 6),\n",
       "  ('island', 4),\n",
       "  ('j', 1),\n",
       "  ('joint', 1),\n",
       "  ('kotaras', 2),\n",
       "  ('last', 4),\n",
       "  ('left', 3),\n",
       "  ('legend', 1),\n",
       "  ('life', 1),\n",
       "  ('little', 2),\n",
       "  ('london', 1),\n",
       "  ('look', 1),\n",
       "  ('looking', 1),\n",
       "  ('lot', 1),\n",
       "  ('love', 3),\n",
       "  ('loved', 1),\n",
       "  ('lovedup', 2),\n",
       "  ('made', 1),\n",
       "  ('magnetic', 2),\n",
       "  ('mail', 1),\n",
       "  ('many', 1),\n",
       "  ('married', 2),\n",
       "  ('mcnaught', 5),\n",
       "  ('mix', 1),\n",
       "  ('model', 2),\n",
       "  ('month', 2),\n",
       "  ('motheroftwo', 1),\n",
       "  ('music', 4),\n",
       "  ('name', 2),\n",
       "  ('natural', 2),\n",
       "  ('need', 1),\n",
       "  ('new', 5),\n",
       "  ('next', 1),\n",
       "  ('number', 1),\n",
       "  ('obviously', 1),\n",
       "  ('october', 4),\n",
       "  ('official', 4),\n",
       "  ('one', 2),\n",
       "  ('pair', 2),\n",
       "  ('penned', 1),\n",
       "  ('performer', 1),\n",
       "  ('perhaps', 1),\n",
       "  ('photo', 6),\n",
       "  ('pictured', 1),\n",
       "  ('please', 1),\n",
       "  ('post', 3),\n",
       "  ('producer', 4),\n",
       "  ('protect', 1),\n",
       "  ('proud', 1),\n",
       "  ('published', 1),\n",
       "  ('qtmagnetic', 2),\n",
       "  ('queenstown', 1),\n",
       "  ('rapper', 5),\n",
       "  ('ready', 2),\n",
       "  ('real', 2),\n",
       "  ('realisation', 1),\n",
       "  ('recent', 2),\n",
       "  ('recently', 1),\n",
       "  ('relationship', 2),\n",
       "  ('relocated', 1),\n",
       "  ('replied', 1),\n",
       "  ('respect', 1),\n",
       "  ('right', 1),\n",
       "  ('rock', 2),\n",
       "  ('romance', 1),\n",
       "  ('said', 1),\n",
       "  ('scene', 1),\n",
       "  ('schedule', 1),\n",
       "  ('seeing', 2),\n",
       "  ('seen', 1),\n",
       "  ('separate', 2),\n",
       "  ('separation', 1),\n",
       "  ('seven', 2),\n",
       "  ('share', 3),\n",
       "  ('shared', 1),\n",
       "  ('sharing', 2),\n",
       "  ('shock', 1),\n",
       "  ('show', 4),\n",
       "  ('ski', 1),\n",
       "  ('skirt', 2),\n",
       "  ('slew', 1),\n",
       "  ('smiling', 1),\n",
       "  ('snow', 1),\n",
       "  ('son', 2),\n",
       "  ('spent', 1),\n",
       "  ('split', 5),\n",
       "  ('spotted', 1),\n",
       "  ('squished', 2),\n",
       "  ('stace', 5),\n",
       "  ('standing', 1),\n",
       "  ('start', 1),\n",
       "  ('stasi', 2),\n",
       "  ('statement', 2),\n",
       "  ('step', 1),\n",
       "  ('still', 2),\n",
       "  ('summer', 2),\n",
       "  ('sunday', 2),\n",
       "  ('support', 1),\n",
       "  ('surrounded', 1),\n",
       "  ('text', 1),\n",
       "  ('thing', 1),\n",
       "  ('time', 2),\n",
       "  ('together', 2),\n",
       "  ('took', 1),\n",
       "  ('top', 2),\n",
       "  ('trip', 1),\n",
       "  ('triple', 1),\n",
       "  ('trying', 1),\n",
       "  ('turned', 1),\n",
       "  ('two', 3),\n",
       "  ('u', 1),\n",
       "  ('uk', 1),\n",
       "  ('updated', 1),\n",
       "  ('view', 1),\n",
       "  ('way', 1),\n",
       "  ('wearing', 2),\n",
       "  ('week', 2),\n",
       "  ('went', 1),\n",
       "  ('whilst', 1),\n",
       "  ('whoever', 1),\n",
       "  ('wink', 1),\n",
       "  ('without', 1),\n",
       "  ('would', 1),\n",
       "  ('wrote', 1),\n",
       "  ('year', 5),\n",
       "  ('yes', 1),\n",
       "  ('zealand', 1)]]"
      ]
     },
     "execution_count": 64,
     "metadata": {},
     "output_type": "execute_result"
    }
   ],
   "source": [
    "[[(id2word[i], freq) for i, freq in doc] for doc in corpus[:1]]"
   ]
  },
  {
   "cell_type": "markdown",
   "id": "730f7c98",
   "metadata": {},
   "source": [
    "LDA :: Latent Dirichlet Allocation is a probabilistic model. It is a unsupervised machine learning technique. And to obtain cluster assignments, it uses two probability values: P( word | topics) and P( topics | documents)."
   ]
  },
  {
   "cell_type": "code",
   "execution_count": 65,
   "id": "2055c13e",
   "metadata": {},
   "outputs": [],
   "source": [
    "lda_model = gensim.models.ldamodel.LdaModel(corpus=corpus,\n",
    "                                           id2word=id2word,\n",
    "                                           num_topics=20, \n",
    "                                           random_state=100,\n",
    "                                           update_every=1,\n",
    "                                           chunksize=100,\n",
    "                                           passes=10,\n",
    "                                           alpha='auto',\n",
    "                                           per_word_topics=True)"
   ]
  },
  {
   "cell_type": "code",
   "execution_count": 66,
   "id": "a269aab6",
   "metadata": {},
   "outputs": [],
   "source": [
    "def get_lda_topics(model, num_topics):\n",
    "    word_dict = {};\n",
    "    for i in range(num_topics):\n",
    "        words = model.show_topic(i, topn = 20);\n",
    "        word_dict['Topic # ' + '{:02d}'.format(i+1)] = [i[0] for i in words];\n",
    "    return pd.DataFrame(word_dict);"
   ]
  },
  {
   "cell_type": "code",
   "execution_count": 67,
   "id": "b585eac2",
   "metadata": {},
   "outputs": [
    {
     "data": {
      "text/html": [
       "<div>\n",
       "<style scoped>\n",
       "    .dataframe tbody tr th:only-of-type {\n",
       "        vertical-align: middle;\n",
       "    }\n",
       "\n",
       "    .dataframe tbody tr th {\n",
       "        vertical-align: top;\n",
       "    }\n",
       "\n",
       "    .dataframe thead th {\n",
       "        text-align: right;\n",
       "    }\n",
       "</style>\n",
       "<table border=\"1\" class=\"dataframe\">\n",
       "  <thead>\n",
       "    <tr style=\"text-align: right;\">\n",
       "      <th></th>\n",
       "      <th>Topic # 01</th>\n",
       "      <th>Topic # 02</th>\n",
       "      <th>Topic # 03</th>\n",
       "      <th>Topic # 04</th>\n",
       "      <th>Topic # 05</th>\n",
       "      <th>Topic # 06</th>\n",
       "      <th>Topic # 07</th>\n",
       "      <th>Topic # 08</th>\n",
       "      <th>Topic # 09</th>\n",
       "      <th>Topic # 10</th>\n",
       "      <th>Topic # 11</th>\n",
       "      <th>Topic # 12</th>\n",
       "      <th>Topic # 13</th>\n",
       "      <th>Topic # 14</th>\n",
       "      <th>Topic # 15</th>\n",
       "      <th>Topic # 16</th>\n",
       "      <th>Topic # 17</th>\n",
       "      <th>Topic # 18</th>\n",
       "      <th>Topic # 19</th>\n",
       "      <th>Topic # 20</th>\n",
       "    </tr>\n",
       "  </thead>\n",
       "  <tbody>\n",
       "    <tr>\n",
       "      <th>0</th>\n",
       "      <td>company</td>\n",
       "      <td>said</td>\n",
       "      <td>shaping</td>\n",
       "      <td>india</td>\n",
       "      <td>israel</td>\n",
       "      <td>study</td>\n",
       "      <td>company</td>\n",
       "      <td>show</td>\n",
       "      <td>âthey</td>\n",
       "      <td>news</td>\n",
       "      <td>song</td>\n",
       "      <td>like</td>\n",
       "      <td>health</td>\n",
       "      <td>family</td>\n",
       "      <td>film</td>\n",
       "      <td>buy</td>\n",
       "      <td>black</td>\n",
       "      <td>deal</td>\n",
       "      <td>said</td>\n",
       "      <td>game</td>\n",
       "    </tr>\n",
       "    <tr>\n",
       "      <th>1</th>\n",
       "      <td>data</td>\n",
       "      <td>state</td>\n",
       "      <td>ra</td>\n",
       "      <td>indian</td>\n",
       "      <td>hamas</td>\n",
       "      <td>science</td>\n",
       "      <td>market</td>\n",
       "      <td>star</td>\n",
       "      <td>se</td>\n",
       "      <td>post</td>\n",
       "      <td>music</td>\n",
       "      <td>one</td>\n",
       "      <td>food</td>\n",
       "      <td>child</td>\n",
       "      <td>series</td>\n",
       "      <td>insurance</td>\n",
       "      <td>kitchen</td>\n",
       "      <td>day</td>\n",
       "      <td>â</td>\n",
       "      <td>player</td>\n",
       "    </tr>\n",
       "    <tr>\n",
       "      <th>2</th>\n",
       "      <td>business</td>\n",
       "      <td>government</td>\n",
       "      <td>aggravated</td>\n",
       "      <td>edition</td>\n",
       "      <td>gaza</td>\n",
       "      <td>university</td>\n",
       "      <td>per</td>\n",
       "      <td>said</td>\n",
       "      <td>frame</td>\n",
       "      <td>latest</td>\n",
       "      <td>album</td>\n",
       "      <td>itâs</td>\n",
       "      <td>care</td>\n",
       "      <td>life</td>\n",
       "      <td>movie</td>\n",
       "      <td>royal</td>\n",
       "      <td>color</td>\n",
       "      <td>feature</td>\n",
       "      <td>year</td>\n",
       "      <td>de</td>\n",
       "    </tr>\n",
       "    <tr>\n",
       "      <th>3</th>\n",
       "      <td>system</td>\n",
       "      <td>yous</td>\n",
       "      <td>transparency</td>\n",
       "      <td>world</td>\n",
       "      <td>israeli</td>\n",
       "      <td>water</td>\n",
       "      <td>price</td>\n",
       "      <td>fan</td>\n",
       "      <td>blame</td>\n",
       "      <td>click</td>\n",
       "      <td>band</td>\n",
       "      <td>time</td>\n",
       "      <td>cancer</td>\n",
       "      <td>woman</td>\n",
       "      <td>character</td>\n",
       "      <td>prince</td>\n",
       "      <td>look</td>\n",
       "      <td>prime</td>\n",
       "      <td>also</td>\n",
       "      <td>team</td>\n",
       "    </tr>\n",
       "    <tr>\n",
       "      <th>4</th>\n",
       "      <td>ai</td>\n",
       "      <td>u</td>\n",
       "      <td>daisley</td>\n",
       "      <td>r</td>\n",
       "      <td>attack</td>\n",
       "      <td>researcher</td>\n",
       "      <td>year</td>\n",
       "      <td>love</td>\n",
       "      <td>pipeline</td>\n",
       "      <td>whatsapp</td>\n",
       "      <td>presenter</td>\n",
       "      <td>get</td>\n",
       "      <td>patient</td>\n",
       "      <td>share</td>\n",
       "      <td>award</td>\n",
       "      <td>console</td>\n",
       "      <td>white</td>\n",
       "      <td>device</td>\n",
       "      <td>new</td>\n",
       "      <td>la</td>\n",
       "    </tr>\n",
       "    <tr>\n",
       "      <th>5</th>\n",
       "      <td>technology</td>\n",
       "      <td>united</td>\n",
       "      <td>bernstein</td>\n",
       "      <td>delhi</td>\n",
       "      <td>palestinian</td>\n",
       "      <td>research</td>\n",
       "      <td>business</td>\n",
       "      <td>got</td>\n",
       "      <td>understood</td>\n",
       "      <td>subscribe</td>\n",
       "      <td>mum</td>\n",
       "      <td>make</td>\n",
       "      <td>drug</td>\n",
       "      <td>comment</td>\n",
       "      <td>season</td>\n",
       "      <td>princess</td>\n",
       "      <td>dress</td>\n",
       "      <td>google</td>\n",
       "      <td>two</td>\n",
       "      <td>sport</td>\n",
       "    </tr>\n",
       "    <tr>\n",
       "      <th>6</th>\n",
       "      <td>also</td>\n",
       "      <td>president</td>\n",
       "      <td>psoriatic</td>\n",
       "      <td>pakistan</td>\n",
       "      <td>war</td>\n",
       "      <td>scientist</td>\n",
       "      <td>share</td>\n",
       "      <td>one</td>\n",
       "      <td>blast</td>\n",
       "      <td>x</td>\n",
       "      <td>dad</td>\n",
       "      <td>â</td>\n",
       "      <td>brain</td>\n",
       "      <td>relationship</td>\n",
       "      <td>actor</td>\n",
       "      <td>charles</td>\n",
       "      <td>restaurant</td>\n",
       "      <td>best</td>\n",
       "      <td>first</td>\n",
       "      <td>season</td>\n",
       "    </tr>\n",
       "    <tr>\n",
       "      <th>7</th>\n",
       "      <td>new</td>\n",
       "      <td>military</td>\n",
       "      <td>dheeraj</td>\n",
       "      <td>sport</td>\n",
       "      <td>said</td>\n",
       "      <td>earth</td>\n",
       "      <td>bank</td>\n",
       "      <td>big</td>\n",
       "      <td>appreciation</td>\n",
       "      <td>medium</td>\n",
       "      <td>portrait</td>\n",
       "      <td>would</td>\n",
       "      <td>disease</td>\n",
       "      <td>parent</td>\n",
       "      <td>trial</td>\n",
       "      <td>ram</td>\n",
       "      <td>collection</td>\n",
       "      <td>new</td>\n",
       "      <td>october</td>\n",
       "      <td>play</td>\n",
       "    </tr>\n",
       "    <tr>\n",
       "      <th>8</th>\n",
       "      <td>use</td>\n",
       "      <td>leader</td>\n",
       "      <td>jindal</td>\n",
       "      <td>australia</td>\n",
       "      <td>people</td>\n",
       "      <td>sample</td>\n",
       "      <td>cent</td>\n",
       "      <td>âi</td>\n",
       "      <td>salman</td>\n",
       "      <td>comment</td>\n",
       "      <td>artist</td>\n",
       "      <td>say</td>\n",
       "      <td>medical</td>\n",
       "      <td>daughter</td>\n",
       "      <td>netflix</td>\n",
       "      <td>suspect</td>\n",
       "      <td>food</td>\n",
       "      <td>amazon</td>\n",
       "      <td>last</td>\n",
       "      <td>match</td>\n",
       "    </tr>\n",
       "    <tr>\n",
       "      <th>9</th>\n",
       "      <td>service</td>\n",
       "      <td>house</td>\n",
       "      <td>darr</td>\n",
       "      <td>pm</td>\n",
       "      <td>killed</td>\n",
       "      <td>human</td>\n",
       "      <td>growth</td>\n",
       "      <td>video</td>\n",
       "      <td>yoga</td>\n",
       "      <td>time</td>\n",
       "      <td>mine</td>\n",
       "      <td>even</td>\n",
       "      <td>treatment</td>\n",
       "      <td>email</td>\n",
       "      <td>october</td>\n",
       "      <td>sorry</td>\n",
       "      <td>style</td>\n",
       "      <td>pro</td>\n",
       "      <td>one</td>\n",
       "      <td>win</td>\n",
       "    </tr>\n",
       "    <tr>\n",
       "      <th>10</th>\n",
       "      <td>information</td>\n",
       "      <td>support</td>\n",
       "      <td>anjaam</td>\n",
       "      <td>international</td>\n",
       "      <td>conflict</td>\n",
       "      <td>temperature</td>\n",
       "      <td>stock</td>\n",
       "      <td>also</td>\n",
       "      <td>g</td>\n",
       "      <td>share</td>\n",
       "      <td>guitar</td>\n",
       "      <td>want</td>\n",
       "      <td>help</td>\n",
       "      <td>young</td>\n",
       "      <td>new</td>\n",
       "      <td>totally</td>\n",
       "      <td>red</td>\n",
       "      <td>sale</td>\n",
       "      <td>time</td>\n",
       "      <td>world</td>\n",
       "    </tr>\n",
       "    <tr>\n",
       "      <th>11</th>\n",
       "      <td>using</td>\n",
       "      <td>security</td>\n",
       "      <td>raghav</td>\n",
       "      <td>newsletter</td>\n",
       "      <td>strip</td>\n",
       "      <td>found</td>\n",
       "      <td>billion</td>\n",
       "      <td>back</td>\n",
       "      <td>whoâs</td>\n",
       "      <td>social</td>\n",
       "      <td>pregnant</td>\n",
       "      <td>way</td>\n",
       "      <td>people</td>\n",
       "      <td>wife</td>\n",
       "      <td>role</td>\n",
       "      <td>harry</td>\n",
       "      <td>pink</td>\n",
       "      <td>save</td>\n",
       "      <td>thursday</td>\n",
       "      <td>en</td>\n",
       "    </tr>\n",
       "    <tr>\n",
       "      <th>12</th>\n",
       "      <td>energy</td>\n",
       "      <td>police</td>\n",
       "      <td>semiconductor</td>\n",
       "      <td>singh</td>\n",
       "      <td>militant</td>\n",
       "      <td>material</td>\n",
       "      <td>rate</td>\n",
       "      <td>year</td>\n",
       "      <td>questioned</td>\n",
       "      <td>link</td>\n",
       "      <td>teaser</td>\n",
       "      <td>people</td>\n",
       "      <td>sleep</td>\n",
       "      <td>told</td>\n",
       "      <td>release</td>\n",
       "      <td>empathy</td>\n",
       "      <td>wore</td>\n",
       "      <td>also</td>\n",
       "      <td>three</td>\n",
       "      <td>football</td>\n",
       "    </tr>\n",
       "    <tr>\n",
       "      <th>13</th>\n",
       "      <td>help</td>\n",
       "      <td>would</td>\n",
       "      <td>era</td>\n",
       "      <td>indiaâs</td>\n",
       "      <td>force</td>\n",
       "      <td>space</td>\n",
       "      <td>million</td>\n",
       "      <td>story</td>\n",
       "      <td>accomplish</td>\n",
       "      <td>account</td>\n",
       "      <td>track</td>\n",
       "      <td>could</td>\n",
       "      <td>hospital</td>\n",
       "      <td>girl</td>\n",
       "      <td>premiere</td>\n",
       "      <td>except</td>\n",
       "      <td>fashion</td>\n",
       "      <td>available</td>\n",
       "      <td>month</td>\n",
       "      <td>cup</td>\n",
       "    </tr>\n",
       "    <tr>\n",
       "      <th>14</th>\n",
       "      <td>team</td>\n",
       "      <td>country</td>\n",
       "      <td>diagnosis</td>\n",
       "      <td>khan</td>\n",
       "      <td>minister</td>\n",
       "      <td>innovation</td>\n",
       "      <td>fund</td>\n",
       "      <td>first</td>\n",
       "      <td>hinted</td>\n",
       "      <td>channel</td>\n",
       "      <td>hilarious</td>\n",
       "      <td>still</td>\n",
       "      <td>may</td>\n",
       "      <td>son</td>\n",
       "      <td>festival</td>\n",
       "      <td>king</td>\n",
       "      <td>light</td>\n",
       "      <td>price</td>\n",
       "      <td>week</td>\n",
       "      <td>first</td>\n",
       "    </tr>\n",
       "    <tr>\n",
       "      <th>15</th>\n",
       "      <td>need</td>\n",
       "      <td>people</td>\n",
       "      <td>oa</td>\n",
       "      <td>eclipse</td>\n",
       "      <td>group</td>\n",
       "      <td>surface</td>\n",
       "      <td>tax</td>\n",
       "      <td>night</td>\n",
       "      <td>doll</td>\n",
       "      <td>content</td>\n",
       "      <td>musical</td>\n",
       "      <td>go</td>\n",
       "      <td>mental</td>\n",
       "      <td>year</td>\n",
       "      <td>story</td>\n",
       "      <td>mate</td>\n",
       "      <td>stunning</td>\n",
       "      <td>model</td>\n",
       "      <td>according</td>\n",
       "      <td>played</td>\n",
       "    </tr>\n",
       "    <tr>\n",
       "      <th>16</th>\n",
       "      <td>model</td>\n",
       "      <td>terrorist</td>\n",
       "      <td>swiftâs</td>\n",
       "      <td>cm</td>\n",
       "      <td>netanyahu</td>\n",
       "      <td>ocean</td>\n",
       "      <td>inflation</td>\n",
       "      <td>look</td>\n",
       "      <td>sunny</td>\n",
       "      <td>hindustan</td>\n",
       "      <td>invalid</td>\n",
       "      <td>see</td>\n",
       "      <td>condition</td>\n",
       "      <td>time</td>\n",
       "      <td>director</td>\n",
       "      <td>na</td>\n",
       "      <td>recipe</td>\n",
       "      <td>tv</td>\n",
       "      <td>number</td>\n",
       "      <td>club</td>\n",
       "    </tr>\n",
       "    <tr>\n",
       "      <th>17</th>\n",
       "      <td>process</td>\n",
       "      <td>american</td>\n",
       "      <td>psa</td>\n",
       "      <td>read</td>\n",
       "      <td>saturday</td>\n",
       "      <td>carbon</td>\n",
       "      <td>financial</td>\n",
       "      <td>new</td>\n",
       "      <td>cancel</td>\n",
       "      <td>updated</td>\n",
       "      <td>consented</td>\n",
       "      <td>take</td>\n",
       "      <td>healthcare</td>\n",
       "      <td>mother</td>\n",
       "      <td>production</td>\n",
       "      <td>neil</td>\n",
       "      <td>design</td>\n",
       "      <td>camera</td>\n",
       "      <td>million</td>\n",
       "      <td>ball</td>\n",
       "    </tr>\n",
       "    <tr>\n",
       "      <th>18</th>\n",
       "      <td>employee</td>\n",
       "      <td>minister</td>\n",
       "      <td>musk</td>\n",
       "      <td>opinion</td>\n",
       "      <td>border</td>\n",
       "      <td>weather</td>\n",
       "      <td>cost</td>\n",
       "      <td>added</td>\n",
       "      <td>famously</td>\n",
       "      <td>user</td>\n",
       "      <td>solo</td>\n",
       "      <td>need</td>\n",
       "      <td>also</td>\n",
       "      <td>friend</td>\n",
       "      <td>released</td>\n",
       "      <td>convenience</td>\n",
       "      <td>brand</td>\n",
       "      <td>october</td>\n",
       "      <td>since</td>\n",
       "      <td>second</td>\n",
       "    </tr>\n",
       "    <tr>\n",
       "      <th>19</th>\n",
       "      <td>industry</td>\n",
       "      <td>right</td>\n",
       "      <td>renowned</td>\n",
       "      <td>culture</td>\n",
       "      <td>air</td>\n",
       "      <td>journal</td>\n",
       "      <td>investment</td>\n",
       "      <td>shared</td>\n",
       "      <td>longest</td>\n",
       "      <td>article</td>\n",
       "      <td>âoh</td>\n",
       "      <td>think</td>\n",
       "      <td>body</td>\n",
       "      <td>house</td>\n",
       "      <td>studio</td>\n",
       "      <td>jackpot</td>\n",
       "      <td>blue</td>\n",
       "      <td>app</td>\n",
       "      <td>including</td>\n",
       "      <td>playing</td>\n",
       "    </tr>\n",
       "  </tbody>\n",
       "</table>\n",
       "</div>"
      ],
      "text/plain": [
       "     Topic # 01  Topic # 02     Topic # 03     Topic # 04   Topic # 05  \\\n",
       "0       company        said        shaping          india       israel   \n",
       "1          data       state             ra         indian        hamas   \n",
       "2      business  government     aggravated        edition         gaza   \n",
       "3        system        yous   transparency          world      israeli   \n",
       "4            ai           u        daisley              r       attack   \n",
       "5    technology      united      bernstein          delhi  palestinian   \n",
       "6          also   president      psoriatic       pakistan          war   \n",
       "7           new    military        dheeraj          sport         said   \n",
       "8           use      leader         jindal      australia       people   \n",
       "9       service       house           darr             pm       killed   \n",
       "10  information     support         anjaam  international     conflict   \n",
       "11        using    security         raghav     newsletter        strip   \n",
       "12       energy      police  semiconductor          singh     militant   \n",
       "13         help       would            era        indiaâs        force   \n",
       "14         team     country      diagnosis           khan     minister   \n",
       "15         need      people             oa        eclipse        group   \n",
       "16        model   terrorist        swiftâs             cm    netanyahu   \n",
       "17      process    american            psa           read     saturday   \n",
       "18     employee    minister           musk        opinion       border   \n",
       "19     industry       right       renowned        culture          air   \n",
       "\n",
       "     Topic # 06  Topic # 07 Topic # 08    Topic # 09 Topic # 10 Topic # 11  \\\n",
       "0         study     company       show         âthey       news       song   \n",
       "1       science      market       star            se       post      music   \n",
       "2    university         per       said         frame     latest      album   \n",
       "3         water       price        fan         blame      click       band   \n",
       "4    researcher        year       love      pipeline   whatsapp  presenter   \n",
       "5      research    business        got    understood  subscribe        mum   \n",
       "6     scientist       share        one         blast          x        dad   \n",
       "7         earth        bank        big  appreciation     medium   portrait   \n",
       "8        sample        cent         âi        salman    comment     artist   \n",
       "9         human      growth      video          yoga       time       mine   \n",
       "10  temperature       stock       also             g      share     guitar   \n",
       "11        found     billion       back         whoâs     social   pregnant   \n",
       "12     material        rate       year    questioned       link     teaser   \n",
       "13        space     million      story    accomplish    account      track   \n",
       "14   innovation        fund      first        hinted    channel  hilarious   \n",
       "15      surface         tax      night          doll    content    musical   \n",
       "16        ocean   inflation       look         sunny  hindustan    invalid   \n",
       "17       carbon   financial        new        cancel    updated  consented   \n",
       "18      weather        cost      added      famously       user       solo   \n",
       "19      journal  investment     shared       longest    article        âoh   \n",
       "\n",
       "   Topic # 12  Topic # 13    Topic # 14  Topic # 15   Topic # 16  Topic # 17  \\\n",
       "0        like      health        family        film          buy       black   \n",
       "1         one        food         child      series    insurance     kitchen   \n",
       "2        itâs        care          life       movie        royal       color   \n",
       "3        time      cancer         woman   character       prince        look   \n",
       "4         get     patient         share       award      console       white   \n",
       "5        make        drug       comment      season     princess       dress   \n",
       "6           â       brain  relationship       actor      charles  restaurant   \n",
       "7       would     disease        parent       trial          ram  collection   \n",
       "8         say     medical      daughter     netflix      suspect        food   \n",
       "9        even   treatment         email     october        sorry       style   \n",
       "10       want        help         young         new      totally         red   \n",
       "11        way      people          wife        role        harry        pink   \n",
       "12     people       sleep          told     release      empathy        wore   \n",
       "13      could    hospital          girl    premiere       except     fashion   \n",
       "14      still         may           son    festival         king       light   \n",
       "15         go      mental          year       story         mate    stunning   \n",
       "16        see   condition          time    director           na      recipe   \n",
       "17       take  healthcare        mother  production         neil      design   \n",
       "18       need        also        friend    released  convenience       brand   \n",
       "19      think        body         house      studio      jackpot        blue   \n",
       "\n",
       "   Topic # 18 Topic # 19 Topic # 20  \n",
       "0        deal       said       game  \n",
       "1         day          â     player  \n",
       "2     feature       year         de  \n",
       "3       prime       also       team  \n",
       "4      device        new         la  \n",
       "5      google        two      sport  \n",
       "6        best      first     season  \n",
       "7         new    october       play  \n",
       "8      amazon       last      match  \n",
       "9         pro        one        win  \n",
       "10       sale       time      world  \n",
       "11       save   thursday         en  \n",
       "12       also      three   football  \n",
       "13  available      month        cup  \n",
       "14      price       week      first  \n",
       "15      model  according     played  \n",
       "16         tv     number       club  \n",
       "17     camera    million       ball  \n",
       "18    october      since     second  \n",
       "19        app  including    playing  "
      ]
     },
     "execution_count": 67,
     "metadata": {},
     "output_type": "execute_result"
    }
   ],
   "source": [
    "get_lda_topics(lda_model, 20)"
   ]
  },
  {
   "cell_type": "code",
   "execution_count": 68,
   "id": "c74c21c1",
   "metadata": {},
   "outputs": [
    {
     "name": "stdout",
     "output_type": "stream",
     "text": [
      "[(0,\n",
      "  '0.011*\"company\" + 0.010*\"data\" + 0.009*\"business\" + 0.009*\"system\" + '\n",
      "  '0.008*\"ai\" + 0.008*\"technology\" + 0.008*\"also\" + 0.007*\"new\" + 0.007*\"use\" '\n",
      "  '+ 0.007*\"service\"'),\n",
      " (1,\n",
      "  '0.040*\"said\" + 0.022*\"state\" + 0.014*\"government\" + 0.014*\"yous\" + '\n",
      "  '0.014*\"u\" + 0.012*\"united\" + 0.011*\"president\" + 0.011*\"military\" + '\n",
      "  '0.010*\"leader\" + 0.010*\"house\"'),\n",
      " (2,\n",
      "  '0.009*\"shaping\" + 0.005*\"ra\" + 0.003*\"aggravated\" + 0.000*\"transparency\" + '\n",
      "  '0.000*\"daisley\" + 0.000*\"bernstein\" + 0.000*\"psoriatic\" + 0.000*\"dheeraj\" + '\n",
      "  '0.000*\"raghav\" + 0.000*\"darr\"'),\n",
      " (3,\n",
      "  '0.090*\"india\" + 0.056*\"indian\" + 0.048*\"edition\" + 0.031*\"world\" + '\n",
      "  '0.024*\"r\" + 0.018*\"delhi\" + 0.015*\"pakistan\" + 0.014*\"sport\" + '\n",
      "  '0.014*\"australia\" + 0.013*\"pm\"'),\n",
      " (4,\n",
      "  '0.090*\"israel\" + 0.067*\"hamas\" + 0.048*\"gaza\" + 0.046*\"israeli\" + '\n",
      "  '0.036*\"attack\" + 0.026*\"palestinian\" + 0.022*\"war\" + 0.016*\"said\" + '\n",
      "  '0.014*\"people\" + 0.014*\"killed\"'),\n",
      " (5,\n",
      "  '0.027*\"study\" + 0.026*\"science\" + 0.023*\"university\" + 0.023*\"water\" + '\n",
      "  '0.022*\"researcher\" + 0.021*\"research\" + 0.020*\"scientist\" + 0.018*\"earth\" + '\n",
      "  '0.017*\"sample\" + 0.016*\"human\"'),\n",
      " (6,\n",
      "  '0.029*\"company\" + 0.025*\"market\" + 0.019*\"per\" + 0.019*\"price\" + '\n",
      "  '0.016*\"year\" + 0.016*\"business\" + 0.016*\"share\" + 0.016*\"bank\" + '\n",
      "  '0.014*\"cent\" + 0.014*\"growth\"'),\n",
      " (7,\n",
      "  '0.021*\"show\" + 0.012*\"star\" + 0.011*\"said\" + 0.010*\"fan\" + 0.009*\"love\" + '\n",
      "  '0.008*\"got\" + 0.008*\"one\" + 0.007*\"big\" + 0.007*\"âi\" + 0.007*\"video\"'),\n",
      " (8,\n",
      "  '0.026*\"âthey\" + 0.024*\"se\" + 0.022*\"frame\" + 0.019*\"blame\" + '\n",
      "  '0.019*\"pipeline\" + 0.017*\"understood\" + 0.016*\"blast\" + '\n",
      "  '0.014*\"appreciation\" + 0.013*\"salman\" + 0.011*\"yoga\"'),\n",
      " (9,\n",
      "  '0.065*\"news\" + 0.034*\"post\" + 0.032*\"latest\" + 0.023*\"click\" + '\n",
      "  '0.020*\"whatsapp\" + 0.018*\"subscribe\" + 0.018*\"x\" + 0.017*\"medium\" + '\n",
      "  '0.017*\"comment\" + 0.017*\"time\"'),\n",
      " (10,\n",
      "  '0.044*\"song\" + 0.039*\"music\" + 0.034*\"album\" + 0.030*\"band\" + '\n",
      "  '0.026*\"presenter\" + 0.023*\"mum\" + 0.020*\"dad\" + 0.019*\"portrait\" + '\n",
      "  '0.018*\"artist\" + 0.016*\"mine\"'),\n",
      " (11,\n",
      "  '0.017*\"like\" + 0.015*\"one\" + 0.011*\"itâs\" + 0.011*\"time\" + 0.011*\"get\" + '\n",
      "  '0.010*\"make\" + 0.010*\"â\" + 0.010*\"would\" + 0.009*\"say\" + 0.009*\"even\"'),\n",
      " (12,\n",
      "  '0.046*\"health\" + 0.021*\"food\" + 0.018*\"care\" + 0.014*\"cancer\" + '\n",
      "  '0.014*\"patient\" + 0.013*\"drug\" + 0.012*\"brain\" + 0.012*\"disease\" + '\n",
      "  '0.011*\"medical\" + 0.011*\"treatment\"'),\n",
      " (13,\n",
      "  '0.024*\"family\" + 0.019*\"child\" + 0.017*\"life\" + 0.016*\"woman\" + '\n",
      "  '0.015*\"share\" + 0.013*\"comment\" + 0.012*\"relationship\" + 0.010*\"parent\" + '\n",
      "  '0.009*\"daughter\" + 0.009*\"email\"'),\n",
      " (14,\n",
      "  '0.073*\"film\" + 0.028*\"series\" + 0.028*\"movie\" + 0.024*\"character\" + '\n",
      "  '0.020*\"award\" + 0.020*\"season\" + 0.019*\"actor\" + 0.013*\"trial\" + '\n",
      "  '0.013*\"netflix\" + 0.013*\"october\"'),\n",
      " (15,\n",
      "  '0.092*\"buy\" + 0.037*\"insurance\" + 0.030*\"royal\" + 0.025*\"prince\" + '\n",
      "  '0.024*\"console\" + 0.020*\"princess\" + 0.019*\"charles\" + 0.019*\"ram\" + '\n",
      "  '0.016*\"suspect\" + 0.016*\"sorry\"'),\n",
      " (16,\n",
      "  '0.038*\"black\" + 0.025*\"kitchen\" + 0.019*\"color\" + 0.016*\"look\" + '\n",
      "  '0.015*\"white\" + 0.014*\"dress\" + 0.014*\"restaurant\" + 0.013*\"collection\" + '\n",
      "  '0.013*\"food\" + 0.012*\"style\"'),\n",
      " (17,\n",
      "  '0.027*\"deal\" + 0.023*\"day\" + 0.023*\"feature\" + 0.022*\"prime\" + '\n",
      "  '0.020*\"device\" + 0.018*\"google\" + 0.017*\"best\" + 0.016*\"new\" + '\n",
      "  '0.015*\"amazon\" + 0.014*\"pro\"'),\n",
      " (18,\n",
      "  '0.019*\"said\" + 0.016*\"â\" + 0.013*\"year\" + 0.011*\"also\" + 0.010*\"new\" + '\n",
      "  '0.007*\"two\" + 0.007*\"first\" + 0.007*\"october\" + 0.007*\"last\" + 0.006*\"one\"'),\n",
      " (19,\n",
      "  '0.068*\"game\" + 0.032*\"player\" + 0.023*\"de\" + 0.021*\"team\" + 0.020*\"la\" + '\n",
      "  '0.018*\"sport\" + 0.015*\"season\" + 0.014*\"play\" + 0.010*\"match\" + '\n",
      "  '0.010*\"win\"')]\n"
     ]
    }
   ],
   "source": [
    "# Print the keyword of topics\n",
    "pprint(lda_model.print_topics())\n",
    "doc_lda = lda_model[corpus]"
   ]
  },
  {
   "cell_type": "code",
   "execution_count": 69,
   "id": "ea8a6ea7",
   "metadata": {},
   "outputs": [
    {
     "name": "stdout",
     "output_type": "stream",
     "text": [
      "\n",
      "Perplexity:  -14.339908883902458\n"
     ]
    }
   ],
   "source": [
    "# Compute Perplexity\n",
    "print('\\nPerplexity: ', lda_model.log_perplexity(corpus))  \n",
    "# a measure of how good the model is. lower the better."
   ]
  },
  {
   "cell_type": "code",
   "execution_count": 70,
   "id": "29bf5190",
   "metadata": {},
   "outputs": [
    {
     "name": "stdout",
     "output_type": "stream",
     "text": [
      "nCoherence Score:  0.5560507760405865\n"
     ]
    }
   ],
   "source": [
    "# Compute Coherence Score\n",
    "coherence_model_lda = CoherenceModel(model=lda_model, texts=df[\"text_tokenized\"], dictionary=id2word, coherence='c_v')\n",
    "coherence_lda = coherence_model_lda.get_coherence()\n",
    "print('nCoherence Score: ', coherence_lda)"
   ]
  },
  {
   "cell_type": "markdown",
   "id": "01e35050",
   "metadata": {},
   "source": [
    "# PyLDA visualization"
   ]
  },
  {
   "cell_type": "markdown",
   "id": "9ff47c92",
   "metadata": {},
   "source": [
    "pyLDAvis is designed to help users interpret the topics in a topic model that has been fit to a corpus of text data. The package extracts information from a fitted LDA topic model to inform an interactive web-based visualization.\n",
    "\n",
    "The size of the bubble measures the importance of the topics, relative to the data. When we have 10 or 20 topics, we can see certain topics are clustered together (overlapping bubbles), this indicates the similarity between topics.\n",
    "\n",
    "Blue bars represent the overall frequency of each word in the corpus. If no topic is selected, the blue bars of the most frequently used words will be displayed.\n",
    "\n",
    "Red bars give the estimated number of times a given term was generated by a given topic. As you can see from the image below, there are about 19,000 of the word ‘like’, and this term is used about 16,000 times within topic 1. The word with the longest red bar is the word that is used the most in the articles belonging to that topic.\n",
    "\n",
    "The further the bubbles are away from each other, the more different they are. For example, it is difficult to tell the difference between topics 1 and 2 but it is much easier to tell the difference between topics 1 and 3. "
   ]
  },
  {
   "cell_type": "code",
   "execution_count": 71,
   "id": "7964a3e5",
   "metadata": {},
   "outputs": [
    {
     "name": "stderr",
     "output_type": "stream",
     "text": [
      "C:\\Users\\user\\anaconda3\\lib\\site-packages\\pandas\\core\\dtypes\\cast.py:1641: DeprecationWarning: np.find_common_type is deprecated.  Please use `np.result_type` or `np.promote_types`.\n",
      "See https://numpy.org/devdocs/release/1.25.0-notes.html and the docs for more information.  (Deprecated NumPy 1.25)\n",
      "  return np.find_common_type(types, [])\n"
     ]
    },
    {
     "data": {
      "text/html": [
       "\n",
       "<link rel=\"stylesheet\" type=\"text/css\" href=\"https://cdn.jsdelivr.net/gh/bmabey/pyLDAvis@3.4.0/pyLDAvis/js/ldavis.v1.0.0.css\">\n",
       "\n",
       "\n",
       "<div id=\"ldavis_el2092820364480204005419949426\" style=\"background-color:white;\"></div>\n",
       "<script type=\"text/javascript\">\n",
       "\n",
       "var ldavis_el2092820364480204005419949426_data = {\"mdsDat\": {\"x\": [-0.255005557905913, -0.2715250077216755, -0.20606176727445763, -0.19764651573449338, -0.18491735990354405, -0.11942032287028806, -0.018991175430236512, -0.11515456248623888, -0.11019874638510369, -0.09099834909196487, -0.025529641060508028, 0.030870598846806235, 0.05312039530768777, 0.09569817744372694, 0.13510833412022077, 0.16598679231355334, 0.26901322018354074, 0.2734879509899098, 0.27935569453405396, 0.29280784212492394], \"y\": [-0.03654268270599136, -0.03475374722301409, -0.22481901551957878, 0.2494940409638506, 0.051297510538424906, -0.1441557395602156, -0.14702921181743095, 0.031189243676728245, 0.013084616077796745, 0.20161192243092707, -0.06812212698183581, 0.1747100641409064, -0.13875200746654587, 0.1372230601882159, -0.0036587418476354988, -0.014064965169151207, -0.018211834059181448, -0.0078018059880661786, -0.008680384218447868, -0.01201819545975539], \"topics\": [1, 2, 3, 4, 5, 6, 7, 8, 9, 10, 11, 12, 13, 14, 15, 16, 17, 18, 19, 20], \"cluster\": [1, 1, 1, 1, 1, 1, 1, 1, 1, 1, 1, 1, 1, 1, 1, 1, 1, 1, 1, 1], \"Freq\": [20.047122229535905, 19.696515791497756, 11.163732740691227, 9.300700532968822, 7.127532974902976, 5.325667881128213, 4.96093534703391, 3.7877029110018676, 3.338754715816146, 3.290832632039868, 2.5883974734367823, 2.313556108218013, 2.0245219531096033, 1.4961417351681072, 1.487772704202009, 1.116815725730011, 0.3610979880948898, 0.3065267878964433, 0.2587339937050381, 0.0069377738223941245]}, \"tinfo\": {\"Term\": [\"israel\", \"game\", \"said\", \"hamas\", \"news\", \"gaza\", \"india\", \"film\", \"israeli\", \"new\", \"company\", \"year\", \"time\", \"player\", \"world\", \"attack\", \"state\", \"day\", \"show\", \"like\", \"people\", \"october\", \"\\u00e2\", \"health\", \"look\", \"latest\", \"share\", \"get\", \"post\", \"team\", \"might\", \"that\\u00e2s\", \"sure\", \"there\\u00e2s\", \"doesn\\u00e2t\", \"answer\", \"they\\u00e2re\", \"choose\", \"probably\", \"ask\", \"isn\\u00e2t\", \"mailonline\", \"feed\", \"sometimes\", \"happen\", \"won\\u00e2t\", \"perhaps\", \"interesting\", \"what\\u00e2s\", \"bst\", \"recommendation\", \"seem\", \"tomorrow\", \"expectation\", \"entrepreneur\", \"happens\", \"coffee\", \"aren\\u00e2t\", \"obviously\", \"feedback\", \"it\\u00e2s\", \"don\\u00e2t\", \"want\", \"we\\u00e2re\", \"maybe\", \"lot\", \"mean\", \"enough\", \"mind\", \"like\", \"even\", \"kind\", \"make\", \"way\", \"thing\", \"keep\", \"think\", \"something\", \"say\", \"much\", \"go\", \"though\", \"get\", \"give\", \"good\", \"still\", \"going\", \"one\", \"see\", \"know\", \"would\", \"need\", \"take\", \"time\", \"could\", \"\\u00e2\", \"people\", \"many\", \"work\", \"well\", \"u\", \"student\", \"california\", \"road\", \"county\", \"district\", \"june\", \"search\", \"labor\", \"killing\", \"document\", \"college\", \"emily\", \"file\", \"mile\", \"class\", \"signed\", \"pictured\", \"investigation\", \"april\", \"hide\", \"san\", \"injured\", \"m\", \"agreed\", \"texas\", \"airline\", \"paying\", \"discussed\", \"probe\", \"database\", \"reporter\", \"north\", \"visit\", \"mr\", \"request\", \"school\", \"centre\", \"local\", \"car\", \"city\", \"travel\", \"airport\", \"number\", \"fuel\", \"\\u00e2\", \"march\", \"november\", \"million\", \"year\", \"thursday\", \"two\", \"said\", \"three\", \"according\", \"last\", \"month\", \"october\", \"new\", \"due\", \"also\", \"first\", \"week\", \"place\", \"including\", \"since\", \"announced\", \"part\", \"home\", \"one\", \"time\", \"could\", \"around\", \"day\", \"made\", \"swift\", \"taylor\", \"stuff\", \"pop\", \"dancing\", \"itv\", \"bird\", \"exit\", \"advert\", \"icon\", \"christmas\", \"thread\", \"queen\", \"strictly\", \"hat\", \"saved\", \"\\u00e2i\\u00e2m\", \"inbox\", \"stephen\", \"we\\u00e2d\", \"contestant\", \"mom\", \"beer\", \"jean\", \"boyfriend\", \"info\", \"watched\", \"i\\u00e2ll\", \"shoe\", \"walked\", \"spotted\", \"looked\", \"dance\", \"show\", \"star\", \"love\", \"bbc\", \"beautiful\", \"celebrity\", \"proud\", \"\\u00e2i\", \"fan\", \"brother\", \"pair\", \"singer\", \"morning\", \"night\", \"viewer\", \"got\", \"picture\", \"hair\", \"incredible\", \"wrote\", \"walking\", \"big\", \"shared\", \"video\", \"photo\", \"happy\", \"story\", \"went\", \"left\", \"took\", \"instagram\", \"seen\", \"look\", \"added\", \"back\", \"said\", \"one\", \"first\", \"also\", \"year\", \"week\", \"new\", \"made\", \"day\", \"last\", \"ai\", \"forbes\", \"solar\", \"cell\", \"resource\", \"emission\", \"developer\", \"editorial\", \"eu\", \"satellite\", \"ensuring\", \"engineering\", \"requirement\", \"sustainable\", \"provider\", \"contributor\", \"regulation\", \"generate\", \"environmental\", \"strategy\", \"efficiency\", \"generative\", \"chatgpt\", \"remote\", \"ecosystem\", \"artificial\", \"tracking\", \"enterprise\", \"comprehensive\", \"input\", \"employee\", \"solution\", \"data\", \"cloud\", \"tool\", \"development\", \"system\", \"communication\", \"technology\", \"code\", \"management\", \"vehicle\", \"information\", \"network\", \"create\", \"ceo\", \"business\", \"energy\", \"company\", \"using\", \"industry\", \"process\", \"use\", \"service\", \"project\", \"model\", \"provide\", \"platform\", \"space\", \"help\", \"new\", \"also\", \"image\", \"team\", \"need\", \"work\", \"president\", \"military\", \"police\", \"terrorist\", \"secretary\", \"political\", \"republican\", \"administration\", \"violence\", \"tel\", \"aviv\", \"election\", \"ukraine\", \"russian\", \"committee\", \"palestine\", \"singapore\", \"afp\", \"criminal\", \"politics\", \"congress\", \"russia\", \"jew\", \"speech\", \"candidate\", \"rally\", \"urged\", \"command\", \"israelpalestine\", \"activist\", \"leader\", \"yous\", \"government\", \"law\", \"foreign\", \"china\", \"state\", \"speaker\", \"united\", \"strike\", \"security\", \"said\", \"party\", \"american\", \"house\", \"minister\", \"u\", \"support\", \"country\", \"campaign\", \"national\", \"statement\", \"right\", \"would\", \"people\", \"international\", \"told\", \"official\", \"relationship\", \"parent\", \"daughter\", \"wife\", \"girl\", \"son\", \"mother\", \"husband\", \"jordan\", \"father\", \"sister\", \"born\", \"marriage\", \"documentary\", \"married\", \"sex\", \"charity\", \"wedding\", \"ceremony\", \"doubt\", \"divorce\", \"kim\", \"shortly\", \"closing\", \"sarah\", \"silver\", \"amy\", \"sexual\", \"teacher\", \"filing\", \"family\", \"woman\", \"child\", \"died\", \"kid\", \"young\", \"baby\", \"dog\", \"life\", \"age\", \"comment\", \"share\", \"email\", \"friend\", \"couple\", \"book\", \"told\", \"death\", \"man\", \"house\", \"together\", \"year\", \"time\", \"said\", \"october\", \"player\", \"football\", \"ball\", \"coach\", \"champion\", \"athlete\", \"tonight\", \"women\\u00e2s\", \"precision\", \"squad\", \"del\", \"spear\", \"yard\", \"championship\", \"en\", \"wwe\", \"guided\", \"defending\", \"finale\", \"russell\", \"atlanta\", \"secured\", \"tnt\", \"josh\", \"knight\", \"cameron\", \"fixture\", \"medal\", \"witnessing\", \"pat\", \"de\", \"game\", \"match\", \"la\", \"club\", \"cup\", \"sport\", \"asian\", \"win\", \"season\", \"team\", \"booking\", \"play\", \"v\", \"played\", \"title\", \"playing\", \"score\", \"winning\", \"second\", \"final\", \"world\", \"first\", \"run\", \"united\", \"winner\", \"last\", \"point\", \"top\", \"two\", \"israel\", \"hamas\", \"gaza\", \"israeli\", \"palestinian\", \"strip\", \"militant\", \"netanyahu\", \"rocket\", \"humanitarian\", \"southern\", \"benjamin\", \"terror\", \"soldier\", \"solidarity\", \"isi\", \"egyptian\", \"navy\", \"occupation\", \"munition\", \"unwavering\", \"certificate\", \"massacre\", \"prayer\", \"firing\", \"infiltrated\", \"\\u00e0\\u00e0\\u00e0\", \"aerial\", \"browse\", \"iraq\", \"missile\", \"attack\", \"killed\", \"army\", \"conflict\", \"defence\", \"war\", \"embassy\", \"fighter\", \"border\", \"territory\", \"force\", \"saturday\", \"minister\", \"operation\", \"air\", \"people\", \"ground\", \"group\", \"said\", \"dead\", \"launched\", \"prime\", \"least\", \"device\", \"google\", \"amazon\", \"gaming\", \"discount\", \"galaxy\", \"charging\", \"gen\", \"audio\", \"sony\", \"integration\", \"flagship\", \"mac\", \"tier\", \"server\", \"buyer\", \"discounted\", \"seamless\", \"z\", \"specification\", \"instrument\", \"shopper\", \"toy\", \"brightness\", \"vessel\", \"seller\", \"newer\", \"configuration\", \"sleek\", \"cuttingedge\", \"sensor\", \"pro\", \"storage\", \"smart\", \"mode\", \"feature\", \"save\", \"app\", \"deal\", \"prime\", \"sale\", \"available\", \"camera\", \"chip\", \"microsoft\", \"window\", \"switch\", \"screen\", \"mobile\", \"best\", \"tv\", \"model\", \"price\", \"day\", \"offer\", \"watch\", \"find\", \"new\", \"user\", \"also\", \"october\", \"video\", \"big\", \"cent\", \"stock\", \"tax\", \"inflation\", \"investor\", \"payment\", \"earnings\", \"debt\", \"profit\", \"ev\", \"fiscal\", \"equity\", \"trading\", \"treasury\", \"forecast\", \"bee\", \"pad\", \"hike\", \"flexibility\", \"banking\", \"monetary\", \"benchmark\", \"crude\", \"tc\", \"trader\", \"hybrid\", \"rbi\", \"fda\", \"recession\", \"yoy\", \"revenue\", \"index\", \"market\", \"fund\", \"growth\", \"bank\", \"billion\", \"financial\", \"investment\", \"per\", \"rate\", \"net\", \"price\", \"economic\", \"oil\", \"consumer\", \"quarter\", \"company\", \"increase\", \"economy\", \"cost\", \"capital\", \"business\", \"share\", \"million\", \"year\", \"global\", \"higher\", \"firm\", \"sale\", \"month\", \"whatsapp\", \"subscribe\", \"hindustan\", \"clicking\", \"tiktok\", \"bollywood\", \"capsule\", \"ht\", \"virgin\", \"emoji\", \"subscribing\", \"bachchan\", \"ethnic\", \"amitabh\", \"investigate\", \"crowded\", \"gossip\", \"pic\", \"karan\", \"ariana\", \"emojis\", \"captioned\", \"subscribed\", \"vibrancy\", \"prakash\", \"ka\", \"bts\", \"\\u00f0\\u00ef\\u00f0\\u00f0\", \"nude\", \"broadway\", \"click\", \"post\", \"news\", \"topic\", \"link\", \"channel\", \"latest\", \"exciting\", \"newsletter\", \"updated\", \"viral\", \"posted\", \"facebook\", \"account\", \"content\", \"x\", \"join\", \"stay\", \"social\", \"medium\", \"user\", \"platform\", \"entertainment\", \"email\", \"comment\", \"view\", \"article\", \"share\", \"time\", \"today\", \"read\", \"video\", \"cancer\", \"patient\", \"disease\", \"sleep\", \"mental\", \"protein\", \"symptom\", \"nh\", \"wellbeing\", \"kidney\", \"organ\", \"medication\", \"oxygen\", \"disorder\", \"vegetable\", \"sugar\", \"washing\", \"disability\", \"clinical\", \"excess\", \"lung\", \"virus\", \"arthritis\", \"cognitive\", \"infection\", \"meat\", \"immune\", \"travelled\", \"diabetes\", \"chronic\", \"drug\", \"health\", \"brain\", \"treatment\", \"healthcare\", \"care\", \"medical\", \"food\", \"stress\", \"blood\", \"cooking\", \"skin\", \"healthy\", \"hospital\", \"doctor\", \"pain\", \"dr\", \"condition\", \"help\", \"risk\", \"body\", \"people\", \"may\", \"also\", \"heart\", \"film\", \"movie\", \"premiere\", \"trailer\", \"theater\", \"disney\", \"novel\", \"starring\", \"comedy\", \"script\", \"edit\", \"filming\", \"grateful\", \"filmmaker\", \"marvel\", \"comic\", \"spinoff\", \"hulu\", \"thriller\", \"anime\", \"jeremy\", \"adaptation\", \"cinematic\", \"emmy\", \"optimize\", \"sequel\", \"teeth\", \"costars\", \"sunset\", \"bow\", \"netflix\", \"trial\", \"character\", \"franchise\", \"\\u00f0\", \"award\", \"cinema\", \"actor\", \"series\", \"drama\", \"festival\", \"cast\", \"directed\", \"season\", \"studio\", \"release\", \"audience\", \"production\", \"role\", \"director\", \"horror\", \"producer\", \"released\", \"october\", \"story\", \"new\", \"episode\", \"view\", \"set\", \"science\", \"researcher\", \"scientist\", \"earth\", \"sample\", \"journal\", \"approximately\", \"filter\", \"ordered\", \"conservation\", \"formation\", \"id\", \"ruled\", \"registration\", \"clarity\", \"indicator\", \"spell\", \"laboratory\", \"observe\", \"phenomenon\", \"biodiversity\", \"particle\", \"composition\", \"creature\", \"minimal\", \"measurement\", \"wildlife\", \"peerreviewed\", \"attributed\", \"heritage\", \"ocean\", \"pollution\", \"study\", \"enhancing\", \"university\", \"innovation\", \"temperature\", \"carbon\", \"fish\", \"surface\", \"research\", \"crop\", \"material\", \"water\", \"discovery\", \"weather\", \"institute\", \"human\", \"plant\", \"e\", \"dr\", \"found\", \"space\", \"sea\", \"published\", \"finding\", \"change\", \"environment\", \"indian\", \"pakistan\", \"singh\", \"eclipse\", \"cm\", \"ist\", \"kumar\", \"qatar\", \"ajay\", \"hindu\", \"modified\", \"availability\", \"pti\", \"mumbai\", \"tamil\", \"modi\", \"pakistani\", \"shah\", \"cricket\", \"parineeti\", \"hai\", \"dirty\", \"akshay\", \"narendra\", \"abbas\", \"bearing\", \"pradesh\", \"chopra\", \"raniganj\", \"sharma\", \"edition\", \"delhi\", \"r\", \"india\", \"india\\u00e2s\", \"khan\", \"australia\", \"pm\", \"world\", \"newsletter\", \"culture\", \"international\", \"sport\", \"opinion\", \"follow\", \"special\", \"read\", \"mission\", \"south\", \"technology\", \"october\", \"share\", \"pink\", \"recipe\", \"chef\", \"shelf\", \"ensemble\", \"cream\", \"stylish\", \"ndtv\", \"denim\", \"dish\", \"festive\", \"bjp\", \"emma\", \"shade\", \"spice\", \"cotton\", \"powder\", \"culinary\", \"lamp\", \"flavor\", \"hue\", \"earring\", \"bread\", \"pulse\", \"printed\", \"scroll\", \"skirt\", \"capturing\", \"cheese\", \"delicious\", \"kitchen\", \"wore\", \"color\", \"dress\", \"expertise\", \"restaurant\", \"black\", \"stunning\", \"collection\", \"style\", \"colour\", \"fashion\", \"gown\", \"white\", \"raw\", \"red\", \"outfit\", \"ingredient\", \"food\", \"look\", \"light\", \"design\", \"blue\", \"brand\", \"beauty\", \"perfect\", \"album\", \"band\", \"presenter\", \"mum\", \"portrait\", \"mine\", \"guitar\", \"pregnant\", \"teaser\", \"hilarious\", \"invalid\", \"consented\", \"\\u00e2oh\", \"blocking\", \"villain\", \"youngest\", \"sometime\", \"bookmark\", \"newborn\", \"abusive\", \"lyric\", \"too\\u00e2\", \"grounded\", \"daring\", \"diner\", \"imagined\", \"singersongwriter\", \"ridiculous\", \"valentine\", \"julie\", \"dad\", \"song\", \"music\", \"artist\", \"poster\", \"musical\", \"solo\", \"track\", \"musician\", \"theatre\", \"released\", \"buy\", \"insurance\", \"royal\", \"console\", \"charles\", \"suspect\", \"sorry\", \"totally\", \"empathy\", \"mate\", \"na\", \"neil\", \"convenience\", \"jackpot\", \"duke\", \"vanilla\", \"wished\", \"corresponding\", \"drake\", \"sussex\", \"akin\", \"howard\", \"lightning\", \"worthy\", \"whereabouts\", \"remembered\", \"hometown\", \"lottery\", \"divorced\", \"acknowledges\", \"prince\", \"princess\", \"except\", \"harry\", \"ram\", \"king\", \"\\u00e2they\", \"se\", \"blame\", \"pipeline\", \"understood\", \"blast\", \"appreciation\", \"salman\", \"yoga\", \"g\", \"who\\u00e2s\", \"questioned\", \"accomplish\", \"hinted\", \"doll\", \"sunny\", \"famously\", \"longest\", \"parallel\", \"tremendous\", \"fault\", \"trapped\", \"halted\", \"wishing\", \"toned\", \"witch\", \"jumping\", \"everyone\\u00e2s\", \"footstep\", \"uneven\", \"frame\", \"cancel\", \"shaping\", \"ra\", \"aggravated\", \"dheeraj\", \"anjaam\", \"darr\", \"daisley\", \"bankmanaged\", \"casterman\", \"intix\", \"intix\\u00e2s\", \"sibos\", \"ff\", \"enlightening\", \"srks\", \"bhava\", \"saubhagyavati\", \"linchpin\", \"om\", \"intersection\", \"oa\", \"andr\\u00e3\", \"streamlines\", \"news\\u00e2\", \"unraveling\", \"dheerajs\", \"dhoopar\", \"cillian\", \"gout\", \"perfectionist\", \"psoriatic\", \"autoimmune\", \"jindal\", \"transparency\", \"bernstein\", \"psa\", \"raghav\", \"semiconductor\", \"swift\\u00e2s\", \"diagnosis\", \"spine\", \"renowned\", \"era\", \"grey\", \"musk\", \"renewable\", \"uncover\"], \"Freq\": [10253.0, 10623.0, 26838.0, 7636.0, 7866.0, 5444.0, 4488.0, 4467.0, 5222.0, 13570.0, 6216.0, 14736.0, 13878.0, 4744.0, 6807.0, 4612.0, 6181.0, 9530.0, 7971.0, 12111.0, 9973.0, 8180.0, 17045.0, 3359.0, 4903.0, 4423.0, 6244.0, 9128.0, 3494.0, 5464.0, 2677.5248883340987, 2237.6592488799038, 1840.6413871741536, 1660.72987058774, 1035.1006305485812, 891.274618106185, 848.5185916386048, 837.4188695317142, 814.3108552665146, 807.6526556399214, 790.0928828737082, 757.5983534574433, 699.5184547772182, 633.2073465983826, 615.4468899100937, 586.5371034576854, 566.0369239483011, 548.5877737931689, 515.4564426052227, 508.59396787057983, 492.9225956033934, 459.5079480082642, 450.24047010992484, 444.8866455614125, 430.78173453299667, 412.84946424124644, 412.3108567605598, 366.586785500891, 365.46851835475616, 364.6975048092235, 6928.474817950234, 2589.081160166763, 4820.586102103011, 1051.9497005690014, 552.5037156438617, 2844.876408015023, 2294.8483926077574, 1489.9617951527407, 990.6738576181621, 10570.643239654817, 5272.651352387895, 1558.1099709957984, 6199.157617361223, 4747.3354847296205, 3231.495603448334, 1994.0238975703835, 3554.674738265894, 2235.226678082701, 5590.44398990612, 3546.266574838801, 3832.799558007934, 1797.5312416033737, 6642.976378003254, 1992.763039216458, 3144.2295026188203, 3865.3092267376187, 3473.7755989220245, 9130.580480702738, 3809.2196900719173, 3403.295968812326, 5918.267161926747, 3773.0717978735283, 3778.736576878141, 6819.0627886194925, 4209.343434737287, 6032.920914471282, 4500.029800523864, 3303.718437479052, 3068.547863587274, 3137.337805488507, 2935.400770754111, 1890.0105528383676, 1285.195420200445, 992.5811127927412, 979.4422584590254, 924.0938175748, 906.3336165553375, 851.4153612109782, 823.1936539130066, 722.1408705501927, 698.320712662292, 657.4070098922956, 630.1102222602086, 629.9106266856647, 619.3947418554777, 617.6689492707304, 610.0493103806227, 604.3381787762573, 568.94984881768, 553.4608517215839, 528.5683432598773, 523.3771979079457, 512.0737580611834, 510.3396634074776, 502.0179808110671, 487.7041761680001, 487.4085187372157, 463.4394078954178, 449.68343310245376, 440.9839717764777, 440.5094047596377, 623.2425432660167, 1326.6750473377786, 1267.5317999165327, 1491.3948754973228, 856.1393076322704, 2340.7976768249455, 752.499945501529, 1575.2604389666262, 1853.5672374668895, 2531.7579927094243, 1112.5071278867201, 988.6042833938058, 2659.979573474548, 1053.0735156036508, 9661.526108794602, 920.7398508994756, 1034.1634780334364, 2651.555740837994, 7856.636392252061, 3062.6559311110095, 4415.941876817087, 11499.321905861036, 2824.339783680374, 2749.7241087089947, 3937.0984642565363, 2814.498787872604, 4267.857596068761, 6129.330617069195, 1659.4109017690218, 6731.540006996678, 4311.53478085941, 2758.079310908825, 2220.0438070879886, 2545.301157801419, 2638.67397390636, 1575.2435580930774, 2314.330957720892, 2260.670396639837, 3672.623051008943, 3421.65039945108, 2454.930093096238, 2118.9283431045383, 2453.94685139592, 1942.3636764262758, 1323.031833658561, 1221.3063947947635, 823.3049476464498, 581.8215800138007, 573.3787645564603, 559.9796001059915, 549.2696325031436, 486.7204352745168, 462.7203533295879, 462.6733766917423, 460.1368343108433, 446.89506904594396, 434.14855831859853, 431.7735716538296, 429.94160041550936, 420.67387049209424, 418.28798273774174, 397.06736493619377, 385.3802989511788, 379.2428286654406, 376.80843498369666, 368.3389549906842, 366.34860425298314, 364.6383879900473, 356.9189657004658, 333.435430709076, 326.99612180078657, 320.2359365757272, 314.34293694829296, 303.22070817517005, 576.221125633985, 1139.684055199992, 616.2242423628534, 6995.599665947993, 3894.3127716309764, 3137.162301711315, 903.1974647020562, 522.6481914263475, 1113.1106494999578, 549.5365915602828, 2391.942956703173, 3304.4668917322274, 1422.275980627874, 1215.9370984116922, 873.3346748264674, 1395.6108175550864, 1990.0508400999022, 727.2731713996624, 2683.689523053179, 1330.5118633153818, 737.6371274396143, 693.9817927872907, 1545.99393638837, 654.5461601176054, 2405.981364183824, 1720.4646987962228, 2286.298693771753, 1448.7778626322233, 920.1119560553467, 2127.268736570686, 1336.5843191891436, 1634.2929188651874, 1485.5012022608896, 1143.2176551522596, 1610.3751440678695, 1964.7519992049872, 1756.0665594245688, 2173.4401054389728, 3578.5318907777446, 2653.9206080281765, 2091.660915634366, 2261.283908606849, 2153.5151095832143, 1626.9976587555523, 1798.9414074327535, 1542.298231744238, 1539.1914996380362, 1449.523528529779, 2255.106997732142, 1102.4187532983515, 867.7415276204616, 807.4651680632321, 684.7278955448637, 671.7413838321545, 630.7690017757006, 563.2430741764741, 537.980365461108, 479.27399644500423, 474.8386049227166, 465.5746545352963, 445.1767342308224, 432.4865272791937, 427.298613136014, 415.759780495248, 405.3261613464463, 390.2666923779921, 385.9345338264889, 791.8115214768579, 372.16492162559194, 363.12511092568803, 335.51643294924617, 333.2945065964199, 329.0264766277173, 316.43688915394176, 311.1502503152841, 310.23552778934624, 305.3105310350504, 303.92544511881067, 1262.1738663815745, 966.1279717758389, 2937.53730630382, 518.7167664261202, 1253.4632251163616, 1230.933870651806, 2403.3871780767686, 521.9847433246797, 2234.7392632710244, 866.3126003603002, 1038.6207773535846, 971.2797543792441, 1655.1608782143826, 829.8535245841467, 969.2695862911723, 842.1094996852481, 2545.512843917592, 1519.4406221987622, 3169.739619513138, 1595.5569050510405, 1261.7920350643187, 1296.702158917443, 2031.0910591060276, 1855.789060622672, 1088.0666915290635, 1350.5257390900906, 1020.5998942074066, 1114.990699694841, 1095.8141953117872, 1447.2521578728606, 2069.7651354787395, 2137.73359276855, 1168.466423958339, 1358.9079949684917, 1358.397710473665, 1196.221457538931, 2372.7339261780016, 2268.659073083189, 1931.5082462010878, 1725.194337438647, 1150.867836198043, 1144.0369713658874, 1118.4187247031002, 927.54626368679, 909.8390101045549, 826.9323574053199, 774.1446192594424, 758.5039896955793, 746.3076333539816, 663.3507595981389, 659.9110928935286, 653.9623761922951, 641.3907388743515, 640.8754097471265, 619.314553792309, 606.51519427551, 481.43887669589145, 473.2258062130318, 463.04014475697375, 448.7505267079558, 422.3104672813574, 409.1470426572855, 395.00535891708864, 364.35767121487197, 325.9433446755727, 322.39630104584245, 2082.4850597915474, 3008.6074088145183, 3073.6890913770967, 1557.1718062578777, 1098.1552543891228, 980.1799338454472, 4786.151414584226, 1011.0276796051676, 2573.67803733841, 1552.5126140749646, 1967.8909232066017, 8704.706487234944, 1300.3655570545125, 1637.8258217530004, 2046.0549156258498, 1598.1853353485583, 2986.324481217288, 2014.5513419504284, 1845.2556093465078, 979.3224205698102, 1331.0838196114535, 1248.502477186177, 1594.3540145015893, 1890.875155383693, 1814.5477615251343, 1263.8749273091717, 1339.802855973696, 1188.025009019717, 1909.5109445225514, 1664.0667722533708, 1393.8188374996112, 1317.8658450000435, 1287.1628383971727, 1280.1783249144507, 1203.5895399583492, 988.4484318794026, 945.1434605896419, 810.9245078958003, 631.977776620096, 594.8014270849108, 589.249934577981, 589.0019627995941, 532.7426360292459, 511.20998345711337, 492.2343060198403, 468.7178792206131, 456.3815825479542, 430.70168803165166, 394.3110064726467, 381.6723024546799, 375.305436239518, 372.6934643463259, 360.27149245150264, 357.28610379306025, 350.184750258452, 350.0790592092754, 337.296016760256, 299.78985503249834, 3849.458217489201, 2560.2707501301725, 3098.7855391293724, 1118.8565955866832, 1033.5359715688344, 1319.8895760556409, 993.8044427113066, 696.7181647167469, 2693.004341395904, 1119.745373131547, 2098.0010724666363, 2379.698958177641, 1380.7581923656749, 1174.1370174714714, 968.9868375052424, 818.3883536695139, 1303.7559964030593, 899.9832653187938, 878.6551483097936, 1163.7230258599614, 981.9464681850985, 1265.8604613675827, 1221.375416777599, 1135.6916645037118, 997.0485780232377, 4743.750544089643, 1458.38240127885, 1092.9936031567083, 877.4878939279952, 814.1957974698647, 504.1939178303356, 496.9228450400195, 484.417747119747, 385.15831238368514, 365.11647617011255, 352.8605594575451, 348.26837632791086, 343.35452291196646, 340.14133995123893, 1477.473654748176, 328.4818201627914, 291.64351515026397, 289.71317977773566, 261.67511860890664, 261.5607392069922, 258.1209930251051, 253.26446871219218, 249.77387562372584, 235.76980462440326, 235.01609245950286, 234.3065010510996, 232.04963374492192, 221.1743377503742, 204.93038907267206, 201.73423059026118, 3437.5210459780437, 10125.10387142396, 1562.662122914539, 2936.6873105957225, 1184.1530106679825, 1388.7986013029808, 2625.5502450151334, 662.0582982318172, 1561.888720206652, 2311.028636474057, 3160.6041227778915, 355.92186385838744, 2169.319457904764, 846.5565949840801, 1249.177526403738, 784.4653079934583, 920.0686060099753, 634.2401961108806, 516.6797782643629, 1070.5517511319722, 710.1117266453724, 1549.6743104616896, 1344.2222788272093, 782.6166273859163, 825.9163056657925, 617.7008370126033, 899.8923164957976, 714.2691147054502, 718.9295351504252, 715.8417792059956, 10252.5003238559, 7635.332166675309, 5443.484807415599, 5221.137610651813, 3019.7184026243526, 1413.8563212058693, 1285.9045274330213, 1092.5774919168132, 847.81624433769, 665.0781969028133, 630.9653676411879, 614.3963156344414, 516.6281163574066, 506.0753159354293, 387.97037053284964, 381.44730545711144, 218.63225414106847, 183.9725388774539, 174.7509121482472, 158.82447048505355, 132.46976982606415, 131.07866032248822, 127.78934843435023, 127.36274648685392, 98.0657696016466, 73.4527264397964, 73.28929658409564, 70.88338932136712, 68.87450192504156, 64.96519698044712, 232.93501406790335, 4083.0438129708446, 1625.2996440347972, 457.40663930436114, 1445.642496839609, 775.5940313587992, 2547.4117606666614, 421.67651436391003, 663.2059112684062, 902.0165772210587, 534.01591415704, 1272.5109425345993, 1031.1165841383545, 1149.3213382984616, 680.5636945976343, 881.1949430687417, 1644.7167712670052, 694.7266397773542, 1131.7888430785579, 1861.3028926616153, 602.4036188901928, 613.6161522724834, 666.9227031869514, 635.2023571629485, 1969.489935380403, 1772.2657898696707, 1487.0460207572357, 800.9731342213503, 649.2139868606731, 466.717198701721, 367.50290264005685, 331.7243975807504, 260.3583792203236, 255.09382732600952, 202.96222468074558, 192.31359565575286, 179.06525755775775, 166.7718313412593, 165.7729418659276, 150.88219895753136, 149.1446500887879, 148.6855826459418, 147.06029977874044, 146.59754994537056, 134.19096644809494, 132.74418570243043, 128.41879584734085, 127.67375677098339, 123.52642339781312, 117.83148917919172, 117.44474435532716, 113.40876224974723, 111.29444853910016, 109.62299506205117, 530.1752951396718, 1370.6362275041852, 702.9510414101584, 796.0182784065017, 547.38369242525, 2308.8211432304806, 1310.3696143692393, 1021.3542153607311, 2708.022673321937, 2166.239357424884, 1313.9289145397224, 1174.6425164321654, 1109.436715233135, 469.12402791184206, 462.4849357993365, 829.1967577541302, 556.2329224935297, 844.8030571599769, 411.66977603896834, 1682.2287615442206, 1132.7921715840337, 1136.3215435359923, 1171.5822388144475, 2353.4239459942014, 939.4348644893125, 894.3927079721417, 972.389679658375, 1636.5592382644365, 815.2958977098482, 1242.5987115317148, 1025.7514118310346, 748.8056693142337, 717.2629219101019, 1373.323817713612, 1337.0922621839927, 980.241539937324, 919.7087372843381, 818.0376161311282, 541.3445753217941, 515.2110828722135, 451.0937318341114, 436.3007134911339, 428.1414700150149, 363.41523539205076, 303.12036385970424, 280.3710555295402, 216.99119386954882, 211.52007270645979, 202.98844344611427, 191.22277033675573, 183.98687391892437, 172.5163838171332, 170.65565703535887, 164.68246930479165, 163.27635926294863, 151.72532582416684, 151.1910326746666, 145.70816753477177, 137.64109578212626, 130.09745168862923, 128.89668785540255, 128.67470819932217, 123.69061530270314, 772.0955949921893, 434.09668345037255, 2475.4222480712924, 981.008782264547, 1371.8008920914551, 1539.5762694610096, 1304.7988227191495, 917.6650079033624, 899.2697789739308, 1868.9179744156918, 1138.493476839997, 547.9433494388811, 1836.934594432972, 677.2771305412647, 426.34297706308524, 679.0541236931366, 567.7619113682665, 2870.663475662414, 826.4893031241621, 728.9620488104746, 902.8102643279609, 678.1693953617269, 1573.875432208662, 1541.4029664517248, 1024.049994896336, 1585.9101417945499, 745.5721007931736, 621.6730992563621, 625.0873599777949, 686.2538287808707, 758.2545785485441, 1528.8925022267272, 1391.7613918849277, 1087.3256748684503, 778.9074153503658, 593.682131123985, 272.6096164681914, 268.3622499825033, 236.62323004804344, 215.71346360433645, 194.05508390708567, 173.7598094791732, 165.7288639657733, 158.83927636618665, 147.60705910784125, 142.44911015423128, 141.67474002253235, 128.37451729113525, 126.63155034647123, 118.72925284785933, 115.38302252003187, 107.92431974152753, 105.83293033250162, 102.2368228288131, 90.76687494921845, 90.15507408624211, 80.4710697708099, 77.26601586514698, 76.1241624519128, 69.69807592072901, 60.749938249884245, 1789.7587460523039, 2618.2441060302476, 5058.826158261101, 772.214663759271, 1161.0034021198535, 1091.1852244128809, 2515.1592791282683, 766.5840447250382, 905.0444390912988, 1009.2408575749071, 327.19275985175034, 731.2854296845851, 862.0095597710367, 1121.7650120874443, 1090.6813242311414, 1388.7656296612734, 818.0741625307234, 903.8892071937, 1253.0813412616155, 1362.2205346659016, 999.6529346884698, 860.5711749566493, 697.4168350646253, 950.102556193813, 1316.192947944103, 991.5185252592898, 994.5314526738928, 1261.9708736248049, 1309.6345357923374, 893.0267688793446, 869.048960938657, 868.2328870300088, 991.0579102999196, 955.587416808604, 817.5184579956806, 703.7619240207176, 613.3503237240427, 383.7467025405737, 371.3148117005082, 369.3197918804269, 357.20096068821806, 353.4824062706594, 344.1117453544387, 267.61577805192184, 225.36593904229957, 206.2372664369703, 206.18438012744244, 201.08434559007185, 193.34487138849593, 192.2908670679086, 191.76653847796447, 187.57886591713228, 173.87546077479186, 171.0079631218665, 168.01491330511118, 157.43789519014888, 150.3868044059216, 148.63560770063344, 146.6980249481217, 141.88605339479287, 140.53360061020427, 139.4966291268589, 892.9443470500984, 3181.114573609652, 827.8212441805066, 786.3165105366817, 571.1133081004738, 1254.643341997595, 787.3986157881767, 1462.3061333911382, 435.0034506245166, 501.7189287437401, 330.266844142415, 480.11228712115053, 335.7308093014659, 679.3793524980854, 479.71705378522597, 336.47953902098936, 445.03754705239277, 592.3206207049012, 777.8745943259496, 483.4668459061997, 520.2221159089404, 746.1539904718514, 622.7827449279725, 537.3795138995418, 365.7279110635013, 4466.648401723261, 1687.543827096887, 669.1464627832706, 529.1846062783718, 509.86209301557903, 390.487590945576, 337.2620891063203, 319.69827026478276, 306.70044641884846, 294.55450662768095, 234.0398195777495, 229.24311131732227, 227.639325592927, 210.3732779032585, 200.08938559064345, 191.44762217601297, 172.72682367146038, 162.6602614907511, 160.10642977386163, 148.78117043106067, 140.8720802102825, 140.35100558344112, 132.07409965221552, 127.39909114564715, 123.11374371845535, 122.08678382285622, 103.03014121550784, 98.08205137507895, 94.22067619428312, 94.02721099015288, 800.4821292322482, 821.9321197394306, 1474.5313413376232, 249.44857001882804, 522.391379209167, 1215.8685198602147, 338.87190506276374, 1146.4625969891506, 1698.5792655229957, 447.1943855685256, 615.8406337020148, 435.13961037035045, 346.295831826327, 1211.2426492114917, 530.2764196129796, 678.55430744619, 467.04027746191406, 555.1519801463919, 699.9813148048115, 566.5546369486412, 342.9186743234272, 408.4722175839088, 546.9752699339855, 773.9349428638988, 595.8327219890681, 773.6821851187101, 425.2489204762158, 430.74706987960434, 427.1971120951356, 1156.9548753935069, 1009.6119612178172, 898.4799965614359, 796.3946942852816, 778.2971653728551, 407.48129186018843, 331.03969801698844, 241.02176233396963, 187.3606392229406, 180.49208491731946, 163.15659008102512, 160.59222554395762, 157.91424379983684, 144.42241592504263, 143.79613391609846, 135.82118344628833, 135.11584235950372, 134.49107384526957, 134.10986236517482, 131.03387355382966, 127.01387394822835, 126.28906763781164, 125.95100126733335, 114.43011136832651, 114.22404485940073, 112.64229574207569, 110.9075995759958, 104.66797589506145, 104.2698742344177, 101.92807750276755, 432.5915144286087, 255.48158569002234, 1237.7429527741026, 191.21479554361179, 1051.2816657410915, 511.30635630554934, 698.1325637297621, 409.1173376002366, 209.19399859877578, 497.08497142860966, 947.6476379613553, 255.0326453216527, 570.702026789932, 1016.7827309879722, 304.8567650520578, 407.71453821161555, 319.2870332197447, 731.2783501290542, 369.31810233098986, 241.55932622591686, 379.8863313930574, 606.6825046981149, 538.7710301030565, 330.3093106948284, 372.39474278589074, 300.03914322387834, 351.2304952172182, 281.7084730638241, 2533.4337246288114, 653.8165777112749, 526.1510625590862, 475.65237770361693, 468.09378956826276, 374.07854022830657, 354.84348025879154, 324.16361834533734, 295.08512777718545, 279.9888964879805, 270.67699182713625, 261.72029482166823, 261.1879745632199, 246.93096395006089, 242.45946123718952, 237.44696344818126, 229.66437688788668, 207.4389504873222, 201.78441167348706, 193.2873754896353, 187.44092462471974, 174.79003037762286, 174.00259731801873, 150.38737105946373, 149.55007347553192, 148.13075833422528, 147.85317461977994, 144.612994342476, 142.61169299855726, 141.10117730405773, 2159.4143821925386, 825.0158815642767, 1066.3391089096701, 4055.8176566913558, 492.1815216495655, 487.827975554083, 623.2675487711039, 601.5421681265514, 1407.0938909216354, 538.7135781816359, 411.5629918461682, 594.3211662699196, 650.638793411803, 414.33617428737716, 385.0902074798988, 376.84904706309595, 446.3192028493999, 340.60032845075904, 347.16798066480624, 365.73984559623943, 361.85611926549757, 324.09654005627107, 366.78879427541966, 311.36753200277946, 262.4173988071027, 257.8230044905226, 245.75738438877707, 228.8236049511845, 209.935811408915, 193.98103965643193, 182.82547994257237, 172.25780812989106, 165.0083622944201, 154.37017406077325, 146.004061314307, 134.72526262175066, 134.20822065752378, 133.1439310970365, 132.26558269997636, 123.77523458123717, 115.76352412313935, 108.87114808639822, 108.34258875390506, 104.6266997467593, 103.18560865648651, 102.59593979986109, 102.49377415301937, 100.88330400041625, 100.69630367846324, 96.05802881643808, 88.49617044393464, 87.27821659539316, 847.9344481586054, 362.36226481675885, 638.6492425268364, 478.3762760084526, 247.72931788658764, 468.77433709402345, 1292.5717079088174, 338.17607389982294, 454.88862759898086, 414.423844862925, 247.5357978554866, 358.04193365295674, 169.38444442477552, 490.68451402318635, 202.70864713058046, 406.1526170291376, 237.20682114643856, 203.49495072893478, 447.09457029513607, 525.4451867498439, 338.4227715345404, 294.64720046781133, 271.188110110444, 284.760245916885, 205.74050802487554, 204.4973540490375, 365.1255729129301, 322.3286241138752, 282.9834267513552, 247.59910858149803, 204.6190093519961, 177.65589723990013, 136.1581800511346, 126.41003136781806, 111.21130558072272, 99.23403858919697, 88.2036339559865, 85.27053815669797, 79.57018648251012, 69.62610742596833, 64.6337006566163, 63.59498911844471, 57.45516773272836, 56.59375189933242, 50.53729693669377, 46.44318468436425, 39.949058537277246, 39.22072102426467, 38.92602893762399, 37.460975159912316, 37.00744446727624, 35.695212220476584, 35.08222396471172, 32.234828361298824, 26.850258977058253, 23.873412547937043, 212.74447566206712, 484.4258466265317, 429.0364077390612, 191.29951859650762, 68.45950006505055, 88.78476367634993, 80.6107904060157, 110.76686391845078, 61.86600846767215, 66.16258058364205, 56.931778595437436, 847.3309233155317, 342.4908087287513, 277.1140602125737, 224.64700868650772, 179.8232381166701, 147.7363454834854, 145.46278955870727, 137.69558776305954, 123.24813367401262, 66.6417626262886, 64.90791309458612, 64.30953229001922, 62.359469446917174, 59.68234175525535, 55.7142176630739, 52.29992592328191, 52.079711692308415, 51.72442658878643, 47.99245149875565, 44.01972785640739, 41.593129221209885, 40.865323621125114, 39.91809622193079, 39.343634800909285, 30.068028185504083, 29.485284990165365, 28.482606740621964, 28.25967929185344, 27.367935043220037, 27.0660637233534, 230.45431114787272, 187.9048028007789, 116.80900461538835, 136.69814860787747, 174.11652282168723, 72.32011402857611, 200.47343028735753, 188.67344605647727, 147.91607045802604, 144.71474708280584, 133.42286302725327, 122.52919410496128, 106.83484879441697, 103.22470275143996, 89.41960368420051, 82.13544100842516, 81.79747579865341, 73.63731544201376, 66.50099664148222, 61.012531787926775, 59.802789372804824, 56.73546336875161, 54.948420974782394, 52.36201106690582, 52.34936781639936, 51.28323789538563, 49.3464904001061, 48.554938581595216, 45.446185756733584, 45.02315306418387, 43.10250953662822, 38.5750589538148, 38.391201081225525, 36.95308041141173, 36.12823736571907, 34.88991131668903, 173.24293681127463, 55.83829787658795, 1.8497873784689354, 0.99517562655769, 0.5311428055802426, 0.0017462300148886668, 0.0017462279206868375, 0.0017462279206868375, 0.0017462338225283564, 0.0017462254457210392, 0.0017462254457210392, 0.0017462254457210392, 0.0017462254457210392, 0.0017462254457210392, 0.0017462254457210392, 0.0017462254457210392, 0.0017462256361030237, 0.0017462256361030237, 0.0017462256361030237, 0.0017462254457210392, 0.0017462256361030237, 0.0017462258264850082, 0.001746226588012946, 0.0017462254457210392, 0.0017462254457210392, 0.0017462254457210392, 0.0017462254457210392, 0.0017462233515192099, 0.0017462233515192099, 0.0017462233515192099, 0.0017462244938111168, 0.0017462233515192099, 0.0017462303956526357, 0.0017462258264850082, 0.0017462279206868375, 0.001746237630168046, 0.0017462322994724806, 0.0017462263976309616, 0.0017462279206868375, 0.001746227349540884, 0.001746226588012946, 0.001746226968776915, 0.0017462256361030237, 0.0017462258264850082, 0.001746226968776915, 0.0017462256361030237, 0.0017462260168669926, 0.0017462254457210392, 0.0017462254457210392], \"Total\": [10253.0, 10623.0, 26838.0, 7636.0, 7866.0, 5444.0, 4488.0, 4467.0, 5222.0, 13570.0, 6216.0, 14736.0, 13878.0, 4744.0, 6807.0, 4612.0, 6181.0, 9530.0, 7971.0, 12111.0, 9973.0, 8180.0, 17045.0, 3359.0, 4903.0, 4423.0, 6244.0, 9128.0, 3494.0, 5464.0, 2678.6567373077055, 2238.791097849523, 1841.8115798992274, 1661.8617195573593, 1036.2324795182005, 892.4064670797924, 849.6504406082242, 838.5507185081847, 815.4427042361341, 808.7845046139802, 791.2247318433276, 758.730202449639, 700.6503037935153, 634.3391955680021, 616.5787388797131, 587.6689524273048, 567.1687729179206, 549.7196227627884, 516.5882915776642, 509.7258168536033, 494.05444459072197, 460.6397977916205, 451.3723191360495, 446.01849456127786, 431.9135835424605, 413.9813132108657, 413.44270574706724, 367.7186344744982, 366.60053306192725, 365.8293538280054, 7035.474609217014, 2619.127808138129, 4922.40867620199, 1061.6268545073397, 556.0928201323527, 2998.687907508841, 2407.156677917824, 1553.7414853381576, 1019.4979801508872, 12111.893626236832, 5892.578431357348, 1648.6397827912956, 7324.25995945726, 5624.857915750897, 3725.0938495918, 2212.649502387158, 4208.600681034048, 2559.781375141367, 7104.0595055037575, 4311.128320934569, 4802.609456593212, 2026.0279496754845, 9128.457951687687, 2285.520094033328, 3997.94245287115, 5321.172263977512, 4747.217316204479, 15766.49646963027, 5379.111237696417, 4735.081814691028, 10122.44297448146, 5767.940401482895, 5802.79641502696, 13878.263926094261, 7343.690693730125, 17045.006742506957, 9973.65796474227, 5477.235427660632, 5068.555017393302, 5429.816167607722, 8122.9935483393465, 1891.143391762913, 1286.3282591249904, 993.7139517132991, 980.5750973795833, 925.2266565014701, 907.4664554787174, 852.5482001499875, 824.3264928564284, 723.2737094961498, 699.4535515897009, 658.5398488168414, 631.2430612077703, 631.0434656286619, 620.5275807811677, 618.8017881981393, 611.1821493011806, 605.4710177152673, 570.082687738238, 554.5936906421418, 529.7011822010004, 524.5100368285036, 513.2065970103885, 511.47250234490537, 503.1508210163283, 488.83701510280974, 488.5413576733861, 464.5722468523104, 450.81627205533414, 442.11681072714856, 441.6422437454656, 627.7142689507052, 1368.825543880391, 1312.396291351892, 1563.7691956205647, 879.161192300238, 2574.6471445921366, 775.6877826029877, 1729.9078668513077, 2158.5563963577492, 3094.627330665043, 1228.1340364119785, 1087.708613297561, 3482.274282595164, 1174.6412307614926, 17045.006742506957, 1006.4958155875877, 1164.8678583365088, 3733.7799846250196, 14736.512877510653, 4586.654960056574, 7679.772910528293, 26838.708041987564, 4443.779789737166, 4311.083204945625, 7017.203289623879, 4487.4908298719465, 8180.08457837721, 13570.490574360076, 2215.189358617455, 17447.629837247852, 9486.866408193417, 4886.903568219749, 3574.4247907723247, 4915.78700559534, 5485.965503061049, 2227.002068855257, 4566.3174880040515, 4749.820538930544, 15766.49646963027, 13878.263926094261, 7343.690693730125, 4832.849245605171, 9530.41265330607, 5623.539949640775, 1324.14722778478, 1222.4217889209824, 824.4203417769667, 582.9369741400197, 574.4941586826793, 561.0949942350326, 550.385026662934, 487.8358294523946, 463.8357474713029, 463.7887708248122, 461.252228458345, 448.0104631992761, 435.2639524541552, 432.88896578004847, 431.05699460358755, 421.7892646508889, 419.4033768733209, 398.18275908585093, 386.4956930773977, 380.35822279165944, 377.9238291099155, 369.4543491169031, 367.46399840296993, 365.75378213033235, 358.03435982668464, 334.55082486151076, 328.1115159478467, 321.351330709107, 315.4583310931066, 304.3361023103231, 578.3738217692583, 1196.2517606117335, 634.300423595508, 7971.442297911193, 4339.450945979496, 3580.6899119010673, 953.1797962944653, 535.8404447511527, 1205.0207816911648, 567.6056501056789, 2848.5088783079786, 4070.5041047705718, 1646.7052040873218, 1384.4916229164955, 965.0001073111462, 1708.2126012682788, 2645.4939669719424, 799.751216756437, 3826.6018996469593, 1675.0537356809937, 831.0251897423933, 781.5780380955546, 2305.9329464805523, 725.6640037052841, 4250.616362879292, 2709.4253274730168, 4143.58172485508, 2192.2829167733203, 1182.3156029268594, 4527.887678075447, 2172.2538922466306, 2998.944451059787, 2625.69551633513, 1753.3880907381636, 3353.6188808185507, 4903.845907581397, 4050.032972693312, 6635.762858603818, 26838.708041987564, 15766.49646963027, 9486.866408193417, 17447.629837247852, 14736.512877510653, 4886.903568219749, 13570.490574360076, 5623.539949640775, 9530.41265330607, 7017.203289623879, 2256.2621069205557, 1103.573862489587, 868.8966368191107, 808.6202772647138, 685.8830047365254, 672.8964930415615, 631.9241109641143, 564.3981833677099, 539.1354746675439, 480.4291056385497, 475.9937141111301, 466.72976372370977, 446.331843424921, 433.64163647273915, 428.45372232724947, 416.9148896893055, 406.481270543794, 391.42180157061136, 387.0896430200344, 794.2285084552906, 373.3200308140054, 364.2802201141015, 336.6715421448206, 334.44961579338167, 330.1815858189939, 317.5919983423552, 312.3053595065607, 311.3906369777597, 306.4656402301579, 305.08055684826644, 1306.0810947627674, 1003.6177001606551, 3236.104749091543, 533.8468976389101, 1358.8891733153703, 1336.9985210059185, 2743.569468064409, 543.2874327824836, 2651.821981710712, 950.5883339920706, 1228.667806098375, 1160.2254524429459, 2252.6516077079514, 974.7004646303383, 1205.7899204582377, 1032.9229152547057, 4442.8606522335385, 2278.0560401614266, 6216.27502071889, 2493.6347789248807, 1859.339659734339, 1978.9015581708416, 3874.8922901943965, 3391.7547320772405, 1630.6514377792473, 2713.8009649174446, 1567.8613167768058, 2074.280229382558, 2059.6798665990536, 4466.172981596152, 13570.490574360076, 17447.629837247852, 2710.154347157623, 5464.003253793479, 5767.940401482895, 5068.555017393302, 2373.8748386052685, 2269.799985510882, 1932.6491586255324, 1726.3352498707789, 1152.0087486257357, 1145.177883790332, 1119.5596371275449, 928.6871761140567, 910.9799225322475, 828.0732698395088, 775.2855316936314, 759.644902120024, 747.4485457784263, 664.4916720254056, 661.0520053179732, 655.1032886244271, 642.5316513124478, 642.0163221748192, 620.4554931910459, 607.6561067267345, 482.579789120336, 474.3667186374763, 464.1810571846664, 449.8914391419737, 423.4513797137559, 410.28795509737347, 396.14627137296156, 365.4985837220849, 327.08425712537434, 323.53721348871534, 2106.7538242647433, 3145.2071337592674, 3238.312211327417, 1680.6028311519444, 1205.6715812716657, 1065.5692859117685, 6181.7309870064155, 1121.1290257364012, 3423.904276446314, 1900.016690474666, 3026.7377548602353, 26838.708041987564, 1818.7154186810012, 2574.7762165672225, 3732.668440767909, 2748.5995180466375, 8122.9935483393465, 4429.457200054214, 3882.7010597057697, 1271.6967661114609, 2461.459717164804, 2407.4855015374574, 5051.145502372874, 10122.44297448146, 9973.65796474227, 2701.382036730613, 4325.292150775541, 2894.062671517358, 1910.6319934808403, 1665.1878212076717, 1394.93988645109, 1318.9868939515222, 1288.2838873486514, 1281.2993738659295, 1204.71058891496, 989.5694808308815, 946.264509550481, 812.0455568472792, 633.0988255810048, 595.9233667855162, 590.3709835294599, 590.1230117580175, 533.8636849807248, 512.3310324250792, 493.355354971319, 469.8389281720918, 457.502631502681, 431.8227370452592, 395.4320554241254, 382.7933514061586, 376.42648522890414, 373.81451335400226, 361.39254140298135, 358.4071527776147, 351.30579920993074, 351.2001081607541, 338.41706572311847, 300.9109040090471, 4238.176150019608, 2859.996471603539, 3663.921995759907, 1287.1905478747271, 1222.6432340832216, 1706.082101285138, 1361.133508660231, 904.5516850623725, 6278.9731956327905, 1783.1777947171581, 4899.301438269049, 6244.1394559546825, 2682.535771463938, 2134.456815581419, 1649.4446894209063, 1370.3546823744698, 4325.292150775541, 1764.825481661667, 1660.1838655608137, 3732.668440767909, 2339.7967045983874, 14736.512877510653, 13878.263926094261, 26838.708041987564, 8180.08457837721, 4744.799392023737, 1459.4312492129443, 1094.0424510908026, 878.5367418620896, 815.244645407947, 505.24276576729295, 497.9716929865503, 485.4665950822282, 386.2071603997114, 366.16532410745486, 353.9094073916393, 349.31722427540933, 344.40337087584965, 341.19018788533316, 1482.0652735937406, 329.5306680968856, 292.69236322331096, 290.76202776914397, 262.7239665595187, 262.60958720953147, 259.16984099625466, 254.31331668078477, 250.82272358414355, 236.81865257859891, 236.06494039359723, 235.35534898519396, 233.09848176722622, 222.22318568446858, 205.97923711941402, 202.78307852435555, 3520.648563514957, 10623.029504847102, 1619.5714886026753, 3126.113806950876, 1274.9841198951003, 1583.2009008144476, 3525.2154792719693, 753.8495342889564, 2083.983098408272, 3621.289275191574, 5464.003253793479, 384.3299905574191, 3714.9991445337496, 1154.8467661442157, 1918.9594774870282, 1070.807861999864, 1528.8707056932385, 955.4802264373523, 699.2887160827659, 2959.6008811582938, 1380.5531422521553, 6807.57286256359, 9486.866408193417, 2274.3548201273734, 3423.904276446314, 1246.1330070328852, 7017.203289623879, 2697.984144942838, 3176.9072817954648, 7679.772910528293, 10253.65157507711, 7636.483417896519, 5444.636058636809, 5222.288861873023, 3020.8696538455633, 1415.0075724327653, 1287.055778654232, 1093.728743138024, 848.9674955680208, 666.2294481240241, 632.116618904852, 615.5475668556522, 517.7793675855619, 507.226567159462, 389.1216217680979, 382.59855667832215, 219.7835053846906, 185.12379014791205, 175.90216338943532, 159.9757217062644, 133.6210211082258, 132.2299118416037, 128.94059965556107, 128.5139977645018, 99.2170208545458, 74.60397767501988, 74.44054780530641, 72.03464057277998, 70.02575367693474, 66.1164482211126, 242.1960545282225, 4612.9439454272215, 1800.3284791243798, 491.82194338995646, 1667.7168278149084, 887.8925405162491, 3257.6865439178027, 466.47091921240695, 765.1763076570222, 1120.9568578825263, 662.0934299094588, 2211.783481521698, 1727.2622233311752, 2748.5995180466375, 1258.736795426375, 2276.400102050716, 9973.65796474227, 1486.3972227648585, 4813.0612420996085, 26838.708041987564, 1079.0911448883066, 1383.0913873489849, 3315.4591760722933, 2074.3923499494717, 1970.6437165258808, 1773.4195709980927, 1488.1998018856577, 802.1269153497725, 650.3677679890953, 467.870979835275, 368.6566837684789, 332.878178725029, 261.5121603519938, 256.2476084544316, 204.11600587378504, 193.46737679024517, 180.2190386861799, 167.92561249099612, 166.92672300958182, 152.03598010592026, 150.29843122003209, 149.83936380773022, 148.2140809071626, 147.75133107762358, 135.34474766103224, 133.89796683367462, 129.5725770321751, 128.82753790453756, 124.68020458022971, 118.98527035217896, 118.59852553677476, 114.56254337816932, 112.4482296959245, 110.77677625984516, 549.5989996011419, 1467.3410097132155, 759.0192734755724, 899.4905600504777, 610.684107727043, 3017.5224401344203, 1648.0264985749884, 1263.1113869982657, 3977.5867836606644, 3315.4591760722933, 2001.2929286077128, 1896.6969162592607, 1801.2036069295614, 632.4742593716342, 622.1366162100289, 1342.9273941260963, 809.3552029352942, 1466.1983651080413, 556.7924938747668, 4577.826366688555, 2573.0517241095763, 2713.8009649174446, 3025.757746211616, 9530.41265330607, 2401.4118230712174, 2342.8301765563547, 3539.671932218025, 13570.490574360076, 2454.2943402344877, 17447.629837247852, 8180.08457837721, 4143.58172485508, 4250.616362879292, 1374.4795411234504, 1338.2479855938311, 981.3972633471626, 920.8644606941767, 819.1933395409668, 542.5002987356206, 516.3668062864915, 452.24945525006206, 437.4564369009724, 429.2971934317044, 364.5709588018893, 304.27608726954276, 281.5267789393787, 218.14691727938742, 212.67579613544237, 204.14416687020477, 192.3784937998648, 185.14259732876297, 173.67210727295821, 171.81138048639264, 165.83819271463025, 164.43208272075557, 152.88104923400545, 152.3467560896085, 146.8638909963402, 138.79681923211308, 131.25317509846784, 130.05241132041056, 129.83043160916077, 124.8463387125417, 802.1813792499395, 448.7300983013886, 2716.3561512655433, 1060.5757666748664, 1579.4827612560814, 1938.578734343063, 1616.584755709618, 1106.5229113503033, 1125.9486003540103, 2681.7490441706086, 1533.6532605764132, 679.7189980519373, 3025.757746211616, 899.1816883921207, 511.97987464227543, 923.2153241287458, 743.7172165406786, 6216.27502071889, 1220.465803795501, 1096.5070888118846, 1558.9943942947364, 1008.4989738192116, 4442.8606522335385, 6244.1394559546825, 3733.7799846250196, 14736.512877510653, 1829.7583255887478, 1100.63926423172, 1135.3774567100143, 2001.2929286077128, 4487.4908298719465, 1530.033334251752, 1392.9022239156375, 1088.466506893475, 780.0482473753908, 594.8229631569459, 273.750448505264, 269.50308211973567, 237.76406207306835, 216.85429567068564, 195.19591594168398, 174.900641508186, 166.8696959907982, 159.98010845580168, 148.74789113286616, 143.58994223570798, 142.8155722371223, 129.51534931616015, 127.77238237149611, 119.8700848728842, 116.52385454860676, 109.0651517665524, 106.9737623575265, 103.37765486830158, 91.90770698118779, 91.29590618252067, 81.61190181283706, 78.4068479051842, 77.26499447693767, 70.83890797607219, 61.89077032374534, 1894.2107774565125, 3494.1171054520278, 7866.477315294696, 985.8107251662173, 1611.9119710437237, 1524.4478349115054, 4423.272705901899, 1120.3838668002516, 1472.4020323851273, 1704.347596147084, 425.53664150631687, 1186.693904271976, 1465.554634162119, 2111.8230100968844, 2228.888550794108, 3089.6532984492, 1589.9458670997951, 2007.1237065158944, 3347.8100409466333, 3807.0802207320994, 2454.2943402344877, 2074.280229382558, 1500.3411129998976, 2682.535771463938, 4899.301438269049, 2934.9124448984453, 3310.3719085638822, 6244.1394559546825, 13878.263926094261, 3330.062886212946, 3815.1622019541514, 4143.58172485508, 992.1774621048766, 956.7069686135609, 818.6380098006375, 704.8814758397799, 614.4698755289996, 384.8662543506625, 372.43436350546494, 370.4393436853837, 358.32051253907343, 354.60195807561615, 345.23129716452746, 268.7353298568786, 226.48549088951282, 207.35681824192713, 207.30393195603872, 202.20389739885954, 194.46442325015562, 193.41041887286545, 192.88609028292132, 188.69841780142752, 174.9950125797487, 172.12751492682335, 169.13446511006802, 158.55744699792774, 151.50635621087844, 149.75515953381918, 147.81757676613518, 143.00560526217606, 141.65315241516112, 140.61618093181573, 909.3048559308561, 3359.6926864013153, 926.1433880200334, 888.7216569016306, 668.4431779780618, 1745.466295272569, 1051.5146451482526, 2553.5994442569463, 556.2811593671248, 684.0841962445139, 401.73565077279727, 696.2274055974522, 420.9928429572687, 1203.3728061227453, 812.1103948860624, 479.2415306365122, 843.5843183127149, 1804.2755094640795, 4466.172981596152, 1538.8610644933392, 2034.1895869947139, 9973.65796474227, 5744.656128743779, 17447.629837247852, 1581.9353079774169, 4467.780168697662, 1688.6755940712883, 670.2782297576721, 530.3163732527732, 510.9938599899803, 391.6193579199773, 338.3938561029094, 320.83003723918404, 307.83221339324973, 295.68627363210743, 235.17158658400638, 230.37487829172366, 228.77109259348273, 211.50504488604003, 201.2211526248496, 192.57938915041436, 173.85859066761745, 163.79202846801562, 161.23819674826302, 149.91293740546206, 142.00384729747765, 141.48277259521484, 133.20586662948003, 128.53085812387937, 124.24551090097086, 123.21855079725758, 104.16190820727492, 99.21381835905368, 95.35244319379564, 95.15897799870328, 837.3981912732538, 912.6826560260316, 1745.2879306131554, 277.3766147307895, 644.9287191434191, 1708.5941606744343, 394.12907385387285, 1716.8315621187962, 3310.050833101437, 655.3682023554826, 1045.7303542980712, 664.0410606132258, 479.69922472252466, 3621.289275191574, 1058.956610780847, 1817.148879819451, 927.7195376657477, 1381.2551140032685, 2244.9438561831294, 1588.8355602507563, 547.3034481534861, 824.262255227442, 1812.0592011723609, 8180.08457837721, 4527.887678075447, 13570.490574360076, 1333.1537791261142, 2934.9124448984453, 4011.245530511751, 1158.1028656954409, 1010.7599515197512, 899.6279868633699, 797.5426845872156, 779.4451556747891, 408.62928216212225, 332.1876883421782, 242.16975268654835, 188.50862956455433, 181.64007521925336, 164.3045803923193, 161.7402158758058, 159.06223416226848, 145.5704062653781, 144.94412425365857, 136.9691737894601, 136.26383276226133, 135.6393189277288, 135.25785273416113, 132.18186388415057, 128.16186425016227, 127.43705794357642, 127.09899156926726, 115.57810168006799, 115.37203521284414, 113.79028605086059, 112.0555898779297, 105.81596619699535, 105.41786457905097, 103.07606784349112, 464.90226643999944, 272.8949573935584, 1464.3787945169372, 205.8528182125154, 1505.618228064749, 670.4629612048294, 981.7285025696732, 554.695611449236, 242.3848723104119, 752.5317852976726, 1744.4936905271145, 320.9147350683284, 966.4750303137897, 2200.665131668232, 423.33656290617745, 640.0399916982735, 455.31392964927977, 1911.1347971199277, 682.4479736909278, 346.87860454369644, 843.5843183127149, 2542.7085837728782, 2059.6798665990536, 754.9949178824763, 1496.4170826745026, 763.7573114449361, 3433.4410484635287, 1087.7198974767102, 2534.563730094287, 654.9465831767507, 527.2810680245619, 476.78238316909255, 469.22379514932175, 375.2085457115697, 355.97348572426716, 325.2936238369623, 296.2151332592827, 281.1189019611436, 271.80699735538036, 262.8503003854077, 262.3179800376297, 248.0609694199759, 243.5894667026652, 238.57696891690506, 230.79438236643026, 208.56895595561988, 202.91441713896273, 194.41738095955031, 188.57093009019542, 175.92003587700626, 175.1326027834944, 151.5173765342997, 150.68007899112695, 149.2607638695448, 148.98318008807763, 145.74299980795166, 143.74169846847226, 142.2311827695334, 2195.579867024538, 833.726187631638, 1126.8683217805133, 4488.868138868759, 586.0780312029763, 664.9499913113293, 1253.1320394954475, 1414.3604183554166, 6807.57286256359, 1472.4020323851273, 882.5251043564485, 2701.382036730613, 3525.2154792719693, 1212.771909383618, 1585.072111599238, 1765.47078702946, 3815.1622019541514, 1305.97239957756, 1534.7486050294174, 2651.821981710712, 8180.08457837721, 6244.1394559546825, 367.92706603185115, 312.50580375921095, 263.5556705731076, 258.96127627317793, 246.8956561521531, 229.96187671555197, 211.07408316820968, 195.11931179450838, 183.96375170413597, 173.39607990019383, 166.14663406164013, 155.50844585053702, 147.1423330872564, 135.86353437818224, 135.34649241395536, 134.28220287564534, 133.40385449312421, 124.91350633766875, 116.90179588928504, 110.0094198428298, 109.48086051606289, 105.76497150319088, 104.32388044871033, 103.7342116214283, 103.63204594140295, 102.02157585630447, 101.83457543489482, 97.19630063140424, 89.63444220036622, 88.41648835182474, 968.4323220969286, 425.36636148588934, 819.8615291592838, 595.2955589446498, 282.4332972102505, 587.8353401193735, 2198.0821296099866, 451.32919072008286, 673.888995959856, 694.6895903639781, 352.276524017355, 643.8405035835224, 226.22553853494813, 1772.2453357428737, 321.70303481840875, 1454.1758029982057, 464.5715842982604, 334.86233122281556, 2553.5994442569463, 4903.845907581397, 1749.9358108390395, 1166.4823126443318, 933.8297377646328, 1134.6128964196416, 489.73169369569416, 839.5914273757431, 366.2785794823522, 323.4816306832973, 284.13643332077726, 248.7521151604936, 205.7720159614117, 178.80890382043003, 137.31118662055678, 127.56303794517612, 112.36431215708934, 100.38704518387411, 89.35664054362712, 86.42354474433859, 80.72319306905159, 70.77911403329799, 65.78670723298292, 64.74799569297018, 58.60817434694523, 57.7467585654766, 51.690303588927804, 47.596191294937334, 41.102065106699406, 40.373727600496736, 40.079035534284785, 38.61398175472398, 38.16045118908966, 36.848218858874574, 36.23523053796475, 33.38783494029436, 28.00326555605379, 25.026419117359204, 234.73726040747553, 844.3741292875968, 1154.5708377270287, 637.2522197511295, 126.09934996587789, 232.65499107372491, 205.49517492878996, 593.9853803593869, 139.8194365001493, 376.7320426507459, 1812.0592011723609, 848.4912915520857, 343.65117698508567, 278.27442844057936, 225.80737691737656, 180.98360634467582, 148.8967137356951, 146.62315779628636, 138.85595600230752, 124.40850193880902, 67.8021308689997, 66.06828135458325, 65.46990052084696, 63.51983775913476, 60.84270998326107, 56.87458591424757, 53.460294157981615, 53.24007996707737, 52.884794884616525, 49.15281973370582, 45.18009608441311, 42.753497493743666, 42.02569187850348, 41.078464467222126, 40.50400304263639, 31.228396443333306, 30.645653218171073, 29.642974985145507, 29.42004751985915, 28.528303325678376, 28.226432053418637, 260.2582767165771, 218.6591284710824, 190.7905934352823, 258.63750113321197, 365.43056818798584, 411.00733451366796, 201.63437365947627, 189.83438939831987, 149.07701382567473, 145.87569044054953, 134.58380639822585, 123.69013746370447, 107.99579220916794, 104.3856461186817, 90.58054705316444, 83.29638435696174, 82.95841915026249, 74.79825878996851, 67.66194003091432, 62.17347513934274, 60.963732734996114, 57.89640671753865, 56.10936433574614, 53.52295444615472, 53.510311191760955, 52.44418127903391, 50.507433752283504, 49.71588194883696, 46.60712915609043, 46.184096430063434, 44.26345288230168, 39.73600230643272, 39.55214443305108, 38.11402378973448, 37.289180735728, 36.05085470338459, 297.676243631487, 96.88966015194194, 3.047360458977589, 2.1927486882029887, 1.7287158537345202, 1.1993206296941703, 1.1993202825729716, 1.1993202825729716, 1.1993247539635203, 1.1993195738915676, 1.1993195738915676, 1.1993195738915676, 1.1993195738915676, 1.1993195738915676, 1.1993195796178169, 1.1993196031945126, 1.1993199446777625, 1.1993199446777625, 1.1993199446777625, 1.1993199483827952, 1.1993201558924564, 1.199320361181313, 1.1993209240868086, 1.1993201854062123, 1.1993202473467834, 1.1993206455418726, 1.1993206720851086, 1.1993196022499613, 1.1993196022499613, 1.199319609194417, 1.1993204125981425, 1.199319682145171, 1.1993247819915542, 1.199321746398677, 1.19932380790974, 1.1993332877316332, 1.1993294982198572, 1.1993232960982414, 1.199333850787244, 1.199338259087183, 1.1993311284288355, 1.1993391212030347, 1.1993226914437398, 1.199326513860797, 1.1993890172367376, 1.1993299047584554, 1.1993753894930126, 1.1993373643933545, 1.1993228059710537], \"Category\": [\"Default\", \"Default\", \"Default\", \"Default\", \"Default\", \"Default\", \"Default\", \"Default\", \"Default\", \"Default\", \"Default\", \"Default\", \"Default\", \"Default\", \"Default\", \"Default\", \"Default\", \"Default\", \"Default\", \"Default\", \"Default\", \"Default\", \"Default\", \"Default\", \"Default\", \"Default\", \"Default\", \"Default\", \"Default\", \"Default\", \"Topic1\", \"Topic1\", \"Topic1\", \"Topic1\", \"Topic1\", \"Topic1\", \"Topic1\", \"Topic1\", \"Topic1\", \"Topic1\", \"Topic1\", \"Topic1\", \"Topic1\", \"Topic1\", \"Topic1\", \"Topic1\", \"Topic1\", \"Topic1\", \"Topic1\", \"Topic1\", \"Topic1\", \"Topic1\", \"Topic1\", \"Topic1\", \"Topic1\", \"Topic1\", \"Topic1\", \"Topic1\", \"Topic1\", \"Topic1\", \"Topic1\", \"Topic1\", \"Topic1\", \"Topic1\", \"Topic1\", \"Topic1\", \"Topic1\", \"Topic1\", \"Topic1\", \"Topic1\", \"Topic1\", \"Topic1\", \"Topic1\", \"Topic1\", \"Topic1\", \"Topic1\", \"Topic1\", \"Topic1\", \"Topic1\", \"Topic1\", \"Topic1\", \"Topic1\", \"Topic1\", \"Topic1\", \"Topic1\", \"Topic1\", \"Topic1\", \"Topic1\", \"Topic1\", \"Topic1\", \"Topic1\", \"Topic1\", \"Topic1\", \"Topic1\", \"Topic1\", \"Topic1\", \"Topic1\", \"Topic1\", \"Topic1\", \"Topic1\", \"Topic1\", \"Topic2\", \"Topic2\", \"Topic2\", \"Topic2\", \"Topic2\", \"Topic2\", \"Topic2\", \"Topic2\", \"Topic2\", \"Topic2\", \"Topic2\", \"Topic2\", \"Topic2\", \"Topic2\", \"Topic2\", \"Topic2\", \"Topic2\", \"Topic2\", \"Topic2\", \"Topic2\", \"Topic2\", \"Topic2\", \"Topic2\", \"Topic2\", \"Topic2\", \"Topic2\", \"Topic2\", \"Topic2\", \"Topic2\", \"Topic2\", \"Topic2\", \"Topic2\", \"Topic2\", \"Topic2\", \"Topic2\", \"Topic2\", \"Topic2\", \"Topic2\", \"Topic2\", \"Topic2\", \"Topic2\", \"Topic2\", \"Topic2\", \"Topic2\", \"Topic2\", \"Topic2\", \"Topic2\", \"Topic2\", \"Topic2\", \"Topic2\", \"Topic2\", \"Topic2\", \"Topic2\", \"Topic2\", \"Topic2\", \"Topic2\", \"Topic2\", \"Topic2\", \"Topic2\", \"Topic2\", \"Topic2\", \"Topic2\", \"Topic2\", \"Topic2\", \"Topic2\", \"Topic2\", \"Topic2\", \"Topic2\", \"Topic2\", \"Topic2\", \"Topic2\", \"Topic2\", \"Topic2\", \"Topic2\", \"Topic3\", \"Topic3\", \"Topic3\", \"Topic3\", \"Topic3\", \"Topic3\", \"Topic3\", \"Topic3\", \"Topic3\", \"Topic3\", \"Topic3\", \"Topic3\", \"Topic3\", \"Topic3\", \"Topic3\", \"Topic3\", \"Topic3\", \"Topic3\", \"Topic3\", \"Topic3\", \"Topic3\", \"Topic3\", \"Topic3\", \"Topic3\", \"Topic3\", \"Topic3\", \"Topic3\", \"Topic3\", \"Topic3\", \"Topic3\", \"Topic3\", \"Topic3\", \"Topic3\", \"Topic3\", \"Topic3\", \"Topic3\", \"Topic3\", \"Topic3\", \"Topic3\", \"Topic3\", \"Topic3\", \"Topic3\", \"Topic3\", \"Topic3\", \"Topic3\", \"Topic3\", \"Topic3\", \"Topic3\", \"Topic3\", \"Topic3\", \"Topic3\", \"Topic3\", \"Topic3\", \"Topic3\", \"Topic3\", \"Topic3\", \"Topic3\", \"Topic3\", \"Topic3\", \"Topic3\", \"Topic3\", \"Topic3\", \"Topic3\", \"Topic3\", \"Topic3\", \"Topic3\", \"Topic3\", \"Topic3\", \"Topic3\", \"Topic3\", \"Topic3\", \"Topic3\", \"Topic3\", \"Topic3\", \"Topic3\", \"Topic3\", \"Topic3\", \"Topic3\", \"Topic4\", \"Topic4\", \"Topic4\", \"Topic4\", \"Topic4\", \"Topic4\", \"Topic4\", \"Topic4\", \"Topic4\", \"Topic4\", \"Topic4\", \"Topic4\", \"Topic4\", \"Topic4\", \"Topic4\", \"Topic4\", \"Topic4\", \"Topic4\", \"Topic4\", \"Topic4\", \"Topic4\", \"Topic4\", \"Topic4\", \"Topic4\", \"Topic4\", \"Topic4\", \"Topic4\", \"Topic4\", \"Topic4\", \"Topic4\", \"Topic4\", \"Topic4\", \"Topic4\", \"Topic4\", \"Topic4\", \"Topic4\", \"Topic4\", \"Topic4\", \"Topic4\", \"Topic4\", \"Topic4\", \"Topic4\", \"Topic4\", \"Topic4\", \"Topic4\", \"Topic4\", \"Topic4\", \"Topic4\", \"Topic4\", \"Topic4\", \"Topic4\", \"Topic4\", \"Topic4\", \"Topic4\", \"Topic4\", \"Topic4\", \"Topic4\", \"Topic4\", \"Topic4\", \"Topic4\", \"Topic4\", \"Topic4\", \"Topic4\", \"Topic4\", \"Topic4\", \"Topic4\", \"Topic5\", \"Topic5\", \"Topic5\", \"Topic5\", \"Topic5\", \"Topic5\", \"Topic5\", \"Topic5\", \"Topic5\", \"Topic5\", \"Topic5\", \"Topic5\", \"Topic5\", \"Topic5\", \"Topic5\", \"Topic5\", \"Topic5\", \"Topic5\", \"Topic5\", \"Topic5\", \"Topic5\", \"Topic5\", \"Topic5\", \"Topic5\", \"Topic5\", \"Topic5\", \"Topic5\", \"Topic5\", \"Topic5\", \"Topic5\", \"Topic5\", \"Topic5\", \"Topic5\", \"Topic5\", \"Topic5\", \"Topic5\", \"Topic5\", \"Topic5\", \"Topic5\", \"Topic5\", \"Topic5\", \"Topic5\", \"Topic5\", \"Topic5\", \"Topic5\", \"Topic5\", \"Topic5\", \"Topic5\", \"Topic5\", \"Topic5\", \"Topic5\", \"Topic5\", \"Topic5\", \"Topic5\", \"Topic5\", \"Topic5\", \"Topic5\", \"Topic5\", \"Topic6\", \"Topic6\", \"Topic6\", \"Topic6\", \"Topic6\", \"Topic6\", \"Topic6\", \"Topic6\", \"Topic6\", \"Topic6\", \"Topic6\", \"Topic6\", \"Topic6\", \"Topic6\", \"Topic6\", \"Topic6\", \"Topic6\", \"Topic6\", \"Topic6\", \"Topic6\", \"Topic6\", \"Topic6\", \"Topic6\", \"Topic6\", \"Topic6\", \"Topic6\", \"Topic6\", \"Topic6\", \"Topic6\", \"Topic6\", \"Topic6\", \"Topic6\", \"Topic6\", \"Topic6\", \"Topic6\", \"Topic6\", \"Topic6\", \"Topic6\", \"Topic6\", \"Topic6\", \"Topic6\", \"Topic6\", \"Topic6\", \"Topic6\", \"Topic6\", \"Topic6\", \"Topic6\", \"Topic6\", \"Topic6\", \"Topic6\", \"Topic6\", \"Topic6\", \"Topic6\", \"Topic6\", \"Topic6\", \"Topic7\", \"Topic7\", \"Topic7\", \"Topic7\", \"Topic7\", \"Topic7\", \"Topic7\", \"Topic7\", \"Topic7\", \"Topic7\", \"Topic7\", \"Topic7\", \"Topic7\", \"Topic7\", \"Topic7\", \"Topic7\", \"Topic7\", \"Topic7\", \"Topic7\", \"Topic7\", \"Topic7\", \"Topic7\", \"Topic7\", \"Topic7\", \"Topic7\", \"Topic7\", \"Topic7\", \"Topic7\", \"Topic7\", \"Topic7\", \"Topic7\", \"Topic7\", \"Topic7\", \"Topic7\", \"Topic7\", \"Topic7\", \"Topic7\", \"Topic7\", \"Topic7\", \"Topic7\", \"Topic7\", \"Topic7\", \"Topic7\", \"Topic7\", \"Topic7\", \"Topic7\", \"Topic7\", \"Topic7\", \"Topic7\", \"Topic7\", \"Topic7\", \"Topic7\", \"Topic7\", \"Topic7\", \"Topic7\", \"Topic7\", \"Topic7\", \"Topic7\", \"Topic7\", \"Topic7\", \"Topic8\", \"Topic8\", \"Topic8\", \"Topic8\", \"Topic8\", \"Topic8\", \"Topic8\", \"Topic8\", \"Topic8\", \"Topic8\", \"Topic8\", \"Topic8\", \"Topic8\", \"Topic8\", \"Topic8\", \"Topic8\", \"Topic8\", \"Topic8\", \"Topic8\", \"Topic8\", \"Topic8\", \"Topic8\", \"Topic8\", \"Topic8\", \"Topic8\", \"Topic8\", \"Topic8\", \"Topic8\", \"Topic8\", \"Topic8\", \"Topic8\", \"Topic8\", \"Topic8\", \"Topic8\", \"Topic8\", \"Topic8\", \"Topic8\", \"Topic8\", \"Topic8\", \"Topic8\", \"Topic8\", \"Topic8\", \"Topic8\", \"Topic8\", \"Topic8\", \"Topic8\", \"Topic8\", \"Topic8\", \"Topic8\", \"Topic8\", \"Topic8\", \"Topic8\", \"Topic8\", \"Topic8\", \"Topic9\", \"Topic9\", \"Topic9\", \"Topic9\", \"Topic9\", \"Topic9\", \"Topic9\", \"Topic9\", \"Topic9\", \"Topic9\", \"Topic9\", \"Topic9\", \"Topic9\", \"Topic9\", \"Topic9\", \"Topic9\", \"Topic9\", \"Topic9\", \"Topic9\", \"Topic9\", \"Topic9\", \"Topic9\", \"Topic9\", \"Topic9\", \"Topic9\", \"Topic9\", \"Topic9\", \"Topic9\", \"Topic9\", \"Topic9\", \"Topic9\", \"Topic9\", \"Topic9\", \"Topic9\", \"Topic9\", \"Topic9\", \"Topic9\", \"Topic9\", \"Topic9\", \"Topic9\", \"Topic9\", \"Topic9\", \"Topic9\", \"Topic9\", \"Topic9\", \"Topic9\", \"Topic9\", \"Topic9\", \"Topic9\", \"Topic9\", \"Topic9\", \"Topic9\", \"Topic9\", \"Topic9\", \"Topic9\", \"Topic9\", \"Topic9\", \"Topic9\", \"Topic9\", \"Topic9\", \"Topic9\", \"Topic9\", \"Topic9\", \"Topic10\", \"Topic10\", \"Topic10\", \"Topic10\", \"Topic10\", \"Topic10\", \"Topic10\", \"Topic10\", \"Topic10\", \"Topic10\", \"Topic10\", \"Topic10\", \"Topic10\", \"Topic10\", \"Topic10\", \"Topic10\", \"Topic10\", \"Topic10\", \"Topic10\", \"Topic10\", \"Topic10\", \"Topic10\", \"Topic10\", \"Topic10\", \"Topic10\", \"Topic10\", \"Topic10\", \"Topic10\", \"Topic10\", \"Topic10\", \"Topic10\", \"Topic10\", \"Topic10\", \"Topic10\", \"Topic10\", \"Topic10\", \"Topic10\", \"Topic10\", \"Topic10\", \"Topic10\", \"Topic10\", \"Topic10\", \"Topic10\", \"Topic10\", \"Topic10\", \"Topic10\", \"Topic10\", \"Topic10\", \"Topic10\", \"Topic10\", \"Topic10\", \"Topic10\", \"Topic10\", \"Topic10\", \"Topic10\", \"Topic10\", \"Topic10\", \"Topic10\", \"Topic10\", \"Topic10\", \"Topic10\", \"Topic11\", \"Topic11\", \"Topic11\", \"Topic11\", \"Topic11\", \"Topic11\", \"Topic11\", \"Topic11\", \"Topic11\", \"Topic11\", \"Topic11\", \"Topic11\", \"Topic11\", \"Topic11\", \"Topic11\", \"Topic11\", \"Topic11\", \"Topic11\", \"Topic11\", \"Topic11\", \"Topic11\", \"Topic11\", \"Topic11\", \"Topic11\", \"Topic11\", \"Topic11\", \"Topic11\", \"Topic11\", \"Topic11\", \"Topic11\", \"Topic11\", \"Topic11\", \"Topic11\", \"Topic11\", \"Topic11\", \"Topic11\", \"Topic11\", \"Topic11\", \"Topic11\", \"Topic11\", \"Topic11\", \"Topic11\", \"Topic11\", \"Topic11\", \"Topic11\", \"Topic11\", \"Topic11\", \"Topic11\", \"Topic11\", \"Topic11\", \"Topic11\", \"Topic11\", \"Topic11\", \"Topic11\", \"Topic11\", \"Topic11\", \"Topic11\", \"Topic11\", \"Topic11\", \"Topic11\", \"Topic11\", \"Topic11\", \"Topic12\", \"Topic12\", \"Topic12\", \"Topic12\", \"Topic12\", \"Topic12\", \"Topic12\", \"Topic12\", \"Topic12\", \"Topic12\", \"Topic12\", \"Topic12\", \"Topic12\", \"Topic12\", \"Topic12\", \"Topic12\", \"Topic12\", \"Topic12\", \"Topic12\", \"Topic12\", \"Topic12\", \"Topic12\", \"Topic12\", \"Topic12\", \"Topic12\", \"Topic12\", \"Topic12\", \"Topic12\", \"Topic12\", \"Topic12\", \"Topic12\", \"Topic12\", \"Topic12\", \"Topic12\", \"Topic12\", \"Topic12\", \"Topic12\", \"Topic12\", \"Topic12\", \"Topic12\", \"Topic12\", \"Topic12\", \"Topic12\", \"Topic12\", \"Topic12\", \"Topic12\", \"Topic12\", \"Topic12\", \"Topic12\", \"Topic12\", \"Topic12\", \"Topic12\", \"Topic12\", \"Topic12\", \"Topic12\", \"Topic13\", \"Topic13\", \"Topic13\", \"Topic13\", \"Topic13\", \"Topic13\", \"Topic13\", \"Topic13\", \"Topic13\", \"Topic13\", \"Topic13\", \"Topic13\", \"Topic13\", \"Topic13\", \"Topic13\", \"Topic13\", \"Topic13\", \"Topic13\", \"Topic13\", \"Topic13\", \"Topic13\", \"Topic13\", \"Topic13\", \"Topic13\", \"Topic13\", \"Topic13\", \"Topic13\", \"Topic13\", \"Topic13\", \"Topic13\", \"Topic13\", \"Topic13\", \"Topic13\", \"Topic13\", \"Topic13\", \"Topic13\", \"Topic13\", \"Topic13\", \"Topic13\", \"Topic13\", \"Topic13\", \"Topic13\", \"Topic13\", \"Topic13\", \"Topic13\", \"Topic13\", \"Topic13\", \"Topic13\", \"Topic13\", \"Topic13\", \"Topic13\", \"Topic13\", \"Topic13\", \"Topic13\", \"Topic13\", \"Topic13\", \"Topic13\", \"Topic13\", \"Topic13\", \"Topic14\", \"Topic14\", \"Topic14\", \"Topic14\", \"Topic14\", \"Topic14\", \"Topic14\", \"Topic14\", \"Topic14\", \"Topic14\", \"Topic14\", \"Topic14\", \"Topic14\", \"Topic14\", \"Topic14\", \"Topic14\", \"Topic14\", \"Topic14\", \"Topic14\", \"Topic14\", \"Topic14\", \"Topic14\", \"Topic14\", \"Topic14\", \"Topic14\", \"Topic14\", \"Topic14\", \"Topic14\", \"Topic14\", \"Topic14\", \"Topic14\", \"Topic14\", \"Topic14\", \"Topic14\", \"Topic14\", \"Topic14\", \"Topic14\", \"Topic14\", \"Topic14\", \"Topic14\", \"Topic14\", \"Topic14\", \"Topic14\", \"Topic14\", \"Topic14\", \"Topic14\", \"Topic14\", \"Topic14\", \"Topic14\", \"Topic14\", \"Topic14\", \"Topic14\", \"Topic14\", \"Topic14\", \"Topic14\", \"Topic14\", \"Topic14\", \"Topic14\", \"Topic15\", \"Topic15\", \"Topic15\", \"Topic15\", \"Topic15\", \"Topic15\", \"Topic15\", \"Topic15\", \"Topic15\", \"Topic15\", \"Topic15\", \"Topic15\", \"Topic15\", \"Topic15\", \"Topic15\", \"Topic15\", \"Topic15\", \"Topic15\", \"Topic15\", \"Topic15\", \"Topic15\", \"Topic15\", \"Topic15\", \"Topic15\", \"Topic15\", \"Topic15\", \"Topic15\", \"Topic15\", \"Topic15\", \"Topic15\", \"Topic15\", \"Topic15\", \"Topic15\", \"Topic15\", \"Topic15\", \"Topic15\", \"Topic15\", \"Topic15\", \"Topic15\", \"Topic15\", \"Topic15\", \"Topic15\", \"Topic15\", \"Topic15\", \"Topic15\", \"Topic15\", \"Topic15\", \"Topic15\", \"Topic15\", \"Topic15\", \"Topic15\", \"Topic15\", \"Topic16\", \"Topic16\", \"Topic16\", \"Topic16\", \"Topic16\", \"Topic16\", \"Topic16\", \"Topic16\", \"Topic16\", \"Topic16\", \"Topic16\", \"Topic16\", \"Topic16\", \"Topic16\", \"Topic16\", \"Topic16\", \"Topic16\", \"Topic16\", \"Topic16\", \"Topic16\", \"Topic16\", \"Topic16\", \"Topic16\", \"Topic16\", \"Topic16\", \"Topic16\", \"Topic16\", \"Topic16\", \"Topic16\", \"Topic16\", \"Topic16\", \"Topic16\", \"Topic16\", \"Topic16\", \"Topic16\", \"Topic16\", \"Topic16\", \"Topic16\", \"Topic16\", \"Topic16\", \"Topic16\", \"Topic16\", \"Topic16\", \"Topic16\", \"Topic16\", \"Topic16\", \"Topic16\", \"Topic16\", \"Topic16\", \"Topic16\", \"Topic16\", \"Topic16\", \"Topic16\", \"Topic16\", \"Topic16\", \"Topic16\", \"Topic17\", \"Topic17\", \"Topic17\", \"Topic17\", \"Topic17\", \"Topic17\", \"Topic17\", \"Topic17\", \"Topic17\", \"Topic17\", \"Topic17\", \"Topic17\", \"Topic17\", \"Topic17\", \"Topic17\", \"Topic17\", \"Topic17\", \"Topic17\", \"Topic17\", \"Topic17\", \"Topic17\", \"Topic17\", \"Topic17\", \"Topic17\", \"Topic17\", \"Topic17\", \"Topic17\", \"Topic17\", \"Topic17\", \"Topic17\", \"Topic17\", \"Topic17\", \"Topic17\", \"Topic17\", \"Topic17\", \"Topic17\", \"Topic17\", \"Topic17\", \"Topic17\", \"Topic17\", \"Topic17\", \"Topic18\", \"Topic18\", \"Topic18\", \"Topic18\", \"Topic18\", \"Topic18\", \"Topic18\", \"Topic18\", \"Topic18\", \"Topic18\", \"Topic18\", \"Topic18\", \"Topic18\", \"Topic18\", \"Topic18\", \"Topic18\", \"Topic18\", \"Topic18\", \"Topic18\", \"Topic18\", \"Topic18\", \"Topic18\", \"Topic18\", \"Topic18\", \"Topic18\", \"Topic18\", \"Topic18\", \"Topic18\", \"Topic18\", \"Topic18\", \"Topic18\", \"Topic18\", \"Topic18\", \"Topic18\", \"Topic18\", \"Topic18\", \"Topic19\", \"Topic19\", \"Topic19\", \"Topic19\", \"Topic19\", \"Topic19\", \"Topic19\", \"Topic19\", \"Topic19\", \"Topic19\", \"Topic19\", \"Topic19\", \"Topic19\", \"Topic19\", \"Topic19\", \"Topic19\", \"Topic19\", \"Topic19\", \"Topic19\", \"Topic19\", \"Topic19\", \"Topic19\", \"Topic19\", \"Topic19\", \"Topic19\", \"Topic19\", \"Topic19\", \"Topic19\", \"Topic19\", \"Topic19\", \"Topic19\", \"Topic19\", \"Topic20\", \"Topic20\", \"Topic20\", \"Topic20\", \"Topic20\", \"Topic20\", \"Topic20\", \"Topic20\", \"Topic20\", \"Topic20\", \"Topic20\", \"Topic20\", \"Topic20\", \"Topic20\", \"Topic20\", \"Topic20\", \"Topic20\", \"Topic20\", \"Topic20\", \"Topic20\", \"Topic20\", \"Topic20\", \"Topic20\", \"Topic20\", \"Topic20\", \"Topic20\", \"Topic20\", \"Topic20\", \"Topic20\", \"Topic20\", \"Topic20\", \"Topic20\", \"Topic20\", \"Topic20\", \"Topic20\", \"Topic20\", \"Topic20\", \"Topic20\", \"Topic20\", \"Topic20\", \"Topic20\", \"Topic20\", \"Topic20\", \"Topic20\", \"Topic20\", \"Topic20\", \"Topic20\"], \"logprob\": [30.0, 29.0, 28.0, 27.0, 26.0, 25.0, 24.0, 23.0, 22.0, 21.0, 20.0, 19.0, 18.0, 17.0, 16.0, 15.0, 14.0, 13.0, 12.0, 11.0, 10.0, 9.0, 8.0, 7.0, 6.0, 5.0, 4.0, 3.0, 2.0, 1.0, -5.4201, -5.5996, -5.7949, -5.8977, -6.3705, -6.5201, -6.5693, -6.5824, -6.6104, -6.6186, -6.6406, -6.6826, -6.7624, -6.862, -6.8904, -6.9385, -6.9741, -7.0054, -7.0677, -7.0811, -7.1124, -7.1826, -7.203, -7.2149, -7.2472, -7.2897, -7.291, -7.4085, -7.4116, -7.4137, -4.4694, -5.4537, -4.8321, -6.3544, -6.9983, -5.3595, -5.5743, -6.0063, -6.4144, -4.0469, -4.7425, -5.9615, -4.5806, -4.8474, -5.2321, -5.7148, -5.1367, -5.6007, -4.6839, -5.1391, -5.0614, -5.8186, -4.5114, -5.7155, -5.2594, -5.053, -5.1598, -4.1934, -5.0676, -5.1803, -4.627, -5.0771, -5.0756, -4.4853, -4.9677, -4.6078, -4.9009, -5.21, -5.2838, -5.2616, -5.3282, -5.7508, -6.1364, -6.3948, -6.4081, -6.4663, -6.4857, -6.5482, -6.5819, -6.7129, -6.7464, -6.8068, -6.8492, -6.8495, -6.8664, -6.8692, -6.8816, -6.891, -6.9513, -6.9789, -7.0249, -7.0348, -7.0566, -7.06, -7.0765, -7.1054, -7.106, -7.1564, -7.1866, -7.2061, -7.2072, -6.8602, -6.1047, -6.1503, -5.9876, -6.5427, -5.5369, -6.6717, -5.9329, -5.7702, -5.4584, -6.2807, -6.3988, -5.409, -6.3356, -4.1192, -6.4699, -6.3538, -5.4122, -4.326, -5.2681, -4.9021, -3.9451, -5.3491, -5.3759, -5.0169, -5.3526, -4.9362, -4.5743, -5.8809, -4.4806, -4.9261, -5.3728, -5.5898, -5.4531, -5.4171, -5.9329, -5.5482, -5.5717, -5.0865, -5.1572, -5.4893, -5.6364, -5.4897, -5.7235, -5.5397, -5.6197, -6.014, -6.3612, -6.3758, -6.3994, -6.4188, -6.5397, -6.5902, -6.5903, -6.5958, -6.625, -6.654, -6.6594, -6.6637, -6.6855, -6.6912, -6.7432, -6.7731, -6.7892, -6.7956, -6.8183, -6.8238, -6.8284, -6.8498, -6.9179, -6.9374, -6.9583, -6.9769, -7.0129, -6.3709, -5.6888, -6.3037, -3.8743, -4.4601, -4.6763, -5.9214, -6.4684, -5.7124, -6.4183, -4.9475, -4.6243, -5.4673, -5.6241, -5.955, -5.4863, -5.1314, -6.138, -4.8324, -5.534, -6.1239, -6.1849, -5.3839, -6.2434, -4.9416, -5.277, -4.9927, -5.4489, -5.9028, -5.0647, -5.5295, -5.3284, -5.4238, -5.6857, -5.3431, -5.1442, -5.2565, -5.0433, -4.5446, -4.8436, -5.0816, -5.0037, -5.0525, -5.3329, -5.2324, -5.3863, -5.3883, -5.4484, -4.8238, -5.5395, -5.7789, -5.8509, -6.0157, -6.0349, -6.0978, -6.2111, -6.2569, -6.3725, -6.3818, -6.4015, -6.4463, -6.4752, -6.4873, -6.5147, -6.5401, -6.5779, -6.5891, -5.8704, -6.6254, -6.65, -6.7291, -6.7357, -6.7486, -6.7876, -6.8045, -6.8074, -6.8234, -6.828, -5.4042, -5.6715, -4.5594, -6.2934, -5.4111, -5.4292, -4.7601, -6.2871, -4.8329, -5.7805, -5.5991, -5.6661, -5.1331, -5.8235, -5.6682, -5.8089, -4.7027, -5.2187, -4.4834, -5.1698, -5.4045, -5.3772, -4.9284, -5.0187, -5.5526, -5.3365, -5.6166, -5.5282, -5.5455, -5.2673, -4.9096, -4.8773, -5.4813, -5.3303, -5.3307, -5.4578, -4.5068, -4.5517, -4.7126, -4.8255, -5.2304, -5.2363, -5.259, -5.4461, -5.4654, -5.5609, -5.6269, -5.6473, -5.6635, -5.7813, -5.7865, -5.7956, -5.815, -5.8158, -5.85, -5.8709, -6.1019, -6.1191, -6.1408, -6.1722, -6.2329, -6.2646, -6.2997, -6.3805, -6.4919, -6.5029, -4.6373, -4.2694, -4.248, -4.928, -5.2773, -5.3909, -3.8052, -5.3599, -4.4255, -4.931, -4.6939, -3.207, -5.1082, -4.8775, -4.655, -4.902, -4.2768, -4.6705, -4.7583, -5.3918, -5.0849, -5.1489, -4.9044, -4.7338, -4.775, -5.1367, -5.0784, -5.1986, -4.4326, -4.5702, -4.7474, -4.8034, -4.827, -4.8325, -4.8941, -5.0911, -5.1359, -5.289, -5.5384, -5.599, -5.6084, -5.6088, -5.7092, -5.7504, -5.7883, -5.8372, -5.8639, -5.9218, -6.0101, -6.0426, -6.0595, -6.0665, -6.1004, -6.1087, -6.1288, -6.1291, -6.1663, -6.2841, -3.7315, -4.1393, -3.9484, -4.9671, -5.0465, -4.8019, -5.0857, -5.4408, -4.0888, -4.9664, -4.3385, -4.2125, -4.7568, -4.9189, -5.111, -5.2799, -4.8142, -5.1848, -5.2088, -4.9278, -5.0977, -4.8437, -4.8795, -4.9522, -5.0824, -3.4517, -4.6312, -4.9196, -5.1392, -5.2141, -5.6933, -5.7078, -5.7333, -5.9626, -6.0161, -6.0502, -6.0633, -6.0775, -6.0869, -4.6182, -6.1218, -6.2407, -6.2474, -6.3492, -6.3496, -6.3628, -6.3818, -6.3957, -6.4534, -6.4566, -6.4596, -6.4693, -6.5173, -6.5936, -6.6093, -3.7738, -2.6935, -4.5621, -3.9312, -4.8395, -4.6801, -4.0432, -5.4209, -4.5626, -4.1708, -3.8577, -6.0416, -4.2341, -5.1751, -4.786, -5.2513, -5.0918, -5.4638, -5.6688, -4.9403, -5.3508, -4.5705, -4.7127, -5.2536, -5.1998, -5.4903, -5.114, -5.345, -5.3385, -5.3428, -2.4112, -2.7059, -3.0443, -3.086, -3.6335, -4.3924, -4.4872, -4.6501, -4.9038, -5.1465, -5.1992, -5.2258, -5.3991, -5.4197, -5.6855, -5.7025, -6.259, -6.4316, -6.4831, -6.5786, -6.7601, -6.7706, -6.796, -6.7994, -7.0608, -7.3498, -7.352, -7.3854, -7.4141, -7.4726, -6.1957, -3.3318, -4.253, -5.5209, -4.3701, -4.9928, -3.8036, -5.6022, -5.1493, -4.8418, -5.366, -4.4977, -4.708, -4.5995, -5.1235, -4.8652, -4.2411, -5.1029, -4.6149, -4.1174, -5.2455, -5.2271, -5.1438, -5.1925, -3.9347, -4.0403, -4.2157, -4.8344, -5.0445, -5.3745, -5.6135, -5.716, -5.9582, -5.9786, -6.2073, -6.2611, -6.3325, -6.4036, -6.4097, -6.5038, -6.5154, -6.5184, -6.5294, -6.5326, -6.621, -6.6318, -6.665, -6.6708, -6.7038, -6.751, -6.7543, -6.7893, -6.8081, -6.8232, -5.2471, -4.2972, -4.965, -4.8406, -5.2151, -3.7758, -4.3422, -4.5914, -3.6163, -3.8395, -4.3395, -4.4516, -4.5087, -5.3694, -5.3837, -4.7998, -5.1991, -4.7812, -5.5, -4.0924, -4.4878, -4.4847, -4.4542, -3.7566, -4.675, -4.7241, -4.6405, -4.1199, -4.8167, -4.3953, -4.5871, -4.9018, -4.9448, -4.2808, -4.3076, -4.618, -4.6818, -4.7989, -5.2118, -5.2612, -5.3941, -5.4275, -5.4464, -5.6103, -5.7917, -5.8697, -6.126, -6.1515, -6.1927, -6.2524, -6.2909, -6.3553, -6.3662, -6.4018, -6.4104, -6.4837, -6.4873, -6.5242, -6.5812, -6.6375, -6.6468, -6.6485, -6.688, -4.8567, -5.4325, -3.6916, -4.6172, -4.2819, -4.1666, -4.332, -4.684, -4.7042, -3.9727, -4.4684, -5.1996, -3.99, -4.9877, -5.4506, -4.9851, -5.1641, -3.5435, -4.7886, -4.9142, -4.7003, -4.9864, -4.1445, -4.1654, -4.5743, -4.1369, -4.8917, -5.0734, -5.0679, -4.9746, -4.8748, -3.9334, -4.0274, -4.2742, -4.6078, -4.8794, -5.6577, -5.6734, -5.7992, -5.8918, -5.9976, -6.108, -6.1554, -6.1978, -6.2712, -6.3067, -6.3122, -6.4108, -6.4244, -6.4889, -6.5175, -6.5843, -6.6039, -6.6384, -6.7574, -6.7642, -6.8778, -6.9185, -6.9333, -7.0215, -7.1589, -3.7759, -3.3955, -2.7368, -4.6164, -4.2087, -4.2707, -3.4356, -4.6238, -4.4577, -4.3488, -5.4752, -4.6709, -4.5064, -4.2431, -4.2712, -4.0295, -4.5588, -4.459, -4.1324, -4.0488, -4.3583, -4.5081, -4.7183, -4.4091, -4.0832, -4.3665, -4.3634, -4.1253, -4.0882, -4.4711, -4.4983, -4.4993, -4.2547, -4.2911, -4.4472, -4.597, -4.7345, -5.2035, -5.2364, -5.2418, -5.2752, -5.2856, -5.3125, -5.5639, -5.7357, -5.8244, -5.8247, -5.8497, -5.889, -5.8944, -5.8972, -5.9193, -5.9951, -6.0117, -6.0294, -6.0944, -6.1402, -6.152, -6.1651, -6.1984, -6.208, -6.2154, -4.3589, -3.0885, -4.4347, -4.4861, -4.8059, -4.0189, -4.4847, -3.8657, -5.0781, -4.9354, -5.3536, -4.9794, -5.3371, -4.6323, -4.9803, -5.3349, -5.0553, -4.7694, -4.4969, -4.9725, -4.8992, -4.5385, -4.7193, -4.8668, -5.2516, -2.6156, -3.589, -4.514, -4.7487, -4.7859, -5.0526, -5.1991, -5.2526, -5.2941, -5.3345, -5.5645, -5.5852, -5.5922, -5.6711, -5.7212, -5.7654, -5.8683, -5.9283, -5.9442, -6.0175, -6.0722, -6.0759, -6.1366, -6.1727, -6.2069, -6.2153, -6.385, -6.4342, -6.4744, -6.4764, -4.3348, -4.3083, -3.7239, -5.5008, -4.7616, -3.9168, -5.1944, -3.9756, -3.5825, -4.917, -4.597, -4.9443, -5.1727, -3.9206, -4.7466, -4.5, -4.8736, -4.7008, -4.469, -4.6804, -5.1825, -5.0076, -4.7156, -4.3685, -4.63, -4.3688, -4.9673, -4.9545, -4.9628, -3.664, -3.8002, -3.9169, -4.0375, -4.0605, -4.7076, -4.9153, -5.2327, -5.4845, -5.5219, -5.6229, -5.6387, -5.6555, -5.7448, -5.7492, -5.8062, -5.8114, -5.8161, -5.8189, -5.8421, -5.8733, -5.879, -5.8817, -5.9776, -5.9794, -5.9933, -6.0089, -6.0668, -6.0706, -6.0933, -4.6478, -5.1744, -3.5965, -5.4642, -3.7598, -4.4806, -4.1692, -4.7036, -5.3743, -4.5088, -3.8636, -5.1762, -4.3707, -3.7932, -4.9977, -4.707, -4.9515, -4.1228, -4.8059, -5.2304, -4.7777, -4.3096, -4.4283, -4.9175, -4.7976, -5.0136, -4.8561, -5.0767, -2.8746, -4.2291, -4.4464, -4.5473, -4.5633, -4.7875, -4.8403, -4.9307, -5.0247, -5.0772, -5.111, -5.1447, -5.1467, -5.2028, -5.2211, -5.242, -5.2753, -5.3771, -5.4048, -5.4478, -5.4785, -5.5484, -5.5529, -5.6987, -5.7043, -5.7139, -5.7157, -5.7379, -5.7518, -5.7625, -3.0344, -3.9966, -3.74, -2.404, -4.5131, -4.522, -4.277, -4.3125, -3.4627, -4.4228, -4.692, -4.3245, -4.234, -4.6853, -4.7585, -4.7801, -4.6109, -4.8812, -4.8621, -4.81, -4.8207, -4.9309, -4.5204, -4.6842, -4.8552, -4.8729, -4.9208, -4.9922, -5.0784, -5.1574, -5.2166, -5.2762, -5.3192, -5.3858, -5.4415, -5.5219, -5.5258, -5.5337, -5.5403, -5.6067, -5.6736, -5.735, -5.7399, -5.7748, -5.7886, -5.7944, -5.7954, -5.8112, -5.813, -5.8602, -5.9422, -5.9561, -3.6824, -4.5325, -3.9658, -4.2548, -4.9128, -4.275, -3.2608, -4.6016, -4.3051, -4.3983, -4.9136, -4.5445, -5.293, -4.2294, -5.1134, -4.4184, -4.9562, -5.1095, -4.3224, -4.1609, -4.6009, -4.7394, -4.8223, -4.7735, -5.0985, -5.1046, -3.3958, -3.5205, -3.6507, -3.7843, -3.9749, -4.1162, -4.3822, -4.4565, -4.5846, -4.6986, -4.8164, -4.8502, -4.9194, -5.0529, -5.1273, -5.1435, -5.2451, -5.2602, -5.3734, -5.4578, -5.6085, -5.6269, -5.6344, -5.6728, -5.6849, -5.7211, -5.7384, -5.823, -6.0058, -6.1233, -3.936, -3.1131, -3.2345, -4.0422, -5.0698, -4.8099, -4.9064, -4.5886, -5.1711, -5.104, -5.2542, -2.3901, -3.296, -3.5078, -3.7177, -3.9402, -4.1368, -4.1523, -4.2072, -4.318, -4.9329, -4.9593, -4.9685, -4.9993, -5.0432, -5.112, -5.1752, -5.1794, -5.1863, -5.2612, -5.3476, -5.4043, -5.4219, -5.4454, -5.4599, -5.7288, -5.7483, -5.7829, -5.7908, -5.8229, -5.8339, -3.6922, -3.8963, -4.3717, -4.2144, -3.9725, -4.8511, -3.662, -3.7227, -3.9661, -3.988, -4.0692, -4.1544, -4.2914, -4.3258, -4.4694, -4.5543, -4.5585, -4.6636, -4.7655, -4.8516, -4.8717, -4.9243, -4.9563, -5.0045, -5.0048, -5.0254, -5.0639, -5.08, -5.1462, -5.1555, -5.1991, -5.3101, -5.3149, -5.3531, -5.3756, -5.4105, -3.808, -4.9403, -4.7288, -5.3487, -5.9766, -11.6942, -11.6942, -11.6942, -11.6942, -11.6942, -11.6942, -11.6942, -11.6942, -11.6942, -11.6942, -11.6942, -11.6942, -11.6942, -11.6942, -11.6942, -11.6942, -11.6942, -11.6942, -11.6942, -11.6942, -11.6942, -11.6942, -11.6942, -11.6942, -11.6942, -11.6942, -11.6942, -11.6942, -11.6942, -11.6942, -11.6942, -11.6942, -11.6942, -11.6942, -11.6942, -11.6942, -11.6942, -11.6942, -11.6942, -11.6942, -11.6942, -11.6942, -11.6942, -11.6942], \"loglift\": [30.0, 29.0, 28.0, 27.0, 26.0, 25.0, 24.0, 23.0, 22.0, 21.0, 20.0, 19.0, 18.0, 17.0, 16.0, 15.0, 14.0, 13.0, 12.0, 11.0, 10.0, 9.0, 8.0, 7.0, 6.0, 5.0, 4.0, 3.0, 2.0, 1.0, 1.6067, 1.6066, 1.6064, 1.6064, 1.606, 1.6058, 1.6058, 1.6057, 1.6057, 1.6057, 1.6057, 1.6056, 1.6055, 1.6053, 1.6052, 1.6052, 1.6051, 1.605, 1.6049, 1.6049, 1.6048, 1.6046, 1.6046, 1.6045, 1.6045, 1.6043, 1.6043, 1.604, 1.604, 1.604, 1.5918, 1.5955, 1.5862, 1.5979, 1.6006, 1.5544, 1.5593, 1.5652, 1.5784, 1.471, 1.4959, 1.5506, 1.4403, 1.4375, 1.4649, 1.503, 1.4382, 1.4715, 1.3675, 1.4118, 1.3815, 1.4874, 1.2892, 1.47, 1.3669, 1.2874, 1.2948, 1.0608, 1.262, 1.2768, 1.0704, 1.1827, 1.1781, 0.8965, 1.0505, 0.5685, 0.8112, 1.1015, 1.1052, 1.0586, 0.5892, 1.6241, 1.6238, 1.6236, 1.6236, 1.6235, 1.6235, 1.6234, 1.6234, 1.6232, 1.6231, 1.623, 1.6229, 1.6229, 1.6229, 1.6229, 1.6229, 1.6229, 1.6227, 1.6227, 1.6226, 1.6226, 1.6225, 1.6225, 1.6225, 1.6224, 1.6224, 1.6223, 1.6222, 1.6222, 1.6222, 1.6176, 1.5935, 1.5899, 1.5773, 1.5982, 1.5295, 1.5944, 1.5311, 1.4724, 1.424, 1.5258, 1.5292, 1.3554, 1.5155, 1.057, 1.5357, 1.5057, 1.2825, 0.9958, 1.2209, 1.0714, 0.7772, 1.1715, 1.175, 1.0468, 1.1582, 0.9741, 0.8299, 1.3359, 0.6723, 0.8361, 1.0527, 1.1485, 0.9665, 0.8928, 1.2785, 0.9451, 0.8823, 0.1677, 0.2245, 0.529, 0.8002, 0.2679, 0.5617, 2.1917, 2.1916, 2.1911, 2.1906, 2.1906, 2.1905, 2.1905, 2.1902, 2.1901, 2.1901, 2.1901, 2.19, 2.1899, 2.1899, 2.1899, 2.1899, 2.1898, 2.1897, 2.1896, 2.1896, 2.1895, 2.1895, 2.1895, 2.1894, 2.1894, 2.1892, 2.1891, 2.189, 2.189, 2.1888, 2.1888, 2.1441, 2.1636, 2.0619, 2.0843, 2.0603, 2.1386, 2.1676, 2.1132, 2.1601, 2.0178, 1.984, 2.046, 2.0627, 2.0927, 1.9904, 1.9078, 2.0975, 1.8377, 1.9622, 2.0733, 2.0736, 1.7927, 2.0894, 1.6234, 1.7384, 1.5979, 1.7783, 1.9418, 1.4371, 1.7069, 1.5854, 1.6229, 1.7648, 1.4589, 1.2778, 1.3569, 1.0763, 0.1776, 0.4107, 0.6805, 0.1492, 0.2693, 1.0927, 0.1718, 0.8988, 0.3693, 0.6154, 2.3746, 2.374, 2.3738, 2.3737, 2.3734, 2.3734, 2.3733, 2.373, 2.3729, 2.3727, 2.3727, 2.3726, 2.3725, 2.3724, 2.3724, 2.3723, 2.3722, 2.3721, 2.3721, 2.372, 2.372, 2.3719, 2.3716, 2.3716, 2.3716, 2.3714, 2.3714, 2.3714, 2.3713, 2.3713, 2.3409, 2.337, 2.2783, 2.3463, 2.2943, 2.2924, 2.2427, 2.3351, 2.204, 2.2822, 2.207, 2.1973, 2.0669, 2.2142, 2.1567, 2.1708, 1.8181, 1.9701, 1.7016, 1.9286, 1.9874, 1.9524, 1.7291, 1.772, 1.9705, 1.6772, 1.9458, 1.7543, 1.744, 1.2482, 0.4946, 0.2756, 1.5338, 0.9836, 0.9291, 0.9312, 2.6407, 2.6407, 2.6406, 2.6405, 2.6402, 2.6402, 2.6402, 2.64, 2.64, 2.6398, 2.6397, 2.6397, 2.6397, 2.6395, 2.6395, 2.6395, 2.6394, 2.6394, 2.6394, 2.6393, 2.6388, 2.6388, 2.6387, 2.6387, 2.6385, 2.6384, 2.6383, 2.6381, 2.6377, 2.6377, 2.6296, 2.5968, 2.589, 2.5649, 2.5478, 2.5577, 2.3853, 2.5378, 2.3558, 2.4392, 2.2107, 1.5152, 2.3057, 2.1888, 2.04, 2.099, 1.6405, 1.8533, 1.8973, 2.38, 2.0264, 1.9846, 1.4881, 0.9635, 0.9371, 1.8816, 1.4692, 1.7508, 2.932, 2.932, 2.9318, 2.9318, 2.9318, 2.9318, 2.9317, 2.9315, 2.9314, 2.9313, 2.9309, 2.9307, 2.9307, 2.9307, 2.9305, 2.9304, 2.9304, 2.9302, 2.9302, 2.93, 2.9298, 2.9297, 2.9296, 2.9296, 2.9295, 2.9295, 2.9294, 2.9294, 2.9293, 2.9289, 2.8364, 2.8219, 2.7651, 2.7925, 2.7646, 2.676, 2.6181, 2.6716, 2.0861, 2.4673, 2.0845, 1.968, 2.2685, 2.335, 2.4007, 2.4171, 1.7334, 2.2592, 2.2963, 1.7671, 2.0643, 0.4781, 0.5023, -0.23, 0.828, 3.0034, 3.0029, 3.0026, 3.0024, 3.0023, 3.0015, 3.0015, 3.0014, 3.0009, 3.0007, 3.0006, 3.0006, 3.0005, 3.0005, 3.0005, 3.0004, 3.0, 3.0, 2.9996, 2.9996, 2.9995, 2.9994, 2.9994, 2.9991, 2.9991, 2.9991, 2.9991, 2.9988, 2.9985, 2.9984, 2.9797, 2.9556, 2.9678, 2.9411, 2.9297, 2.8726, 2.7089, 2.8737, 2.7152, 2.5544, 2.4562, 2.9268, 2.4656, 2.693, 2.5743, 2.6924, 2.4957, 2.5938, 2.7009, 1.9867, 2.3388, 1.5236, 1.0495, 1.9368, 1.5815, 2.3018, 0.9497, 1.6746, 1.5177, 0.6307, 3.2733, 3.2733, 3.2732, 3.2732, 3.273, 3.2726, 3.2725, 3.2724, 3.2721, 3.2717, 3.2716, 3.2715, 3.2712, 3.2711, 3.2704, 3.2704, 3.2682, 3.2672, 3.2668, 3.2662, 3.2648, 3.2647, 3.2644, 3.2644, 3.2617, 3.2579, 3.2578, 3.2573, 3.2568, 3.2558, 3.2344, 3.1514, 3.1711, 3.2009, 3.1305, 3.1382, 3.0275, 3.1725, 3.1304, 3.0561, 3.0584, 2.7206, 2.7575, 2.4015, 2.6585, 2.3243, 1.471, 2.5128, 1.8259, 0.6048, 2.6905, 2.4607, 1.6697, 2.0899, 3.399, 3.3989, 3.3988, 3.3981, 3.3978, 3.3971, 3.3964, 3.3961, 3.3952, 3.3951, 3.3939, 3.3936, 3.3931, 3.3927, 3.3926, 3.392, 3.3919, 3.3918, 3.3918, 3.3917, 3.391, 3.3909, 3.3906, 3.3906, 3.3903, 3.3898, 3.3898, 3.3895, 3.3893, 3.3891, 3.3636, 3.3314, 3.3228, 3.2774, 3.2901, 3.1319, 3.1703, 3.1871, 3.0151, 2.974, 2.9788, 2.9204, 2.915, 3.1008, 3.103, 2.9174, 3.0245, 2.8482, 3.0976, 2.3985, 2.5792, 2.529, 2.4508, 2.001, 2.461, 2.4366, 2.1075, 1.2843, 2.2975, 0.7576, 1.3233, 1.6887, 1.6202, 3.4132, 3.4132, 3.4129, 3.4128, 3.4126, 3.4119, 3.4118, 3.4115, 3.4114, 3.4113, 3.4109, 3.4102, 3.4099, 3.4087, 3.4086, 3.4084, 3.408, 3.4078, 3.4074, 3.4073, 3.407, 3.407, 3.4064, 3.4064, 3.4061, 3.4057, 3.4052, 3.4051, 3.4051, 3.4047, 3.3758, 3.3809, 3.3211, 3.336, 3.2731, 3.1836, 3.1998, 3.2269, 3.1892, 3.0529, 3.1161, 3.1985, 2.915, 3.1306, 3.231, 3.1069, 3.1441, 2.6414, 3.0242, 3.0058, 2.8677, 3.0172, 2.3763, 2.0151, 2.1204, 1.1849, 2.5162, 2.8428, 2.8172, 2.3437, 1.636, 3.6534, 3.6533, 3.6531, 3.6527, 3.6522, 3.65, 3.6499, 3.6493, 3.6489, 3.6483, 3.6476, 3.6473, 3.647, 3.6464, 3.6462, 3.6461, 3.6453, 3.6452, 3.6446, 3.6443, 3.6436, 3.6434, 3.643, 3.6416, 3.6416, 3.6401, 3.6395, 3.6393, 3.6379, 3.6355, 3.5974, 3.3656, 3.2127, 3.4099, 3.326, 3.3198, 3.0896, 3.2746, 3.1675, 3.1301, 3.3913, 3.17, 3.1234, 3.0215, 2.9394, 2.8545, 2.9896, 2.8564, 2.6714, 2.6264, 2.7559, 2.7744, 2.8881, 2.6162, 2.3398, 2.5689, 2.4516, 2.0552, 1.2936, 2.338, 2.1748, 2.0913, 3.7653, 3.7652, 3.765, 3.7648, 3.7646, 3.7635, 3.7634, 3.7634, 3.7633, 3.7632, 3.7631, 3.7622, 3.7614, 3.761, 3.761, 3.7608, 3.7606, 3.7606, 3.7606, 3.7604, 3.76, 3.7599, 3.7597, 3.7593, 3.759, 3.7589, 3.7588, 3.7585, 3.7584, 3.7584, 3.7482, 3.7118, 3.6542, 3.644, 3.609, 3.4362, 3.4771, 3.2089, 3.5205, 3.4563, 3.5705, 3.3947, 3.5401, 3.1947, 3.2399, 3.4127, 3.1269, 2.6525, 2.0187, 2.6086, 2.4028, 1.1736, 1.5446, 0.2861, 2.3019, 3.8996, 3.8992, 3.8981, 3.8977, 3.8976, 3.8969, 3.8965, 3.8963, 3.8962, 3.896, 3.895, 3.8949, 3.8949, 3.8945, 3.8942, 3.8939, 3.8933, 3.8929, 3.8928, 3.8923, 3.8918, 3.8918, 3.8913, 3.891, 3.8907, 3.8906, 3.8889, 3.8884, 3.8879, 3.8879, 3.8548, 3.7951, 3.7313, 3.7937, 3.6891, 3.5596, 3.7488, 3.496, 3.2327, 3.5176, 3.3704, 3.4772, 3.574, 2.8047, 3.2082, 2.9148, 3.2135, 2.9883, 2.7345, 2.8687, 3.4323, 3.1978, 2.702, 1.5419, 1.8718, 1.0353, 2.7572, 1.9809, 1.6602, 4.2013, 4.2011, 4.201, 4.2008, 4.2008, 4.1995, 4.1988, 4.1975, 4.1962, 4.1959, 4.1953, 4.1952, 4.195, 4.1944, 4.1943, 4.1939, 4.1938, 4.1938, 4.1938, 4.1936, 4.1933, 4.1932, 4.1932, 4.1923, 4.1923, 4.1921, 4.192, 4.1914, 4.1913, 4.1911, 4.1302, 4.1363, 4.0341, 4.1285, 3.8431, 3.9313, 3.8614, 3.8979, 4.055, 3.7876, 3.592, 3.9725, 3.6755, 3.4302, 3.874, 3.7513, 3.8474, 3.2416, 3.5883, 3.8404, 3.4045, 2.7693, 2.8613, 3.3756, 2.8114, 3.2679, 1.9224, 2.8513, 4.2074, 4.2062, 4.2057, 4.2055, 4.2055, 4.2049, 4.2047, 4.2044, 4.2041, 4.2039, 4.2037, 4.2036, 4.2036, 4.2033, 4.2032, 4.2031, 4.203, 4.2025, 4.2023, 4.2021, 4.2019, 4.2014, 4.2014, 4.2004, 4.2004, 4.2003, 4.2003, 4.2001, 4.2, 4.1999, 4.1913, 4.1974, 4.1527, 4.1064, 4.0333, 3.8981, 3.5095, 3.353, 2.6314, 3.2024, 3.4451, 2.6938, 2.5181, 3.1339, 2.793, 2.6636, 2.0622, 2.8639, 2.7216, 2.2268, 1.0897, 1.2495, 4.4916, 4.491, 4.4904, 4.4903, 4.4901, 4.4897, 4.4893, 4.4888, 4.4885, 4.4881, 4.4878, 4.4873, 4.4869, 4.4863, 4.4862, 4.4862, 4.4861, 4.4855, 4.4849, 4.4843, 4.4842, 4.4839, 4.4837, 4.4837, 4.4836, 4.4835, 4.4834, 4.4829, 4.4819, 4.4817, 4.3618, 4.3344, 4.2449, 4.276, 4.3636, 4.2684, 3.9637, 4.2061, 4.1017, 3.9781, 4.1418, 3.9079, 4.2053, 3.2105, 4.0328, 3.2192, 3.8225, 3.9966, 2.7522, 2.2612, 2.8517, 3.1187, 3.2582, 3.1123, 3.6274, 3.0823, 5.6206, 5.6202, 5.6197, 5.6191, 5.6182, 5.6173, 5.6153, 5.6147, 5.6135, 5.6122, 5.6108, 5.6103, 5.6094, 5.6074, 5.6061, 5.6058, 5.6039, 5.6036, 5.6012, 5.5993, 5.5953, 5.5948, 5.5946, 5.5935, 5.5931, 5.592, 5.5914, 5.5886, 5.5817, 5.5766, 5.5254, 5.0681, 4.6338, 4.4205, 5.0129, 4.6604, 4.688, 3.9443, 4.8084, 3.8844, 2.1634, 5.7863, 5.7842, 5.7834, 5.7825, 5.7812, 5.7798, 5.7797, 5.7792, 5.7782, 5.7704, 5.7699, 5.7697, 5.7692, 5.7684, 5.767, 5.7657, 5.7656, 5.7654, 5.7637, 5.7616, 5.7601, 5.7596, 5.759, 5.7586, 5.7498, 5.749, 5.7477, 5.7474, 5.7461, 5.7456, 5.666, 5.636, 5.297, 5.15, 5.0463, 4.0501, 5.9514, 5.951, 5.9493, 5.9491, 5.9485, 5.9477, 5.9463, 5.9459, 5.9442, 5.9431, 5.943, 5.9415, 5.9398, 5.9383, 5.9379, 5.9369, 5.9362, 5.9352, 5.9352, 5.9347, 5.9339, 5.9335, 5.9319, 5.9317, 5.9305, 5.9275, 5.9273, 5.9262, 5.9255, 5.9244, 5.4158, 5.406, 9.0767, 8.786, 8.3958, 3.0439, 3.0439, 3.0439, 3.0439, 3.0439, 3.0439, 3.0439, 3.0439, 3.0439, 3.0439, 3.0439, 3.0439, 3.0439, 3.0439, 3.0439, 3.0439, 3.0439, 3.0439, 3.0439, 3.0439, 3.0439, 3.0439, 3.0439, 3.0439, 3.0439, 3.0439, 3.0439, 3.0439, 3.0439, 3.0439, 3.0439, 3.0439, 3.0439, 3.0439, 3.0439, 3.0439, 3.0439, 3.0439, 3.0439, 3.0438, 3.0439, 3.0438, 3.0439, 3.0439]}, \"token.table\": {\"Topic\": [15, 17, 19, 2, 4, 5, 6, 8, 10, 12, 14, 1, 4, 5, 10, 11, 18, 5, 3, 6, 11, 13, 13, 2, 3, 4, 5, 6, 7, 8, 10, 12, 5, 3, 8, 5, 1, 6, 12, 20, 2, 4, 1, 2, 3, 4, 8, 9, 2, 2, 11, 15, 18, 15, 17, 1, 2, 3, 4, 5, 6, 8, 9, 10, 11, 12, 13, 15, 16, 9, 2, 5, 6, 11, 6, 13, 2, 3, 5, 8, 9, 10, 13, 1, 1, 4, 9, 11, 19, 14, 2, 1, 11, 5, 8, 1, 2, 3, 4, 8, 10, 12, 1, 2, 4, 6, 10, 11, 13, 4, 3, 6, 17, 7, 15, 1, 7, 7, 5, 7, 8, 14, 1, 3, 13, 9, 2, 7, 15, 15, 1, 2, 4, 7, 9, 12, 13, 5, 2, 13, 3, 6, 11, 1, 2, 3, 5, 7, 7, 17, 8, 10, 10, 3, 8, 15, 3, 16, 3, 16, 10, 3, 10, 8, 1, 3, 4, 7, 9, 11, 13, 1, 3, 7, 9, 10, 4, 8, 10, 14, 3, 16, 2, 3, 9, 16, 19, 19, 17, 2, 3, 12, 2, 3, 7, 16, 1, 2, 3, 5, 8, 11, 12, 14, 15, 11, 1, 6, 13, 7, 15, 17, 2, 5, 8, 6, 13, 3, 1, 12, 3, 4, 9, 10, 16, 16, 9, 11, 3, 6, 8, 1, 11, 1, 4, 5, 6, 10, 18, 9, 2, 3, 9, 7, 5, 6, 7, 10, 19, 12, 5, 2, 5, 10, 11, 11, 16, 2, 3, 9, 4, 14, 1, 6, 12, 2, 3, 6, 13, 3, 11, 4, 10, 2, 4, 4, 10, 6, 8, 7, 7, 1, 2, 4, 5, 12, 14, 3, 4, 8, 11, 1, 13, 9, 6, 18, 4, 16, 16, 6, 8, 12, 4, 5, 7, 2, 9, 10, 1, 15, 3, 12, 11, 13, 13, 2, 7, 8, 14, 2, 1, 11, 11, 12, 6, 1, 4, 9, 6, 7, 15, 7, 4, 9, 1, 12, 3, 4, 15, 16, 2, 4, 16, 1, 9, 16, 13, 13, 5, 2, 3, 6, 10, 11, 5, 4, 6, 2, 3, 4, 10, 14, 4, 1, 2, 4, 5, 10, 12, 14, 15, 9, 5, 8, 5, 17, 14, 18, 4, 9, 10, 1, 4, 9, 11, 13, 3, 4, 18, 3, 12, 18, 1, 2, 4, 9, 10, 13, 16, 1, 2, 3, 4, 5, 14, 2, 4, 5, 8, 15, 2, 1, 3, 6, 16, 1, 4, 14, 15, 5, 4, 14, 16, 11, 10, 16, 1, 3, 4, 5, 15, 7, 15, 9, 11, 17, 3, 11, 3, 17, 4, 10, 2, 6, 1, 2, 3, 6, 8, 9, 12, 15, 2, 7, 3, 5, 8, 1, 2, 5, 9, 10, 2, 5, 6, 8, 12, 10, 1, 7, 8, 7, 7, 12, 15, 16, 16, 4, 9, 16, 4, 4, 5, 9, 12, 6, 8, 17, 5, 11, 13, 2, 4, 13, 15, 12, 9, 9, 4, 9, 13, 14, 2, 12, 16, 13, 12, 2, 6, 18, 3, 12, 2, 6, 1, 1, 2, 6, 19, 1, 3, 6, 11, 12, 14, 18, 3, 6, 13, 3, 16, 5, 12, 2, 3, 4, 10, 12, 18, 2, 14, 10, 16, 14, 15, 4, 10, 5, 10, 15, 4, 13, 9, 15, 4, 4, 8, 5, 1, 3, 4, 6, 11, 5, 8, 2, 4, 16, 13, 11, 11, 18, 2, 4, 2, 7, 1, 3, 4, 10, 12, 4, 12, 14, 1, 7, 16, 4, 4, 3, 9, 11, 13, 1, 1, 2, 4, 14, 4, 3, 6, 13, 10, 11, 4, 10, 1, 2, 3, 4, 19, 10, 18, 12, 1, 4, 7, 9, 11, 3, 1, 8, 16, 1, 4, 5, 10, 11, 3, 6, 8, 12, 19, 3, 7, 11, 13, 3, 11, 16, 6, 19, 10, 3, 4, 9, 13, 1, 1, 8, 9, 11, 13, 15, 16, 1, 8, 2, 6, 13, 13, 13, 14, 1, 2, 3, 4, 7, 13, 7, 4, 10, 1, 3, 4, 9, 1, 2, 4, 6, 14, 8, 2, 3, 4, 10, 1, 2, 3, 4, 6, 7, 9, 13, 10, 3, 12, 14, 7, 9, 16, 10, 1, 3, 4, 5, 7, 9, 11, 15, 2, 5, 10, 12, 16, 7, 19, 4, 1, 2, 4, 5, 8, 10, 5, 8, 14, 1, 2, 3, 12, 14, 3, 19, 2, 13, 1, 3, 6, 8, 2, 4, 10, 8, 10, 19, 9, 7, 9, 9, 8, 9, 4, 4, 1, 3, 7, 9, 11, 6, 1, 2, 3, 7, 4, 5, 10, 15, 1, 2, 3, 7, 9, 1, 3, 5, 7, 1, 3, 7, 10, 12, 9, 11, 1, 3, 7, 5, 10, 3, 16, 13, 1, 2, 7, 8, 17, 1, 2, 3, 4, 5, 7, 8, 11, 12, 4, 10, 12, 7, 17, 15, 3, 14, 19, 8, 1, 1, 1, 3, 7, 3, 18, 3, 8, 12, 4, 12, 1, 10, 12, 2, 3, 6, 12, 1, 2, 4, 5, 12, 14, 2, 1, 4, 10, 12, 14, 10, 17, 15, 11, 19, 1, 2, 3, 6, 7, 8, 9, 18, 3, 5, 13, 3, 8, 12, 1, 3, 5, 6, 11, 18, 11, 16, 13, 1, 4, 5, 6, 8, 14, 8, 6, 10, 3, 14, 1, 3, 4, 5, 6, 8, 9, 11, 17, 12, 3, 2, 3, 4, 5, 6, 8, 9, 12, 2, 4, 10, 12, 3, 7, 9, 16, 10, 12, 10, 11, 15, 15, 10, 15, 14, 3, 4, 10, 11, 12, 8, 10, 3, 2, 4, 5, 14, 12, 16, 2, 1, 14, 4, 3, 11, 4, 14, 9, 18, 9, 1, 2, 4, 5, 7, 8, 10, 15, 17, 11, 2, 4, 10, 10, 8, 8, 1, 8, 8, 5, 15, 3, 1, 3, 9, 3, 18, 3, 13, 5, 1, 2, 3, 5, 7, 8, 11, 15, 6, 7, 14, 17, 19, 2, 11, 11, 1, 2, 3, 5, 5, 11, 15, 1, 3, 6, 12, 3, 8, 2, 6, 1, 3, 2, 3, 7, 18, 1, 16, 7, 1, 3, 5, 6, 15, 3, 6, 7, 2, 14, 16, 1, 2, 3, 7, 9, 10, 1, 2, 3, 8, 9, 10, 11, 2, 4, 8, 9, 2, 5, 5, 7, 1, 2, 5, 8, 1, 2, 3, 5, 6, 7, 1, 3, 4, 5, 6, 8, 12, 14, 1, 2, 3, 6, 9, 14, 16, 18, 1, 3, 4, 9, 12, 1, 2, 4, 5, 9, 11, 2, 4, 19, 1, 3, 7, 9, 16, 3, 7, 1, 3, 18, 3, 6, 12, 17, 2, 9, 1, 2, 3, 5, 6, 7, 15, 1, 1, 2, 3, 4, 9, 3, 5, 6, 7, 2, 4, 12, 15, 1, 2, 3, 4, 5, 8, 12, 2, 6, 4, 9, 10, 6, 6, 13, 8, 7, 15, 18, 3, 4, 14, 1, 2, 4, 5, 9, 10, 11, 12, 1, 3, 1, 4, 14, 12, 7, 2, 8, 12, 12, 1, 2, 3, 4, 5, 6, 8, 11, 12, 4, 9, 1, 2, 8, 5, 2, 4, 10, 1, 3, 12, 17, 14, 5, 8, 5, 8, 2, 4, 15, 4, 9, 1, 4, 9, 4, 6, 9, 16, 15, 15, 3, 10, 1, 2, 3, 6, 9, 10, 3, 5, 8, 6, 13, 2, 8, 1, 2, 3, 4, 17, 15, 8, 3, 5, 9, 11, 17, 13, 17, 6, 17, 18, 15, 2, 5, 12, 8, 16, 1, 4, 5, 12, 18, 2, 7, 10, 8, 6, 13, 2, 4, 7, 13, 1, 2, 3, 4, 6, 7, 9, 13, 17, 9, 2, 5, 6, 8, 11, 5, 11, 15, 12, 2, 3, 7, 8, 12, 2, 5, 13, 2, 13, 15, 11, 1, 2, 3, 4, 8, 14, 1, 8, 2, 14, 2, 3, 6, 7, 9, 11, 13, 15, 1, 2, 4, 9, 2, 5, 8, 15, 4, 10, 1, 2, 3, 4, 7, 8, 9, 11, 12, 2, 4, 8, 1, 4, 5, 15, 13, 14, 12, 3, 8, 16, 12, 10, 2, 3, 6, 12, 3, 16, 15, 15, 5, 8, 19, 6, 15, 1, 2, 3, 4, 14, 3, 5, 6, 7, 12, 2, 10, 14, 1, 2, 3, 5, 6, 8, 12, 2, 7, 9, 10, 12, 15, 1, 3, 7, 9, 16, 1, 14, 2, 3, 4, 5, 6, 9, 11, 11, 3, 4, 11, 13, 2, 16, 19, 1, 2, 3, 7, 11, 4, 5, 14, 4, 7, 9, 11, 1, 4, 7, 12, 13, 3, 6, 7, 13, 7, 1, 3, 7, 13, 2, 5, 7, 8, 15, 1, 2, 7, 10, 5, 5, 5, 4, 14, 3, 17, 1, 2, 3, 5, 7, 8, 11, 3, 8, 10, 11, 1, 17, 16, 15, 11, 8, 7, 17, 13, 17, 5, 8, 9, 10, 5, 8, 9, 6, 18, 16, 18, 16, 3, 7, 9, 1, 2, 1, 2, 4, 5, 14, 3, 4, 6, 13, 4, 10, 13, 10, 1, 2, 4, 13, 12, 3, 7, 1, 2, 4, 5, 11, 12, 4, 15, 2, 6, 11, 14, 16, 15, 2, 7, 10, 3, 19, 10, 15, 20, 5, 15, 18, 15, 1, 4, 9, 10, 12, 4, 16, 10, 1, 2, 3, 4, 10, 11, 12, 15, 10, 16, 1, 1, 2, 3, 7, 16, 14, 4, 6, 1, 2, 4, 8, 9, 13, 2, 5, 8, 9, 13, 17, 18, 4, 2, 6, 5, 2, 8, 4, 4, 10, 12, 14, 14, 4, 2, 16, 4, 10, 17, 1, 2, 3, 5, 7, 9, 1, 2, 4, 5, 10, 12, 14, 2, 8, 1, 4, 5, 6, 7, 12, 13, 18, 14, 1, 2, 3, 5, 7, 9, 7, 5, 5, 1, 2, 3, 5, 6, 8, 10, 9, 10, 19, 14, 2, 6, 4, 2, 3, 7, 8, 1, 2, 7, 9, 3, 1, 2, 3, 5, 6, 8, 2, 6, 14, 14, 1, 2, 7, 3, 9, 13, 13, 16, 19, 2, 8, 14, 9, 2, 7, 9, 13, 16, 1, 2, 3, 7, 10, 5, 7, 4, 5, 8, 9, 1, 2, 3, 1, 1, 2, 3, 5, 6, 8, 10, 11, 13, 9, 4, 9, 13, 2, 3, 7, 9, 13, 9, 2, 4, 5, 10, 1, 2, 3, 4, 7, 9, 13, 16, 6, 6, 16, 15, 20, 1, 3, 4, 5, 6, 10, 11, 15, 16, 3, 6, 11, 12, 15, 16, 3, 9, 6, 1, 2, 3, 4, 5, 6, 10, 11, 13, 2, 6, 1, 2, 3, 5, 6, 7, 8, 10, 5, 3, 6, 17, 17, 15, 6, 3, 9, 12, 16, 9, 12, 1, 9, 3, 4, 5, 6, 10, 11, 12, 4, 8, 8, 3, 7, 17, 4, 5, 1, 3, 17, 1, 6, 3, 17, 9, 18, 2, 5, 7, 15, 8, 1, 4, 9, 14, 5, 9, 7, 1, 2, 3, 15, 16, 9, 5, 14, 16, 13, 6, 7, 9, 15, 3, 11, 7, 3, 6, 7, 13, 13, 2, 4, 5, 2, 3, 5, 6, 8, 1, 2, 11, 12, 3, 1, 2, 3, 5, 6, 9, 10, 4, 9, 1, 2, 3, 6, 11, 13, 1, 4, 1, 12, 3, 5, 7, 13, 8, 2, 3, 9, 13, 12, 14, 3, 2, 6, 7, 16, 1, 3, 9, 16, 16, 11, 11, 11, 12, 19, 13, 1, 3, 4, 5, 6, 8, 9, 12, 1, 1, 14, 15, 18, 18, 4, 3, 1, 7, 9, 12, 4, 5, 9, 12, 1, 2, 3, 4, 5, 7, 11, 15, 10, 3, 10, 6, 2, 3, 4, 7, 14, 17, 4, 9, 15, 13, 5, 9, 14, 2, 8, 8, 5, 2, 1, 13, 3, 11, 17, 1, 1, 1, 3, 1, 3, 1, 2, 3, 1, 2, 3, 4, 6, 7, 9, 10, 13, 2, 3, 5, 9, 11, 1, 2, 3, 5, 6, 7, 8, 11, 1, 7, 9, 7, 1, 2, 3, 4, 8, 9, 11, 15, 1, 2, 3, 4, 6, 2, 3, 5, 6, 1, 19, 7, 2, 3, 5, 6, 7, 8, 4, 9, 17, 2, 3, 4, 5, 7, 9, 10, 11, 16, 1, 2, 11, 18, 9, 1, 3, 4, 7, 17, 4, 10, 10, 13, 19, 2, 4, 12, 10, 3, 5, 12, 19, 13, 15, 3, 6, 9, 13, 1, 2, 3, 6, 7, 9, 1, 2, 3, 4, 5, 8, 10, 11, 5, 19, 19, 2, 5, 7, 2, 14, 8, 1, 6, 11, 5, 1, 4, 5, 9, 12, 4, 9, 11, 1, 4, 8, 9, 12, 7, 9, 15, 17, 18, 12, 4, 5, 9, 11, 3, 5, 8, 9, 11, 1, 2, 3, 4, 6, 10, 11, 13, 3, 13, 17, 5, 3, 11, 14, 11, 12, 2, 8, 3, 2, 3, 12, 1, 3, 6, 1, 5, 8, 12, 1, 3, 7, 8, 9, 13, 15, 3, 1, 2, 5, 12, 14, 1, 3, 4, 7, 2, 14, 6, 1, 2, 3, 5, 7, 9, 10, 1, 2, 3, 4, 7, 9, 12, 2, 3, 6, 7, 3, 1, 3, 11, 1, 18, 3, 5, 6, 16, 19, 6, 14, 1, 3, 5, 7, 1, 2, 9, 2, 3, 7, 13, 2, 3, 7, 18, 19, 19, 7, 5, 6, 8, 12, 7, 1, 3, 16, 1, 4, 6, 13, 1, 2, 3, 4, 5, 6, 7, 8, 11, 13, 15, 18, 1, 2, 3, 5, 6, 2, 3, 5, 6, 11, 7, 3, 4, 5, 8, 9, 11, 7, 1, 2, 3, 6, 9, 10, 19, 1, 2, 5, 6, 7, 12, 17, 2, 4, 5, 10, 9, 8, 1, 2, 3, 5, 2, 3, 5, 3, 17, 19, 1, 13, 15, 11], \"Freq\": [0.9954866031682463, 0.9664638860482285, 0.990216951647974, 0.6378907270556115, 0.10461407923712027, 0.026907390668527608, 0.0027835231726063042, 0.08118609253435054, 0.09649546998368522, 0.013685655598647662, 0.03641776150826581, 0.07244925321321354, 0.034567290748788164, 0.16052481594300255, 0.20124792559225985, 0.531294523563566, 0.9565502274216731, 0.9952487274272425, 0.04601499747739003, 0.2242503041619641, 0.06174164218485245, 0.6675086975834048, 0.9895197657777242, 0.3281454765826763, 0.4335767169896009, 0.012345578501981801, 0.09678933545553732, 0.051851429708323564, 0.02172821816348797, 0.01925910246309161, 0.027160272704359962, 0.00938263966150617, 0.999260056419717, 0.9981981822749558, 0.9856369024048279, 0.9984169838994492, 0.19235322524549806, 0.6280921640669324, 0.17945490401912353, 0.5784640650108659, 0.997712771264084, 0.9994406204329345, 0.045246879011827265, 0.286856427133235, 0.14320856852287076, 0.011421542274830184, 0.38701456708174586, 0.125636965023132, 0.9968449801655962, 0.9092508672903581, 0.09009765924616288, 0.9958978015541864, 0.9823757695179458, 0.9935328844230416, 0.9965092703915168, 0.12454413695555361, 0.3858403727495568, 0.12958780195881578, 0.12253813382925614, 0.013010363133414941, 0.03719702939905858, 0.023556208140235863, 0.07124176817107829, 0.003954691877557846, 0.03960423315061553, 0.030777819394906713, 0.001260916250815545, 0.016563854385713297, 0.00028657187518535117, 0.9991937897827042, 0.2749753533702938, 0.6361717921194084, 0.08855138498365392, 0.9949720891693307, 0.9962830126548795, 0.9939102160142931, 0.7072287996614188, 0.2007182688562884, 0.0300852886205175, 0.013920058913970784, 0.02739108366942638, 0.008531649011788545, 0.011225853962879664, 0.9984239613542978, 0.003958479079095551, 0.06571075271298615, 0.8083214279513117, 0.12033776400450477, 0.9907793425206857, 0.9964246467167236, 0.9971263815852348, 0.9980456947047974, 0.9869223812196232, 0.06709745354699417, 0.9291980688174647, 0.44466522558182997, 0.43845770730939865, 0.0411765378737944, 0.02317473488374358, 0.02276090033224816, 0.029589170431922607, 0.9932925255102221, 0.007854102414516747, 0.14590505639275342, 0.28788306157824844, 0.13925927742662386, 0.010270749311291131, 0.30057045778631397, 0.10844702949275047, 0.9949872844698087, 0.6936029193787937, 0.004707712122480501, 0.29972433846459184, 0.8781593274106212, 0.12071374440236636, 0.9990300202223155, 0.9975402601452282, 0.9954861993519085, 0.10036974337374478, 0.01430756601008025, 0.8851180608963283, 0.9865500540661423, 0.13150526106948923, 0.36433424788104396, 0.5033848927823891, 0.9942176289241829, 0.30004818977526904, 0.20189412769452944, 0.49715431444146974, 0.9967650773685214, 0.05535939827807865, 0.20245722798840193, 0.06432234847548186, 0.00369062655187191, 0.6194980283499277, 0.01212634438472199, 0.0421785891642504, 0.9983418603326402, 0.2879560350398204, 0.7116962166837838, 0.2688935344485459, 0.7302736973821166, 0.9947881729775181, 0.3432913515054842, 0.20826542922764668, 0.32746800123855013, 0.019892211764145705, 0.10081734598646573, 0.9990471566347693, 0.9954197378065407, 0.20530504794527857, 0.794396416672686, 0.9952774927708767, 0.9473553714739424, 0.051406880622617036, 0.9915532800659742, 0.9760368130533411, 0.022394726112122548, 0.5778674397492608, 0.42063848971147605, 0.9943952997151654, 0.9960159405837508, 0.9912907341617293, 0.9974858695915938, 0.2986133353478065, 0.19856585357070672, 0.021407539768899076, 0.0906543775927869, 0.3674232846049821, 0.013761989851435119, 0.008956215617600634, 0.21126347883150545, 0.5660355568692674, 0.025643339858167143, 0.16868141906702608, 0.027995939845154954, 0.17320465197452073, 0.01917622932575051, 0.8072573958098198, 0.9909343995816541, 0.9974835313538022, 0.9902999104499648, 0.12374423882344283, 0.23520504217544097, 0.05277327832176238, 0.5882400764658514, 0.9927754534516358, 0.9944204325594918, 0.9889923172402038, 0.20903859610416603, 0.0555487178458623, 0.7338277989111284, 0.1263613646342684, 0.4925951502691819, 0.08995215787524191, 0.2902027950498876, 0.0029495775803593236, 0.33821822921453576, 0.1474788790179662, 0.01622267669197628, 0.14452930143760687, 0.04817643381253562, 0.2556300569644747, 0.04178568238842375, 0.004424366370538986, 0.9972586400885858, 0.2853275907537297, 0.5969257525231482, 0.11675809340306076, 0.9262873279383422, 0.07025212880431247, 0.98706838991439, 0.05620198454292543, 0.13827472387545145, 0.804669683455853, 0.9984505276399934, 0.98782061321929, 0.9971110040187614, 0.10473540194177988, 0.8940300289463272, 0.2670514330977022, 0.08108492358082046, 0.22386489771226517, 0.17627157300178362, 0.25118699152754165, 0.9873099002547053, 0.9935763896601767, 0.9856073802428731, 0.863542543298232, 0.13542193189557364, 0.9853517652710019, 0.9985760641709623, 0.9820570786510195, 0.004951764577387779, 0.5730542097286039, 0.03151122912883132, 0.03623791349815602, 0.3542762474912893, 0.9982424197314297, 0.9931859543694952, 0.9989674026706885, 0.3836323652371092, 0.615699411067951, 0.9942412654267772, 0.7698376107328979, 0.014154317664139084, 0.21467381790610945, 0.41284075036770873, 0.5779770505147922, 0.9988132545337418, 0.9965724997407329, 0.13882017100108332, 0.18740723085146246, 0.6722862567052463, 0.9944227646381132, 0.9908971851034649, 0.9876919118975428, 0.8589073712080704, 0.122767234827475, 0.018067630785930284, 0.25960183752630683, 0.7373413301962465, 0.20395696036308034, 0.07677031654115946, 0.7190055765608591, 0.09035585833290408, 0.1641464759714424, 0.08884992736068902, 0.6550799729135546, 0.9236355230637435, 0.07551736981024318, 0.9979962445782405, 0.9989235626437618, 0.9694622203233649, 0.028361926658396312, 0.8151624749194121, 0.18394402640699323, 0.9967155784487062, 0.9906986866702521, 0.9984732860068964, 0.9965116585189339, 0.5137702890775985, 0.06611443062393133, 0.2822241553946672, 0.020678962882374995, 0.01456264991716549, 0.10222980241850174, 0.2158158465416421, 0.04985411652633678, 0.017711330871198593, 0.7156689622399135, 0.15470226732453451, 0.8451327566803274, 0.9982187118872601, 0.9972527814735126, 0.9945652185601684, 0.9980053492476898, 0.981765466931644, 0.9940973739258778, 0.8458149500961903, 0.10808090359409209, 0.04585250455506937, 0.07132337709506106, 0.9196961783310506, 0.00750772390474327, 0.1913121335881938, 0.7415321541558916, 0.0648247725381483, 0.9981507159030959, 0.9949019863119962, 0.9972851546700807, 0.9885064370180882, 0.13701095296517257, 0.8601243158369167, 0.9909473459390927, 0.8181922181421009, 0.12473230497742928, 0.05687276081872423, 0.9934862881919496, 0.9987042891384105, 0.05437620840607042, 0.9449845926880199, 0.9986561762315116, 0.9954061473192721, 0.9978210761623615, 0.01685876613651791, 0.972188847205866, 0.011239177424345272, 0.07058911448042567, 0.928639017164711, 0.9973918732127975, 0.9982507938611282, 0.9110147568960423, 0.087314347369944, 0.9965105062273131, 0.9901773960957627, 0.037098097980352344, 0.24336352275111137, 0.04303379365720872, 0.6751853832424126, 0.9976617226435, 0.2195492697218988, 0.7793999075127408, 0.14193395412728876, 0.15328867045747185, 0.7039924124713522, 0.99729653571965, 0.9917987633184319, 0.9958998918495827, 0.09205393986930122, 0.1553282666087322, 0.42822431451395554, 0.055722229676982774, 0.26860972254545545, 0.9984085891737562, 0.960817365729484, 0.03681292589001854, 0.0003217360868581241, 0.027830171513227735, 0.5099516976701267, 0.46185215268483715, 0.99135326287252, 0.995217603418585, 0.0038796735660837057, 0.2233583495902476, 0.04711032187387357, 0.18622433117201787, 0.02216956323476403, 0.3281095358745077, 0.10253422996078365, 0.08590705753471062, 0.9863607830963442, 0.13251650179099092, 0.8670536723519134, 0.9967263670051004, 0.9835282763678606, 0.990970741356093, 0.9964244883032676, 0.23938077523633125, 0.023829760430766008, 0.7354730605677327, 0.07941177675166328, 0.38270195236818516, 0.04441675648821844, 0.489481629582286, 0.0035892328475328034, 0.9975555150568534, 0.9978055720437634, 0.9760730220234829, 0.17424393345560635, 0.8214356862907156, 0.9832693898776206, 0.1635669768494311, 0.0538808864915773, 0.135343655353843, 0.06799254723937136, 0.579219529784456, 0.9877656320547922, 0.9904514310296745, 0.5731450541065881, 0.334300572067397, 0.008987306621771161, 0.017974613243542322, 0.031319401863747987, 0.03404282811276955, 0.4378395281682658, 0.022149529072041683, 0.4751846643943826, 0.03270918828080574, 0.031678977626292175, 0.9983937004072483, 0.10912763620051735, 0.30313232277921487, 0.5874704415461184, 0.9958172340159593, 0.19489298758667073, 0.8036225743467401, 0.9863460148840623, 0.9954935822113787, 0.9976541537515283, 0.13087588511963297, 0.794603588226343, 0.07167012756551329, 0.9942893325682428, 0.9942370278172484, 0.9926868889966203, 0.2504178055775045, 0.08045096921268244, 0.12124300994023973, 0.08045096921268244, 0.4668422438820446, 0.8773365397186519, 0.12190493316465069, 0.9929879141994248, 0.0894617239868376, 0.90739748615221, 0.9711486498908943, 0.026801180272962993, 0.9973991751524411, 0.9582021412612667, 0.9078816131723707, 0.091777004462966, 0.9985457828037037, 0.9993262172368724, 0.21321217390257552, 0.25749147379769705, 0.16148303919097626, 0.040921627865159675, 0.06421547757301979, 0.24689382145313002, 0.013955324374528812, 0.0015739087640446027, 0.0232911631253909, 0.9765246198182184, 0.4077505427454351, 0.03336140804280833, 0.5578768789380726, 0.11036842786267964, 0.08899868670475762, 0.06662331066881573, 0.6808148124194453, 0.052795831096042654, 0.10482622895143927, 0.007932795704433242, 0.509965438142137, 0.31391205858971544, 0.06289573737086357, 0.9972372432170843, 0.038292922227087654, 0.08784846863861284, 0.8739796367123535, 0.9973792046540926, 0.997430394974969, 0.009595476450998333, 0.989533509009203, 0.9839793642766236, 0.9947611869446653, 0.2606126099853617, 0.4852195304332721, 0.25289710508447927, 0.9985376235087716, 0.9207190439326975, 0.07853411828832921, 0.9991658986796566, 0.9953890725054474, 0.8693351593107752, 0.1297399210052721, 0.969590213088952, 0.2543260312137657, 0.020846396001128333, 0.7212853016390404, 0.45127388758018494, 0.19133509319996686, 0.35686512448809604, 0.9947701472864098, 0.9927076375663476, 0.9978969314649089, 0.9913609795558596, 0.12992026869219292, 0.08031434791881016, 0.06614122769784367, 0.7204669445657971, 0.998189346512244, 0.9992206447868297, 0.9919486074829523, 0.9958649696772441, 0.9934566017484696, 0.9986742097270431, 0.9963785044624431, 0.9464285236934246, 0.40758005572190553, 0.591052648781011, 0.9979218754606403, 0.9980969870084002, 0.9988106148547152, 0.19346600408790687, 0.03537664074750297, 0.7705474562815491, 0.9841917039564264, 0.9884970072691696, 0.011072388262188457, 0.9980947343095253, 0.02133752324367822, 0.5275109913020448, 0.45045882403320686, 0.9765462136261678, 0.2243013919071172, 0.09155158853351723, 0.6820593345747034, 0.1948611882904801, 0.8029624827831853, 0.016496117778502885, 0.9820688784135384, 0.7489201740457149, 0.013091431613819007, 0.06636001542177221, 0.08441716247531567, 0.0866743058570086, 0.9846225532865203, 0.2998167042813362, 0.697650408039263, 0.9973530322440339, 0.9927672508930067, 0.9980657027930561, 0.99835903507195, 0.24577902647815594, 0.7529067915190569, 0.13132610036842585, 0.6648383831151559, 0.2024610714013232, 0.996421406069442, 0.995018162691232, 0.015941119029950022, 0.9833393138760599, 0.9975227004463993, 0.9964640771856599, 0.9964351037930748, 0.9991510479195949, 0.029449747079006293, 0.04808882750875711, 0.05330777002908734, 0.5148114014697176, 0.35414252816526554, 0.09432527985729515, 0.9046651840858762, 0.9980307724802678, 0.9986677103375747, 0.9922365436017725, 0.9880895673908603, 0.993873253259862, 0.9902338029214657, 0.988678410905536, 0.03292291739955886, 0.96624934321496, 0.0026989364579744334, 0.9965822871070595, 0.06321178999169658, 0.05223752089591592, 0.6667965902596327, 0.20192655136236407, 0.014925005970261692, 0.9984364319989205, 0.06800975629853598, 0.9278473895014552, 0.9589754885612229, 0.04054728575795775, 0.9963723292417865, 0.9979123377438172, 0.9955341079254768, 0.2972657325294734, 0.03865787553073869, 0.4645610214642219, 0.19862149841655397, 0.9978848001607926, 0.0542419056016793, 0.02206450397356446, 0.6637738278713975, 0.2592579216893824, 0.9971850370071049, 0.5490739414021899, 0.13051757623494678, 0.3187929304589217, 0.9958061532833754, 0.9938735604991012, 0.9978938973209951, 0.9969783323731168, 0.8948544446926219, 0.06346966855965117, 0.007297314834398395, 0.03428040922205758, 0.9707712889124415, 0.38261844405218115, 0.6132377801932218, 0.9962987617513439, 0.08925512314417196, 0.08747002068128852, 0.11781676255030699, 0.02052867832315955, 0.6845867945157988, 0.9982866583347664, 0.9977164745998264, 0.12038240652159912, 0.8780834358046054, 0.0020470065940019684, 0.1364671062667979, 0.12691440882812202, 0.14533746817413976, 0.5881732280098989, 0.012033478127086352, 0.9081736727677524, 0.06936946214438015, 0.010145873714994376, 0.9802285349534893, 0.8116930765719558, 0.1488759093228224, 0.006387415251474228, 0.03267408570946432, 0.3898481046205863, 0.05280810978924277, 0.5560383324867326, 0.9987124406525436, 0.9701542200762605, 0.9919077907919929, 0.05335502989426916, 0.07191330116184104, 0.7651972920861334, 0.10936124139819144, 0.9990718568307266, 0.9977329489300759, 0.27923068198206796, 0.0659825926601462, 0.06311378428361811, 0.5890619866471023, 0.0019125389176853972, 0.9930986621058195, 0.13199572306317617, 0.8664669741671862, 0.9983464441270739, 0.9969728447958811, 0.9998253788977516, 0.994031995580774, 0.9928841182636994, 0.9951696994625815, 0.06953734489596763, 0.2795980742692032, 0.08981907049062486, 0.021730420279989886, 0.514286613293094, 0.023903462307988874, 0.9972443832627857, 0.16990158818363854, 0.8296258401732988, 0.6698360880338101, 0.029381253966898464, 0.025708597221036154, 0.27460171976755104, 0.28281234989600845, 0.137478225643893, 0.13616890920918928, 0.04975402451874223, 0.3927949304111229, 0.9877337492693923, 0.0915994935299852, 0.016734522856439605, 0.33997504329398354, 0.5504777255407765, 0.12090398985795597, 0.454523107469491, 0.22051538516376973, 0.0039001287050953537, 0.040477011425854484, 0.1416695399904907, 0.002213586562351417, 0.01570592370430291, 0.9956909381727717, 0.04125670015904882, 0.09489041036581229, 0.8622650333241204, 0.9952874778123901, 0.9924153786824945, 0.990824241739735, 0.9961300217777523, 0.2517235632878772, 0.032806078423482744, 0.13753317492921613, 0.08832405729399201, 0.02334278657055503, 0.02460455881761206, 0.197467356664425, 0.24289115755847804, 0.04973372009679256, 0.1570332421953844, 0.045034470953788534, 0.5725251872559899, 0.1750470305768998, 0.9990193102869929, 0.9654274856595925, 0.9985738494331167, 0.07595680201229131, 0.08680777372833294, 0.055611230044713286, 0.205716338783289, 0.5755536247717075, 0.996822411634411, 0.9106957624744704, 0.08791780584908367, 0.9920599876813885, 0.27018432406462695, 0.3854157752304722, 0.046013924185678824, 0.059778773301052836, 0.23872181180091495, 0.413200591688028, 0.5811683118864133, 0.09734057799430966, 0.897696441503078, 0.011244078505032897, 0.42446396356499183, 0.5500228402045259, 0.013586594860248083, 0.8964439289410645, 0.07406516791820761, 0.028093684382768404, 0.07354495779641167, 0.9249692769010237, 0.9844364870459904, 0.9981384187675378, 0.9531179401676462, 0.04678514728526619, 0.9985950909660212, 0.9996995100096334, 0.9973618615422839, 0.9963675973977273, 0.9964856172709556, 0.7277242262776518, 0.12126911312499782, 0.02026629261799873, 0.05433557372176957, 0.07624507925474118, 0.9990034127095281, 0.8720115851105432, 0.06869333610755408, 0.023627007323617326, 0.03544051098542599, 0.420820601951486, 0.11804837665132595, 0.40770411565689424, 0.05301246544064175, 0.7981077859116582, 0.004372622881331808, 0.1511678196117568, 0.026652177562403404, 0.01957269289739, 0.7317971284233415, 0.222024805226886, 0.026331215041139232, 0.019590423990607588, 0.7864045160885481, 0.09079670462472741, 0.07328769822326482, 0.046273802632436835, 0.003001543954536443, 0.9991995289657857, 0.9882998476693212, 0.23885421686649067, 0.7014055996385787, 0.05958288998420117, 0.9492599228843152, 0.05064366537183724, 0.24754057549231526, 0.7470420938964514, 0.996629414211642, 0.13657183752160018, 0.3114914323768516, 0.08409595906502473, 0.46757353240153754, 0.9730773078767889, 0.0004155359550603884, 0.37439789550940994, 0.05194199438254855, 0.09162567809081563, 0.22210396797977758, 0.010388398876509709, 0.2351933505641798, 0.0027009837078925247, 0.011011702809100292, 0.11142888312376151, 0.86863879344205, 0.01962667827748072, 0.9976345019197419, 0.9904509847097885, 0.9916692881058389, 0.8880597232302551, 0.11070663216420523, 0.9655175252114747, 0.9998057459415098, 0.997439517809872, 0.9976295712401736, 0.1826923365176652, 0.778134025908574, 0.038060903441180245, 0.46783625526013184, 0.5296989005837857, 0.9975479005866508, 0.052981036247890294, 0.9468127882277473, 0.14361729338069584, 0.8542236929205972, 0.10926551548209826, 0.09026281713738551, 0.7981133304779351, 0.030342580861521064, 0.6397227464970691, 0.09798125069866177, 0.23136217906909812, 0.45519956534989214, 0.0114191725690332, 0.32399103347825575, 0.03515313908506299, 0.17419835801387903, 0.9895604492293497, 0.9986762683857211, 0.0863134753477225, 0.2589404260431675, 0.5651261228029831, 0.022714072459926973, 0.06723365448138384, 0.9938285551502012, 0.9861830260933219, 0.9960198266522177, 0.9986526853291421, 0.9811257913971713, 0.12484682213562498, 0.47601798456770333, 0.08126622823668, 0.09831950411018021, 0.04800181356985243, 0.06673936360369834, 0.1048460664815198, 0.9445745581889529, 0.18271399593293983, 0.19002255577025742, 0.6267090060499836, 0.21024241092431145, 0.22436937134215057, 0.5642474190419268, 0.0010716194228001387, 0.1352919521285175, 0.5481333347622709, 0.3118412520348403, 0.0032148582684004157, 0.9755936944127235, 0.9967864694672253, 0.9864737954279632, 0.9951644260381678, 0.18680001041161384, 0.20877648222474487, 0.16377703994071466, 0.004185994631072579, 0.05337143154617538, 0.3824952594142569, 0.9981546175608329, 0.9984139761166, 0.9942590958746645, 0.9982992886537346, 0.9954234271804473, 0.0088555841940039, 0.3745174148714149, 0.4309717641081897, 0.013283376291005847, 0.01365235896575601, 0.026566752582011695, 0.07453450029953282, 0.05719231458627518, 0.9769807365147505, 0.9944690152279476, 0.9970296074883646, 0.5177197460148664, 0.05105998280932474, 0.15663819427561773, 0.10008570335532978, 0.0091541801849387, 0.10273024429764539, 0.03885440922940648, 0.023597442254508647, 0.0483421983774696, 0.21057533869507944, 0.6767907772845744, 0.0630906656790705, 0.8879471609655856, 0.05117851071847756, 0.0230303298233149, 0.03710442027089623, 0.9671738125943691, 0.031199155244979647, 0.007574292438130818, 0.08866377618753134, 0.9035685332076058, 0.9993830377687015, 0.15868194173582892, 0.8394786595056756, 0.992924146633535, 0.09680856268387147, 0.6787355894835877, 0.2145923139492484, 0.009143030920143416, 0.9900574718543045, 0.9785001051551578, 0.9990612508886215, 0.9953644566198492, 0.2361661244817632, 0.734689729355861, 0.014649402458455234, 0.013761559885215524, 0.38821924080047904, 0.6062192760192096, 0.9976489058842631, 0.2356580588972018, 0.7621599246612032, 0.9964581261440274, 0.6518807821483522, 0.3473275558428228, 0.2964987258439207, 0.7006155077348941, 0.9900642789301278, 0.9951951947332998, 0.9945324921041463, 0.9986909276420374, 0.12401059733314827, 0.06626237887353295, 0.4679086418779087, 0.08514160413917643, 0.023321395916383107, 0.012956331064657283, 0.21988744721161216, 0.9848176863479468, 0.988927203319728, 0.998100823334009, 0.200719642023573, 0.7984378680495227, 0.9985432748493347, 0.9831139111196827, 0.9958218434167639, 0.9984521062170613, 0.9999364543380141, 0.9997531998119765, 0.9966850831192443, 0.996779002702943, 0.9980484690715777, 0.9847239006340505, 0.005259062402346978, 0.00980744069626869, 0.995794849499689, 0.98614936804273, 0.9979390995605242, 0.9929308443638521, 0.9974556109811338, 0.035221324926080065, 0.058492557466525825, 0.0528319873891201, 0.15660910547489174, 0.11006664039400021, 0.0301897070794972, 0.5144829248130981, 0.042768751695954364, 0.9986636827887779, 0.996543124582101, 0.9960128110410946, 0.9589865768432191, 0.9607570093783825, 0.9983840113649779, 0.9802491820796716, 0.9927414344137081, 0.9011820434500522, 0.059656985825178976, 0.008586990383927276, 0.029828492912589488, 0.049627792211744556, 0.2150537662508931, 0.7338897757373135, 0.13740721358178698, 0.016358001616879402, 0.845708683592665, 0.995482376678601, 0.09664902933970575, 0.9026130613621944, 0.998238966134913, 0.9979274681672389, 0.9450214754384767, 0.053983896863943795, 0.384421363640521, 0.36009089758732343, 0.07542444476491235, 0.17517935558302222, 0.1228790048460294, 0.8756419841128819, 0.9954887820621664, 0.7186781840689381, 0.23463163752588606, 0.0031678438909885608, 0.04329386651017699, 0.9972652858617083, 0.04926244196791008, 0.011196009538161383, 0.9395051432451423, 0.9983908161779055, 0.9879141318263162, 0.9922858679592989, 0.010688018702678912, 0.561049728432625, 0.20663502825179228, 0.12825622443214693, 0.018525899084643447, 0.0749586378347881, 0.010399539675368188, 0.22607694946452583, 0.0542584678714862, 0.023059848845381634, 0.09992601166332041, 0.01740792510876849, 0.5685835279032825, 0.2754698666226783, 0.10772968537212355, 0.44393306589586484, 0.172078289386345, 0.0725929992134887, 0.9264532768475567, 0.9882502530767293, 0.010917269846668961, 0.37215717654319563, 0.21934134109734976, 0.10171653400338637, 0.30611373977322437, 0.07936125656341983, 0.24141827626855444, 0.544858374893395, 0.056353161173184674, 0.0203404901275992, 0.057353513146673155, 0.28539698198526925, 0.10463494261401891, 0.0046185895522169685, 0.09237179104433937, 0.42889178152138957, 0.029622677817667455, 0.028667107565484636, 0.025641135100239035, 0.3645848013671421, 0.1377193371935443, 0.02457232987270707, 0.02571522893655391, 0.11314700732083721, 0.1411480343850848, 0.19314994179011605, 0.9737462322117062, 0.8727784709982144, 0.11435040983185384, 0.002972285020900172, 0.006852768242630952, 0.0030548484937029546, 0.019852200724881884, 0.11352977289541828, 0.06203812726525589, 0.030398682359975386, 0.053352789448120067, 0.7202626575496209, 0.9104531115097688, 0.0890220820142885, 0.9715457701856341, 0.47105884718537255, 0.40070590247586885, 0.00795294157585694, 0.013254902626428233, 0.1070588289057665, 0.9529766538584087, 0.046812888259711305, 0.9487482818321974, 0.051022315332276344, 0.9517319773565768, 0.876088149820965, 0.12343989869967055, 0.9943140517830743, 0.9731871110651378, 0.9971210527679308, 0.9932357940921954, 0.23206023460069164, 0.3453340809153588, 0.274204507091392, 0.011558555746394602, 0.07415258071148538, 0.050857645284136256, 0.011558555746394602, 0.9990375993373118, 0.846365371288563, 0.010239942385327026, 0.05515915631562825, 0.08492325551564546, 0.0031402489981669545, 0.30177380372911955, 0.06264366384796094, 0.529459428099593, 0.1060123542042416, 0.1237112254797941, 0.8456313373256978, 0.027672247804690787, 0.0024416689239433044, 0.6032240249003069, 0.1747231815464872, 0.0600667990896492, 0.07741131554410717, 0.02848152175679415, 0.036514771483069426, 0.01953540274344214, 0.9150559651977533, 0.08445141915505867, 0.05153963331898667, 0.036814023799276195, 0.9111470890320859, 0.9976777592942261, 0.998382199417149, 0.9939312909755255, 0.9927051707679839, 0.9650700886001126, 0.03457704732028554, 0.988169533040938, 0.07035877582675068, 0.33834293669628634, 0.5908067793687447, 0.3756534684821777, 0.26215668375076906, 0.10078932263724785, 0.032377917116628845, 0.017407482320768195, 0.05396319519438141, 0.04926317496777399, 0.10844861485838586, 0.9944383023474092, 0.005394782833711081, 0.9534069888567293, 0.046112494885881025, 0.9930548900236761, 0.9949573721788955, 0.9944956882842758, 0.19780989352808698, 0.052305500692522995, 0.7484441644548291, 0.9972637395415399, 0.0021013478929166364, 0.0872059375560404, 0.21197346869796568, 0.044390974237863944, 0.18701996246958064, 0.031782886880364125, 0.07774987203791554, 0.35775447876905736, 0.9976078965177354, 0.25557087600566936, 0.7426021680164732, 0.9997548258802411, 0.9975382548198025, 0.9991796947173992, 0.9996475524204826, 0.7102721667908717, 0.015266030734192942, 0.2742529030142732, 0.9720470459915287, 0.0029426247608219836, 0.024521873006849864, 0.9954761546928201, 0.9881077315632601, 0.5813869898135103, 0.4180310708984502, 0.03303109134285166, 0.9620305353605547, 0.2580452696465933, 0.48010202987659945, 0.26110812151183477, 0.2586241761233016, 0.739952503908335, 0.058950281404884515, 0.042575203236861044, 0.8957167757908842, 0.49782574973809773, 0.0725919116938603, 0.4186010745392147, 0.01068611898031446, 0.9933901041493477, 0.9970309912429325, 0.9960635214597436, 0.9949457196746434, 0.005348200343995991, 0.62707649033353, 0.0851255221419362, 0.09292498097693035, 0.0202785929709848, 0.1689139941978734, 0.8172284872290055, 0.10069004283910384, 0.08195701161322405, 0.9994101579902274, 0.999599926668177, 0.9534655140769115, 0.045403119717948165, 0.8225224897113004, 0.013221596704327163, 0.1533241302028115, 0.01067006049822894, 0.996976447175099, 0.995722948989288, 0.9939008138493918, 0.3672360206453135, 0.06669144714549326, 0.05023511603167024, 0.14291024388319984, 0.37156663409631957, 0.6146440243557268, 0.38254068648713074, 0.5507102726731257, 0.4434290507238155, 0.9838306471323226, 0.989985461938379, 0.4546082928746458, 0.5407360480930774, 0.004468892959446921, 0.9939295206358181, 0.9942634494545205, 0.6541329724956918, 0.23543932590754027, 0.08893989262928435, 0.02132476957778163, 0.97754845342435, 0.023539139035183242, 0.16918756181537956, 0.806215511955026, 0.9993337076102315, 0.0429903006421144, 0.9553400142692089, 0.08720627832288642, 0.8515436589175969, 0.017441255664577285, 0.04206420483809816, 0.07420512873002645, 0.4516417417937757, 0.13256705718502243, 0.1525368584619213, 0.009358541557808698, 0.001989611197329408, 0.12062939000104597, 0.0570355209901097, 0.9866453949580658, 0.9865215395424196, 0.22017479115238703, 0.0631794868376076, 0.02809389656159211, 0.045382448291802636, 0.643108700023052, 0.019016545334865586, 0.6146419117161912, 0.3660684976961625, 0.996114495638978, 0.11037636208795668, 0.7522224676542253, 0.08656228396624, 0.02041206696147144, 0.02986209796215266, 0.9694442114501877, 0.029952684754677994, 0.9958809651009576, 0.8876543314334427, 0.08155431478353681, 0.03004632649919777, 0.9881575252916722, 0.1260670367622034, 0.7638686054384078, 0.013496926487069611, 0.041065116758530945, 0.05513638054292267, 0.9907003348882572, 0.9956341223823129, 0.994871220614621, 0.0666806815922479, 0.9313785525626884, 0.5217549964314304, 0.021637918080684906, 0.12188138037538333, 0.01088008310271727, 0.12542657599312268, 0.0595348367530709, 0.09462004855621535, 0.04425382115936687, 0.1578238252842816, 0.07870370179084228, 0.37186458041916487, 0.3910199787386291, 0.44574017442533564, 0.41049560249403005, 0.13683186749801002, 0.006565165359753006, 0.16602215088901728, 0.8320639562202513, 0.5791394440475922, 0.2329623456343014, 0.16833162682097358, 0.001205087004370195, 0.0091332909804899, 0.0001902768954268729, 0.002663876535976221, 0.004376368594818077, 0.002093045849695602, 0.16762837216379892, 0.29156214494840854, 0.5410185850405074, 0.33394572950311663, 0.1665605860731594, 0.1574904551483834, 0.341366745714297, 0.9899754052123172, 0.9919970265125836, 0.9964334138456148, 0.47570709761300295, 0.01291512482207248, 0.510147430471863, 0.9934411211787625, 0.9928344703576957, 0.06677217635437124, 0.1335443527087425, 0.09598500350940865, 0.701107851720898, 0.8783007277707032, 0.12134417949463662, 0.9985547169783536, 0.9965580515509731, 0.998315855463428, 0.999712118050358, 0.9717753240800906, 0.9992866743363459, 0.9927095975032952, 0.3000229404983468, 0.5067540761410033, 0.09832868633850929, 0.09460577393816483, 0.9887233904582708, 0.2765688325031048, 0.7147902231690582, 0.00769774086489755, 0.9961383438398609, 0.9992610395484153, 0.996615710768426, 0.997234473899614, 0.9922888177812762, 0.45118852239648516, 0.004712413456141067, 0.05534579208063551, 0.18197937069991568, 0.06707669366294412, 0.16493447096493735, 0.07479703060172843, 0.23976889313998517, 0.0022373458146810435, 0.030577059467307596, 0.696933221273145, 0.026475258807059015, 0.0037289096911350727, 0.37041826519367005, 0.1869957158694733, 0.048833276118779655, 0.14888193938652333, 0.2429753250788061, 0.9979392854936149, 0.9910588045180964, 0.005929891575825378, 0.6609548379516132, 0.030561748890792332, 0.020070402256639742, 0.07070255340407182, 0.11221179443484947, 0.09989586577736598, 0.9939550131479085, 0.7946013740621172, 0.050147644944566375, 0.07581846318999916, 0.07940043782889676, 0.9975704572601706, 0.9974802994467091, 0.9939970091116284, 0.3200514955450542, 0.6210789511451227, 0.0025178876397775243, 0.02266098875799772, 0.03329206990372505, 0.18462945873887793, 0.2725482486145341, 0.5407005577352854, 0.5375358566339405, 0.02217636717951683, 0.02506893681162772, 0.41508374220791283, 0.2726783938807976, 0.04710633655393839, 0.5838493942028135, 0.005652760386472606, 0.0904441661835617, 0.17353154347796854, 0.017717935370122912, 0.6508735669789271, 0.15737695534638588, 0.9998315224822611, 0.28321557760743676, 0.07194853010812481, 0.6017513427224984, 0.04251504051843739, 0.22837177554472035, 0.13080117175162, 0.17463724012243323, 0.03959386820589579, 0.42563408321337975, 0.5682020047721517, 0.07635330266344634, 0.26464202961990624, 0.09043789247515004, 0.9996641094310185, 0.998971440326429, 0.9989202663818048, 0.05863061799608641, 0.9344254743126272, 0.9983926664775347, 0.9962481975121608, 0.01602693851119663, 0.09644782639773686, 0.0809932785476544, 0.024898993758466194, 0.0005723906611141654, 0.03148148636127909, 0.7492593753984425, 0.24437641329076507, 0.12808694765584927, 0.010112127446514416, 0.6159970969501699, 0.45202453474521503, 0.539257339696046, 0.9894766571891176, 0.9934007309583781, 0.9858054294359063, 0.9882191995359435, 0.9968743189575717, 0.9877469369626656, 0.9980929863138562, 0.996000395628623, 0.9996314723122545, 0.0052879315999546615, 0.3873409896966789, 0.6071206468197945, 0.1450779437947487, 0.20117877029334175, 0.6533031730965191, 0.11142777231089247, 0.8837375045346645, 0.1371998517041903, 0.8597857373462592, 0.9842515321725313, 0.05111286299744214, 0.0143116016392838, 0.9343431355932423, 0.9982307717898028, 0.9974739464773761, 0.1733284804308534, 0.040931798585711734, 0.655414108218125, 0.04143712943244891, 0.08843289817900683, 0.32756564829660656, 0.15286396920508305, 0.023050915991242683, 0.49498809075931655, 0.42207988523590034, 0.17520297122999637, 0.40180846707705775, 0.9966706698584891, 0.051513154837307215, 0.07726973225596083, 0.6672180055117887, 0.20359961197602375, 0.9977492067936068, 0.9689826024416758, 0.029950371348197252, 0.004464680597127387, 0.05548960170715466, 0.6512055556667231, 0.14542102516357774, 0.0982229731368025, 0.045284617485149205, 0.9966070493696421, 0.9949756397276289, 0.2238680671843603, 0.46577923232089297, 0.060811922727691904, 0.24859379400770756, 0.9929221843984533, 0.9960232118241252, 0.07664203373579198, 0.15866245580392024, 0.7637311431917517, 0.997096124209164, 0.9893278426144918, 0.05235749276080171, 0.9459845302205869, 0.4560486139519821, 0.9968608508210586, 0.5199346101288923, 0.4761506429601434, 0.9948400604947982, 0.011084643730754802, 0.054771180787259025, 0.16692169382783703, 0.7420190920940568, 0.024777438927569558, 0.366797907475779, 0.6310167391320605, 0.9904522302220294, 0.08623486567136884, 0.33130963589243223, 0.15412188758287196, 0.03355034287518301, 0.020706852243277014, 0.22777537467604717, 0.02909443796207277, 0.11690197595571582, 0.9936037214167116, 0.9951815174595248, 0.9978657320012666, 0.006876747625274809, 0.19529963255780458, 0.4098541584663786, 0.10796493771681451, 0.2791959535861573, 0.9892120499923919, 0.9963558701196433, 0.9996692228105691, 0.011006252829425385, 0.4220897960084635, 0.06823876754243738, 0.03246844584680488, 0.09245252376717324, 0.3736622835589918, 0.5573769330199329, 0.02207433398098744, 0.027041059126709614, 0.059600701748666086, 0.30186651719000324, 0.0314559259229071, 0.946300599094579, 0.995665667637432, 0.9924897852671317, 0.004779244551848146, 0.9986069191172822, 0.9736553518250288, 0.025023852500175973, 0.997016024187965, 0.3020933826597918, 0.12611108953539696, 0.027515146807722973, 0.5434241494525287, 0.9992481384738201, 0.9987126015217936, 0.20073648511169365, 0.7978424704863079, 0.03615142503945399, 0.9623758665675338, 0.9584329159774465, 0.521861822978904, 0.027914460182103744, 0.059392468472561154, 0.31557198248420826, 0.045534225828963555, 0.02949825934137204, 0.037690212156414625, 0.06693261813983976, 0.25018502896930395, 0.09747468661141713, 0.21574397303326992, 0.3138684908887632, 0.01689561234597897, 0.999281531961921, 0.9988603856177397, 0.0022272271915525933, 0.29978477998297903, 0.07750750626603024, 0.20935935600594377, 0.07795295170434076, 0.020935935600594376, 0.31181180681736304, 0.9954202459502977, 0.9933218958738828, 0.25018084028249105, 0.2805191144116507, 0.0057159067199866135, 0.030777959261466384, 0.3442734585961168, 0.08793702646133252, 0.9976787320828272, 0.9971188563957397, 0.9977551682162413, 0.0005961538824808166, 0.42844834341543186, 0.13335217158742765, 0.32434497168721926, 0.04232692565613797, 0.06934014845604998, 0.0016021635591671945, 0.6565755473458559, 0.34277840599639053, 0.9867257025251701, 0.9981459174333593, 0.9971210525586236, 0.9961467345242508, 0.997025355829243, 0.11405332516337235, 0.0856847315948178, 0.20263281120396104, 0.5968983667179538, 0.14866265816226015, 0.0497564815073687, 0.0054610772386136375, 0.7948901313982073, 0.9981287701773487, 0.7868740395078667, 0.02477456725463051, 0.08952627712468753, 0.06531476821675317, 0.016047162880840217, 0.01731404416090655, 0.9092508093457017, 0.09049783792291691, 0.9990476962555666, 0.9981903777037373, 0.18629375582548582, 0.14861636700684824, 0.6635406808615618, 0.22234372084842538, 0.5763203807267467, 0.2005185703356965, 0.9976790480542858, 0.989986668528397, 0.995604645707427, 0.30198878773842397, 0.2582798842499679, 0.437089034884561, 0.9943982423149682, 0.998184032117228, 0.6381705034811789, 0.016016395154438933, 0.33441128503492323, 0.011045789761682023, 0.11859707240748954, 0.371333853492396, 0.10643327010928548, 0.36187311837157066, 0.04155965785219719, 0.9991243568011622, 0.9948358320440087, 0.20484100381819487, 0.6502049927648508, 0.07499823849472619, 0.0697120190413534, 0.7081095429495503, 0.06488060658687138, 0.22680326657874805, 0.998611067053503, 0.1177832109245486, 0.188154952135165, 0.48007840402157786, 0.01878567667910522, 0.06232073691957129, 0.029222163723052568, 0.03578224129353375, 0.060829810199007385, 0.0068582629145939695, 0.9917193922469336, 0.03275115131771175, 0.9643394554659571, 0.9901106546914143, 0.04652496525429664, 0.2661590544742554, 0.06344313443767724, 0.11057232001995175, 0.5132851686172077, 0.9944483244331789, 0.35733715900433777, 0.5472093788053225, 0.003537991673310275, 0.09169295086662463, 0.060828986444235615, 0.35101316767821206, 0.1849799505804214, 0.10969161489944128, 0.06531637069012185, 0.08002501905163784, 0.10645072627741232, 0.041383654712061936, 0.9974020070211658, 0.9965828365855606, 0.9936441048576099, 0.9924775192528953, 0.656305687142444, 0.00048045051222215575, 0.025624027318514972, 0.08407883963887726, 0.0024022525611107786, 0.38115740636291023, 0.24679141311144734, 0.20210951547478684, 0.051888655319992816, 0.005445105805184432, 0.6348209646376126, 0.11109366881158221, 0.2472849106437212, 0.006274393255139195, 0.9913437915261636, 0.9962879536005843, 0.9953771038854695, 0.9932936484779485, 0.9962104546707528, 0.0005017912506307855, 0.014551946268292778, 0.8776328973532438, 0.009408585949327227, 0.01241933345311194, 0.01831538064802367, 0.014677394080950475, 0.003136195316442409, 0.04942643818713237, 0.9980657987106916, 0.9960738708290015, 0.11301565780062844, 0.48104567892880395, 0.13944673906045282, 0.04174288005861922, 0.04010233018731977, 0.03900863027312014, 0.11009912469609609, 0.035545247211487975, 0.9976162243380241, 0.9046631118337457, 0.05906735094447137, 0.035233156703719765, 0.9659107857290831, 0.9975704266618913, 0.9982643695792732, 0.264281466832097, 0.044525681911929384, 0.6894299134750357, 0.991804596510265, 0.9871209204463182, 0.9987494694214659, 0.11339752136395512, 0.8849453628010615, 0.11559795665424646, 0.060935356996036895, 0.27749483651626605, 0.13979287781443758, 0.015831244709754683, 0.3742745211570305, 0.015831244709754683, 0.9989680742436833, 0.9975818160189619, 0.9971175547557561, 0.15572141784394172, 0.4476990763013325, 0.3941698389174775, 0.9625178988427233, 0.03587023225500832, 0.8731214398638124, 0.12657330940307615, 0.9725605793924708, 0.9978888336439578, 0.9989858936229641, 0.42516698172987644, 0.5732056243934824, 0.9951312386407951, 0.9889297310146496, 0.3531523001381788, 0.31927052964521696, 0.10099373896940537, 0.22609566078957202, 0.9982335238918627, 0.18595122776648304, 0.5321215290654449, 0.020391518449588218, 0.2616911534363821, 0.9017695348097297, 0.09722342165604406, 0.9962291459342102, 0.06287274805989058, 0.3256921633733071, 0.3761036460519581, 0.21354077494215093, 0.020957582686630196, 0.9949148946940528, 0.9980185461104264, 0.9907251048451988, 0.9900515160020761, 0.9950615574167462, 0.04113223740579555, 0.7449190029490974, 0.029501742691053365, 0.18466956242188212, 0.9958956963819754, 0.0017289855839964852, 0.996817491906708, 0.8973485467344188, 0.004839321900724909, 0.027422824104107818, 0.07005494561049391, 0.9974128443635556, 0.206091142218557, 0.019412038513521853, 0.7742168027142966, 0.2998979638875996, 0.09802758930397992, 0.5187985552570802, 0.03322969128948472, 0.04984453693422708, 0.39858031540502104, 0.13302618026642576, 0.45039575640767376, 0.01743788879896967, 0.9961301170900806, 0.7263437092921625, 0.20465415250172445, 0.015598066719598833, 0.0030068562351033895, 0.00902056870531017, 0.041344273232671605, 0.9990674481805573, 0.07246192807219944, 0.9261951897228401, 0.10512628268250707, 0.10645140389279077, 0.4697554690455725, 0.05477167669172637, 0.13207041395827568, 0.13162870688818112, 0.0012590834871250318, 0.9971941218030251, 0.21571825322382432, 0.7819786679363632, 0.9979464346510968, 0.8173612409752182, 0.09684125456499688, 0.0857887200766005, 0.9992879384871185, 0.999395396579713, 0.4192806348058075, 0.07932336334163927, 0.500492649655581, 0.1543316530164259, 0.8454096744882091, 0.998277163110865, 0.10413684948011637, 0.05760761886134097, 0.08641142829201146, 0.7488990451974326, 0.2418346299272708, 0.12523579049805095, 0.0345478042753244, 0.5959496237493459, 0.9949113450970022, 0.9993522704608072, 0.9866735720591008, 0.9948505534318246, 0.9940461216903017, 0.9845170578217058, 0.9858163760833384, 0.012642632600516965, 0.11355793210821488, 0.17383619825710828, 0.45490901232217296, 0.031832342797730215, 0.08669233783211633, 0.09165908635374799, 0.03476723965142165, 0.999559357803977, 0.3242387959778775, 0.6604372196762505, 0.014617322769494479, 0.993977612311264, 0.9738801776293646, 0.9962143015461055, 0.9991336100996117, 0.2681146661107565, 0.043244300985605895, 0.6869666099427679, 0.9961486810938597, 0.8758662858627446, 0.036813356168180274, 0.06196307473852126, 0.02514971857034098, 0.6512377360360044, 0.24884553872346926, 0.06255604609184165, 0.0074102203359481846, 0.0006893228219486683, 0.016716078432255206, 0.012580141500563196, 0.9934748134877057, 0.998576251025607, 0.9988369080673558, 0.9911599293337342, 0.9958126647068152, 0.06936306264767918, 0.08912879026232128, 0.24871873915091294, 0.5785135647211448, 0.014275247721685954, 0.9878581363522078, 0.8428167559566662, 0.018854960983370608, 0.13801831439827286, 0.9888451716441023, 0.9987038950795781, 0.2872484594894264, 0.7109908678142539, 0.1918158287983121, 0.8065326974669186, 0.9984947882547037, 0.9992265408060926, 0.9982877419733984, 0.999646640613194, 0.9980550451428128, 0.7644690851714835, 0.058396944006154985, 0.17519083201846497, 0.9994814733697646, 0.9992344609298871, 0.8673606975980099, 0.13234565890306993, 0.8446988130806796, 0.15515845989920782, 0.8874507384204604, 0.11204188966709928, 0.9977445544640625, 0.1413211341953432, 0.6354950365726898, 0.05490821137526074, 0.0036005384508367697, 0.01687752398829736, 0.1410961005421659, 0.00585087498260975, 0.0004500673063545962, 0.9923206983628315, 0.6678069370106312, 0.18859059762135033, 0.14345966847959365, 0.9944879612033826, 0.9986164569831364, 0.49134387674950786, 0.24657262739944508, 0.03999059269628639, 0.0005043858538270355, 0.08797930393183005, 0.028966159034066897, 0.010231827320491292, 0.09439220978763092, 0.25494769854429283, 0.732157493255405, 0.012140366597347277, 0.9967199001255261, 0.37236534034652047, 0.21681272236305468, 0.030329757560482718, 0.022822391827689966, 0.04324242662088625, 0.03483417700015837, 0.2681631039753571, 0.011411195913844983, 0.09146093743077216, 0.030344516624228147, 0.3649889746069132, 0.09317048766312304, 0.41969458204214144, 0.09317289698633203, 0.2952401723363425, 0.30980566243594276, 0.30148252523617114, 0.9969596736931583, 0.9714560704140897, 0.9980486983492523, 0.22698747676268252, 0.565945286022393, 0.030087266215187786, 0.06131708684361055, 0.07578944274458695, 0.03960855299214595, 0.92207666718175, 0.07653309927127054, 0.9659747146934277, 0.2842387013226459, 0.24929906029627416, 0.009128374682565594, 0.04154984338271236, 0.2263207378194711, 0.04564187341282797, 0.06767588126729665, 0.01857152090590931, 0.05760319196239668, 0.12984236905965693, 0.08622344820367843, 0.7831117883910558, 0.9938356551137547, 0.9878633498831731, 0.28283524402292987, 0.011784801834288743, 0.40910097796173783, 0.10943030274696691, 0.1868732862294358, 0.9958202462211242, 0.9941177440521325, 0.9945767896569887, 0.9975177586075665, 0.9856005380821027, 0.9062528738733231, 0.09363798786651586, 0.9929680710044025, 0.9947424547928929, 0.03825719755557092, 0.07651439511114184, 0.8844163905493748, 0.9724625069204529, 0.9006416354827224, 0.09861039804555354, 0.4282852107768472, 0.012047950575392253, 0.4403331613522395, 0.11853628791918185, 0.13958746078681342, 0.5750170026441865, 0.08281494875038556, 0.09297149906882908, 0.09323192343596866, 0.016276522946223577, 0.3613199964439252, 0.001969717186747122, 0.14723635970934737, 0.019081635246612744, 0.36759846997668166, 0.033362084850529376, 0.03914812908659905, 0.030284401746237, 0.9980620127143097, 0.9882318204499325, 0.9708507686702382, 0.006717477517762794, 0.7517733535096275, 0.24124506215965513, 0.30087308426271175, 0.6980521226492495, 0.9878685172828244, 0.08742348118238048, 0.3197704513046803, 0.5920153859934356, 0.9971064441197721, 0.3194927516134627, 0.5241436013949456, 0.018065018265704676, 0.1089062529732482, 0.02916210091463755, 0.2599525205844073, 0.3320710098374482, 0.4074490918250898, 0.23700343169532107, 0.6400295718878721, 0.01844696761080333, 0.09303688012405158, 0.011629610015506447, 0.7334306375796941, 0.07187100698832893, 0.19396512729380339, 0.9641732656484092, 0.9726845094853711, 0.9937100471576428, 0.8369063081278584, 0.16203747263443602, 0.9945444059662895, 0.9901237120258741, 0.5516966122057003, 0.005309416215452934, 0.05237015085242212, 0.18076148842610215, 0.2094806034096885, 0.07632254937940777, 0.12061688607281408, 0.026235876349171423, 0.026235876349171423, 0.24736683414933056, 0.01839918601110723, 0.3379998615373773, 0.1468527624219855, 0.909032690126443, 0.08877760797658522, 0.9880415472050181, 0.9989243203851039, 0.1926978596008465, 0.7684414645058147, 0.03524960846356948, 0.9960605084255145, 0.9934495369476363, 0.9661715812179265, 0.033526458654249816, 0.9956097804362339, 0.06201217060544176, 0.9026215943680967, 0.03445120589191209, 0.9793985662563406, 0.01076708649898072, 0.009751323621718388, 0.06292809244730468, 0.15471101752898322, 0.7818431778696832, 0.9924694541773751, 0.08451316786905715, 0.3350648322081306, 0.0708544740720378, 0.02774422177519553, 0.3815897579542277, 0.084940002050214, 0.0149391963404899, 0.9966123836140411, 0.16994861899615155, 0.17222065935706266, 0.16813098670742266, 0.027718892403115626, 0.46213300940932117, 0.8439324283565115, 0.08302431936854664, 0.07022399603977712, 0.0026667340268269795, 0.36091494749737074, 0.6374601670083432, 0.9982144345183238, 0.003478685380770248, 0.5643655458920201, 0.3329306537948937, 0.006752742209730481, 0.06691353644187477, 0.011459198901360816, 0.013914741523080991, 0.5777359496467273, 0.15470137000422404, 0.12081440324139403, 0.06998395309714897, 0.050277945251372816, 0.02615189826261883, 0.9963147168725669, 0.12061205227213531, 0.6154897476635303, 0.17447315958450108, 0.08884780949817601, 0.9964290957569139, 0.9909319790974889, 0.008477554954256084, 0.9993246328503965, 0.99692542087469, 0.9606641203763907, 0.23811601672130223, 0.4587400985649732, 0.02595577433454953, 0.27704967822312654, 0.988446993565216, 0.9992517788038321, 0.9905797659975765, 0.03646862590106807, 0.04270668033151393, 0.17082672132605572, 0.7495262323351096, 0.07371954763378982, 0.3082817446503938, 0.6173081311960784, 0.17413871454756627, 0.28568378976467096, 0.49593421931058046, 0.044136540553530626, 0.14729252400493362, 0.11297193588727918, 0.7393226690344726, 0.9767077741460153, 0.9743613814799535, 0.9814776962021273, 0.9952459425857262, 0.010839174211504871, 0.8951059994016926, 0.058741331210736075, 0.03496507810162861, 0.9969789989731842, 0.9988616849256001, 0.14575670672081747, 0.8510310940796116, 0.6054980146152878, 0.23596468735089093, 0.14205232014434907, 0.016178180905328642, 0.21872700154093885, 0.03437348445975802, 0.028644570383131684, 0.07286003543606828, 0.038339655743576256, 0.01733363746261302, 0.2276876107377134, 0.07462277822887639, 0.043774779354734575, 0.037017598648970175, 0.20668159245675016, 0.9628677925721759, 0.5846414758689377, 0.12368555724702769, 0.04653026953941697, 0.18681261082598194, 0.05818753451956814, 0.004770303497674914, 0.6704444734004925, 0.14484376074758376, 0.008673279086681663, 0.17086359800762876, 0.9953550056335406, 0.12849338150635461, 0.16021215074469908, 0.03463171743370263, 0.10680810049646605, 0.12007819783087548, 0.4495650048169435, 0.9959252115556223, 0.11678475188159423, 0.5331654825878477, 0.14616755116383148, 0.08590906210464748, 0.010314516145265731, 0.10762383293678586, 0.9825509217532461, 0.013481180057322462, 0.08147321860729662, 0.022273254007750154, 0.7737025076376369, 0.09729895171806646, 0.011722765267236923, 0.9884475853659299, 0.02607141485845181, 0.01685103643290178, 0.9566937476717257, 0.9932209568877275, 0.9918085994277218, 0.9806483449171539, 0.3539452985345475, 0.5668522251683736, 0.0787914032706609, 0.00041067745561774115, 0.0035106086823713974, 0.8397375968232382, 0.15622208636552717, 0.9966538732144143, 0.9910410745467791, 0.9918943698447149, 0.12559527525395753, 0.8093917738588374, 0.062022358150102486, 0.983627844853917], \"Term\": [\"abbas\", \"abusive\", \"accomplish\", \"according\", \"according\", \"according\", \"according\", \"according\", \"according\", \"according\", \"according\", \"account\", \"account\", \"account\", \"account\", \"account\", \"acknowledges\", \"activist\", \"actor\", \"actor\", \"actor\", \"actor\", \"adaptation\", \"added\", \"added\", \"added\", \"added\", \"added\", \"added\", \"added\", \"added\", \"added\", \"administration\", \"advert\", \"aerial\", \"afp\", \"age\", \"age\", \"age\", \"aggravated\", \"agreed\", \"ai\", \"air\", \"air\", \"air\", \"air\", \"air\", \"air\", \"airline\", \"airport\", \"airport\", \"ajay\", \"akin\", \"akshay\", \"album\", \"also\", \"also\", \"also\", \"also\", \"also\", \"also\", \"also\", \"also\", \"also\", \"also\", \"also\", \"also\", \"also\", \"also\", \"amazon\", \"american\", \"american\", \"american\", \"amitabh\", \"amy\", \"anime\", \"announced\", \"announced\", \"announced\", \"announced\", \"announced\", \"announced\", \"announced\", \"answer\", \"app\", \"app\", \"app\", \"app\", \"appreciation\", \"approximately\", \"april\", \"aren\\u00e2t\", \"ariana\", \"army\", \"army\", \"around\", \"around\", \"around\", \"around\", \"around\", \"around\", \"arthritis\", \"article\", \"article\", \"article\", \"article\", \"article\", \"article\", \"article\", \"artificial\", \"artist\", \"artist\", \"artist\", \"asian\", \"asian\", \"ask\", \"athlete\", \"atlanta\", \"attack\", \"attack\", \"attack\", \"attributed\", \"audience\", \"audience\", \"audience\", \"audio\", \"australia\", \"australia\", \"australia\", \"availability\", \"available\", \"available\", \"available\", \"available\", \"available\", \"available\", \"available\", \"aviv\", \"award\", \"award\", \"baby\", \"baby\", \"bachchan\", \"back\", \"back\", \"back\", \"back\", \"back\", \"ball\", \"band\", \"bank\", \"bank\", \"banking\", \"bbc\", \"bbc\", \"bearing\", \"beautiful\", \"beautiful\", \"beauty\", \"beauty\", \"bee\", \"beer\", \"benchmark\", \"benjamin\", \"best\", \"best\", \"best\", \"best\", \"best\", \"best\", \"best\", \"big\", \"big\", \"big\", \"big\", \"big\", \"billion\", \"billion\", \"billion\", \"biodiversity\", \"bird\", \"bjp\", \"black\", \"black\", \"black\", \"black\", \"blame\", \"blast\", \"blocking\", \"blood\", \"blood\", \"blood\", \"blue\", \"blue\", \"blue\", \"blue\", \"body\", \"body\", \"body\", \"body\", \"body\", \"body\", \"body\", \"body\", \"body\", \"bollywood\", \"book\", \"book\", \"book\", \"booking\", \"booking\", \"bookmark\", \"border\", \"border\", \"border\", \"born\", \"bow\", \"boyfriend\", \"brain\", \"brain\", \"brand\", \"brand\", \"brand\", \"brand\", \"brand\", \"bread\", \"brightness\", \"broadway\", \"brother\", \"brother\", \"browse\", \"bst\", \"bts\", \"business\", \"business\", \"business\", \"business\", \"business\", \"buy\", \"buyer\", \"california\", \"camera\", \"camera\", \"cameron\", \"campaign\", \"campaign\", \"campaign\", \"cancel\", \"cancel\", \"cancer\", \"candidate\", \"capital\", \"capital\", \"capital\", \"capsule\", \"captioned\", \"capturing\", \"car\", \"car\", \"car\", \"carbon\", \"carbon\", \"care\", \"care\", \"care\", \"cast\", \"cast\", \"cast\", \"cast\", \"celebrity\", \"celebrity\", \"cell\", \"cent\", \"centre\", \"centre\", \"ceo\", \"ceo\", \"ceremony\", \"certificate\", \"champion\", \"championship\", \"change\", \"change\", \"change\", \"change\", \"change\", \"change\", \"channel\", \"channel\", \"channel\", \"channel\", \"character\", \"character\", \"charging\", \"charity\", \"charles\", \"chatgpt\", \"cheese\", \"chef\", \"child\", \"child\", \"child\", \"china\", \"china\", \"china\", \"chip\", \"chip\", \"chip\", \"choose\", \"chopra\", \"christmas\", \"chronic\", \"cinema\", \"cinema\", \"cinematic\", \"city\", \"city\", \"city\", \"clarity\", \"class\", \"click\", \"click\", \"clicking\", \"clinical\", \"closing\", \"cloud\", \"cloud\", \"cloud\", \"club\", \"club\", \"cm\", \"coach\", \"code\", \"code\", \"coffee\", \"cognitive\", \"collection\", \"collection\", \"collection\", \"collection\", \"college\", \"color\", \"color\", \"colour\", \"colour\", \"colour\", \"comedy\", \"comic\", \"command\", \"comment\", \"comment\", \"comment\", \"comment\", \"comment\", \"committee\", \"communication\", \"communication\", \"company\", \"company\", \"company\", \"company\", \"composition\", \"comprehensive\", \"condition\", \"condition\", \"condition\", \"condition\", \"condition\", \"condition\", \"condition\", \"condition\", \"configuration\", \"conflict\", \"conflict\", \"congress\", \"consented\", \"conservation\", \"console\", \"consumer\", \"consumer\", \"consumer\", \"content\", \"content\", \"content\", \"content\", \"content\", \"contestant\", \"contributor\", \"convenience\", \"cooking\", \"cooking\", \"corresponding\", \"cost\", \"cost\", \"cost\", \"cost\", \"cost\", \"costars\", \"cotton\", \"could\", \"could\", \"could\", \"could\", \"could\", \"could\", \"country\", \"country\", \"country\", \"country\", \"country\", \"county\", \"couple\", \"couple\", \"couple\", \"cream\", \"create\", \"create\", \"creature\", \"cricket\", \"criminal\", \"crop\", \"crop\", \"crop\", \"crowded\", \"crude\", \"culinary\", \"culture\", \"culture\", \"culture\", \"culture\", \"culture\", \"cup\", \"cup\", \"cuttingedge\", \"dad\", \"dad\", \"dance\", \"dance\", \"dancing\", \"daring\", \"data\", \"data\", \"database\", \"daughter\", \"day\", \"day\", \"day\", \"day\", \"day\", \"day\", \"day\", \"day\", \"de\", \"de\", \"dead\", \"dead\", \"dead\", \"deal\", \"deal\", \"deal\", \"deal\", \"deal\", \"death\", \"death\", \"death\", \"death\", \"death\", \"debt\", \"defence\", \"defence\", \"defence\", \"defending\", \"del\", \"delhi\", \"delhi\", \"delicious\", \"denim\", \"design\", \"design\", \"design\", \"developer\", \"development\", \"development\", \"device\", \"diabetes\", \"died\", \"died\", \"diner\", \"directed\", \"directed\", \"directed\", \"director\", \"director\", \"director\", \"dirty\", \"disability\", \"discount\", \"discounted\", \"discovery\", \"discovery\", \"discovery\", \"discovery\", \"discussed\", \"disease\", \"dish\", \"disney\", \"disorder\", \"district\", \"divorce\", \"divorced\", \"doctor\", \"doctor\", \"document\", \"documentary\", \"doesn\\u00e2t\", \"dog\", \"dog\", \"dog\", \"doll\", \"don\\u00e2t\", \"don\\u00e2t\", \"doubt\", \"dr\", \"dr\", \"dr\", \"drake\", \"drama\", \"drama\", \"drama\", \"dress\", \"dress\", \"drug\", \"drug\", \"due\", \"due\", \"due\", \"due\", \"due\", \"duke\", \"e\", \"e\", \"earnings\", \"earring\", \"earth\", \"eclipse\", \"economic\", \"economic\", \"economy\", \"economy\", \"economy\", \"ecosystem\", \"edit\", \"edition\", \"edition\", \"editorial\", \"efficiency\", \"egyptian\", \"election\", \"email\", \"email\", \"email\", \"email\", \"email\", \"embassy\", \"embassy\", \"emily\", \"emission\", \"emma\", \"emmy\", \"emoji\", \"emojis\", \"empathy\", \"employee\", \"employee\", \"en\", \"en\", \"energy\", \"energy\", \"energy\", \"energy\", \"energy\", \"engineering\", \"enhancing\", \"enhancing\", \"enough\", \"enough\", \"ensemble\", \"ensuring\", \"enterprise\", \"entertainment\", \"entertainment\", \"entertainment\", \"entertainment\", \"entrepreneur\", \"environment\", \"environment\", \"environment\", \"environment\", \"environmental\", \"episode\", \"episode\", \"episode\", \"equity\", \"ethnic\", \"eu\", \"ev\", \"even\", \"even\", \"even\", \"even\", \"everyone\\u00e2s\", \"except\", \"except\", \"excess\", \"exciting\", \"exciting\", \"exciting\", \"exciting\", \"exciting\", \"exit\", \"expectation\", \"expertise\", \"expertise\", \"facebook\", \"facebook\", \"facebook\", \"facebook\", \"facebook\", \"family\", \"family\", \"family\", \"family\", \"famously\", \"fan\", \"fan\", \"fan\", \"fan\", \"fashion\", \"fashion\", \"fashion\", \"father\", \"fault\", \"fda\", \"feature\", \"feature\", \"feature\", \"feature\", \"feed\", \"feedback\", \"festival\", \"festival\", \"festival\", \"festival\", \"festival\", \"festive\", \"fighter\", \"fighter\", \"file\", \"filing\", \"film\", \"filming\", \"filmmaker\", \"filter\", \"final\", \"final\", \"final\", \"final\", \"final\", \"final\", \"finale\", \"financial\", \"financial\", \"find\", \"find\", \"find\", \"find\", \"finding\", \"finding\", \"finding\", \"finding\", \"finding\", \"firing\", \"firm\", \"firm\", \"firm\", \"firm\", \"first\", \"first\", \"first\", \"first\", \"first\", \"first\", \"first\", \"first\", \"fiscal\", \"fish\", \"fish\", \"fish\", \"fixture\", \"flagship\", \"flavor\", \"flexibility\", \"follow\", \"follow\", \"follow\", \"follow\", \"follow\", \"follow\", \"follow\", \"follow\", \"food\", \"food\", \"food\", \"food\", \"food\", \"football\", \"footstep\", \"forbes\", \"force\", \"force\", \"force\", \"force\", \"force\", \"forecast\", \"foreign\", \"foreign\", \"formation\", \"found\", \"found\", \"found\", \"found\", \"found\", \"frame\", \"frame\", \"franchise\", \"franchise\", \"friend\", \"friend\", \"friend\", \"friend\", \"fuel\", \"fuel\", \"fuel\", \"fund\", \"fund\", \"g\", \"galaxy\", \"game\", \"game\", \"gaming\", \"gaza\", \"gen\", \"generate\", \"generative\", \"get\", \"get\", \"get\", \"get\", \"get\", \"girl\", \"give\", \"give\", \"give\", \"give\", \"global\", \"global\", \"global\", \"global\", \"go\", \"go\", \"go\", \"go\", \"go\", \"going\", \"going\", \"going\", \"going\", \"good\", \"good\", \"good\", \"good\", \"good\", \"google\", \"gossip\", \"got\", \"got\", \"got\", \"government\", \"government\", \"gown\", \"gown\", \"grateful\", \"ground\", \"ground\", \"ground\", \"ground\", \"grounded\", \"group\", \"group\", \"group\", \"group\", \"group\", \"group\", \"group\", \"group\", \"group\", \"growth\", \"growth\", \"growth\", \"guided\", \"guitar\", \"hai\", \"hair\", \"hair\", \"halted\", \"hamas\", \"happen\", \"happens\", \"happy\", \"happy\", \"happy\", \"harry\", \"harry\", \"hat\", \"health\", \"health\", \"healthcare\", \"healthcare\", \"healthy\", \"healthy\", \"healthy\", \"heart\", \"heart\", \"heart\", \"heart\", \"help\", \"help\", \"help\", \"help\", \"help\", \"heritage\", \"hide\", \"higher\", \"higher\", \"higher\", \"higher\", \"higher\", \"hike\", \"hilarious\", \"hindu\", \"hindustan\", \"hinted\", \"home\", \"home\", \"home\", \"home\", \"home\", \"home\", \"home\", \"hometown\", \"horror\", \"horror\", \"horror\", \"hospital\", \"hospital\", \"hospital\", \"house\", \"house\", \"house\", \"house\", \"house\", \"howard\", \"ht\", \"hue\", \"hulu\", \"human\", \"human\", \"human\", \"human\", \"human\", \"human\", \"humanitarian\", \"husband\", \"hybrid\", \"icon\", \"id\", \"image\", \"image\", \"image\", \"image\", \"image\", \"image\", \"image\", \"image\", \"imagined\", \"immune\", \"inbox\", \"including\", \"including\", \"including\", \"including\", \"including\", \"including\", \"including\", \"including\", \"increase\", \"increase\", \"increase\", \"increase\", \"incredible\", \"incredible\", \"incredible\", \"incredible\", \"index\", \"index\", \"india\", \"india\", \"india\", \"indian\", \"india\\u00e2s\", \"india\\u00e2s\", \"indicator\", \"industry\", \"industry\", \"industry\", \"industry\", \"infection\", \"infiltrated\", \"inflation\", \"info\", \"information\", \"information\", \"information\", \"information\", \"ingredient\", \"ingredient\", \"injured\", \"innovation\", \"innovation\", \"input\", \"instagram\", \"instagram\", \"institute\", \"institute\", \"instrument\", \"insurance\", \"integration\", \"interesting\", \"international\", \"international\", \"international\", \"international\", \"international\", \"international\", \"international\", \"invalid\", \"investigate\", \"investigation\", \"investment\", \"investment\", \"investor\", \"iraq\", \"isi\", \"isn\\u00e2t\", \"israel\", \"israeli\", \"israelpalestine\", \"ist\", \"itv\", \"it\\u00e2s\", \"it\\u00e2s\", \"it\\u00e2s\", \"i\\u00e2ll\", \"jackpot\", \"jean\", \"jeremy\", \"jew\", \"join\", \"join\", \"join\", \"join\", \"join\", \"join\", \"join\", \"join\", \"jordan\", \"josh\", \"journal\", \"julie\", \"jumping\", \"june\", \"ka\", \"karan\", \"keep\", \"keep\", \"keep\", \"keep\", \"khan\", \"khan\", \"khan\", \"kid\", \"kid\", \"kid\", \"kidney\", \"killed\", \"killed\", \"killing\", \"kim\", \"kind\", \"kind\", \"king\", \"king\", \"king\", \"king\", \"kitchen\", \"kitchen\", \"knight\", \"know\", \"know\", \"know\", \"know\", \"kumar\", \"la\", \"la\", \"la\", \"labor\", \"laboratory\", \"lamp\", \"last\", \"last\", \"last\", \"last\", \"last\", \"last\", \"latest\", \"latest\", \"latest\", \"latest\", \"latest\", \"latest\", \"latest\", \"launched\", \"launched\", \"launched\", \"launched\", \"law\", \"law\", \"leader\", \"leader\", \"least\", \"least\", \"least\", \"least\", \"left\", \"left\", \"left\", \"left\", \"left\", \"left\", \"life\", \"life\", \"life\", \"life\", \"life\", \"life\", \"life\", \"life\", \"light\", \"light\", \"light\", \"light\", \"light\", \"light\", \"light\", \"lightning\", \"like\", \"like\", \"like\", \"like\", \"like\", \"link\", \"link\", \"link\", \"link\", \"link\", \"link\", \"local\", \"local\", \"longest\", \"look\", \"look\", \"look\", \"look\", \"look\", \"looked\", \"looked\", \"lot\", \"lot\", \"lottery\", \"love\", \"love\", \"lung\", \"lyric\", \"m\", \"mac\", \"made\", \"made\", \"made\", \"made\", \"made\", \"made\", \"made\", \"mailonline\", \"make\", \"make\", \"make\", \"make\", \"make\", \"man\", \"man\", \"man\", \"man\", \"management\", \"management\", \"management\", \"management\", \"many\", \"many\", \"many\", \"many\", \"many\", \"many\", \"many\", \"march\", \"march\", \"market\", \"market\", \"market\", \"marriage\", \"married\", \"marvel\", \"massacre\", \"match\", \"match\", \"mate\", \"material\", \"material\", \"material\", \"may\", \"may\", \"may\", \"may\", \"may\", \"may\", \"may\", \"may\", \"maybe\", \"maybe\", \"mean\", \"mean\", \"measurement\", \"meat\", \"medal\", \"medical\", \"medical\", \"medical\", \"medication\", \"medium\", \"medium\", \"medium\", \"medium\", \"medium\", \"medium\", \"medium\", \"medium\", \"mental\", \"microsoft\", \"microsoft\", \"might\", \"mile\", \"militant\", \"military\", \"million\", \"million\", \"million\", \"mind\", \"mind\", \"mind\", \"mine\", \"minimal\", \"minister\", \"minister\", \"missile\", \"missile\", \"mission\", \"mission\", \"mission\", \"mobile\", \"mobile\", \"mode\", \"mode\", \"mode\", \"model\", \"model\", \"model\", \"model\", \"modi\", \"modified\", \"mom\", \"monetary\", \"month\", \"month\", \"month\", \"month\", \"month\", \"month\", \"morning\", \"morning\", \"morning\", \"mother\", \"movie\", \"mr\", \"mr\", \"much\", \"much\", \"much\", \"much\", \"mum\", \"mumbai\", \"munition\", \"music\", \"music\", \"music\", \"music\", \"music\", \"musical\", \"musical\", \"musician\", \"musician\", \"na\", \"narendra\", \"national\", \"national\", \"national\", \"navy\", \"ndtv\", \"need\", \"need\", \"need\", \"need\", \"neil\", \"net\", \"net\", \"net\", \"netanyahu\", \"netflix\", \"netflix\", \"network\", \"network\", \"network\", \"network\", \"new\", \"new\", \"new\", \"new\", \"new\", \"new\", \"new\", \"new\", \"newborn\", \"newer\", \"news\", \"news\", \"news\", \"news\", \"news\", \"newsletter\", \"newsletter\", \"newsletter\", \"nh\", \"night\", \"night\", \"night\", \"night\", \"night\", \"north\", \"north\", \"novel\", \"november\", \"november\", \"november\", \"nude\", \"number\", \"number\", \"number\", \"number\", \"number\", \"observe\", \"obviously\", \"occupation\", \"ocean\", \"ocean\", \"october\", \"october\", \"october\", \"october\", \"october\", \"october\", \"october\", \"october\", \"offer\", \"offer\", \"offer\", \"offer\", \"official\", \"official\", \"official\", \"official\", \"oil\", \"oil\", \"one\", \"one\", \"one\", \"one\", \"one\", \"one\", \"one\", \"one\", \"one\", \"operation\", \"operation\", \"operation\", \"opinion\", \"opinion\", \"opinion\", \"opinion\", \"optimize\", \"ordered\", \"organ\", \"outfit\", \"outfit\", \"outfit\", \"oxygen\", \"pad\", \"pain\", \"pain\", \"pain\", \"pain\", \"pair\", \"pair\", \"pakistan\", \"pakistani\", \"palestine\", \"palestinian\", \"parallel\", \"parent\", \"parineeti\", \"part\", \"part\", \"part\", \"part\", \"particle\", \"party\", \"party\", \"party\", \"pat\", \"patient\", \"paying\", \"payment\", \"peerreviewed\", \"people\", \"people\", \"people\", \"people\", \"people\", \"people\", \"people\", \"per\", \"per\", \"per\", \"per\", \"per\", \"per\", \"perfect\", \"perfect\", \"perfect\", \"perfect\", \"perfect\", \"perhaps\", \"phenomenon\", \"photo\", \"photo\", \"photo\", \"photo\", \"photo\", \"photo\", \"photo\", \"pic\", \"picture\", \"picture\", \"picture\", \"picture\", \"pictured\", \"pink\", \"pipeline\", \"place\", \"place\", \"place\", \"place\", \"place\", \"plant\", \"plant\", \"plant\", \"platform\", \"platform\", \"platform\", \"platform\", \"play\", \"play\", \"play\", \"play\", \"play\", \"played\", \"played\", \"played\", \"played\", \"player\", \"playing\", \"playing\", \"playing\", \"playing\", \"pm\", \"pm\", \"pm\", \"pm\", \"pm\", \"point\", \"point\", \"point\", \"point\", \"police\", \"political\", \"politics\", \"pollution\", \"pollution\", \"pop\", \"portrait\", \"post\", \"post\", \"post\", \"post\", \"post\", \"post\", \"post\", \"posted\", \"posted\", \"posted\", \"posted\", \"poster\", \"poster\", \"powder\", \"pradesh\", \"prakash\", \"prayer\", \"precision\", \"pregnant\", \"premiere\", \"presenter\", \"president\", \"price\", \"price\", \"price\", \"prime\", \"prime\", \"prime\", \"prince\", \"prince\", \"princess\", \"princess\", \"printed\", \"pro\", \"pro\", \"pro\", \"probably\", \"probe\", \"process\", \"process\", \"process\", \"process\", \"process\", \"producer\", \"producer\", \"producer\", \"producer\", \"production\", \"production\", \"production\", \"profit\", \"project\", \"project\", \"project\", \"project\", \"protein\", \"proud\", \"proud\", \"provide\", \"provide\", \"provide\", \"provide\", \"provide\", \"provide\", \"provider\", \"pti\", \"published\", \"published\", \"published\", \"published\", \"pulse\", \"qatar\", \"quarter\", \"quarter\", \"quarter\", \"queen\", \"questioned\", \"r\", \"r\", \"ra\", \"rally\", \"ram\", \"ram\", \"raniganj\", \"rate\", \"rate\", \"rate\", \"rate\", \"rate\", \"raw\", \"raw\", \"rbi\", \"read\", \"read\", \"read\", \"read\", \"read\", \"read\", \"read\", \"read\", \"recession\", \"recipe\", \"recommendation\", \"red\", \"red\", \"red\", \"red\", \"red\", \"registration\", \"regulation\", \"relationship\", \"release\", \"release\", \"release\", \"release\", \"release\", \"release\", \"released\", \"released\", \"released\", \"released\", \"released\", \"released\", \"remembered\", \"remote\", \"reporter\", \"reporter\", \"republican\", \"request\", \"request\", \"requirement\", \"research\", \"research\", \"research\", \"research\", \"researcher\", \"resource\", \"restaurant\", \"restaurant\", \"revenue\", \"revenue\", \"ridiculous\", \"right\", \"right\", \"right\", \"right\", \"right\", \"right\", \"risk\", \"risk\", \"risk\", \"risk\", \"risk\", \"risk\", \"risk\", \"road\", \"rocket\", \"role\", \"role\", \"role\", \"role\", \"role\", \"role\", \"role\", \"royal\", \"ruled\", \"run\", \"run\", \"run\", \"run\", \"run\", \"run\", \"russell\", \"russia\", \"russian\", \"said\", \"said\", \"said\", \"said\", \"said\", \"said\", \"said\", \"sale\", \"sale\", \"salman\", \"sample\", \"san\", \"sarah\", \"satellite\", \"saturday\", \"saturday\", \"saturday\", \"saturday\", \"save\", \"save\", \"save\", \"save\", \"saved\", \"say\", \"say\", \"say\", \"say\", \"say\", \"say\", \"school\", \"school\", \"science\", \"scientist\", \"score\", \"score\", \"score\", \"screen\", \"screen\", \"screen\", \"script\", \"scroll\", \"se\", \"sea\", \"sea\", \"sea\", \"seamless\", \"search\", \"season\", \"season\", \"season\", \"season\", \"second\", \"second\", \"second\", \"second\", \"second\", \"secretary\", \"secured\", \"security\", \"security\", \"security\", \"security\", \"see\", \"see\", \"see\", \"seem\", \"seen\", \"seen\", \"seen\", \"seen\", \"seen\", \"seen\", \"seen\", \"seen\", \"seen\", \"seller\", \"sensor\", \"sensor\", \"sequel\", \"series\", \"series\", \"series\", \"series\", \"series\", \"server\", \"service\", \"service\", \"service\", \"service\", \"set\", \"set\", \"set\", \"set\", \"set\", \"set\", \"set\", \"set\", \"sex\", \"sexual\", \"shade\", \"shah\", \"shaping\", \"share\", \"share\", \"share\", \"share\", \"share\", \"share\", \"share\", \"share\", \"share\", \"shared\", \"shared\", \"shared\", \"shared\", \"sharma\", \"shelf\", \"shoe\", \"shopper\", \"shortly\", \"show\", \"show\", \"show\", \"show\", \"show\", \"show\", \"show\", \"show\", \"show\", \"signed\", \"silver\", \"since\", \"since\", \"since\", \"since\", \"since\", \"since\", \"since\", \"since\", \"singapore\", \"singer\", \"singer\", \"singer\", \"singersongwriter\", \"singh\", \"sister\", \"skin\", \"skin\", \"skin\", \"skirt\", \"sleek\", \"sleep\", \"smart\", \"smart\", \"social\", \"social\", \"social\", \"social\", \"social\", \"social\", \"social\", \"solar\", \"soldier\", \"solidarity\", \"solo\", \"solo\", \"solo\", \"solution\", \"solution\", \"something\", \"something\", \"sometime\", \"sometimes\", \"son\", \"song\", \"song\", \"sony\", \"sorry\", \"south\", \"south\", \"south\", \"south\", \"southern\", \"space\", \"space\", \"space\", \"space\", \"speaker\", \"speaker\", \"spear\", \"special\", \"special\", \"special\", \"special\", \"special\", \"specification\", \"speech\", \"spell\", \"spice\", \"spinoff\", \"sport\", \"sport\", \"sport\", \"sport\", \"spotted\", \"spotted\", \"squad\", \"star\", \"star\", \"star\", \"star\", \"starring\", \"state\", \"state\", \"state\", \"statement\", \"statement\", \"statement\", \"statement\", \"statement\", \"stay\", \"stay\", \"stay\", \"stay\", \"stephen\", \"still\", \"still\", \"still\", \"still\", \"still\", \"still\", \"stock\", \"storage\", \"storage\", \"story\", \"story\", \"story\", \"story\", \"story\", \"story\", \"strategy\", \"strategy\", \"stress\", \"stress\", \"strictly\", \"strike\", \"strike\", \"strike\", \"strip\", \"student\", \"studio\", \"studio\", \"studio\", \"study\", \"study\", \"stuff\", \"stunning\", \"stunning\", \"stunning\", \"stunning\", \"style\", \"style\", \"style\", \"style\", \"stylish\", \"subscribe\", \"subscribed\", \"subscribing\", \"sugar\", \"sunny\", \"sunset\", \"support\", \"support\", \"support\", \"support\", \"support\", \"support\", \"support\", \"support\", \"sure\", \"surface\", \"surface\", \"surface\", \"suspect\", \"sussex\", \"sustainable\", \"swift\", \"switch\", \"switch\", \"switch\", \"symptom\", \"system\", \"system\", \"system\", \"system\", \"take\", \"take\", \"take\", \"take\", \"take\", \"take\", \"take\", \"tamil\", \"tax\", \"taylor\", \"tc\", \"teacher\", \"team\", \"team\", \"team\", \"team\", \"team\", \"teaser\", \"technology\", \"technology\", \"technology\", \"teeth\", \"tel\", \"temperature\", \"temperature\", \"territory\", \"territory\", \"terror\", \"terrorist\", \"texas\", \"that\\u00e2s\", \"theater\", \"theatre\", \"theatre\", \"theatre\", \"there\\u00e2s\", \"they\\u00e2re\", \"thing\", \"thing\", \"think\", \"think\", \"though\", \"though\", \"thread\", \"three\", \"three\", \"three\", \"three\", \"three\", \"three\", \"three\", \"three\", \"thriller\", \"thursday\", \"thursday\", \"thursday\", \"tier\", \"tiktok\", \"time\", \"time\", \"time\", \"time\", \"time\", \"time\", \"time\", \"time\", \"title\", \"title\", \"title\", \"tnt\", \"today\", \"today\", \"today\", \"today\", \"today\", \"today\", \"today\", \"today\", \"together\", \"together\", \"together\", \"together\", \"together\", \"told\", \"told\", \"told\", \"told\", \"tomorrow\", \"toned\", \"tonight\", \"took\", \"took\", \"took\", \"took\", \"took\", \"took\", \"tool\", \"tool\", \"too\\u00e2\", \"top\", \"top\", \"top\", \"top\", \"top\", \"top\", \"top\", \"top\", \"top\", \"topic\", \"topic\", \"topic\", \"totally\", \"toy\", \"track\", \"track\", \"track\", \"track\", \"track\", \"tracking\", \"trader\", \"trading\", \"trailer\", \"trapped\", \"travel\", \"travel\", \"travelled\", \"treasury\", \"treatment\", \"treatment\", \"treatment\", \"tremendous\", \"trial\", \"trial\", \"tv\", \"tv\", \"tv\", \"tv\", \"two\", \"two\", \"two\", \"two\", \"two\", \"two\", \"u\", \"u\", \"u\", \"u\", \"u\", \"u\", \"u\", \"u\", \"ukraine\", \"understood\", \"uneven\", \"united\", \"united\", \"united\", \"university\", \"university\", \"unwavering\", \"updated\", \"updated\", \"updated\", \"urged\", \"use\", \"use\", \"use\", \"use\", \"use\", \"user\", \"user\", \"user\", \"using\", \"using\", \"using\", \"using\", \"using\", \"v\", \"v\", \"v\", \"valentine\", \"vanilla\", \"vegetable\", \"vehicle\", \"vehicle\", \"vessel\", \"vibrancy\", \"video\", \"video\", \"video\", \"video\", \"video\", \"view\", \"view\", \"view\", \"view\", \"view\", \"view\", \"view\", \"view\", \"viewer\", \"viewer\", \"villain\", \"violence\", \"viral\", \"viral\", \"viral\", \"virgin\", \"virus\", \"visit\", \"visit\", \"walked\", \"walking\", \"walking\", \"walking\", \"want\", \"want\", \"want\", \"war\", \"war\", \"war\", \"washing\", \"watch\", \"watch\", \"watch\", \"watch\", \"watch\", \"watch\", \"watch\", \"watched\", \"water\", \"water\", \"water\", \"water\", \"water\", \"way\", \"way\", \"way\", \"way\", \"weather\", \"weather\", \"wedding\", \"week\", \"week\", \"week\", \"week\", \"week\", \"week\", \"week\", \"well\", \"well\", \"well\", \"well\", \"well\", \"well\", \"wellbeing\", \"went\", \"went\", \"went\", \"went\", \"we\\u00e2d\", \"we\\u00e2re\", \"we\\u00e2re\", \"whatsapp\", \"what\\u00e2s\", \"whereabouts\", \"white\", \"white\", \"white\", \"white\", \"who\\u00e2s\", \"wife\", \"wildlife\", \"win\", \"win\", \"win\", \"win\", \"window\", \"window\", \"window\", \"winner\", \"winner\", \"winner\", \"winner\", \"winning\", \"winning\", \"winning\", \"wished\", \"wishing\", \"witch\", \"witnessing\", \"woman\", \"woman\", \"woman\", \"woman\", \"women\\u00e2s\", \"won\\u00e2t\", \"wore\", \"wore\", \"work\", \"work\", \"work\", \"work\", \"world\", \"world\", \"world\", \"world\", \"world\", \"world\", \"world\", \"world\", \"world\", \"world\", \"world\", \"worthy\", \"would\", \"would\", \"would\", \"would\", \"would\", \"wrote\", \"wrote\", \"wrote\", \"wrote\", \"wrote\", \"wwe\", \"x\", \"x\", \"x\", \"x\", \"x\", \"x\", \"yard\", \"year\", \"year\", \"year\", \"year\", \"year\", \"year\", \"yoga\", \"young\", \"young\", \"young\", \"young\", \"young\", \"young\", \"youngest\", \"yous\", \"yous\", \"yous\", \"yoy\", \"z\", \"\\u00e0\\u00e0\\u00e0\", \"\\u00e2\", \"\\u00e2\", \"\\u00e2\", \"\\u00e2\", \"\\u00e2i\", \"\\u00e2i\", \"\\u00e2i\", \"\\u00e2i\\u00e2m\", \"\\u00e2oh\", \"\\u00e2they\", \"\\u00f0\", \"\\u00f0\", \"\\u00f0\", \"\\u00f0\\u00ef\\u00f0\\u00f0\"]}, \"R\": 30, \"lambda.step\": 0.01, \"plot.opts\": {\"xlab\": \"PC1\", \"ylab\": \"PC2\"}, \"topic.order\": [12, 19, 8, 1, 2, 14, 20, 5, 18, 7, 10, 13, 15, 6, 4, 17, 11, 16, 9, 3]};\n",
       "\n",
       "function LDAvis_load_lib(url, callback){\n",
       "  var s = document.createElement('script');\n",
       "  s.src = url;\n",
       "  s.async = true;\n",
       "  s.onreadystatechange = s.onload = callback;\n",
       "  s.onerror = function(){console.warn(\"failed to load library \" + url);};\n",
       "  document.getElementsByTagName(\"head\")[0].appendChild(s);\n",
       "}\n",
       "\n",
       "if(typeof(LDAvis) !== \"undefined\"){\n",
       "   // already loaded: just create the visualization\n",
       "   !function(LDAvis){\n",
       "       new LDAvis(\"#\" + \"ldavis_el2092820364480204005419949426\", ldavis_el2092820364480204005419949426_data);\n",
       "   }(LDAvis);\n",
       "}else if(typeof define === \"function\" && define.amd){\n",
       "   // require.js is available: use it to load d3/LDAvis\n",
       "   require.config({paths: {d3: \"https://d3js.org/d3.v5\"}});\n",
       "   require([\"d3\"], function(d3){\n",
       "      window.d3 = d3;\n",
       "      LDAvis_load_lib(\"https://cdn.jsdelivr.net/gh/bmabey/pyLDAvis@3.4.0/pyLDAvis/js/ldavis.v3.0.0.js\", function(){\n",
       "        new LDAvis(\"#\" + \"ldavis_el2092820364480204005419949426\", ldavis_el2092820364480204005419949426_data);\n",
       "      });\n",
       "    });\n",
       "}else{\n",
       "    // require.js not available: dynamically load d3 & LDAvis\n",
       "    LDAvis_load_lib(\"https://d3js.org/d3.v5.js\", function(){\n",
       "         LDAvis_load_lib(\"https://cdn.jsdelivr.net/gh/bmabey/pyLDAvis@3.4.0/pyLDAvis/js/ldavis.v3.0.0.js\", function(){\n",
       "                 new LDAvis(\"#\" + \"ldavis_el2092820364480204005419949426\", ldavis_el2092820364480204005419949426_data);\n",
       "            })\n",
       "         });\n",
       "}\n",
       "</script>"
      ],
      "text/plain": [
       "PreparedData(topic_coordinates=              x         y  topics  cluster       Freq\n",
       "topic                                                \n",
       "11    -0.255006 -0.036543       1        1  20.047122\n",
       "18    -0.271525 -0.034754       2        1  19.696516\n",
       "7     -0.206062 -0.224819       3        1  11.163733\n",
       "0     -0.197647  0.249494       4        1   9.300701\n",
       "1     -0.184917  0.051298       5        1   7.127533\n",
       "13    -0.119420 -0.144156       6        1   5.325668\n",
       "19    -0.018991 -0.147029       7        1   4.960935\n",
       "4     -0.115155  0.031189       8        1   3.787703\n",
       "17    -0.110199  0.013085       9        1   3.338755\n",
       "6     -0.090998  0.201612      10        1   3.290833\n",
       "9     -0.025530 -0.068122      11        1   2.588397\n",
       "12     0.030871  0.174710      12        1   2.313556\n",
       "14     0.053120 -0.138752      13        1   2.024522\n",
       "5      0.095698  0.137223      14        1   1.496142\n",
       "3      0.135108 -0.003659      15        1   1.487773\n",
       "16     0.165987 -0.014065      16        1   1.116816\n",
       "10     0.269013 -0.018212      17        1   0.361098\n",
       "15     0.273488 -0.007802      18        1   0.306527\n",
       "8      0.279356 -0.008680      19        1   0.258734\n",
       "2      0.292808 -0.012018      20        1   0.006938, topic_info=            Term          Freq         Total Category  logprob  loglift\n",
       "2838      israel  10253.000000  10253.000000  Default  30.0000  30.0000\n",
       "2260        game  10623.000000  10623.000000  Default  29.0000  29.0000\n",
       "147         said  26838.000000  26838.000000  Default  28.0000  28.0000\n",
       "2829       hamas   7636.000000   7636.000000  Default  27.0000  27.0000\n",
       "903         news   7866.000000   7866.000000  Default  26.0000  26.0000\n",
       "...          ...           ...           ...      ...      ...      ...\n",
       "9384         era      0.001746      1.199389  Topic20 -11.6942   3.0438\n",
       "15933       grey      0.001746      1.199330  Topic20 -11.6942   3.0439\n",
       "13676       musk      0.001746      1.199375  Topic20 -11.6942   3.0438\n",
       "5647   renewable      0.001746      1.199337  Topic20 -11.6942   3.0439\n",
       "10730    uncover      0.001746      1.199323  Topic20 -11.6942   3.0439\n",
       "\n",
       "[1168 rows x 6 columns], token_table=      Topic      Freq        Term\n",
       "term                             \n",
       "2669     15  0.995487       abbas\n",
       "2544     17  0.966464     abusive\n",
       "5879     19  0.990217  accomplish\n",
       "747       2  0.637891   according\n",
       "747       4  0.104614   according\n",
       "...     ...       ...         ...\n",
       "5919     19  0.991894       âthey\n",
       "7963      1  0.125595           ð\n",
       "7963     13  0.809392           ð\n",
       "7963     15  0.062022           ð\n",
       "1971     11  0.983628        ðïðð\n",
       "\n",
       "[2284 rows x 3 columns], R=30, lambda_step=0.01, plot_opts={'xlab': 'PC1', 'ylab': 'PC2'}, topic_order=[12, 19, 8, 1, 2, 14, 20, 5, 18, 7, 10, 13, 15, 6, 4, 17, 11, 16, 9, 3])"
      ]
     },
     "execution_count": 71,
     "metadata": {},
     "output_type": "execute_result"
    }
   ],
   "source": [
    "# Visualize the topics\n",
    "pyLDAvis.enable_notebook()\n",
    "vis = pyLDAvis.gensim.prepare(lda_model, corpus, id2word)\n",
    "vis"
   ]
  },
  {
   "cell_type": "code",
   "execution_count": null,
   "id": "53e3bc73",
   "metadata": {},
   "outputs": [],
   "source": []
  },
  {
   "cell_type": "code",
   "execution_count": null,
   "id": "f395cfda",
   "metadata": {},
   "outputs": [],
   "source": []
  }
 ],
 "metadata": {
  "kernelspec": {
   "display_name": "Python 3 (ipykernel)",
   "language": "python",
   "name": "python3"
  },
  "language_info": {
   "codemirror_mode": {
    "name": "ipython",
    "version": 3
   },
   "file_extension": ".py",
   "mimetype": "text/x-python",
   "name": "python",
   "nbconvert_exporter": "python",
   "pygments_lexer": "ipython3",
   "version": "3.9.7"
  }
 },
 "nbformat": 4,
 "nbformat_minor": 5
}
